{
 "cells": [
  {
   "cell_type": "markdown",
   "metadata": {},
   "source": [
    "# SQL: Advanced Concepts\n",
    "\n",
    "-----"
   ]
  },
  {
   "cell_type": "markdown",
   "metadata": {},
   "source": [
    "In this notebook, we focus on several advanced SQL concepts that build on the previous discussion of manipulating data and data structures within a relational database. Specifically, we will introduce the primary key, foreign key, table joins, and order by clause and demonstrate how they can be performed by using the SQLite relational database. \n",
    "\n",
    "-----"
   ]
  },
  {
   "cell_type": "markdown",
   "metadata": {},
   "source": [
    "## Table of Contents\n",
    "\n",
    "[Primary Key and Foreign Key](#Primary-Key-and-Foreign-Key)  \n",
    "[Joins](#Joins)  \n",
    "[Order By Clause](#Order-By-Clause)  \n",
    "\n",
    "----"
   ]
  },
  {
   "cell_type": "markdown",
   "metadata": {},
   "source": [
    "[[Back to TOC]](#Table-of-Contents)\n",
    "\n",
    "## Primary Key and Foreign Key\n",
    "\n",
    "### Primary Key\n",
    "\n",
    "A primary key is a special relational database table column (or combination of columns) designated to uniquely identify all table records. Primary key must contain a unique value for each row of data.\n",
    "\n",
    "By default, SQLite provides a rowid column for all tables. This value provides a unique identifier for each row, which can be an important constraint for relational database tables. However, this can increase the size of your table because an extra column has been added simply to provide a unique identifier. To prevent the automatic creation of this identifying column, you can specify the `WITHOUT ROWID` clause when creating a new table. \n",
    "\n",
    "Rather than using an automatic row identifier, you can indicate that one or more columns should be used to provide the unique identifier. This is accomplished by explicitly identifying the relevant column or columns during table creation. This can be done in two manners. First, if one specific column will be used, you can append the `PRIMARY KEY` qualifier to the relevant column when constructing the table. For example, the following example specifies that `columnOne` is an integer column that must have a non-null value that also serves as the primary key for `myTable`. \n",
    "\n",
    "```sql\n",
    "CREATE TABLE myTable (\n",
    "    columnOne NOT NULL INT PRIMARY KEY,\n",
    "    ...\n",
    ") ;\n",
    "```\n",
    "\n",
    "On the other hand, we can explicitly create a primary key for a table by using the primary key clause at the end of the column definitions for the relevant table, and passing in the name of the column or columns that should be used to construct the primary key. The first code snippet demonstrates the creation of a primary key for `myTable` that uses one column, while the second code snippet demonstrates using two columns.\n",
    "\n",
    "```sql\n",
    "CREATE TABLE myTable (\n",
    "    columnOne NOT NULL INT,\n",
    "    ...,\n",
    "    PRIMARY KEY(columnOne)\n",
    ") ;\n",
    "```\n",
    "\n",
    "```sql\n",
    "    ...,\n",
    "    PRIMARY KEY(columnOne, columnTwo)\n",
    ") ;\n",
    "```\n",
    "Note that while SQLite does allow a primary key column to contain `NULL` values, you generally want to avoid this since it complicates unique row identification. In addition, a primary key can be an alias for a row identifier, as is the case with SQLite, but this is only true for integer primary keys. Non-integer columns are treated separately (since a mapping must be constructed between the actual values and the row identifiers). A major benefit of using primary keys is that any query involving a primary key in the search condition will improve performance since the keys are stored in a special manner to speed up queries. \n",
    "\n",
    "### Foreign Key\n",
    "\n",
    "A foreign key is a field (or collection of fields) in one table that uniquely identifies a row of another table or the same table. In simpler words, the foreign key is defined in a second table, but it refers to the primary key or a unique key in the first table. It acts as a cross-reference between tables because it references the primary key of another table, thereby establishing a link between them.\n",
    "\n",
    "The following code cells define a SQL script that will create the `myProducts` and `mySuppliers` tables, each with their own primary key. `myProducts` also has a foreign key `supplierNumber` which refers to the primary key of `mySupplier`. This foreign key constraints ensure that `supplierNumber` in `myProducts` must exist in `mySupplier`. \n",
    "\n",
    "-----"
   ]
  },
  {
   "cell_type": "code",
   "execution_count": 1,
   "metadata": {},
   "outputs": [
    {
     "name": "stdout",
     "output_type": "stream",
     "text": [
      "Overwriting create.sql\n"
     ]
    }
   ],
   "source": [
    "%%writefile create.sql\n",
    "\n",
    "-- First we drop any tables if they exist\n",
    "\n",
    "DROP TABLE IF EXISTS mySuppliers;\n",
    "DROP TABLE IF EXISTS myProducts;\n",
    "\n",
    "-- Suppliers Table\n",
    "    \n",
    "CREATE TABLE mySuppliers (\n",
    "    supplierNumber INT NOT NULL,\n",
    "    supplierName TEXT,\n",
    "    PRIMARY KEY(supplierNumber)\n",
    ") ;\n",
    "\n",
    "-- Product Table\n",
    "    \n",
    "CREATE TABLE myProducts (\n",
    "    itemNumber INT NOT NULL,\n",
    "    price REAL,\n",
    "    supplierNumber INT,\n",
    "    stockDate TEXT,\n",
    "    description TEXT,\n",
    "    PRIMARY KEY(itemNumber),\n",
    "    FOREIGN KEY(supplierNumber) REFERENCES mySuppliers(supplierNumber)\n",
    ") ;"
   ]
  },
  {
   "cell_type": "code",
   "execution_count": 2,
   "metadata": {},
   "outputs": [],
   "source": [
    "# Execute SQL Script to create the products and suppliers tables\n",
    "!sqlite3 testdb < create.sql"
   ]
  },
  {
   "cell_type": "code",
   "execution_count": 3,
   "metadata": {
    "scrolled": true
   },
   "outputs": [
    {
     "name": "stdout",
     "output_type": "stream",
     "text": [
      "CREATE TABLE IF NOT EXISTS \"myProductSupplier\" (\r\n",
      "\"itemNumber\" INTEGER,\r\n",
      "  \"price\" REAL,\r\n",
      "  \"stockDate\" TEXT,\r\n",
      "  \"description\" TEXT,\r\n",
      "  \"supplierName\" TEXT\r\n",
      ");\r\n",
      "CREATE TABLE mySuppliers (\r\n",
      "    supplierNumber INT NOT NULL,\r\n",
      "    supplierName TEXT,\r\n",
      "    PRIMARY KEY(supplierNumber)\r\n",
      ");\r\n",
      "CREATE TABLE myProducts (\r\n",
      "    itemNumber INT NOT NULL,\r\n",
      "    price REAL,\r\n",
      "    supplierNumber INT,\r\n",
      "    stockDate TEXT,\r\n",
      "    description TEXT,\r\n",
      "    PRIMARY KEY(itemNumber),\r\n",
      "    FOREIGN KEY(supplierNumber) REFERENCES mySuppliers(supplierNumber)\r\n",
      ");\r\n"
     ]
    }
   ],
   "source": [
    "# Display the tables contained in the test database\n",
    "!sqlite3 testdb .schema"
   ]
  },
  {
   "cell_type": "markdown",
   "metadata": {},
   "source": [
    "Next we insert some values to the two tables. Notice that in the below script all `supplierNumber` in `myProducts` table are in `mySuppliers`."
   ]
  },
  {
   "cell_type": "code",
   "execution_count": 4,
   "metadata": {},
   "outputs": [
    {
     "name": "stdout",
     "output_type": "stream",
     "text": [
      "Overwriting insert.sql\n"
     ]
    }
   ],
   "source": [
    "%%writefile insert.sql\n",
    "\n",
    "-- Insert into mySuppliers\n",
    "\n",
    "INSERT INTO mySuppliers(supplierNumber, supplierName)\n",
    "VALUES (101, 'Luna Vista Limited'),\n",
    "       (102, 'Mikal Arroyo Incorporated'),\n",
    "       (103, 'Quiet Beach Industries') ;\n",
    "    \n",
    "-- Insert into myProducts    \n",
    "INSERT INTO myProducts (itemNumber, price, supplierNumber, stockDate, description)\n",
    "VALUES (1, 29.95, 101, '2015-02-10', 'Male bathing suit, blue'),\n",
    "       (2, 49.95, 101, '2015-02-20', 'Female bathing suit, one piece, aqua'),\n",
    "       (3, 9.95, 101, '2015-01-15', 'Child sand toy set'),\n",
    "       (4, 24.95, 102, '2014-12-20', 'White beach towel'),\n",
    "       (5, 32.95, 102,'2014-12-22', 'Blue-striped beach towel'),\n",
    "       (6, 12.95, 103, '2015-03-12', 'Flip-flop'),\n",
    "       (7, 34.95, 103, '2015-01-24', 'Open-toed sandal') ;"
   ]
  },
  {
   "cell_type": "code",
   "execution_count": 5,
   "metadata": {},
   "outputs": [],
   "source": [
    "!sqlite3 testdb < insert.sql"
   ]
  },
  {
   "cell_type": "code",
   "execution_count": 6,
   "metadata": {},
   "outputs": [
    {
     "name": "stdout",
     "output_type": "stream",
     "text": [
      "101|Luna Vista Limited\r\n",
      "102|Mikal Arroyo Incorporated\r\n",
      "103|Quiet Beach Industries\r\n"
     ]
    }
   ],
   "source": [
    "!sqlite3 testdb \"SELECT * FROM mySuppliers;\""
   ]
  },
  {
   "cell_type": "markdown",
   "metadata": {},
   "source": [
    "Now if we try to add a new supplier with existing supplierNumber, the action will fail due to unique constraint of primary key. But we can add a supplier with a new supplierNumber. We demonstrate this in the below cell."
   ]
  },
  {
   "cell_type": "code",
   "execution_count": 7,
   "metadata": {},
   "outputs": [
    {
     "name": "stdout",
     "output_type": "stream",
     "text": [
      "Error: UNIQUE constraint failed: mySuppliers.supplierNumber\r\n"
     ]
    }
   ],
   "source": [
    "#can't add new supplier with existing supplierNumber\n",
    "!sqlite3 testdb \"INSERT INTO mySuppliers VALUES(101, 'New Supplier');\""
   ]
  },
  {
   "cell_type": "code",
   "execution_count": 8,
   "metadata": {},
   "outputs": [],
   "source": [
    "#add new supplier with new supplierNumber\n",
    "!sqlite3 testdb \"INSERT INTO mySuppliers VALUES(104, 'New Supplier');\""
   ]
  },
  {
   "cell_type": "markdown",
   "metadata": {},
   "source": [
    "If we try to add a new product with `supplierNumber` that is not in `mySuppliers`, we will get foreign key constraint failed error. However, SQLite by default turns foreign key constraint off. So we will not demonstrate this in this lesson. A foreign key can also indicate how row deletion or modification should be propagated across tables within the same database. As a more complex topic, however, we will not explore foreign keys in any more detail.\n",
    "\n",
    "In the below cell, we print out the complete SQL queries that will reconstruct the whole test database with `.dump` command."
   ]
  },
  {
   "cell_type": "code",
   "execution_count": 9,
   "metadata": {
    "scrolled": true
   },
   "outputs": [
    {
     "name": "stdout",
     "output_type": "stream",
     "text": [
      "PRAGMA foreign_keys=OFF;\r\n",
      "BEGIN TRANSACTION;\r\n",
      "CREATE TABLE IF NOT EXISTS \"myProductSupplier\" (\r\n",
      "\"itemNumber\" INTEGER,\r\n",
      "  \"price\" REAL,\r\n",
      "  \"stockDate\" TEXT,\r\n",
      "  \"description\" TEXT,\r\n",
      "  \"supplierName\" TEXT\r\n",
      ");\r\n",
      "INSERT INTO myProductSupplier VALUES(6,25.899999999999998578,'2019-04-01','Flip-flop','Quiet Beach Industries');\r\n",
      "INSERT INTO myProductSupplier VALUES(7,34.950000000000002841,'2015-01-24','Open-toed sandal','Quiet Beach Industries');\r\n",
      "CREATE TABLE mySuppliers (\r\n",
      "    supplierNumber INT NOT NULL,\r\n",
      "    supplierName TEXT,\r\n",
      "    PRIMARY KEY(supplierNumber)\r\n",
      ");\r\n",
      "INSERT INTO mySuppliers VALUES(101,'Luna Vista Limited');\r\n",
      "INSERT INTO mySuppliers VALUES(102,'Mikal Arroyo Incorporated');\r\n",
      "INSERT INTO mySuppliers VALUES(103,'Quiet Beach Industries');\r\n",
      "INSERT INTO mySuppliers VALUES(104,'New Supplier');\r\n",
      "CREATE TABLE myProducts (\r\n",
      "    itemNumber INT NOT NULL,\r\n",
      "    price REAL,\r\n",
      "    supplierNumber INT,\r\n",
      "    stockDate TEXT,\r\n",
      "    description TEXT,\r\n",
      "    PRIMARY KEY(itemNumber),\r\n",
      "    FOREIGN KEY(supplierNumber) REFERENCES mySuppliers(supplierNumber)\r\n",
      ");\r\n",
      "INSERT INTO myProducts VALUES(1,29.949999999999999289,101,'2015-02-10','Male bathing suit, blue');\r\n",
      "INSERT INTO myProducts VALUES(2,49.950000000000002843,101,'2015-02-20','Female bathing suit, one piece, aqua');\r\n",
      "INSERT INTO myProducts VALUES(3,9.9499999999999992894,101,'2015-01-15','Child sand toy set');\r\n",
      "INSERT INTO myProducts VALUES(4,24.949999999999999289,102,'2014-12-20','White beach towel');\r\n",
      "INSERT INTO myProducts VALUES(5,32.950000000000002841,102,'2014-12-22','Blue-striped beach towel');\r\n",
      "INSERT INTO myProducts VALUES(6,12.949999999999999289,103,'2015-03-12','Flip-flop');\r\n",
      "INSERT INTO myProducts VALUES(7,34.950000000000002841,103,'2015-01-24','Open-toed sandal');\r\n",
      "COMMIT;\r\n"
     ]
    }
   ],
   "source": [
    "# Display the SQL required to reconstruct the test database\n",
    "!sqlite3 testdb '.dump'"
   ]
  },
  {
   "cell_type": "markdown",
   "metadata": {},
   "source": [
    "-----\n",
    "[[Back to TOC]](#Table-of-Contents)\n",
    "\n",
    "## Joins\n",
    "\n",
    "A properly designed relational database will likely contain many tables, that are connected by common columns (often explicitly via primary and foreign keys). To extract or update data that span multiple tables, the relevant rows within the tables must be combined together. Formally this operation is known as a **join**, since tables are temporarily joined together to perform the desired operation. In practice, you can join two tables by using an inner join or an outer join. An inner join is essentially the intersection of two tables, where the tables are matched by comparing the values of a specific column (or columns), such as `supplierNumber`. The resulting table is composed of only rows that were matched between the two tables. An outer join is more like a union of two tables, where the tables are matched by comparing the values of a specific column (or columns), but non-matching rows are still included in the resulting table and filled with NULL values as appropriate. \n",
    "\n",
    "The following figure illustrates four different ways that two tables: Table A and Table B, can be joined.\n",
    "\n",
    "![Table Joins](images/joins.png)\n",
    "\n",
    "These four join techniques are\n",
    "- the **inner join** (upper left), where only those rows that share a common value in a specific column in both tables are combined in the final joined table,\n",
    "- the **left outer join** (upper right), where all rows from _TABLE A_ are placed into the joined table, and an inner join is performed with _TABLE B_. Any row in the new table that does not have a match in _Table B_ is padded with null values,\n",
    "- the **right outer join** (lower left), where all rows from _TABLE B_ are placed into the joined table, and an inner join is performed with _TABLE A_. Any row in the new table that does not have a match in _Table A_ is padded with null values, and\n",
    "- the **full outer join** (lower right), where the combined results of a left outer join and right outer join are placed into the final joined table, with the exception that only one inner join is performed between the two tables (so no rows are double counted).\n",
    "\n",
    "In addition, a less common join is the cross join, where every row from Table A is matched to every row from TABLE B. This is a combinatorial operation, and can quickly lead to very large tables, hence this type of operation should be used with care.\n",
    "\n",
    "------"
   ]
  },
  {
   "cell_type": "markdown",
   "metadata": {},
   "source": [
    "### INNER JOIN\n",
    "\n",
    "We can perform an _inner join_ either by implicitly joining two tables in a `WHERE` clause or explicitly by using the `INNER JOIN` keywords. We  demonstrate an inner join in the following code cell where we perform an implicit inner join of the `myProducts` table and the `mySuppliers` table. Note, we include the SQLite command `.headers on` to display the names of the columns extracted by the `SELECT` query.\n",
    "\n",
    "-----"
   ]
  },
  {
   "cell_type": "code",
   "execution_count": 10,
   "metadata": {},
   "outputs": [
    {
     "name": "stdout",
     "output_type": "stream",
     "text": [
      "Overwriting select.sql\n"
     ]
    }
   ],
   "source": [
    "%%writefile select.sql\n",
    ".headers on\n",
    "\n",
    "SELECT p.price, p.description, s.supplierName \n",
    "FROM myProducts AS p, mySuppliers AS s \n",
    "  WHERE p.supplierNumber = s.supplierNumber ;"
   ]
  },
  {
   "cell_type": "code",
   "execution_count": 11,
   "metadata": {},
   "outputs": [
    {
     "name": "stdout",
     "output_type": "stream",
     "text": [
      "price|description|supplierName\r\n",
      "29.95|Male bathing suit, blue|Luna Vista Limited\r\n",
      "49.95|Female bathing suit, one piece, aqua|Luna Vista Limited\r\n",
      "9.95|Child sand toy set|Luna Vista Limited\r\n",
      "24.95|White beach towel|Mikal Arroyo Incorporated\r\n",
      "32.95|Blue-striped beach towel|Mikal Arroyo Incorporated\r\n",
      "12.95|Flip-flop|Quiet Beach Industries\r\n",
      "34.95|Open-toed sandal|Quiet Beach Industries\r\n"
     ]
    }
   ],
   "source": [
    "# Execute SQL Script\n",
    "!sqlite3 testdb < select.sql"
   ]
  },
  {
   "cell_type": "markdown",
   "metadata": {},
   "source": [
    "-----\n",
    "\n",
    "This query may seem complex, due primarily to its length. But by breaking it down line-by-line we can easily follow what's happening. First, we select two columns from the `mySuppliers` table and one column from the `mySuppliers` table. Because the query joins these two tables (by using an implicit inner join), we select columns from both tables. In the FROM clause, we list both tables and provide aliases for them to simplify the full SQL statement. In the WHERE clause, we provide the logic for joining the two tables, by explicitly instructing the SQLite database to only select rows from the two tables that have matching values in their respective `supplierNumber` columns. In processing this query, SQLite first pulls all rows out of the first (left) table in the query (`myProducts`) and finds the row with a matching value in the `supplierNumber` column in the second (right) table in the query (`mySuppliers`).\n",
    "\n",
    "-----"
   ]
  },
  {
   "cell_type": "markdown",
   "metadata": {},
   "source": [
    "In the following code cell, we perform a similar query by using the `INNER JOIN` explicit join syntax. In this case, the join column is included as part of the `INNER JOIN` clause.\n",
    "\n",
    "----"
   ]
  },
  {
   "cell_type": "code",
   "execution_count": 12,
   "metadata": {},
   "outputs": [
    {
     "name": "stdout",
     "output_type": "stream",
     "text": [
      "Overwriting join.sql\n"
     ]
    }
   ],
   "source": [
    "%%writefile join.sql\n",
    ".headers on\n",
    "\n",
    "SELECT p.itemNumber, p.price, p.stockDate, p.description, s.supplierName\n",
    "    FROM myProducts as p\n",
    "    INNER JOIN mySuppliers as s ON p.supplierNumber = s.supplierNumber \n",
    "    WHERE s.supplierNumber IN (101, 102);"
   ]
  },
  {
   "cell_type": "code",
   "execution_count": 13,
   "metadata": {},
   "outputs": [
    {
     "name": "stdout",
     "output_type": "stream",
     "text": [
      "itemNumber|price|stockDate|description|supplierName\r\n",
      "1|29.95|2015-02-10|Male bathing suit, blue|Luna Vista Limited\r\n",
      "2|49.95|2015-02-20|Female bathing suit, one piece, aqua|Luna Vista Limited\r\n",
      "3|9.95|2015-01-15|Child sand toy set|Luna Vista Limited\r\n",
      "4|24.95|2014-12-20|White beach towel|Mikal Arroyo Incorporated\r\n",
      "5|32.95|2014-12-22|Blue-striped beach towel|Mikal Arroyo Incorporated\r\n"
     ]
    }
   ],
   "source": [
    "# Execute SQL Script\n",
    "!sqlite3 testdb < join.sql"
   ]
  },
  {
   "cell_type": "markdown",
   "metadata": {},
   "source": [
    "-----\n",
    "\n",
    "\n",
    "### LEFT OUTER JOIN\n",
    "\n",
    "In a left outer join, we take the **left** table in the join operation and match all rows to the rows in the **right** table. If there are no rows in the right table that match a given row in the left table, the output columns are padded with null values. This is demonstrated in the following code cell, where we write a SQL query that joins the products table to the vendor table by using an explicit `LEFT OUTER JOIN`. By definition, the final table has the same number of rows as the left table, however, in this case the final row does not have a match in the vendors table and is thus padded with a null value in the `vendorName` column.\n",
    "\n",
    "-----"
   ]
  },
  {
   "cell_type": "code",
   "execution_count": 14,
   "metadata": {},
   "outputs": [
    {
     "name": "stdout",
     "output_type": "stream",
     "text": [
      "Overwriting left-join-p.sql\n"
     ]
    }
   ],
   "source": [
    "%%writefile left-join-p.sql\n",
    ".headers on\n",
    "\n",
    "SELECT p.itemNumber, p.price, s.supplierName\n",
    "    FROM myProducts as p\n",
    "    LEFT OUTER JOIN mySuppliers as s ON p.supplierNumber = s.supplierNumber \n"
   ]
  },
  {
   "cell_type": "code",
   "execution_count": 15,
   "metadata": {},
   "outputs": [
    {
     "name": "stdout",
     "output_type": "stream",
     "text": [
      "itemNumber|price|supplierName\r\n",
      "1|29.95|Luna Vista Limited\r\n",
      "2|49.95|Luna Vista Limited\r\n",
      "3|9.95|Luna Vista Limited\r\n",
      "4|24.95|Mikal Arroyo Incorporated\r\n",
      "5|32.95|Mikal Arroyo Incorporated\r\n",
      "6|12.95|Quiet Beach Industries\r\n",
      "7|34.95|Quiet Beach Industries\r\n"
     ]
    }
   ],
   "source": [
    "# Execute SQL Script\n",
    "!sqlite3 testdb < left-join-p.sql"
   ]
  },
  {
   "cell_type": "markdown",
   "metadata": {},
   "source": [
    "-----\n",
    "\n",
    "### RIGHT OUTER JOIN\n",
    "\n",
    "A right outer join is the opposite operation from the left outer join, where we start with the right table and match rows with the left table. SQLite does not support right outer joins directly, but we can switch the order of a join between two tables to simulate a right outer join. In the following code cell we define a SQL script that performs a left outer join between the vendors table and the products table. Since there are items listed in the vendor table that are not present in the products table (perhaps because the products are not currently in the store's inventory), this operation generates a table that has a row that contain null values.\n",
    "\n",
    "-----"
   ]
  },
  {
   "cell_type": "code",
   "execution_count": 16,
   "metadata": {},
   "outputs": [
    {
     "name": "stdout",
     "output_type": "stream",
     "text": [
      "Overwriting left-join-v.sql\n"
     ]
    }
   ],
   "source": [
    "%%writefile left-join-v.sql\n",
    ".headers on\n",
    "\n",
    "SELECT p.itemNumber, p.price, s.supplierName\n",
    "    FROM mySuppliers as s\n",
    "    LEFT OUTER JOIN myProducts as p ON p.supplierNumber = s.supplierNumber \n",
    "\n"
   ]
  },
  {
   "cell_type": "code",
   "execution_count": 17,
   "metadata": {
    "scrolled": true
   },
   "outputs": [
    {
     "name": "stdout",
     "output_type": "stream",
     "text": [
      "itemNumber|price|supplierName\r\n",
      "1|29.95|Luna Vista Limited\r\n",
      "2|49.95|Luna Vista Limited\r\n",
      "3|9.95|Luna Vista Limited\r\n",
      "4|24.95|Mikal Arroyo Incorporated\r\n",
      "5|32.95|Mikal Arroyo Incorporated\r\n",
      "6|12.95|Quiet Beach Industries\r\n",
      "7|34.95|Quiet Beach Industries\r\n",
      "||New Supplier\r\n"
     ]
    }
   ],
   "source": [
    "# Execute SQL Script\n",
    "!sqlite3 testdb < left-join-v.sql"
   ]
  },
  {
   "cell_type": "markdown",
   "metadata": {},
   "source": [
    "-----\n",
    "\n",
    "### FULL OUTER JOIN\n",
    "\n",
    "SQLite does not support a full outer join, however, for those databases that do provide this functionality the syntax is similar to the left outer join.\n",
    "\n",
    "### CROSS JOIN\n",
    "\n",
    "A cross join matches every row in the left table to every row in the right table, and generates, therefore, a new table that is a combinatorial expansion of the two tables. Uses for this operation tend to be limited, in part due to the large output table size. SQLite supports this operation by using the `CROSS JOIN` clause between two tables. \n",
    "\n",
    "-----"
   ]
  },
  {
   "cell_type": "markdown",
   "metadata": {},
   "source": [
    "-----\n",
    "[[Back to TOC]](#Table-of-Contents)\n",
    "\n",
    "## Order By Clause\n",
    "\n",
    "In general, you can't assume that SQLite, or any database, will return rows from a query in a specific order. If the order is important, you can use the ORDER BY clause to have SQLite order the data that are returned by your query in a particular manner. Generally, you do so by specifying a column that should be used to provide the ordinal values for comparison as shown in the next two code cells. Notice how these queries use implicit joins to extract data from the products and vendors tables.\n",
    "\n",
    "-----"
   ]
  },
  {
   "cell_type": "code",
   "execution_count": 18,
   "metadata": {},
   "outputs": [
    {
     "name": "stdout",
     "output_type": "stream",
     "text": [
      "Overwriting orderby.sql\n"
     ]
    }
   ],
   "source": [
    "%%writefile orderby.sql\n",
    ".headers on\n",
    "\n",
    "-- First SQL query\n",
    "SELECT s.supplierNumber AS \"Supplier #\", supplierName as \"Supplier\",\n",
    "    p.price AS \"Price\", p.itemNumber AS \"Item #\"\n",
    "    FROM myProducts AS p, mySuppliers AS s\n",
    "    WHERE p.supplierNumber = s.supplierNumber AND p.price > 20.0\n",
    "    ORDER by s.supplierNumber ;\n",
    "\n",
    "-- Display separator\n",
    ".headers off\n",
    "SELECT '----------------------------------------' ;\n",
    ".headers on\n",
    "\n",
    "-- Second SQL Query\n",
    "SELECT s.supplierNumber AS \"Supplier #\", supplierName as \"Supplier\",\n",
    "    p.price AS \"Price\", p.itemNumber AS \"Item #\"\n",
    "    FROM myProducts AS p, mySuppliers AS s\n",
    "    WHERE p.supplierNumber = s.supplierNumber AND p.price > 20.0\n",
    "    ORDER BY s.supplierNumber ASC, p.price DESC ;"
   ]
  },
  {
   "cell_type": "code",
   "execution_count": 19,
   "metadata": {},
   "outputs": [
    {
     "name": "stdout",
     "output_type": "stream",
     "text": [
      "Supplier #|Supplier|Price|Item #\r\n",
      "101|Luna Vista Limited|29.95|1\r\n",
      "101|Luna Vista Limited|49.95|2\r\n",
      "102|Mikal Arroyo Incorporated|24.95|4\r\n",
      "102|Mikal Arroyo Incorporated|32.95|5\r\n",
      "103|Quiet Beach Industries|34.95|7\r\n",
      "----------------------------------------\r\n",
      "Supplier #|Supplier|Price|Item #\r\n",
      "101|Luna Vista Limited|49.95|2\r\n",
      "101|Luna Vista Limited|29.95|1\r\n",
      "102|Mikal Arroyo Incorporated|32.95|5\r\n",
      "102|Mikal Arroyo Incorporated|24.95|4\r\n",
      "103|Quiet Beach Industries|34.95|7\r\n"
     ]
    }
   ],
   "source": [
    "# Execute SQL Script\n",
    "!sqlite3 testdb < orderby.sql"
   ]
  },
  {
   "cell_type": "markdown",
   "metadata": {},
   "source": [
    "-----\n",
    "\n",
    "In the previous example, the first query uses the ORDER BY clause to list a subset of all the rows in the table that results from joining the `mySuppliers` table to the `myProducts` table. The rows are ordered by `supplierNumber` (the subset is constructed by applying the WHERE clause). An ORDER BY clause can take either a column name, as in this example, or a column number, which is taken from the order in which the columns are listed after the SELECT keyword.\n",
    "\n",
    "You can also specify multiple columns to use during the sorting process and even specify ASC for ascending order, which is the default, or DESC for descending order. For example, if you used the ORDER BY 1 DESC, 4 DESC clause in the first query, the query would return the same rows, but they would be ordered by using the `supplierNumber` column as the primary sort column in descending order followed by the `price` column as the secondary sort column in descending order.\n"
   ]
  },
  {
   "cell_type": "markdown",
   "metadata": {},
   "source": [
    "## Ancillary Information\n",
    "\n",
    "The following links are to additional documentation that you might find helpful in learning this material. Reading these web-accessible documents is completely optional. The following sites allow you to try out SQL commands online.\n",
    "\n",
    "1. The [SQLite documentation][23] provides more details on the commands presented in this notebook.\n",
    "2. The [SQLite tutorial][34] provides concise descriptions of different SQL commands.\n",
    "3. Another [SQLite tutorial][45] that provides a different perspective on using SQL to interact with the SQLite database.\n",
    "1. [W3 Schools SQL][1], a general SQL demo site\n",
    "2. [SQLZoo][2], allows you to specify the Relational Database to target\n",
    "\n",
    "-----\n",
    "\n",
    "[23]: https://www.sqlite.org/lang.html\n",
    "[34]: https://www.tutorialspoint.com/sqlite/\n",
    "[45]: http://www.sqlitetutorial.net\n",
    "[1]: http://www.w3schools.com/SQL/\n",
    "[2]: http://sqlzoo.net/wiki/SELECT_basics"
   ]
  },
  {
   "cell_type": "markdown",
   "metadata": {
    "deletable": false,
    "editable": false
   },
   "source": [
    "**&copy; 2019: Gies College of Business at the University of Illinois.**\n",
    "\n",
    "This notebook is released under the [Creative Commons license CC BY-NC-SA 4.0][ll]. Any reproduction, adaptation, distribution, dissemination or making available of this notebook for commercial use is not allowed unless authorized in writing by the copyright holder.\n",
    "\n",
    "[ll]: https://creativecommons.org/licenses/by-nc-sa/4.0/legalcode"
   ]
  }
 ],
 "metadata": {
  "kernelspec": {
   "display_name": "Python 3",
   "language": "python",
   "name": "python3"
  },
  "language_info": {
   "codemirror_mode": {
    "name": "ipython",
    "version": 3
   },
   "file_extension": ".py",
   "mimetype": "text/x-python",
   "name": "python",
   "nbconvert_exporter": "python",
   "pygments_lexer": "ipython3",
   "version": "3.7.3"
  }
 },
 "nbformat": 4,
 "nbformat_minor": 1
}
