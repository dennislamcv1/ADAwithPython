{
 "cells": [
  {
   "cell_type": "markdown",
   "metadata": {},
   "source": [
    "# Python Database Programming\n",
    "\n",
    "-----"
   ]
  },
  {
   "cell_type": "markdown",
   "metadata": {},
   "source": [
    "Previously, we were introduced to SQL and learned how to use SQL to create a schema, insert data into the new schema, how to query these data, and how to modify and delete these data and the schema itself. However, this was all done manually by using a database client tool, specifically the SQLite command line tool. A more efficient mechanisms is to enable automatic database interactions from within a Python program.\n",
    "\n",
    "In this lesson, we explore how to connect to a [SQLite database][1] with a Python program. This will build on ideas presented in the previous two lessons. While some of what we do will be SQLite specific, most of what we do will be generic and easily [applied to other databases][2] for which a [Python database interface library][3] has been developed, which is for most major SQL based databases. Finally, we will explore how the Pandas library and the DataFrame can be used to simplify these steps.\n",
    "\n",
    "-----\n",
    "[1]: https://docs.python.org/3/library/sqlite3.html\n",
    "[2]: https://www.python.org/dev/peps/pep-0249/\n",
    "[3]: https://wiki.python.org/moin/DatabaseInterfaces"
   ]
  },
  {
   "cell_type": "markdown",
   "metadata": {},
   "source": [
    "## Table of Contents\n",
    "\n",
    "\n",
    "[Python and SQLite](#Python-and-SQLite)\n",
    "\n",
    "- [Python: Database Connections](#Python:-Database-Connections)\n",
    "- [Database Cursor](#Database-Cursor)\n",
    "- [Executing SQL Commands](#Executing-SQL-Commands)\n",
    "- [Parameterized Queries](#Parameterized-Queries)\n",
    "\n",
    "[Pandas and SQL](#Pandas-and-SQL)"
   ]
  },
  {
   "cell_type": "markdown",
   "metadata": {},
   "source": [
    "-----\n",
    "[[Back to TOC]](#Table-of-Contents)\n",
    "\n",
    "## Python and SQLite\n",
    "\n",
    "To use the SQLite database from within a Python program, we simply need to import the sqlite3 module. Since SQLite is distributed with Python, there are no extra download or installation steps. If you wish to use a different database, you will first need to download the appropriate Python library for that database; and, second, install the library to the appropriate system path.\n",
    "\n",
    "In the following code cell, we demonstrate how to use SQLite from within a Python program. The first step is to simply import the sqlite3 module. After this we can access the module to interact with a database. In the first example, we simply access several module attributes that specify the version information for both the SQLIte database and sqlite3 module we currently have installed.\n",
    "\n",
    "-----"
   ]
  },
  {
   "cell_type": "code",
   "execution_count": 1,
   "metadata": {},
   "outputs": [
    {
     "name": "stdout",
     "output_type": "stream",
     "text": [
      "SQLite library version: 2.6.0\n",
      "SQLite version: 3.29.0\n"
     ]
    }
   ],
   "source": [
    "import sqlite3 as sql\n",
    "\n",
    "print(f'SQLite library version: {sql.version}')\n",
    "print(f'SQLite version: {sql.sqlite_version}')"
   ]
  },
  {
   "cell_type": "markdown",
   "metadata": {},
   "source": [
    "-----\n",
    "\n",
    "Since the `sqlite3` module is part of the standard Python library, this import process should be painless. We also can take advantage of the fact that the SQLite database itself is embedded within the Python interpreter. As a result, we can easily view the built-in help information for either the sqlite3 module or for specific attributes, functions, or types that are in the sqlite3 module by using the Python `help()` function.\n",
    "\n",
    "-----"
   ]
  },
  {
   "cell_type": "code",
   "execution_count": 2,
   "metadata": {},
   "outputs": [
    {
     "name": "stdout",
     "output_type": "stream",
     "text": [
      "Help on built-in function connect in module _sqlite3:\n",
      "\n",
      "connect(...)\n",
      "    connect(database[, timeout, detect_types, isolation_level,\n",
      "            check_same_thread, factory, cached_statements, uri])\n",
      "    \n",
      "    Opens a connection to the SQLite database file *database*. You can use\n",
      "    \":memory:\" to open a database connection to a database that resides in\n",
      "    RAM instead of on disk.\n",
      "\n"
     ]
    }
   ],
   "source": [
    "# View built-in help for module\n",
    "help(sql.connect)"
   ]
  },
  {
   "cell_type": "markdown",
   "metadata": {},
   "source": [
    "-----\n",
    "[[Back to TOC]](#Table-of-Contents)\n",
    "\n",
    "### Python: Database Connections\n",
    "\n",
    "To work with a database from within a Python program, we follow a specific set of operations:\n",
    "\n",
    "1. Establish a _connection_ to the database. With most database systems, this involves a [network connection][1] to a (possibly) remote database server. SQLite is an embedded database, however, so we, by default, simply need the database file to be opened by the SQLite library.\n",
    "\n",
    "2. Obtain a _cursor_ from the database connection. A [database cursor][2] is an object that enables us to programmatically move through a database table in order to insert, delete, update, or select data. \n",
    "\n",
    "3. Execute SQL commands by using the database cursor. These commands can be SQL DDL commands where we create schema, or SQL DML commands where we insert, update, delete, or select data. The execution process can return information that we can programmatically use.\n",
    "\n",
    "4. Commit the transactions. Database updates become permenant and visible to other database connections only after the transaction is committed.\n",
    "\n",
    "5. Close the cursor and the connection. This action is necessary to release the resources allocated to the database cursor and connection.\n",
    "\n",
    "We obtain a database connection by calling the `connect` built-in method in the sqlite3 library. The only required parameter is the name of the database, which is the pathname to the database file. For example, we could connect to the test database created in previous lesson by specifying the path, `testdb`. This method returns an instance of the [SQLite Connection][3] object. If `testdb` doesn't exist, the function will create an empty database with the name.\n",
    "\n",
    "```python\n",
    "conn = sql.connect(\"testdb\")\n",
    "```\n",
    "\n",
    "We commit database transaction by calling `commit` method of the connection object.\n",
    "```python\n",
    "conn.commit()\n",
    "```\n",
    "\n",
    "A database connection needs to be closed to make sure the connection resources are properly released. \n",
    "```python\n",
    "conn.close()\n",
    "```\n",
    "\n",
    "With context manager, we don't have to commit the database transactions explicitly. We do this by using the `with` statement. This will ensure that if the operations contained within the context code block are successful, that database transaction will be committed. If there is a problem within the context, or an exception is thrown, however, the transaction will instead be rolled back. As a result, the database will be maintained in a consistent state. Please note that the database connection won't be closed when exiting the context. We still need to close the connection explicitly to release the connection resource. All operations related to the connection should be in the context of the connection which is defined by proper indentation.\n",
    "\n",
    "```python\n",
    "with sql.connect(\"testdb\") as conn:\n",
    "    #db operations in the context of conn\n",
    "#Close connection explicitly\n",
    "conn.close()\n",
    "```\n",
    "\n",
    "-----\n",
    "\n",
    "[1]: https://en.wikipedia.org/wiki/Database_connection\n",
    "[2]: https://en.wikipedia.org/wiki/Cursor_(databases)\n",
    "[3]: https://docs.python.org/3/library/sqlite3.html#connection-objects"
   ]
  },
  {
   "cell_type": "markdown",
   "metadata": {},
   "source": [
    "[[Back to TOC]](#Table-of-Contents)\n",
    "\n",
    "### Database Cursor\n",
    "\n",
    "To interact with a database, we need a cursor. We can use an implicit cursor by calling execute methods directly on the connection object. The recommended approach, however, is to always be explicit, and in this case that means we use an explicit cursor. The following code sample demonstrates how to acquire a cursor from a database connection, `con`. The method will return an instance of the [SQLite Cursor][sc] object.\n",
    "\n",
    "```python\n",
    "cur = conn.cursor()    \n",
    "```\n",
    "\n",
    "To close a cursor, we call `close` method of the cursor object.\n",
    "```python\n",
    "cur.close()\n",
    "```\n",
    "\n",
    "\n",
    "\n",
    "-----\n",
    "[sc]: https://docs.python.org/3/library/sqlite3.html#cursor-objects"
   ]
  },
  {
   "cell_type": "markdown",
   "metadata": {},
   "source": [
    "[[Back to TOC]](#Table-of-Contents)\n",
    "\n",
    "### Executing SQL Commands\n",
    "\n",
    "Once we have a cursor object, we can begin to execute SQL commands. There are several methods that we can use, depending on our specific needs: \n",
    "\n",
    "- `execute()` executes a single SQL statement. The SQL statement can be parameterized, in which case the replacement values also must be passed to the execute method.\n",
    "\n",
    "- `executemany()` executes a SQL statement multiple times. The SQL statement, which is the first argument is parameterized and with each new invocation the parameters are replaced by the values contained in the second argument. This can be useful for inserting data into an existing table.\n",
    "\n",
    "- `executescript()` executes multiple SQL statements simultaneously. A transaction commit is first performed, and then the SQL statements contained in the argument passed into the method are evaluated.\n",
    "\n",
    "After we have executed one or more SQL query statements, our cursor object will enable us to _fetch_ the results. There are three different fetch operations:\n",
    "\n",
    "- `fetchone()` returns the next row in the query result. The return data type is a single sequence containing the values in the row. If no data was returned, `None` is instead returned.\n",
    "\n",
    "- `fetchmany()` returns the next set of rows in the query result. The return data type is a list containing the individual rows (which are sequences). A size parameter can be supplied to indicate how many rows should be returned.\n",
    "\n",
    "- `fetchall()` returns all (remaining) rows of a query result. The return data type is a list, and if no more results remain, and empty list is returned.\n",
    "\n",
    "In the next code cell, we create connection and cursor directly and run a query with the cursor. We need to close the cursor and the connection at the end to release the resourses. We don't need to commit then transaction since we only read from the database and there is no database updates to be committed. Then in the following code cell, we use context manager to do the same thing. \n",
    "\n",
    "-----"
   ]
  },
  {
   "cell_type": "code",
   "execution_count": 3,
   "metadata": {},
   "outputs": [
    {
     "name": "stdout",
     "output_type": "stream",
     "text": [
      "SQLite version: 3.29.0\n"
     ]
    }
   ],
   "source": [
    "# Get connection\n",
    "conn = sql.connect(\"testdb\")\n",
    "# Get cursor\n",
    "cur = conn.cursor()\n",
    "# Get sqlite version with a query\n",
    "cur.execute('SELECT SQLITE_VERSION()')\n",
    "# Fetch result\n",
    "data = cur.fetchone()\n",
    "print(f'SQLite version: {data[0]}')\n",
    "\n",
    "# Close cursor and connection\n",
    "cur.close()\n",
    "conn.close()"
   ]
  },
  {
   "cell_type": "code",
   "execution_count": 4,
   "metadata": {},
   "outputs": [
    {
     "name": "stdout",
     "output_type": "stream",
     "text": [
      "SQLite version: 3.29.0\n"
     ]
    }
   ],
   "source": [
    "# Open a database connection\n",
    "with sql.connect(\"testdb\") as conn:\n",
    "\n",
    "    # Now we obtain our cursor and execute a simple query.\n",
    "    cur = conn.cursor()\n",
    "    cur.execute('SELECT SQLITE_VERSION()')\n",
    "    \n",
    "    # Our simple query has one return value, so we only need to fetch one\n",
    "    data = cur.fetchone()\n",
    "    \n",
    "    # Output the information\n",
    "    print(f'SQLite version: {data[0]}')\n",
    "# Close cursor and connection\n",
    "cur.close()\n",
    "conn.close()\n"
   ]
  },
  {
   "cell_type": "markdown",
   "metadata": {},
   "source": [
    "-----\n",
    "[[Back to TOC]](#Table-of-Contents)\n",
    "\n",
    "### Parameterized Queries\n",
    "\n",
    "In the previous example, we \n",
    "1. established a database connection,\n",
    "2. obtained our cursor,\n",
    "3. executed a simple query to obtain the SQLite database version information, and\n",
    "4. fetched the return value before displaying the result.\n",
    "\n",
    "While trivial, this example does demonstrate how to perform the basic steps of working with a SQLite database. In the next example, however, we return to our Bigdog's Surf Shop example to programmatically create and populate a schema before issuing a query. In this case, we use a predefined SQL string to create our table, and use a tuple sequence to pass our data into the `executemany()` function. As shown in the example, the parameters are indicated in the SQL INSERT statement as question mark character format `?`. A second technique exists in which the parameters are explicitly named; this will be demonstrated later. The `executemany()` method replaces the parameters by the corresponding values from the `items` sequence, continuing until the sequence of items has been exhausted.\n",
    "\n",
    "After the schema has been created and populated, we next issue a SQL query. In this case, we use the fact that the `execute()` method can be used as an iterator to iteratively process each row returned from our query. The `row` object is a sequence, which easily allows us to extract the desired columns.\n",
    "\n",
    "-----"
   ]
  },
  {
   "cell_type": "code",
   "execution_count": 5,
   "metadata": {
    "scrolled": true
   },
   "outputs": [
    {
     "name": "stdout",
     "output_type": "stream",
     "text": [
      "--------------------------------------------------\n",
      "All products:\n",
      "--------------------------------------------------\n",
      "| 6 | 25.9 | 103 | 2019-04-01 | Flip-flop |\n",
      "| 7 | 34.95 | 103 | 2015-01-24 | Open-toed sandal |\n",
      "| 10 | 19.95 | 104 | 2018-03-31 | Hooded sweatshirt |\n",
      "| 11 | 99.99 | 104 | 2018-03-29 | Beach umbrella |\n",
      "| 12 | 0.99 | 104 | 2018-02-28 | None |\n",
      "--------------------------------------------------\n",
      "Beach umbrellas:\n",
      "--------------------------------------------------\n",
      "| 11 | 99.99 | 104 | 2018-03-29 | Beach umbrella |\n"
     ]
    }
   ],
   "source": [
    "# Tuple containing data values to insert into our database\n",
    "items = ((10,19.95,104,'2018-03-31','Hooded sweatshirt'), \n",
    "         (11,99.99,104, '2018-03-29','Beach umbrella'),\n",
    "         (12,0.99,104,'2018-02-28', None))\n",
    "\n",
    "# Open a database connection, here we use an in memory DB\n",
    "\n",
    "with sql.connect(\"testdb\") as conn:\n",
    "\n",
    "    # Now we obtain our cursor\n",
    "    cur = conn.cursor()\n",
    "    \n",
    "    # Insert some values to myProducts\n",
    "    cur.executemany(\"INSERT INTO myProducts VALUES(?, ?, ?, ?, ?)\", items)\n",
    "\n",
    "    print(\"-\"*50)\n",
    "    print(\"All products:\")\n",
    "    print(\"-\"*50)\n",
    "    # Select rows and iterate through them\n",
    "    for row in cur.execute('SELECT * FROM myProducts'):\n",
    "        print(f\"| {row[0]} | {row[1]} | {row[2]} | {row[3]} | {row[4]} |\")\n",
    "        \n",
    "    print(\"-\"*50)\n",
    "    print(\"Beach umbrellas:\")\n",
    "    print(\"-\"*50)\n",
    "    # Select by description\n",
    "    desc = 'Beach umbrella'\n",
    "    for row in cur.execute(f'SELECT * FROM myProducts WHERE description=\"{desc}\"'):\n",
    "        print(f\"| {row[0]} | {row[1]} | {row[2]} | {row[3]} | {row[4]} |\")\n",
    "        \n",
    "    # Delete some rows\n",
    "    cur.execute(\"DELETE FROM myProducts WHERE itemNumber >= 10\")\n",
    "# Close cursor and connection\n",
    "cur.close()\n",
    "conn.close()\n"
   ]
  },
  {
   "cell_type": "markdown",
   "metadata": {},
   "source": [
    "-----\n",
    "\n",
    "## Pandas and SQL\n",
    "Pandas provides built-in support for executing a SQL query and retrieving the result as a DataFrame. This is demonstrated in the next code cell, where we execute a SQL query on the test database. \n",
    "\n",
    "The Pandas method to execute a SQL statement is `read_sql`, and mimics in appearance other Panda methods for _reading_ data into a Pandas DataFrame. In this case, the method takes our SQL statement, a database connection, and an optional parameter, `index_col` that we can use to specify which column in our result should be treated as an index column for the new DataFrame. Pandas will supply an auto-incrementing column if no column is explicitly supplied. We demonstrate with and without setting `index_col` in below example.\n",
    "\n",
    "-----"
   ]
  },
  {
   "cell_type": "code",
   "execution_count": 6,
   "metadata": {
    "scrolled": false
   },
   "outputs": [
    {
     "data": {
      "text/html": [
       "<div>\n",
       "<style scoped>\n",
       "    .dataframe tbody tr th:only-of-type {\n",
       "        vertical-align: middle;\n",
       "    }\n",
       "\n",
       "    .dataframe tbody tr th {\n",
       "        vertical-align: top;\n",
       "    }\n",
       "\n",
       "    .dataframe thead th {\n",
       "        text-align: right;\n",
       "    }\n",
       "</style>\n",
       "<table border=\"1\" class=\"dataframe\">\n",
       "  <thead>\n",
       "    <tr style=\"text-align: right;\">\n",
       "      <th></th>\n",
       "      <th>itemNumber</th>\n",
       "      <th>price</th>\n",
       "      <th>stockDate</th>\n",
       "      <th>description</th>\n",
       "    </tr>\n",
       "  </thead>\n",
       "  <tbody>\n",
       "    <tr>\n",
       "      <th>0</th>\n",
       "      <td>6</td>\n",
       "      <td>25.90</td>\n",
       "      <td>2019-04-01</td>\n",
       "      <td>Flip-flop</td>\n",
       "    </tr>\n",
       "    <tr>\n",
       "      <th>1</th>\n",
       "      <td>7</td>\n",
       "      <td>34.95</td>\n",
       "      <td>2015-01-24</td>\n",
       "      <td>Open-toed sandal</td>\n",
       "    </tr>\n",
       "  </tbody>\n",
       "</table>\n",
       "</div>"
      ],
      "text/plain": [
       "   itemNumber  price   stockDate       description\n",
       "0           6  25.90  2019-04-01         Flip-flop\n",
       "1           7  34.95  2015-01-24  Open-toed sandal"
      ]
     },
     "execution_count": 6,
     "metadata": {},
     "output_type": "execute_result"
    }
   ],
   "source": [
    "import pandas as pd\n",
    "# Extract data into a Pandas DataFrame\n",
    "query = '''\n",
    "SELECT itemNumber, price, stockDate, description\n",
    "FROM myProducts;'''\n",
    "\n",
    "# Use SQL Context\n",
    "with sql.connect(\"testdb\") as conn:\n",
    "    #withouth setting index_col\n",
    "    data1 = pd.read_sql(query, conn)\n",
    "    #set index_col\n",
    "    data2 = pd.read_sql(query, conn, index_col='itemNumber')\n",
    "    \n",
    "# Close connection\n",
    "conn.close()\n",
    "\n",
    "data1.head()"
   ]
  },
  {
   "cell_type": "code",
   "execution_count": 7,
   "metadata": {},
   "outputs": [
    {
     "data": {
      "text/html": [
       "<div>\n",
       "<style scoped>\n",
       "    .dataframe tbody tr th:only-of-type {\n",
       "        vertical-align: middle;\n",
       "    }\n",
       "\n",
       "    .dataframe tbody tr th {\n",
       "        vertical-align: top;\n",
       "    }\n",
       "\n",
       "    .dataframe thead th {\n",
       "        text-align: right;\n",
       "    }\n",
       "</style>\n",
       "<table border=\"1\" class=\"dataframe\">\n",
       "  <thead>\n",
       "    <tr style=\"text-align: right;\">\n",
       "      <th></th>\n",
       "      <th>price</th>\n",
       "      <th>stockDate</th>\n",
       "      <th>description</th>\n",
       "    </tr>\n",
       "    <tr>\n",
       "      <th>itemNumber</th>\n",
       "      <th></th>\n",
       "      <th></th>\n",
       "      <th></th>\n",
       "    </tr>\n",
       "  </thead>\n",
       "  <tbody>\n",
       "    <tr>\n",
       "      <th>6</th>\n",
       "      <td>25.90</td>\n",
       "      <td>2019-04-01</td>\n",
       "      <td>Flip-flop</td>\n",
       "    </tr>\n",
       "    <tr>\n",
       "      <th>7</th>\n",
       "      <td>34.95</td>\n",
       "      <td>2015-01-24</td>\n",
       "      <td>Open-toed sandal</td>\n",
       "    </tr>\n",
       "  </tbody>\n",
       "</table>\n",
       "</div>"
      ],
      "text/plain": [
       "            price   stockDate       description\n",
       "itemNumber                                     \n",
       "6           25.90  2019-04-01         Flip-flop\n",
       "7           34.95  2015-01-24  Open-toed sandal"
      ]
     },
     "execution_count": 7,
     "metadata": {},
     "output_type": "execute_result"
    }
   ],
   "source": [
    "data2.head()"
   ]
  },
  {
   "cell_type": "markdown",
   "metadata": {},
   "source": [
    "-----\n",
    "\n",
    "This technique can be used for arbitrarily complex SQL statements. In the next code cell, we modify our SQL query to select products of a certain supplier from the testdb database. This time we don't specify index column so that the DataFrame will supply a default row index.\n",
    "\n",
    "-----"
   ]
  },
  {
   "cell_type": "code",
   "execution_count": 8,
   "metadata": {
    "scrolled": true
   },
   "outputs": [
    {
     "data": {
      "text/html": [
       "<div>\n",
       "<style scoped>\n",
       "    .dataframe tbody tr th:only-of-type {\n",
       "        vertical-align: middle;\n",
       "    }\n",
       "\n",
       "    .dataframe tbody tr th {\n",
       "        vertical-align: top;\n",
       "    }\n",
       "\n",
       "    .dataframe thead th {\n",
       "        text-align: right;\n",
       "    }\n",
       "</style>\n",
       "<table border=\"1\" class=\"dataframe\">\n",
       "  <thead>\n",
       "    <tr style=\"text-align: right;\">\n",
       "      <th></th>\n",
       "      <th>itemNumber</th>\n",
       "      <th>price</th>\n",
       "      <th>stockDate</th>\n",
       "      <th>description</th>\n",
       "      <th>supplierName</th>\n",
       "    </tr>\n",
       "  </thead>\n",
       "  <tbody>\n",
       "    <tr>\n",
       "      <th>0</th>\n",
       "      <td>6</td>\n",
       "      <td>25.90</td>\n",
       "      <td>2019-04-01</td>\n",
       "      <td>Flip-flop</td>\n",
       "      <td>Quiet Beach Industries</td>\n",
       "    </tr>\n",
       "    <tr>\n",
       "      <th>1</th>\n",
       "      <td>7</td>\n",
       "      <td>34.95</td>\n",
       "      <td>2015-01-24</td>\n",
       "      <td>Open-toed sandal</td>\n",
       "      <td>Quiet Beach Industries</td>\n",
       "    </tr>\n",
       "  </tbody>\n",
       "</table>\n",
       "</div>"
      ],
      "text/plain": [
       "   itemNumber  price   stockDate       description            supplierName\n",
       "0           6  25.90  2019-04-01         Flip-flop  Quiet Beach Industries\n",
       "1           7  34.95  2015-01-24  Open-toed sandal  Quiet Beach Industries"
      ]
     },
     "execution_count": 8,
     "metadata": {},
     "output_type": "execute_result"
    }
   ],
   "source": [
    "# Find products by a certain supplier\n",
    "supplier = 'Quiet Beach Industries'\n",
    "query = f'''\n",
    "SELECT p.itemNumber, p.price, p.stockDate, p.description, s.supplierName\n",
    "FROM myProducts p, mySuppliers s\n",
    "WHERE p.supplierNumber=s.supplierNumber\n",
    "AND s.supplierName=\"{supplier}\";'''\n",
    "\n",
    "# Use SQL Context\n",
    "with sql.connect(\"testdb\") as conn:\n",
    "    product_supplier = pd.read_sql(query, conn)\n",
    "# Close connection\n",
    "conn.close()    \n",
    "\n",
    "# Display result\n",
    "product_supplier"
   ]
  },
  {
   "cell_type": "markdown",
   "metadata": {},
   "source": [
    "-----\n",
    "\n",
    "Pandas also simplifies the insertion of new data into a SQL database. For this, we can simply take an existing Pandas DataFrame and call the `to_sql()` method. This method requires at least two parameters, the name of the database table and the database connection. If the table does not exist, a new table will be created to match the DataFrame, including appropriate column names and data types. If the table exists, we need to set function parameter `if_exists` to determine what to do. Default value of `if_exists` is 'fail':\n",
    "- fail: Raise a ValueError.\n",
    "- replace: Drop the table before inserting new values.\n",
    "- append: Insert new values to the existing table.  \n",
    "\n",
    "Please check out the document of `to_sql()` for more details. In the following code cell, we will insert the DataFrame created from the above example to the new table. If the table already exists, `if_exists='replace'` makes sure the existing table will be dropped first. We pass an extra parameter to `to_sql()` function, `index=False`. This is to prevent creating a column in the database table for the index of the DataFrame.\n",
    "\n",
    "-----"
   ]
  },
  {
   "cell_type": "code",
   "execution_count": 9,
   "metadata": {},
   "outputs": [],
   "source": [
    "with sql.connect(\"testdb\") as conn:\n",
    "    product_supplier.to_sql(\"myProductSupplier\", conn, if_exists='replace', index=False)\n",
    "# Close connection\n",
    "conn.close()"
   ]
  },
  {
   "cell_type": "code",
   "execution_count": 10,
   "metadata": {},
   "outputs": [
    {
     "data": {
      "text/html": [
       "<div>\n",
       "<style scoped>\n",
       "    .dataframe tbody tr th:only-of-type {\n",
       "        vertical-align: middle;\n",
       "    }\n",
       "\n",
       "    .dataframe tbody tr th {\n",
       "        vertical-align: top;\n",
       "    }\n",
       "\n",
       "    .dataframe thead th {\n",
       "        text-align: right;\n",
       "    }\n",
       "</style>\n",
       "<table border=\"1\" class=\"dataframe\">\n",
       "  <thead>\n",
       "    <tr style=\"text-align: right;\">\n",
       "      <th></th>\n",
       "      <th>itemNumber</th>\n",
       "      <th>price</th>\n",
       "      <th>stockDate</th>\n",
       "      <th>description</th>\n",
       "      <th>supplierName</th>\n",
       "    </tr>\n",
       "  </thead>\n",
       "  <tbody>\n",
       "    <tr>\n",
       "      <th>0</th>\n",
       "      <td>6</td>\n",
       "      <td>25.90</td>\n",
       "      <td>2019-04-01</td>\n",
       "      <td>Flip-flop</td>\n",
       "      <td>Quiet Beach Industries</td>\n",
       "    </tr>\n",
       "    <tr>\n",
       "      <th>1</th>\n",
       "      <td>7</td>\n",
       "      <td>34.95</td>\n",
       "      <td>2015-01-24</td>\n",
       "      <td>Open-toed sandal</td>\n",
       "      <td>Quiet Beach Industries</td>\n",
       "    </tr>\n",
       "  </tbody>\n",
       "</table>\n",
       "</div>"
      ],
      "text/plain": [
       "   itemNumber  price   stockDate       description            supplierName\n",
       "0           6  25.90  2019-04-01         Flip-flop  Quiet Beach Industries\n",
       "1           7  34.95  2015-01-24  Open-toed sandal  Quiet Beach Industries"
      ]
     },
     "execution_count": 10,
     "metadata": {},
     "output_type": "execute_result"
    }
   ],
   "source": [
    "with sql.connect(\"testdb\") as conn:\n",
    "    data = pd.read_sql(\"SELECT * FROM myProductSupplier\", conn)\n",
    "# Close connection\n",
    "conn.close()\n",
    "data.head()"
   ]
  },
  {
   "cell_type": "markdown",
   "metadata": {},
   "source": [
    "## Ancillary Information\n",
    "\n",
    "The following links are to additional documentation that you might find helpful in learning this material. Reading these web-accessible documents is completely optional.\n",
    "\n",
    "1. [Official][1] SQLite Python DB-API implementation\n",
    "2. The [SQLIte Python Tutorial][2], is a bit old and somewhat out-of-date, but it provides useful perspective.\n",
    "3. [PEP-249][3], which outlines the common database API in Python\n",
    "\n",
    "-----\n",
    "\n",
    "[1]: https://docs.python.org/3/library/sqlite3.html\n",
    "[2]: http://zetcode.com/db/sqlitepythontutorial/\n",
    "[3]: https://www.python.org/dev/peps/pep-0249/\n"
   ]
  },
  {
   "cell_type": "markdown",
   "metadata": {
    "deletable": false,
    "editable": false
   },
   "source": [
    "**&copy; 2019: Gies College of Business at the University of Illinois.**\n",
    "\n",
    "This notebook is released under the [Creative Commons license CC BY-NC-SA 4.0][ll]. Any reproduction, adaptation, distribution, dissemination or making available of this notebook for commercial use is not allowed unless authorized in writing by the copyright holder.\n",
    "\n",
    "[ll]: https://creativecommons.org/licenses/by-nc-sa/4.0/legalcode"
   ]
  }
 ],
 "metadata": {
  "kernelspec": {
   "display_name": "Python 3",
   "language": "python",
   "name": "python3"
  },
  "language_info": {
   "codemirror_mode": {
    "name": "ipython",
    "version": 3
   },
   "file_extension": ".py",
   "mimetype": "text/x-python",
   "name": "python",
   "nbconvert_exporter": "python",
   "pygments_lexer": "ipython3",
   "version": "3.7.3"
  }
 },
 "nbformat": 4,
 "nbformat_minor": 1
}
