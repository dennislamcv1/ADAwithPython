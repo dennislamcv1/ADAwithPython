{
 "cells": [
  {
   "cell_type": "markdown",
   "metadata": {
    "deletable": false,
    "editable": false,
    "nbgrader": {
     "cell_type": "markdown",
     "checksum": "f7764971a959f1aeaa7cde882d076964",
     "grade": false,
     "grade_id": "intro",
     "locked": true,
     "schema_version": 3,
     "solution": false
    }
   },
   "source": [
    "# Module 8 Assignment\n",
    "\n",
    "\n",
    "A few things you should keep in mind when working on assignments:\n",
    "\n",
    "1. Run the first code cell to import modules needed by this assignment before proceeding to problems.\n",
    "2. Make sure you fill in any place that says `# YOUR CODE HERE`. Do not write your answer anywhere else other than where it says `# YOUR CODE HERE`. Anything you write elsewhere will be removed or overwritten by the autograder.\n",
    "3. Each problem has an autograder cell below the answer cell. Run the autograder cell to check your answer. If there's anything wrong in your answer, the autograder cell will display error messages.\n",
    "4. Before you submit your assignment, make sure everything runs as expected. Go to the menubar, select Kernel, and Restart & Run all. If the notebook runs through the last code cell without an error message, you've answered all problems correctly.\n",
    "5. Make sure that you save your work (in the menubar, select File → Save and CheckPoint).\n",
    "\n",
    "-----"
   ]
  },
  {
   "cell_type": "markdown",
   "metadata": {
    "deletable": false,
    "editable": false,
    "nbgrader": {
     "cell_type": "markdown",
     "checksum": "81fad8e01ee73e8d75c6938bc45f5952",
     "grade": false,
     "grade_id": "cell-669359248812e9f0",
     "locked": true,
     "schema_version": 3,
     "solution": false
    }
   },
   "source": [
    "# Run Me First!"
   ]
  },
  {
   "cell_type": "code",
   "execution_count": null,
   "metadata": {
    "deletable": false,
    "editable": false,
    "nbgrader": {
     "cell_type": "code",
     "checksum": "9bc957b9f823ec1e7af8a0ece9634907",
     "grade": false,
     "grade_id": "imports",
     "locked": true,
     "schema_version": 3,
     "solution": false
    }
   },
   "outputs": [],
   "source": [
    "import sqlite3 as sql\n",
    "import pandas as pd\n",
    "\n",
    "from nose.tools import assert_equal, assert_true"
   ]
  },
  {
   "cell_type": "markdown",
   "metadata": {
    "deletable": false,
    "editable": false,
    "nbgrader": {
     "cell_type": "markdown",
     "checksum": "5a5e7d703d3c0cc404990f45c62eb384",
     "grade": false,
     "grade_id": "p1_desc",
     "locked": true,
     "schema_version": 3,
     "solution": false
    }
   },
   "source": [
    "-----\n",
    "\n",
    "## Problem 1: Establishing a connection, getting a cursor\n",
    "\n",
    "In the code cell below, we declare a function named `create_connection` that takes one function parameter: `file_path`, which is a string containing the file path to the SQLite3 database.\n",
    "\n",
    "To complete this problem, finish writing the function `create_connection`:\n",
    "- Establish a sqlite3 connection to the database 'file_path'.\n",
    "- Create a cursor using the connection to this database.\n",
    "- Return the connection to the database and the database cursor.\n",
    "\n",
    "-----"
   ]
  },
  {
   "cell_type": "code",
   "execution_count": null,
   "metadata": {
    "deletable": false,
    "nbgrader": {
     "cell_type": "code",
     "checksum": "bf0a88d61f3d879d7cad470ffb69b29e",
     "grade": false,
     "grade_id": "p1_ans",
     "locked": false,
     "schema_version": 3,
     "solution": true
    }
   },
   "outputs": [],
   "source": [
    "# connect to a datbase\n",
    "def create_connection(file_path):\n",
    "    '''\n",
    "    Creates and establishes a connection to a database\n",
    "    \n",
    "    Parameters\n",
    "    ----------\n",
    "    file_path: string containing path to create database\n",
    "    \n",
    "    Returns\n",
    "    -------\n",
    "    con: sqlite3 connection\n",
    "    cur: sqlite3 database cursor object\n",
    "    '''\n",
    "    \n",
    "    # YOUR CODE HERE\n",
    "    "
   ]
  },
  {
   "cell_type": "code",
   "execution_count": null,
   "metadata": {
    "deletable": false,
    "editable": false,
    "nbgrader": {
     "cell_type": "code",
     "checksum": "5280a2b8caeb567db5ffa08f129c9261",
     "grade": true,
     "grade_id": "p1_test",
     "locked": true,
     "points": 1,
     "schema_version": 3,
     "solution": false
    }
   },
   "outputs": [],
   "source": [
    "con, cur = create_connection('sql_files/m8.db')\n",
    "\n",
    "cur.execute(\"PRAGMA table_Info('Courses')\")\n",
    "result = cur.fetchall()\n",
    "\n",
    "assert_true('Subject' in result[0], msg='Connection is not established correctly.')"
   ]
  },
  {
   "cell_type": "markdown",
   "metadata": {
    "deletable": false,
    "editable": false,
    "nbgrader": {
     "cell_type": "markdown",
     "checksum": "d2c408a54a706b2b02a09b611a0458a8",
     "grade": false,
     "grade_id": "p2_desc",
     "locked": true,
     "schema_version": 3,
     "solution": false
    }
   },
   "source": [
    "-----\n",
    "\n",
    "## Problem 2: Selecting all data from a table\n",
    "\n",
    "In the code cell below, we declare a function named `select_all` that takes one function parameters: `cur`, which is the cursor.\n",
    "\n",
    "For this problem, the database has a **Courses** table.\n",
    "\n",
    "To complete this problem, finish writing the function `select_all`:\n",
    "- Use the cursor represented by `cur` to execute a query that selects all data from the table **Courses**.\n",
    "- Use fetchall() function to fetch all the results from the cursor.\n",
    "- Return the result returned by fetchall().\n",
    "\n",
    "-----"
   ]
  },
  {
   "cell_type": "code",
   "execution_count": null,
   "metadata": {
    "deletable": false,
    "nbgrader": {
     "cell_type": "code",
     "checksum": "e718d68ae00f72ba3f423a7d954129c4",
     "grade": false,
     "grade_id": "p2_ans",
     "locked": false,
     "schema_version": 3,
     "solution": true
    }
   },
   "outputs": [],
   "source": [
    "def select_all(cur):\n",
    "    '''\n",
    "    Fetch all result in the table Courses\n",
    "    \n",
    "    Parameters\n",
    "    ----------\n",
    "    cur: sqlite3 cursor\n",
    "    \n",
    "    Returns\n",
    "    -------\n",
    "    All data fetched from the table\n",
    "    '''\n",
    "    \n",
    "    # YOUR CODE HERE\n",
    "    "
   ]
  },
  {
   "cell_type": "code",
   "execution_count": null,
   "metadata": {
    "deletable": false,
    "editable": false,
    "nbgrader": {
     "cell_type": "code",
     "checksum": "465efd871bc86cea03ddc863b7e64163",
     "grade": true,
     "grade_id": "p2_tests",
     "locked": true,
     "points": 1,
     "schema_version": 3,
     "solution": false
    }
   },
   "outputs": [],
   "source": [
    "data = select_all(cur)\n",
    "assert_equal(len(data), 13, msg=\"Your answer does not match the solution.\")\n",
    "assert_true('ACCY' in data[0], msg=\"Your answer does not match the solution.\")\n",
    "assert_true(199 in data[0], msg=\"Your answer does not match the solution.\")\n",
    "assert_true(10033 in data[0], msg=\"Your answer does not match the solution.\")\n",
    "print(\"Courses:\")\n",
    "print(f'{\"Subject\":8s}{\"CRN\":4s}{\"CourseNumber\":10s}')\n",
    "for row in data:\n",
    "    print(f'{row[0]:8s}{row[1]:3}{row[2]:6}')\n",
    "      "
   ]
  },
  {
   "cell_type": "markdown",
   "metadata": {
    "deletable": false,
    "editable": false,
    "nbgrader": {
     "cell_type": "markdown",
     "checksum": "6ca7637103f8fa35612b4430e7b34ed4",
     "grade": false,
     "grade_id": "p3_desc",
     "locked": true,
     "schema_version": 3,
     "solution": false
    }
   },
   "source": [
    "-----\n",
    "\n",
    "## Problem 3: Selecting all data into a DataFrame\n",
    "\n",
    "In the code cell below, we declare a function named `select_all_to_dataframe` that takes one function parameters, `con`, which is the database connection.\n",
    "\n",
    "For this problem, the database has a **Courses** table.\n",
    "\n",
    "To complete this problem, finish writing the function `select_all_to_dataframe`:\n",
    "- Use pandas read_sql function with database connect represented by `con` to load all data from the table **Courses** and load the result to a DataFrame\n",
    "- Return the DataFrame.\n",
    "\n",
    "-----"
   ]
  },
  {
   "cell_type": "code",
   "execution_count": null,
   "metadata": {
    "deletable": false,
    "nbgrader": {
     "cell_type": "code",
     "checksum": "4165eca67ac4b607c2d1891efb10cc40",
     "grade": false,
     "grade_id": "p3_ans",
     "locked": false,
     "schema_version": 3,
     "solution": true
    }
   },
   "outputs": [],
   "source": [
    "# Select data\n",
    "def select_all_to_dataframe(con):\n",
    "    '''\n",
    "    Selects data from table Courses to a DataFrame.\n",
    "    \n",
    "    Parameters\n",
    "    ----------\n",
    "    con: sqlite3 connection\n",
    "    \n",
    "    Returns\n",
    "    -------\n",
    "    dataframe that contains all data in the table\n",
    "    '''\n",
    "    \n",
    "    # YOUR CODE HERE\n",
    "    "
   ]
  },
  {
   "cell_type": "code",
   "execution_count": null,
   "metadata": {
    "deletable": false,
    "editable": false,
    "nbgrader": {
     "cell_type": "code",
     "checksum": "21624b57165e350c65d68e85bbd4b9d6",
     "grade": true,
     "grade_id": "p3_test",
     "locked": true,
     "points": 1,
     "schema_version": 3,
     "solution": false
    }
   },
   "outputs": [],
   "source": [
    "result = select_all_to_dataframe(con)\n",
    "assert_equal(result.shape, (13,3), msg=\"Your answer does not match the solution\")\n",
    "result"
   ]
  },
  {
   "cell_type": "markdown",
   "metadata": {
    "deletable": false,
    "editable": false,
    "nbgrader": {
     "cell_type": "markdown",
     "checksum": "afb0c63290aaf0672777d826ec8dc8fa",
     "grade": false,
     "grade_id": "p4-desc",
     "locked": true,
     "schema_version": 3,
     "solution": false
    }
   },
   "source": [
    "-----\n",
    "\n",
    "## Problem 4: Selecting data by subject into a DataFrame\n",
    "\n",
    "In the code cell below, we declare a function named `select_data_by_subject` that takes two function parameters: `con`, which is the database connection, and `sub`, which is the subject to select.\n",
    "\n",
    "For this problem, the database has a **Courses** table. The **Courses** table has a TEXT column **Subject**.\n",
    "\n",
    "To complete this problem, finish writing the function `select_data_by_subject`:\n",
    "- Use pandas read_sql function with database connect represented by `con` to read all data from the table **Courses** with **Subject** equals to the string represented by `sub`, load the results to a DataFrame.\n",
    "- Return the DataFrame.\n",
    "\n",
    "-----"
   ]
  },
  {
   "cell_type": "code",
   "execution_count": null,
   "metadata": {
    "deletable": false,
    "nbgrader": {
     "cell_type": "code",
     "checksum": "b64d79d5ff0f72af98dafbf620746954",
     "grade": false,
     "grade_id": "p4-ans",
     "locked": false,
     "schema_version": 3,
     "solution": true
    }
   },
   "outputs": [],
   "source": [
    "# Select data by subject\n",
    "def select_data_by_subject(con, sub):\n",
    "    '''\n",
    "    Selects data from the Courses table by Subject.\n",
    "    \n",
    "    Parameters\n",
    "    ----------\n",
    "    con: sqlite3 connection\n",
    "    sub: subject to select\n",
    "    \n",
    "    Returns\n",
    "    -------\n",
    "    dataframe that contains course info with particular subject\n",
    "    '''\n",
    "    \n",
    "    # YOUR CODE HERE\n",
    "    "
   ]
  },
  {
   "cell_type": "code",
   "execution_count": null,
   "metadata": {
    "deletable": false,
    "editable": false,
    "nbgrader": {
     "cell_type": "code",
     "checksum": "cbb9ffbebb8d97e0596b6a197bec8b8e",
     "grade": true,
     "grade_id": "p4-test",
     "locked": true,
     "points": 1,
     "schema_version": 3,
     "solution": false
    }
   },
   "outputs": [],
   "source": [
    "accy = select_data_by_subject(con, 'ACCY')\n",
    "assert_equal(accy.shape, (4,3), msg=\"Your answer does not match the solution.\")\n",
    "accy"
   ]
  },
  {
   "cell_type": "code",
   "execution_count": null,
   "metadata": {
    "deletable": false,
    "editable": false,
    "nbgrader": {
     "cell_type": "code",
     "checksum": "0a14c54ab2f1d07de2d5b36405ea31e0",
     "grade": false,
     "grade_id": "cell-01b1010c1fe07c2c",
     "locked": true,
     "schema_version": 3,
     "solution": false,
     "task": false
    }
   },
   "outputs": [],
   "source": [
    "#Release database connection and cursor\n",
    "cur.close()\n",
    "con.close()"
   ]
  }
 ],
 "metadata": {
  "coursera": {
   "course_slug": "accounting-data-analytics-python",
   "graded_item_id": "T61Ru",
   "launcher_item_id": "FGNcG"
  },
  "kernelspec": {
   "display_name": "Python 3",
   "language": "python",
   "name": "python3"
  },
  "language_info": {
   "codemirror_mode": {
    "name": "ipython",
    "version": 3
   },
   "file_extension": ".py",
   "mimetype": "text/x-python",
   "name": "python",
   "nbconvert_exporter": "python",
   "pygments_lexer": "ipython3",
   "version": "3.7.3"
  }
 },
 "nbformat": 4,
 "nbformat_minor": 2
}
