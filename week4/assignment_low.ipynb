{
 "cells": [
  {
   "cell_type": "markdown",
   "metadata": {
    "deletable": false,
    "editable": false,
    "nbgrader": {
     "cell_type": "markdown",
     "checksum": "538b03b19692ab57d9bcb240112aa524",
     "grade": false,
     "grade_id": "header",
     "locked": true,
     "schema_version": 3,
     "solution": false
    }
   },
   "source": [
    "# Module 4 Assignment\n",
    "\n",
    "\n",
    "A few things you should keep in mind when working on assignments:\n",
    "\n",
    "1. Run the first code cell to import modules needed by this assignment before proceeding to problems.\n",
    "2. Make sure you fill in any place that says `# YOUR CODE HERE`. Do not write your answer anywhere else other than where it says `# YOUR CODE HERE`. Anything you write elsewhere will be removed or overwritten by the autograder.\n",
    "3. Each problem has an autograder cell below the answer cell. Run the autograder cell to check your answer. If there's anything wrong in your answer, the autograder cell will display error messages.\n",
    "4. Before you submit your assignment, make sure everything runs as expected. Go to the menubar, select Kernel, and Restart & Run all. If the notebook runs through the last code cell without an error message, you've answered all problems correctly.\n",
    "5. Make sure that you save your work (in the menubar, select File → Save and CheckPoint).\n",
    "\n",
    "-----"
   ]
  },
  {
   "cell_type": "markdown",
   "metadata": {
    "deletable": false,
    "editable": false,
    "nbgrader": {
     "cell_type": "markdown",
     "checksum": "b62c844349f20974fae528a0f75c4e2d",
     "grade": false,
     "grade_id": "cell-d9f8179e0e85aa4e",
     "locked": true,
     "schema_version": 3,
     "solution": false
    }
   },
   "source": [
    "# Run Me First!"
   ]
  },
  {
   "cell_type": "code",
   "execution_count": null,
   "metadata": {
    "deletable": false,
    "editable": false,
    "nbgrader": {
     "cell_type": "code",
     "checksum": "2e7f8ea97060492e234e491ef5395666",
     "grade": false,
     "grade_id": "import",
     "locked": true,
     "schema_version": 3,
     "solution": false
    }
   },
   "outputs": [],
   "source": [
    "from nose.tools import assert_equal, assert_true\n",
    "import pandas as pd"
   ]
  },
  {
   "cell_type": "markdown",
   "metadata": {
    "deletable": false,
    "editable": false,
    "nbgrader": {
     "cell_type": "markdown",
     "checksum": "4ff9469c27f42b905c155d00ad0eb1d1",
     "grade": false,
     "grade_id": "p1_desc",
     "locked": true,
     "schema_version": 3,
     "solution": false
    }
   },
   "source": [
    "-----\n",
    "\n",
    "# Problem 1: Importing the NumPy module\n",
    "\n",
    "In the code cell below import the NumPy module using the alias `np`. If done incorrectly you may fail other assert statements.\n",
    "\n",
    "-----"
   ]
  },
  {
   "cell_type": "code",
   "execution_count": null,
   "metadata": {
    "deletable": false,
    "nbgrader": {
     "cell_type": "code",
     "checksum": "d6f835d2e78f719d150b53c756975d99",
     "grade": false,
     "grade_id": "p1_ans",
     "locked": false,
     "schema_version": 3,
     "solution": true
    }
   },
   "outputs": [],
   "source": [
    "# YOUR CODE HERE\n"
   ]
  },
  {
   "cell_type": "code",
   "execution_count": null,
   "metadata": {
    "deletable": false,
    "editable": false,
    "nbgrader": {
     "cell_type": "code",
     "checksum": "14393b253cee764c9d6da055fecfe00a",
     "grade": true,
     "grade_id": "p1_test",
     "locked": true,
     "points": 1,
     "schema_version": 3,
     "solution": false
    }
   },
   "outputs": [],
   "source": [
    "assert_true('np' in  dir(), msg='import the numpy module using the alias np.')"
   ]
  },
  {
   "cell_type": "markdown",
   "metadata": {
    "deletable": false,
    "editable": false,
    "nbgrader": {
     "cell_type": "markdown",
     "checksum": "f5019593fd4edbb13fd72b2f16f73c2c",
     "grade": false,
     "grade_id": "p2_desc",
     "locked": true,
     "schema_version": 3,
     "solution": false
    }
   },
   "source": [
    "-----\n",
    "\n",
    "# Problem 2: Creating a NumPy array\n",
    "\n",
    "In the code cell below the function `gen_data` accepts one parameter `n`, which is an integer.\n",
    "\n",
    "For this problem:\n",
    "\n",
    "- Create a NumPy array containing integers from 0 to n incremented by 1.\n",
    "\n",
    "- The final entry in the array should be n - 1.\n",
    "  \n",
    "- Return this newly created array.\n",
    "\n",
    "-----"
   ]
  },
  {
   "cell_type": "code",
   "execution_count": null,
   "metadata": {
    "deletable": false,
    "nbgrader": {
     "cell_type": "code",
     "checksum": "45c0995a43c5e41b311773a6d32edca1",
     "grade": false,
     "grade_id": "p2_ans",
     "locked": false,
     "schema_version": 3,
     "solution": true
    }
   },
   "outputs": [],
   "source": [
    "def gen_data(n):\n",
    "    '''\n",
    "    Generates a NumPy array of integers \n",
    "    from 0 to n - 1\n",
    "    \n",
    "    Parameters\n",
    "    ----------\n",
    "    n: integer value indicating the end of \n",
    "    the interval\n",
    "    \n",
    "    Returns\n",
    "    -------\n",
    "    returns the NumPy array\n",
    "    \n",
    "    '''\n",
    "    # YOUR CODE HERE\n",
    "    "
   ]
  },
  {
   "cell_type": "code",
   "execution_count": null,
   "metadata": {
    "deletable": false,
    "editable": false,
    "nbgrader": {
     "cell_type": "code",
     "checksum": "c211a605fca796877b17d26d7f0b85b8",
     "grade": true,
     "grade_id": "p2_test",
     "locked": true,
     "points": 1,
     "schema_version": 3,
     "solution": false
    }
   },
   "outputs": [],
   "source": [
    "ans_10obs = gen_data(10)\n",
    "assert_equal(type(ans_10obs), type(np.array(0)))\n",
    "assert_equal(ans_10obs.tolist(), \n",
    "             [x for x in range(10)])\n",
    "\n",
    "ans_120obs = gen_data(120)\n",
    "assert_equal(type(ans_120obs), type(np.array(0)))\n",
    "assert_equal(ans_120obs.tolist(), \n",
    "             [x for x in range(120)])"
   ]
  },
  {
   "cell_type": "markdown",
   "metadata": {
    "deletable": false,
    "editable": false,
    "nbgrader": {
     "cell_type": "markdown",
     "checksum": "ff7212bffec35f06a397ab91f17d0c98",
     "grade": false,
     "grade_id": "p3_desc",
     "locked": true,
     "schema_version": 3,
     "solution": false
    }
   },
   "source": [
    "-----\n",
    "\n",
    "# Problem 3: NumPy summary functions\n",
    "\n",
    "In the code cell below the function `median` accepts one parameter `a`, which is a NumPy array.\n",
    "\n",
    "For this problem:\n",
    "- Use the NumPy `median` function to compute the median value.\n",
    "- Return this value.\n",
    "\n",
    "-----"
   ]
  },
  {
   "cell_type": "code",
   "execution_count": null,
   "metadata": {
    "deletable": false,
    "nbgrader": {
     "cell_type": "code",
     "checksum": "49070f6d76bdaabedc79503fce9b8389",
     "grade": false,
     "grade_id": "p3_ans",
     "locked": false,
     "schema_version": 3,
     "solution": true
    }
   },
   "outputs": [],
   "source": [
    "def median(a):\n",
    "    '''\n",
    "    Returns the median value in a NumPy array\n",
    "    \n",
    "    Parameters\n",
    "    ----------\n",
    "    a: NumPy array\n",
    "    \n",
    "    Returns\n",
    "    -------\n",
    "    the median value of the array\n",
    "    '''\n",
    "    \n",
    "    # YOUR CODE HERE\n",
    "    "
   ]
  },
  {
   "cell_type": "code",
   "execution_count": null,
   "metadata": {
    "deletable": false,
    "editable": false,
    "nbgrader": {
     "cell_type": "code",
     "checksum": "93d83953697c1569c0aa89d794adebd7",
     "grade": true,
     "grade_id": "p3_test",
     "locked": true,
     "points": 1,
     "schema_version": 3,
     "solution": false
    }
   },
   "outputs": [],
   "source": [
    "ans3_1 = median(ans_10obs)\n",
    "assert_equal(ans3_1, 4.5, msg=\"Your answer does not match the solutions\")\n",
    "\n",
    "ans3_2 = median(ans_120obs)\n",
    "assert_equal(ans3_2, 59.5, msg=\"Your answer does not match the solutions\")"
   ]
  },
  {
   "cell_type": "markdown",
   "metadata": {
    "deletable": false,
    "editable": false,
    "nbgrader": {
     "cell_type": "markdown",
     "checksum": "29e6cf4316c06b9f0d3d34124ef561b3",
     "grade": false,
     "grade_id": "p4-desc",
     "locked": true,
     "schema_version": 3,
     "solution": false
    }
   },
   "source": [
    "-----\n",
    "\n",
    "# Problem 4: Select one columns from a DataFrame\n",
    "\n",
    "The code cell below reads a DataFrame from a file. Please select one column that contains **sepal length** data as a Pandas **Series** from the DataFrame and assign it to variable **sp_length**.\n",
    "\n",
    "-----"
   ]
  },
  {
   "cell_type": "code",
   "execution_count": null,
   "metadata": {
    "deletable": false,
    "editable": false,
    "nbgrader": {
     "cell_type": "code",
     "checksum": "f4f702deff70571653a124e4c66eb437",
     "grade": false,
     "grade_id": "cell-4567a17db5540c90",
     "locked": true,
     "schema_version": 3,
     "solution": false
    }
   },
   "outputs": [],
   "source": [
    "df = pd.read_csv('data/iris.csv')\n",
    "df.head()"
   ]
  },
  {
   "cell_type": "code",
   "execution_count": null,
   "metadata": {
    "deletable": false,
    "nbgrader": {
     "cell_type": "code",
     "checksum": "847019e45ef7da9d83db58f55d5b8f98",
     "grade": false,
     "grade_id": "p4-ans",
     "locked": false,
     "schema_version": 3,
     "solution": true
    }
   },
   "outputs": [],
   "source": [
    "# YOUR CODE HERE\n"
   ]
  },
  {
   "cell_type": "code",
   "execution_count": null,
   "metadata": {
    "deletable": false,
    "editable": false,
    "nbgrader": {
     "cell_type": "code",
     "checksum": "2194074a77c7a755420937b73852ab64",
     "grade": true,
     "grade_id": "p4-test",
     "locked": true,
     "points": 1,
     "schema_version": 3,
     "solution": false
    }
   },
   "outputs": [],
   "source": [
    "assert_equal(type(sp_length), pd.core.series.Series, msg=\"Your answer does not match the solutions\")\n",
    "assert_equal(sp_length.shape[0], 150, msg=\"Your answer does not match the solutions\")\n",
    "assert_equal(sp_length[0], 5.1, msg=\"Your answer does not match the solutions\")\n",
    "assert_equal(sp_length[1], 4.9, msg=\"Your answer does not match the solutions\")\n"
   ]
  }
 ],
 "metadata": {
  "coursera": {
   "course_slug": "accounting-data-analytics-python",
   "graded_item_id": "LAhNW",
   "launcher_item_id": "7BDzh"
  },
  "kernelspec": {
   "display_name": "Python 3",
   "language": "python",
   "name": "python3"
  },
  "language_info": {
   "codemirror_mode": {
    "name": "ipython",
    "version": 3
   },
   "file_extension": ".py",
   "mimetype": "text/x-python",
   "name": "python",
   "nbconvert_exporter": "python",
   "pygments_lexer": "ipython3",
   "version": "3.7.3"
  }
 },
 "nbformat": 4,
 "nbformat_minor": 2
}
