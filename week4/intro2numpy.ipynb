{
 "cells": [
  {
   "cell_type": "markdown",
   "metadata": {},
   "source": [
    "# Introduction to NumPy\n",
    "\n",
    "-----"
   ]
  },
  {
   "cell_type": "markdown",
   "metadata": {},
   "source": [
    "As we discussed previously, the Python programming language provides a rich set of data structures such as the list, tuple, dictionary, and string, which can greatly simplify common programming tasks. Of these structures, all but the string are heterogeneous, which means they can hold data of different types. This flexibility comes at a cost, however, as it is more expensive in both computational time and storage to maintain an arbitrary collection of data than to hold a pre-defined set of data.\n",
    "\n",
    "For example, the Python list is implemented as a variable length array that contains pointers to the objects held in the array. While flexible, it takes time to create, resize, and iterate over, even if the data contained in the list is homogenous. Also, even though you can create multiple-dimensional lists, creating and working with them is neither simple nor intuitive. Yet, many applications require multi-dimensional representation, for example, location on the surface of the Earth or pixel properties in an image.\n",
    "\n",
    "Thus, these data structures clearly are not designed or optimized for data intensive computing. Scientific and engineering computing applications have a long history of using optimized data structures and libraries, including codes written in C, Fortran, or MatLab. These applications expect to have vector and matrix data structures and optimized algorithms that can leverage these structures seamlessly.  Fortunately, since many data science applications, including statistical and machine learning, are built on this academic legacy, a community of open source developers have built the [Numerical Python (NumPy)](http://numpy.org) library, a fundamental numerical package to facilitate scientific computing in Python.\n",
    "\n",
    "## Table of Contents\n",
    "\n",
    "[NumPy Array](#NumPy-Array)  \n",
    "\n",
    "[Indexing Arrays](#Indexing-Arrays)  \n",
    "\n",
    "[NumPy Basic Operations](#NumPy-Basic-Operations)  "
   ]
  },
  {
   "cell_type": "markdown",
   "metadata": {},
   "source": [
    "---\n",
    "[[Back to TOC]](#Table-of-Contents)\n",
    "\n",
    "\n",
    "## NumPy Array\n",
    "\n",
    "NumPy is built around a new, n-dimensional array (`ndarray`) data structure that provides fast support for numerical computations. This data type for objects stored in the array can be specified at creation time, but the array is homogenous. This array can be used to represent a vector (one-dimensional set of numerical values) or matrix (multiple-dimensional set of vectors). Furthermore, NumPy provides additional benefits built on top of the `array` object, including masked arrays, universal functions, sampling from random distributions, and support for user-defined, arbitrary data-types that allow the `array` to become an efficient, multi-dimensional generic data container.\n",
    "\n",
    "-----"
   ]
  },
  {
   "cell_type": "markdown",
   "metadata": {},
   "source": [
    "### Is NumPy Worth Learning?\n",
    "\n",
    "Despite the discussion in the previous section, you might be curious if the benefits of learning NumPy are worth the effort of learning to effectively use a new Python data structure, especially one that is not part of the standard Python distribution. In the end, you will have to make this decision, but there are several definite benefits to using NumPy:\n",
    "\n",
    "1. NumPy is much faster than using a `list`.\n",
    "2. NumPy is generally more intuitive than using a `list`.\n",
    "3. NumPy is used by many other libraries like SciPy, MatPlotLib, and Pandas.\n",
    "4. NumPy is part of the standard **data science** Python distribution.\n",
    "\n",
    "\n",
    "-----\n"
   ]
  },
  {
   "cell_type": "markdown",
   "metadata": {},
   "source": [
    "### Creating an Array\n",
    "\n",
    "[NumPy arrays][i], which are instances of the `ndarray` class, are statically-typed, homogenous data structures that can be created in a number of [different ways][1]. You can create an array from an existing Python `list` or `tuple`, or use one of the many built-in NumPy convenience methods:\n",
    "\n",
    "- `empty`: Creates a new array whose elements are uninitialized.\n",
    "- `zeros`: Creates a new array whose elements are initialized to zero.\n",
    "- `ones`: Creates a new array whose elements are initialized to one.\n",
    "- `empty_like`: Creates a new array whose size matches the input array and whose values are uninitialized.\n",
    "- `zeros_like`: Creates a new array whose size matches the input array and whose values are initialized to zero.\n",
    "- `ones_like`: Creates a new array whose size matches the input array and whose values are initialized to unity.\n",
    "\n",
    "-----\n",
    "[i]: http://docs.scipy.org/doc/numpy/reference/arrays.ndarray.html\n",
    "[1]: http://docs.scipy.org/doc/numpy/user/basics.creation.html"
   ]
  },
  {
   "cell_type": "code",
   "execution_count": 1,
   "metadata": {},
   "outputs": [
    {
     "name": "stdout",
     "output_type": "stream",
     "text": [
      "[0 1 2 3 4 5 6 7 8 9]\n",
      "\n",
      " [0.0e+000 4.9e-324 9.9e-324 1.5e-323 2.0e-323 2.5e-323 3.0e-323 3.5e-323\n",
      " 4.0e-323 4.4e-323]\n",
      "\n",
      " [0. 0. 0. 0. 0. 0. 0. 0. 0. 0.]\n",
      "\n",
      " [1. 1. 1. 1. 1. 1. 1. 1. 1. 1.]\n",
      "\n",
      " [1 1 1 1 1 1 1 1 1 1]\n"
     ]
    }
   ],
   "source": [
    "import numpy as np\n",
    "# Make and print out simple NumPy arrays\n",
    "\n",
    "print(np.array([0, 1, 2, 3, 4, 5, 6, 7, 8, 9]))\n",
    "\n",
    "print(\"\\n\", np.empty(10))\n",
    "print(\"\\n\", np.zeros(10))\n",
    "print(\"\\n\", np.ones(10))\n",
    "print(\"\\n\", np.ones_like(np.arange(10)))"
   ]
  },
  {
   "cell_type": "markdown",
   "metadata": {},
   "source": [
    "-----\n",
    "\n",
    "We can also create NumPy arrays that have specific initialization patterns. For example, the `arange(start, end, step)` method works like the normal Python `range` method, creating an array whose elements begin with the `start` parameter. Subsequent elements are incremented successively by the `step` parameter, stopping when the `end` parameter would either be reached or surpassed. As was the case with the `range` method, the `start` and `step`  parameters are optional, defaulting to zero and one, respectively, and the `end` value is **not** included in the array.\n",
    "\n",
    "-----"
   ]
  },
  {
   "cell_type": "code",
   "execution_count": 2,
   "metadata": {},
   "outputs": [
    {
     "name": "stdout",
     "output_type": "stream",
     "text": [
      "[0 1 2 3 4 5 6 7 8 9]\n",
      "[3 5 7 9]\n"
     ]
    }
   ],
   "source": [
    "# Demonstrate the np.arange method\n",
    "\n",
    "print(np.arange(10))\n",
    "print(np.arange(3, 10, 2))"
   ]
  },
  {
   "cell_type": "markdown",
   "metadata": {},
   "source": [
    "-----\n",
    "\n",
    "<font color='red' size = '5'> Student Exercise </font>\n",
    "\n",
    "In the empty **code** cell below, create a one-dimensional NumPy array by using the `arange` function of the integers zero to ten, inclusive. Next, create an array of the same shape by using the `zero_like` function.\n",
    "\n",
    "-----"
   ]
  },
  {
   "cell_type": "code",
   "execution_count": null,
   "metadata": {},
   "outputs": [],
   "source": []
  },
  {
   "cell_type": "markdown",
   "metadata": {},
   "source": [
    "-----\n",
    "\n",
    "NumPy also provides a convenient method that assigns values to the elements that are evenly spaced. The method is the `linspace(start, end, num)` method, which creates `num` elements and assigns values that are linearly spaced between `start` and `end`. `num` has default value 50 which means if not provided, the function will create 50 data points evenly spaced between `start` and `end` inclusive.\n",
    "\n",
    "-----"
   ]
  },
  {
   "cell_type": "code",
   "execution_count": 3,
   "metadata": {},
   "outputs": [
    {
     "name": "stdout",
     "output_type": "stream",
     "text": [
      "Linear space bins [0, 10] = [ 0.          3.33333333  6.66666667 10.        ]\n",
      "\n",
      "Default linspace bins = 50\n",
      "\n"
     ]
    }
   ],
   "source": [
    "# Demonstrate linear array creation.\n",
    "\n",
    "print(f\"Linear space bins [0, 10] = {np.linspace(0, 10, 4)}\\n\")\n",
    "\n",
    "print(f\"Default linspace bins = {len(np.linspace(0,10))}\\n\")\n"
   ]
  },
  {
   "cell_type": "markdown",
   "metadata": {},
   "source": [
    "-----\n",
    "\n",
    "<font color='red' size = '5'> Student Exercise </font>\n",
    "\n",
    "In the empty **code** cell below, create a one-dimensional NumPy array by using the `linspace` function that contains twenty-five values between one and ten.\n",
    "\n",
    "-----"
   ]
  },
  {
   "cell_type": "code",
   "execution_count": null,
   "metadata": {},
   "outputs": [],
   "source": []
  },
  {
   "cell_type": "markdown",
   "metadata": {},
   "source": [
    "-----\n",
    "\n",
    "### Array Attributes\n",
    "\n",
    "Each NumPy array has several attributes that describe the general features of the array. These attributes include the following:\n",
    "\n",
    "- `ndim`: Number of dimensions of the array (previous examples were all unity)\n",
    "- `shape`: The dimensions of the array, so a matrix with `n` rows and `m` columns has `shape` equal to `(n, m)`\n",
    "- `size`: The total number of elements in the array. For a matrix with n rows and m columns, the `size` is equal to the product of $n \\times m$\n",
    "- `dtype`: The data type of each element in the array\n",
    "- `itemsize`: The size in bytes of each element in the array\n",
    "- `data`: The buffer that holds the array data\n",
    "\n",
    "-----"
   ]
  },
  {
   "cell_type": "markdown",
   "metadata": {},
   "source": [
    "### Array Data Types\n",
    "\n",
    "NumPy arrays are statically-typed, thus their [data type][1] is specified when they are created. The default data type is `float`, but the type can be specified in several ways. First, if you use an existing `list` (as we did in the previous code block) or `array` to initialize the new `array`, the data type of the previous data structure will be used. If a heterogeneous Python `list` is used, the greatest data type will be used in order, guaranteeing that all values will be safely contained in the new `array`. If using a NumPy function to create the new `array`, the data type can be specified explicitly by using the `dtype` argument, which can either be one of the predefined built-in data types or a user-defined custom data type.\n",
    "\n",
    "The full list of built-in data types can be obtained from the `np.sctypeDict.keys()` method, but for brevity, we list some of the more commonly used built-in data types below, along with their maximum size in bits, which constrains the maximum allowed value that may be stored in the new `array`:\n",
    "\n",
    "- Integer: `int8`, `int16`, `int32`, and `int64` \n",
    "- Unsigned Integer: `uint8`, `uint16`, `uint32`, and `uint64` \n",
    "- Floating Point: `float16`, `float32`, `float64`, and `float128` \n",
    "\n",
    "Other data types include complex numbers, byte arrays, character arrays, and date/time arrays. \n",
    "\n",
    "To check the type of an array, you can simply access the array's `dtype` attribute. A `ValueError` exception will be thrown if you try to assign an incompatible value to an element in an `array`. \n",
    "\n",
    "-----\n",
    "[1]: http://docs.scipy.org/doc/numpy/reference/arrays.dtypes.html"
   ]
  },
  {
   "cell_type": "code",
   "execution_count": 4,
   "metadata": {},
   "outputs": [
    {
     "data": {
      "text/plain": [
       "dtype('float64')"
      ]
     },
     "execution_count": 4,
     "metadata": {},
     "output_type": "execute_result"
    }
   ],
   "source": [
    "a = np.linspace(0, 10, 4)\n",
    "a.dtype"
   ]
  },
  {
   "cell_type": "markdown",
   "metadata": {},
   "source": [
    "-----\n",
    "\n",
    "As previously declared, trying to assign the wrong data type to a NumPy array will throw a `ValueException`, as shown in the following figure (note: you can repeat this on your own in a new code cell).\n",
    "\n",
    "![NumPy ValueException](images/numpy-except.png)\n",
    "\n",
    "\n",
    "-----"
   ]
  },
  {
   "cell_type": "markdown",
   "metadata": {},
   "source": [
    "-----\n",
    "\n",
    "<font color='red' size = '5'> Student Exercise </font>\n",
    "\n",
    "In the empty **code** cell below, create a one-dimensional NumPy array by using the `arange` function of the integers twenty to twenty-five, inclusive. When creating this array, specify that the array should be created using a datatype of `int64`. Checkout function docstring by `np.arrange?` if you don't know how to specify datatype. Print out the array's actual data type to verify you created the array correctly.\n",
    "\n",
    "-----"
   ]
  },
  {
   "cell_type": "code",
   "execution_count": null,
   "metadata": {},
   "outputs": [],
   "source": []
  },
  {
   "cell_type": "markdown",
   "metadata": {},
   "source": [
    "### Multidimensional Arrays\n",
    "\n",
    "NumPy supports multidimensional arrays, although for simplicity we will rarely discuss anything other than two- or three-dimensional arrays. We will defer a discussion of working with multi-dimensional arrays by using NumPy to a subsequent lesson in this course.\n"
   ]
  },
  {
   "cell_type": "markdown",
   "metadata": {},
   "source": [
    "---\n",
    "[[Back to TOC]](#Table-of-Contents)\n",
    "\n",
    "\n",
    "## Indexing Arrays\n",
    "\n",
    "NumPy supports many different ways to [access elements][1] in an array. Elements can be indexed or sliced in the same way a Python list or tuple can be indexed or sliced, as demonstrated in the following code cell.\n",
    "\n",
    "------\n",
    "[1]: http://docs.scipy.org/doc/numpy/user/basics.indexing.html"
   ]
  },
  {
   "cell_type": "code",
   "execution_count": 5,
   "metadata": {},
   "outputs": [
    {
     "name": "stdout",
     "output_type": "stream",
     "text": [
      "Original Array =  [0 1 2 3 4 5 6 7 8]\n",
      "\n",
      "New Array =  [ 0  3 -2  4 -4  5  6  7  8]\n"
     ]
    }
   ],
   "source": [
    "a = np.arange(9)\n",
    "print(\"Original Array = \", a)\n",
    "\n",
    "a[1] = 3\n",
    "a[3:5] = 4\n",
    "a[0:6:2] *= -1\n",
    "\n",
    "print(\"\\nNew Array = \", a)"
   ]
  },
  {
   "cell_type": "markdown",
   "metadata": {},
   "source": [
    "-----\n",
    "\n",
    "### Special Indexing\n",
    "\n",
    "NumPy also provides several other _special_ indexing techniques. The first such technique is the use of an [index array][1], where you use an array to specify the elements to be selected. The second technique is a [Boolean mask array][2]. In this case, the Boolean array is the same size as the primary NumPy array, and if the element in the mask array is `True`, the corresponding element in the primary array is selected, and vice-versa for a `False` mask array element. These two special indexing techniques are demonstrated in the following two code cells.\n",
    "\n",
    "-----\n",
    "[1]: http://docs.scipy.org/doc/numpy/user/basics.indexing.html#index-arrays\n",
    "[2]: http://docs.scipy.org/doc/numpy/user/basics.indexing.html#boolean-or-mask-index-arrays"
   ]
  },
  {
   "cell_type": "code",
   "execution_count": 6,
   "metadata": {},
   "outputs": [
    {
     "name": "stdout",
     "output_type": "stream",
     "text": [
      "\n",
      "Starting array:\n",
      " [0 1 2 3 4 5 6 7 8 9]\n",
      "\n",
      "Index Access:  [1 3 5 7]\n"
     ]
    }
   ],
   "source": [
    "# Demonstration of an index array\n",
    "\n",
    "a = np.arange(10)\n",
    "\n",
    "print(\"\\nStarting array:\\n\", a)\n",
    "print(\"\\nIndex Access: \", a[np.array([1, 3, 5, 7])])"
   ]
  },
  {
   "cell_type": "code",
   "execution_count": 7,
   "metadata": {},
   "outputs": [
    {
     "name": "stdout",
     "output_type": "stream",
     "text": [
      "Original Array: [0 1 2 3 4 5 6 7 8 9]\n",
      "\n",
      "Mask Array:  [False False False False False  True  True  True  True  True]\n",
      "\n",
      "New Array:  [ 0  1  2  3  4 -1 -1 -1 -1 -1]\n"
     ]
    }
   ],
   "source": [
    "# Demonstrate Boolean mask access\n",
    "\n",
    "# Simple case\n",
    "\n",
    "a = np.arange(10)\n",
    "print(\"Original Array:\", a)\n",
    "\n",
    "print(\"\\nMask Array: \", a > 4)\n",
    "\n",
    "# Now change the values by using the mask\n",
    "\n",
    "a[a > 4] = -1.0\n",
    "print(\"\\nNew Array: \", a)"
   ]
  },
  {
   "cell_type": "markdown",
   "metadata": {},
   "source": [
    "---\n",
    "[[Back to TOC]](#Table-of-Contents)\n",
    "\n",
    "\n",
    "## NumPy Basic Operations\n",
    "\n",
    "NumPy arrays naturally support basic mathematical operations, including addition, subtraction, multiplication, division, integer division, and remainder, allowing you to easily combine a scalar (a single number) with a vector (a one-dimensional array) or a matrix (a multi-dimensional array). In the next code block, we first create a one-dimensional array, and subsequently operate on this array to demonstrate how to combine a scalar with a vector.\n",
    "\n",
    "-----"
   ]
  },
  {
   "cell_type": "code",
   "execution_count": 8,
   "metadata": {},
   "outputs": [
    {
     "name": "stdout",
     "output_type": "stream",
     "text": [
      "[0 1 2 3 4 5 6 7 8 9]\n",
      "\n",
      " [0.33333333 1.         1.66666667 2.33333333 3.         3.66666667\n",
      " 4.33333333 5.         5.66666667 6.33333333]\n",
      "\n",
      " [0 1 0 1 0 1 0 1 0 1]\n",
      "\n",
      " [0 0 1 1 2 2 3 3 4 4]\n"
     ]
    }
   ],
   "source": [
    "# Create and use a vector\n",
    "a = np.arange(10)\n",
    "\n",
    "print(a)\n",
    "print(\"\\n\", (2.0 * a + 1)/3)\n",
    "#remainder of divide by 2\n",
    "print(\"\\n\", a%2)\n",
    "#integer division by 2\n",
    "print(\"\\n\", a//2)"
   ]
  },
  {
   "cell_type": "markdown",
   "metadata": {},
   "source": [
    "-----\n",
    "\n",
    "<font color='red' size = '5'> Student Exercise </font>\n",
    "\n",
    "In the empty **code** cell below, first create a one-dimensional NumPy array by using the `arange` function of the integers zero to ten, inclusive. Next, perform the following  basic math operations on this new array and display only the final result. First, add two to every element. Second, multiply the result by five. Finally, subtract seven. Next, create a second array of eleven, randomly selected integers between zero and ten, and multiply this new array by the original array, displaying the result.\n",
    "\n",
    "-----"
   ]
  },
  {
   "cell_type": "code",
   "execution_count": null,
   "metadata": {},
   "outputs": [],
   "source": []
  },
  {
   "cell_type": "markdown",
   "metadata": {},
   "source": [
    "-----\n",
    "\n",
    "### Summary Functions\n",
    "\n",
    "NumPy provides convenience functions that can quickly summarize the values of an array, which can be very useful for specific data processing tasks (note that we will cover descriptive statistics in a subsequent lesson). These functions include basic [statistical measures][1] (`mean`, `median`, `var`, `std`, `min`, and `max`), the total sum or product of all elements in the array (`sum`, `prod`), as well as running sums or products for all elements in the array (`cumsum`, `cumprod`). The last two functions actually produce arrays that are of the same size as the input array, where each element is replaced by the respective running sum/product up to and including the current element. Another function, `trace`, calculates the trace of an array, which simply sums up the diagonal elements in the multi-dimensional array.\n",
    "\n",
    "\n",
    "-----\n",
    "\n",
    "[1]: http://docs.scipy.org/doc/numpy/reference/routines.statistics.html"
   ]
  },
  {
   "cell_type": "code",
   "execution_count": 9,
   "metadata": {},
   "outputs": [
    {
     "name": "stdout",
     "output_type": "stream",
     "text": [
      "Mean value = 3.0\n",
      "Median value = 3.0\n",
      "Variance = 2.0\n",
      "Std. Deviation = 1.4142135623730951\n",
      "\n",
      "Minimum value = 1\n",
      "Maximum value = 5\n",
      "\n",
      "Sum of all values = 15\n",
      "Running cumulative sum of all values = [ 1  3  6 10 15]\n",
      "\n",
      "Product of all values = 120\n",
      "Running product of all values = [  1   2   6  24 120]\n",
      "\n"
     ]
    }
   ],
   "source": [
    "# Demonstrate data processing convenience functions\n",
    "\n",
    "# Make an array = [1, 2, 3, 4, 5]\n",
    "a = np.arange(1, 6)\n",
    "\n",
    "print(f\"Mean value = {np.mean(a)}\")\n",
    "print(f\"Median value = {np.median(a)}\")\n",
    "print(f\"Variance = {np.var(a)}\")\n",
    "print(f\"Std. Deviation = {np.std(a)}\\n\")\n",
    "\n",
    "print(f\"Minimum value = {np.min(a)}\")\n",
    "print(f\"Maximum value = {np.max(a)}\\n\")\n",
    "\n",
    "print(f\"Sum of all values = {np.sum(a)}\")\n",
    "print(f\"Running cumulative sum of all values = {np.cumsum(a)}\\n\")\n",
    "\n",
    "print(f\"Product of all values = {np.prod(a)}\")\n",
    "print(f\"Running product of all values = {np.cumprod(a)}\\n\")"
   ]
  },
  {
   "cell_type": "markdown",
   "metadata": {},
   "source": [
    "-----\n",
    "\n",
    "### Universal Functions\n",
    "\n",
    "NumPy also includes methods that are universal functions, or [__ufuncs__][1], that are vectorized and thus operate on each element in the array, without the need for a loop. You have already seen examples of some of these functions at the start of this notebook when we compared the speed and simplicity of NumPy versus normal Python for numerical operations. These functions almost all include an optional `out` parameter that allows a pre-defined NumPy array to be used to hold the results of the calculation, which can often speed up the processing by eliminating the need for the creation and destruction of temporary arrays. These functions will all still return the final array, even if the `out` parameter is used. \n",
    "\n",
    "NumPy includes over sixty _ufuncs_ that come in several different categories:\n",
    "\n",
    "- Math operations, which can be called explicitly or implicitly when the standard math operators are used on NumPy arrays. Example functions in this category include `add`, `divide`, `power`, `sqrt`, `log`, and `exp`.\n",
    "- Trigonometric functions, which assume angles measured in radians. Example functions include the `sin`, `cos`, `arctan`, `sinh`, and `deg2rad` functions.\n",
    "- Bit-twiddling functions, which manipulate integer arrays as if they are bit patterns. Example functions include the `bitwise_and`, `bitwise_or`, `invert`, and `right_shift`.\n",
    "- Comparison functions, which can be called explicitly or implicitly when using standard comparison operators that compare two arrays, element-by-element, returning a new array of the same dimension. Example functions include `greater`, `equal`, `logical_and`, and `maximum`.\n",
    "- Floating functions, which compute floating point tests or operations, element-by-element. Example functions include `isreal`, `isnan`, `signbit`, and `fmod`.\n",
    "\n",
    "Look at the official [NumPy _ufunc_][1] reference guide for more information on any of these functions, for example, the [isnan][2] function, since the user guide has a full breakdown of each function and sample code demonstrating how to use the function. \n",
    "\n",
    "In the following code blocks, we demonstrate several of these _ufuncs_.\n",
    "\n",
    "-----\n",
    "[1]: http://docs.scipy.org/doc/numpy/reference/ufuncs.html\n",
    "[2]: http://docs.scipy.org/doc/numpy/reference/generated/numpy.isnan.html#numpy.isnan"
   ]
  },
  {
   "cell_type": "code",
   "execution_count": 10,
   "metadata": {},
   "outputs": [
    {
     "name": "stdout",
     "output_type": "stream",
     "text": [
      "original array:\n",
      " [1 2 3 4 5 6 7 8 9]\n",
      "\n",
      "np.sin : \n",
      " [ 0.84147098  0.90929743  0.14112001 -0.7568025  -0.95892427 -0.2794155\n",
      "  0.6569866   0.98935825  0.41211849]\n",
      "\n",
      "np.log and np.abs : \n",
      " [-0.07496085 -0.04129404 -0.85041141 -0.12101744 -0.01821569 -0.55374951\n",
      " -0.18244349 -0.00464642 -0.38497791]\n",
      "\n",
      "np.mod : \n",
      " [1 0 1 0 1 0 1 0 1]\n",
      "\n",
      "np.logical_and : \n",
      " [ True False  True False  True False  True False  True]\n"
     ]
    }
   ],
   "source": [
    "b = np.arange(1, 10)\n",
    "\n",
    "print('original array:\\n', b)\n",
    "\n",
    "c = np.sin(b)\n",
    "\n",
    "print('\\nnp.sin : \\n', c)\n",
    "\n",
    "print('\\nnp.log and np.abs : \\n', np.log10(np.abs(c)))\n",
    "\n",
    "print('\\nnp.mod : \\n', np.mod(b, 2))\n",
    "\n",
    "print('\\nnp.logical_and : \\n', np.logical_and(np.mod(b, 2), True))\n",
    "\n"
   ]
  },
  {
   "cell_type": "code",
   "execution_count": 11,
   "metadata": {},
   "outputs": [
    {
     "name": "stdout",
     "output_type": "stream",
     "text": [
      "Greater Than or Equal Test: \n",
      " [False False False False False  True  True  True  True]\n"
     ]
    },
    {
     "data": {
      "text/plain": [
       "array([False, False, False, False, False,  True, False,  True, False])"
      ]
     },
     "execution_count": 11,
     "metadata": {},
     "output_type": "execute_result"
    }
   ],
   "source": [
    "# Demonstrate Boolean tests with operators\n",
    "\n",
    "d = np.arange(9)\n",
    "\n",
    "print(\"Greater Than or Equal Test: \\n\", d >= 5)\n",
    "\n",
    "# Now combine to form Boolean Matrix\n",
    "\n",
    "np.logical_and(d > 3, d % 2)"
   ]
  },
  {
   "cell_type": "markdown",
   "metadata": {},
   "source": [
    "-----\n",
    "\n",
    "<font color='red' size = '5'> Student Exercise </font>\n",
    "\n",
    "In the empty **code** cell below, first create a one-dimensional NumPy array of the even integers from 20 to 42, inclusive. Next, apply a ufunc to compute the fourth power of each element in this array. Divide each element in this array by 11, and print out the resulting elements, one element per line.\n",
    "\n",
    "-----"
   ]
  },
  {
   "cell_type": "code",
   "execution_count": null,
   "metadata": {},
   "outputs": [],
   "source": []
  },
  {
   "cell_type": "markdown",
   "metadata": {},
   "source": [
    "### Random Data\n",
    "\n",
    "NumPy has a rich support for [random number][1] generation, which can be used to create and populate an array of a given shape and size. NumPy provides support for sampling random values from over 30 different distributions including the  `normal`, `binomial`, and `poisson`. There are also special convenience functions to simplify the sampling of random data over the uniform or normal distributions. These techniques are demonstrated in the following code cell.\n",
    "\n",
    "\n",
    "-----\n",
    "[1]: http://docs.scipy.org/doc/numpy/reference/routines.random.html"
   ]
  },
  {
   "cell_type": "code",
   "execution_count": 12,
   "metadata": {
    "scrolled": true
   },
   "outputs": [
    {
     "name": "stdout",
     "output_type": "stream",
     "text": [
      "Uniform sampling, integers [0, 10): {np.random.randint(0, 10, 5)}\n",
      "Uniform sampling [0, 1): {np.random.rand(5)}\n",
      "Normal sampling (0, 1) : {np.random.randn(5)}\n"
     ]
    }
   ],
   "source": [
    "# Create arrays of random data from different distributions\n",
    "\n",
    "print(\"Uniform sampling, integers [0, 10): {np.random.randint(0, 10, 5)}\")\n",
    "print(\"Uniform sampling [0, 1): {np.random.rand(5)}\")\n",
    "print(\"Normal sampling (0, 1) : {np.random.randn(5)}\")"
   ]
  },
  {
   "cell_type": "markdown",
   "metadata": {},
   "source": [
    "If you execute the above code cell again, you will see different random data generated. It makes sense since our purpose is to generate **random** values. But sometimes we may want to produce the same **random** values. Numpy has a RandomState class for this purpose. You will need to pass a seed which can be any integer to initiate RandomState class. Then you can use the object of RandomState to generate **fixed random** values. This is demonstated in the following code cell."
   ]
  },
  {
   "cell_type": "code",
   "execution_count": 13,
   "metadata": {},
   "outputs": [
    {
     "name": "stdout",
     "output_type": "stream",
     "text": [
      "Fixed values, uniform sampling, integers [0, 10): [3 6 8 9 6]\n",
      "Fixed values, uniform sampling [0, 1): [0.78167951 0.57390838 0.44191368 0.18399514 0.09982012]\n",
      "Fixed values, Normal sampling (0, 1) : [ 0.56857098 -0.47818389  1.53194062 -0.44070334 -0.06272943]\n"
     ]
    }
   ],
   "source": [
    "#Generate fixed random values, use seed 23\n",
    "rs = np.random.RandomState(23)\n",
    "print(f\"Fixed values, uniform sampling, integers [0, 10): {rs.randint(0, 10, 5)}\")\n",
    "print(f\"Fixed values, uniform sampling [0, 1): {rs.rand(5)}\")\n",
    "print(f\"Fixed values, Normal sampling (0, 1) : {rs.randn(5)}\")"
   ]
  },
  {
   "cell_type": "markdown",
   "metadata": {},
   "source": [
    "-----\n",
    "\n",
    "<font color='red' size = '5'> Student Exercise </font>\n",
    "\n",
    "In the empty **code** cell below, create a one-dimensional NumPy array that contains 10 random integers drawn from a uniform distribution between 5 and 10. \n",
    "\n",
    "-----"
   ]
  },
  {
   "cell_type": "code",
   "execution_count": null,
   "metadata": {},
   "outputs": [],
   "source": []
  },
  {
   "cell_type": "markdown",
   "metadata": {},
   "source": [
    "-----\n",
    "\n",
    "## Ancillary Information\n",
    "\n",
    "The following links are to additional documentation that you might find helpful in learning this material. Reading these web-accessible documents is completely optional.\n",
    "\n",
    "1. [NumPy tutorial][1]\n",
    "2. [NumPy cheat sheet][2]\n",
    "3. [NumPy lecture notes][3]\n",
    "4. [NumPy notebook demo][4]\n",
    "3. The [NumPy chapter][pdc] from the book _Python Data Science Handbook_ by Jake VanderPlas\n",
    "\n",
    "-----\n",
    "\n",
    "[1]: http://docs.scipy.org/doc/numpy/user/index.html\n",
    "[2]: http://pages.physics.cornell.edu/~myers/teaching/ComputationalMethods/python/arrays.html\n",
    "[3]: http://www.scipy-lectures.org/intro/numpy/index.html\n",
    "[4]: http://nbviewer.ipython.org/github/jrjohansson/scientific-python-lectures/blob/master/Lecture-2-Numpy.ipynb\n",
    "[pdc]: http://nbviewer.jupyter.org/github/jakevdp/PythonDataScienceHandbook/blob/master/notebooks/02.00-Introduction-to-NumPy.ipynb"
   ]
  },
  {
   "cell_type": "markdown",
   "metadata": {
    "deletable": false,
    "editable": false
   },
   "source": [
    "**&copy; 2019: Gies College of Business at the University of Illinois.**\n",
    "\n",
    "This notebook is released under the [Creative Commons license CC BY-NC-SA 4.0][ll]. Any reproduction, adaptation, distribution, dissemination or making available of this notebook for commercial use is not allowed unless authorized in writing by the copyright holder.\n",
    "\n",
    "[ll]: https://creativecommons.org/licenses/by-nc-sa/4.0/legalcode"
   ]
  }
 ],
 "metadata": {
  "kernelspec": {
   "display_name": "Python 3",
   "language": "python",
   "name": "python3"
  },
  "language_info": {
   "codemirror_mode": {
    "name": "ipython",
    "version": 3
   },
   "file_extension": ".py",
   "mimetype": "text/x-python",
   "name": "python",
   "nbconvert_exporter": "python",
   "pygments_lexer": "ipython3",
   "version": "3.7.3"
  }
 },
 "nbformat": 4,
 "nbformat_minor": 4
}
