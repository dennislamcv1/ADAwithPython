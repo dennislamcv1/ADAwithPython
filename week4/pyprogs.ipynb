{
 "cells": [
  {
   "cell_type": "markdown",
   "metadata": {},
   "source": [
    "# Writing Python Programs\n",
    "\n",
    "-----"
   ]
  },
  {
   "cell_type": "markdown",
   "metadata": {},
   "source": [
    "In this notebook, we introduce two important python concepts: python modules and error and exception handling.\n",
    "\n",
    "## Table of Contents\n",
    "[Python Modules](#Python-Modules)  \n",
    "\n",
    "[Errors and Exceptions](#Errors-and-Exceptions)  \n"
   ]
  },
  {
   "cell_type": "markdown",
   "metadata": {},
   "source": [
    "-----\n",
    "[[Back to TOC]](#Table-of-Contents)\n",
    "\n",
    "## Python Modules\n",
    "\n",
    "As the Python language has become more popular, individuals and organizations have invested considerable time, energy, and effort in developing Python applications. One hallmark of good application design is _reusability_. After all, who wants to rewrite the same code multiple times to solve the same problem? Fortunately, the Python language supports encapsulating code into [modules](https://docs.python.org/3/tutorial/modules.html), which are essentially files containing Python definitions, for example, functions, classes, or variables. A _module_ can be imported into another Python file, allowing the definitions to be reused. \n",
    "\n",
    "When one or modules are more widely used, they can be bundled together into a Python package, which can provide enhanced functionality. To import a package (or module) into another Python program, you use the `import` statement, which has the following forms:\n",
    "\n",
    "1. `import numpy`\n",
    "2. `import numpy as np`\n",
    "3. `from numpy import arange`\n",
    "4. `from numpy import *`\n",
    "\n",
    "The first form brings the entire contents of the NumPy package into the current program but leaves all items in the NumPy namespace. Thus, to refer to a particular definition, like `arange` one must use the `numpy` prefix, as in `numpy.arange()`. The second form is similar to the first, but the prefix has been shortened to `np`. Thus, you refer to a definition, like `arange` by using `np.arange()`. The third form only imports the single, listed definition, which is also brought into the current namespace and thus does not require any prefix. The last form brings the entire contents of the NumPy package into the current file and namespace. As a result, the chances for name collisions increase, and thus the last form is strongly discouraged. \n",
    "\n",
    "Note that in this course we generally use the first form for system libraries, like `sys` (i.e., `import sys`), and the second form for third-party libraries, like `numpy` (i.e., `import numpy as np`). In general, the appropriate `import` format will be demonstrated in future lessons for each module when it is introduced.\n",
    "\n",
    "Many popular packages have been included with the standard Python distributions and are known collectively as the Python [standard library][psl]. This includes items like [`sys`][ps] for working with the computer system directly, [`math`][pm] to work with mathematical constants and functions, [`csv`][6] to work with comma-separated value files, and [`datetime`][dt] to manipulate dates and times. \n",
    "\n",
    "Other packages are available from third parties and can be very useful in specific circumstances. The following table lists some of the more popular Python packages that are relevant for this course: \n",
    "\n",
    "| name              | Description                              |\n",
    "| ----------------- | ---------------------------------------- |\n",
    "| [numpy][1]        | Fast numerical arrays and matrices       |\n",
    "| [scipy][2]        | Comprehensive set of scientific and engineering functions |\n",
    "| [matplotlib][3]   | Comprehensive plotting library           |\n",
    "| [seaborn][4]      | Better data plotting                     |\n",
    "| [pandas][5]       | Data structures and simplifies data analysis tasks |\n",
    "| [scikit_learn][8] | Provides machine learning tools          |\n",
    "\n",
    "In addition to these listed packages, many other packages exist. The official repository for public Python packages is PyPI, the [Python Package Index][pypi]. These libraries can generally be installed with [pip][pip], the Python package management tool, or with [conda][ac]; however, the details of doing this are beyond the scope of this course.\n",
    "\n",
    "-----\n",
    "[psl]: https://docs.python.org/3/library/index.html\n",
    "[1]: http://www.numpy.org\n",
    "[2]: http://www.scipy.org/scipylib/index.html\n",
    "[3]: http://matplotlib.org\n",
    "[4]: http://web.stanford.edu/~mwaskom/software/seaborn/index.html\n",
    "[5]: http://pandas.pydata.org\n",
    "[6]: https://docs.python.org/3/library/csv.html\n",
    "[8]: http://scikit-learn.org/stable/index.html\n",
    "[pypi]: https://pypi.python.org/pypi\n",
    "[pip]: https://python-packaging-user-guide.readthedocs.org/en/latest/current.html\n",
    "\n",
    "[ps]: https://docs.python.org/3/library/sys.html\n",
    "[dt]: https://docs.python.org/3/library/datetime.html\n",
    "[pm]: https://docs.python.org/3/library/math.html\n",
    "\n",
    "[ac]: https://conda.io/docs/"
   ]
  },
  {
   "cell_type": "markdown",
   "metadata": {},
   "source": [
    "### Working with Modules\n",
    "\n",
    "Working with modules is extremely easy in Python. First, we must import the module. As stated earlier, for modules in the [standard Python library](https://docs.python.org/3/tutorial/stdlib.html), the standard approach is to simply import the module:\n",
    "\n",
    "```python\n",
    "import sys\n",
    "import os\n",
    "import math\n",
    "import re\n",
    "```\n",
    "\n",
    "For non-standard library modules, including those we create, the standard practice is to provide a shorthand name for the module during the import:\n",
    "\n",
    "```python\n",
    "import my_module as mm\n",
    "import numpy as np\n",
    "```\n",
    "\n",
    "In the following Code cell, we demonstrate how to import the `sys` module, which enables a programmer to interact with the Python  interpreter. To demonstrate working with this module, we display the `version_info` for our Python interpreter. In the second Code cell, we demonstrate how to import the `collections` module. With this module we create and display a `Counter` data structure, which maintains the count for each item in the collection. In addition to viewing the online documentation for a module, you can also use the Python interpreter to learn about a module by using the built-in `help` function. You also can see a concise list of defined objects, such as variables and functions, for a module by using the built-in `dir` function.\n",
    "\n",
    "-----"
   ]
  },
  {
   "cell_type": "code",
   "execution_count": 1,
   "metadata": {},
   "outputs": [
    {
     "name": "stdout",
     "output_type": "stream",
     "text": [
      "sys.version_info(major=3, minor=7, micro=3, releaselevel='final', serial=0)\n"
     ]
    }
   ],
   "source": [
    "import sys\n",
    "\n",
    "print(sys.version_info)"
   ]
  },
  {
   "cell_type": "code",
   "execution_count": 2,
   "metadata": {
    "scrolled": true
   },
   "outputs": [
    {
     "name": "stdout",
     "output_type": "stream",
     "text": [
      "Counter({4: 4, 2: 3, 3: 3, 1: 2, 5: 2})\n"
     ]
    }
   ],
   "source": [
    "import collections\n",
    "\n",
    "my_list = [1, 2, 3, 4, 2, 3, 4, 5, 1, 4, 3, 2,4, 5]\n",
    "\n",
    "cnt = collections.Counter(my_list)\n",
    "print(cnt)"
   ]
  },
  {
   "cell_type": "markdown",
   "metadata": {},
   "source": [
    "### `dir()` and `help()`\n",
    "\n",
    "The two Python built in functions `dir()` and `help()` are very handy in helping us understand how a module or functions in a module work. First, let's use `help()` function to help us understand `dir()` function."
   ]
  },
  {
   "cell_type": "code",
   "execution_count": 3,
   "metadata": {
    "scrolled": true
   },
   "outputs": [
    {
     "name": "stdout",
     "output_type": "stream",
     "text": [
      "Help on built-in function dir in module builtins:\n",
      "\n",
      "dir(...)\n",
      "    dir([object]) -> list of strings\n",
      "    \n",
      "    If called without an argument, return the names in the current scope.\n",
      "    Else, return an alphabetized list of names comprising (some of) the attributes\n",
      "    of the given object, and of attributes reachable from it.\n",
      "    If the object supplies a method named __dir__, it will be used; otherwise\n",
      "    the default dir() logic is used and returns:\n",
      "      for a module object: the module's attributes.\n",
      "      for a class object:  its attributes, and recursively the attributes\n",
      "        of its bases.\n",
      "      for any other object: its attributes, its class's attributes, and\n",
      "        recursively the attributes of its class's base classes.\n",
      "\n"
     ]
    }
   ],
   "source": [
    "help(dir)"
   ]
  },
  {
   "cell_type": "markdown",
   "metadata": {},
   "source": [
    "We will demonstrate the two functions with `math` module. We will use `dir()` function to list all attributes and functions in the `math` module. We can ignore names start with `_` which are private to the module and not suppose to be used outside of the module. Once we know the attribute and function names, we can use `help()` function to check out the details of them. We will check out help document of `sqrt` as an example."
   ]
  },
  {
   "cell_type": "code",
   "execution_count": 4,
   "metadata": {
    "scrolled": true
   },
   "outputs": [
    {
     "data": {
      "text/plain": [
       "['__doc__',\n",
       " '__file__',\n",
       " '__loader__',\n",
       " '__name__',\n",
       " '__package__',\n",
       " '__spec__',\n",
       " 'acos',\n",
       " 'acosh',\n",
       " 'asin',\n",
       " 'asinh',\n",
       " 'atan',\n",
       " 'atan2',\n",
       " 'atanh',\n",
       " 'ceil',\n",
       " 'copysign',\n",
       " 'cos',\n",
       " 'cosh',\n",
       " 'degrees',\n",
       " 'e',\n",
       " 'erf',\n",
       " 'erfc',\n",
       " 'exp',\n",
       " 'expm1',\n",
       " 'fabs',\n",
       " 'factorial',\n",
       " 'floor',\n",
       " 'fmod',\n",
       " 'frexp',\n",
       " 'fsum',\n",
       " 'gamma',\n",
       " 'gcd',\n",
       " 'hypot',\n",
       " 'inf',\n",
       " 'isclose',\n",
       " 'isfinite',\n",
       " 'isinf',\n",
       " 'isnan',\n",
       " 'ldexp',\n",
       " 'lgamma',\n",
       " 'log',\n",
       " 'log10',\n",
       " 'log1p',\n",
       " 'log2',\n",
       " 'modf',\n",
       " 'nan',\n",
       " 'pi',\n",
       " 'pow',\n",
       " 'radians',\n",
       " 'remainder',\n",
       " 'sin',\n",
       " 'sinh',\n",
       " 'sqrt',\n",
       " 'tan',\n",
       " 'tanh',\n",
       " 'tau',\n",
       " 'trunc']"
      ]
     },
     "execution_count": 4,
     "metadata": {},
     "output_type": "execute_result"
    }
   ],
   "source": [
    "import math\n",
    "dir(math)"
   ]
  },
  {
   "cell_type": "code",
   "execution_count": 5,
   "metadata": {},
   "outputs": [
    {
     "name": "stdout",
     "output_type": "stream",
     "text": [
      "Help on built-in function sqrt in module math:\n",
      "\n",
      "sqrt(x, /)\n",
      "    Return the square root of x.\n",
      "\n"
     ]
    }
   ],
   "source": [
    "help(math.sqrt)"
   ]
  },
  {
   "cell_type": "markdown",
   "metadata": {},
   "source": [
    "From the help document we can see that `sqrt` is a function that takes one argument and returns square root of the argument.\n",
    "\n",
    "You can apply `dir()` on a data type, class or an object. For example, if you want to know functions of a string, you can execute `dir(str)` or simply pass a string object to `dir()`, for example, `dir(\"a\")`. `help()` also works this way. If you want to see how string function `upper()` works, you may execute `help(str.upper)` or `help('a'.upper)`."
   ]
  },
  {
   "cell_type": "code",
   "execution_count": 6,
   "metadata": {
    "scrolled": true
   },
   "outputs": [
    {
     "data": {
      "text/plain": [
       "['__add__',\n",
       " '__class__',\n",
       " '__contains__',\n",
       " '__delattr__',\n",
       " '__dir__',\n",
       " '__doc__',\n",
       " '__eq__',\n",
       " '__format__',\n",
       " '__ge__',\n",
       " '__getattribute__',\n",
       " '__getitem__',\n",
       " '__getnewargs__',\n",
       " '__gt__',\n",
       " '__hash__',\n",
       " '__init__',\n",
       " '__init_subclass__',\n",
       " '__iter__',\n",
       " '__le__',\n",
       " '__len__',\n",
       " '__lt__',\n",
       " '__mod__',\n",
       " '__mul__',\n",
       " '__ne__',\n",
       " '__new__',\n",
       " '__reduce__',\n",
       " '__reduce_ex__',\n",
       " '__repr__',\n",
       " '__rmod__',\n",
       " '__rmul__',\n",
       " '__setattr__',\n",
       " '__sizeof__',\n",
       " '__str__',\n",
       " '__subclasshook__',\n",
       " 'capitalize',\n",
       " 'casefold',\n",
       " 'center',\n",
       " 'count',\n",
       " 'encode',\n",
       " 'endswith',\n",
       " 'expandtabs',\n",
       " 'find',\n",
       " 'format',\n",
       " 'format_map',\n",
       " 'index',\n",
       " 'isalnum',\n",
       " 'isalpha',\n",
       " 'isascii',\n",
       " 'isdecimal',\n",
       " 'isdigit',\n",
       " 'isidentifier',\n",
       " 'islower',\n",
       " 'isnumeric',\n",
       " 'isprintable',\n",
       " 'isspace',\n",
       " 'istitle',\n",
       " 'isupper',\n",
       " 'join',\n",
       " 'ljust',\n",
       " 'lower',\n",
       " 'lstrip',\n",
       " 'maketrans',\n",
       " 'partition',\n",
       " 'replace',\n",
       " 'rfind',\n",
       " 'rindex',\n",
       " 'rjust',\n",
       " 'rpartition',\n",
       " 'rsplit',\n",
       " 'rstrip',\n",
       " 'split',\n",
       " 'splitlines',\n",
       " 'startswith',\n",
       " 'strip',\n",
       " 'swapcase',\n",
       " 'title',\n",
       " 'translate',\n",
       " 'upper',\n",
       " 'zfill']"
      ]
     },
     "execution_count": 6,
     "metadata": {},
     "output_type": "execute_result"
    }
   ],
   "source": [
    "#view attributes and functions of string\n",
    "dir(\"a\")"
   ]
  },
  {
   "cell_type": "code",
   "execution_count": 7,
   "metadata": {},
   "outputs": [
    {
     "name": "stdout",
     "output_type": "stream",
     "text": [
      "Help on built-in function upper:\n",
      "\n",
      "upper() method of builtins.str instance\n",
      "    Return a copy of the string converted to uppercase.\n",
      "\n"
     ]
    }
   ],
   "source": [
    "#check out help document of string function upper()\n",
    "help('a'.upper)"
   ]
  },
  {
   "cell_type": "markdown",
   "metadata": {},
   "source": [
    "-----\n",
    "\n",
    "<font color='red' size = '5'> Student Exercise </font>\n",
    "\n",
    "In the following Code cell, use `help` and `dir` to explore Python module `sys`. How does the output compare to the [official online documentation](https://docs.python.org/3/library/sys.html)?\n",
    "\n",
    "-----"
   ]
  },
  {
   "cell_type": "code",
   "execution_count": null,
   "metadata": {},
   "outputs": [],
   "source": []
  },
  {
   "cell_type": "markdown",
   "metadata": {},
   "source": [
    "-----\n",
    "[[Back to TOC]](#Table-of-Contents)\n",
    "\n",
    "\n",
    "## Errors and Exceptions\n",
    "\n",
    "There are two types errors in python: syntax errors and exceptions.\n",
    "\n",
    "### Syntax Errors\n",
    "Syntax errors, also known as parsing errors, are perhaps the most common kind of complaint you get while you are still learning Python:\n",
    "\n",
    "<img src='images/syntax_error.png' />\n",
    "\n",
    "The parser repeats the offending line and displays a little ‘arrow’ pointing at the earliest point in the line where the error was detected. The error is caused by (or at least detected at) the token preceding the arrow: in the example, the error is detected at the end of for loop, since a colon (':') is missing. File name and line number are printed so you know where to look in case the input came from a script. Syntax errors must be fixed or the python code won't be executed.\n",
    "\n",
    "### Exceptions\n",
    "\n",
    "A well written program(without syntax errors) can still have errors. Errors detected at run time is called exceptions. Or data that is being analyzed can have errors. You may have encountered error messages when working with a Jupyter notebook, such as the error shown in the following screenshot:\n",
    "\n",
    "![value_error](images/value_error.png)\n",
    "\n",
    "Above code tries to add up list of sales to get total sales. Since the sales figures are in string format, it's converted to float first with `float(s)` which can't handle `$99` because of the `$`. Thus a specific `ValueError` was thrown. The **Traceback** also indicates the line that caused the exception to be thrown. Often this enables the error condition to be identified and corrected. In this case it is the string `$99` that caused the error. We may first strip the `$` from `s` before converting to float: `total_sales += float(s.replace('$', ''))`\n",
    "\n",
    "-----"
   ]
  },
  {
   "cell_type": "markdown",
   "metadata": {},
   "source": [
    "### Handling Exceptions\n",
    "\n",
    "Unhandled exceptions will terminate python code unexpectedly. It is possible to write programs that handle selected exceptions. Python provides several statements that enable a programmer to gracefully handle exceptions as they arise. Formally, we use a try statement to identify a code block that might throw an exception. Following this code block, we have one or more except statements that catch an exception and either try to fix the problem or log the error so that the problem can be corrected at a later time.\n",
    "Thus, this exception handling mechanism is coded in the following manner:\n",
    "```\n",
    "try:\n",
    "    # Do something that might cause exceptions\n",
    "except ExceptionName:\n",
    "    # Do something to recover or log the problem when ExceptionName occurs\n",
    "```\n",
    "In the following Code cell, we use this exception handling mechanism to handle division by zero error. Now, however, we catch the ZeroDivisionError exception and set our answer to None since no valid value could be determined, and print a descriptive message (in a production system we would write a similar message to a log file)."
   ]
  },
  {
   "cell_type": "code",
   "execution_count": 8,
   "metadata": {},
   "outputs": [
    {
     "name": "stdout",
     "output_type": "stream",
     "text": [
      "You tried to divide by zero!\n",
      "My Answer = None\n"
     ]
    }
   ],
   "source": [
    "# Simple program to demonstrate exception handling\n",
    "\n",
    "numerator = 1.0\n",
    "denominator = 0.0\n",
    "\n",
    "try:\n",
    "    answer = numerator / denominator    \n",
    "except ZeroDivisionError:\n",
    "    answer = None\n",
    "    print('You tried to divide by zero!')\n",
    "\n",
    "print(f'My Answer = {answer}')"
   ]
  },
  {
   "cell_type": "markdown",
   "metadata": {},
   "source": [
    "-----\n",
    "\n",
    "This simple example demonstrated the basic approach to handling exceptions. However, in general, we won't intentionally cause an exception to occur. Thus, we must be more defensive when writing code and place critical code inside a `try` code block, followed by any relevant exceptions handling blocks. In this case, the first matching exception code block is used to handle the appropriate exception.\n",
    "\n",
    "The Python language also provides two optional statements for use in exception handling: the `else` statement and the `finally` statement. The `else` statement is executed if no exception handling code blocks are executed. The `finally` statement, on the other hand, is executed whether an exception was handled or not, and is generally used to perform any action that is required whether an exception occurred or not, such as closing a file.\n",
    "\n",
    "-----"
   ]
  },
  {
   "cell_type": "markdown",
   "metadata": {},
   "source": [
    "### Exception Handling Case Study\n",
    "\n",
    "Datetime is one of the most common feature in business related dataset. Datetime is normally stored as strings with different format, ie. `Mar 31, 2019`, `2019-03-31 13:00:00`, `31.03.2019`. We usually need to convert datetime strings to python `datetime` object. Python `datetime` class has a function [`strptime`](https://docs.python.org/2/library/datetime.html#strftime-and-strptime-behavior) specifically for this task.\n",
    "Following code will convert `2019-03-31 13:00:00` to datetime object. Note that `datetime` module has many classes, of which we will use `datetime` class. That's why we import the `datetime` class with `from datetime import datetime`. It's an coincidence that the class name is same as module name. There're other useful date time related classes in the module, ie. `timedelta`"
   ]
  },
  {
   "cell_type": "code",
   "execution_count": 9,
   "metadata": {},
   "outputs": [
    {
     "data": {
      "text/plain": [
       "datetime.datetime(2019, 3, 31, 13, 0)"
      ]
     },
     "execution_count": 9,
     "metadata": {},
     "output_type": "execute_result"
    }
   ],
   "source": [
    "from datetime import datetime\n",
    "dt_str = '2019-03-31 13:00:00'\n",
    "dt = datetime.strptime(dt_str, '%Y-%m-%d %H:%M:%S')\n",
    "dt"
   ]
  },
  {
   "cell_type": "markdown",
   "metadata": {},
   "source": [
    "In above code, `%Y-%m-%d %H:%M:%S` defines the format of the datetime string:\n",
    "- %Y: Year with century or 4 digit year\n",
    "- %m: Month\n",
    "- %d: Day of the month\n",
    "- %H: Hour in 24-hour clock\n",
    "- %M: Minute\n",
    "- %S: Second\n",
    "\n",
    "Please refer to python [datetime](https://docs.python.org/2/library/datetime.html#strftime-and-strptime-behavior) document for complete list of date time format.\n",
    "\n",
    "If the datetime string doesn't match to the format string, an exception ValueError will be raised as show below:\n",
    "\n",
    "![dt_value_error](images/datetime_value_error.png)"
   ]
  },
  {
   "cell_type": "markdown",
   "metadata": {},
   "source": [
    "In the following code cell we'll create a function that can convert datetime string with different format to datetime object, with help of python exception handling."
   ]
  },
  {
   "cell_type": "code",
   "execution_count": 10,
   "metadata": {},
   "outputs": [],
   "source": [
    "def get_datetime(dt_str):\n",
    "    '''\n",
    "    Convert dt_str to datetime object\n",
    "    Return: datetime object\n",
    "    '''\n",
    "    try:\n",
    "        #'2019-03-31 13:00:00'\n",
    "        return datetime.strptime(dt_str, '%Y-%m-%d %H:%M:%S')\n",
    "    except:\n",
    "        pass\n",
    "    try:\n",
    "        #'03/31/2019'\n",
    "        return datetime.strptime(dt_str, '%m/%d/%Y')\n",
    "    except:\n",
    "        pass\n",
    "    try:\n",
    "        #'Mar 31, 2019'\n",
    "        return datetime.strptime(dt_str, '%b %d, %Y')\n",
    "    except:\n",
    "        pass\n",
    "    try:\n",
    "        #'31.03.2019'\n",
    "        return datetime.strptime(dt_str, '%d.%m.%Y')\n",
    "    except:\n",
    "        pass\n",
    "\n",
    "    print (\"Can't convert\", dt_str)\n",
    "    return None"
   ]
  },
  {
   "cell_type": "code",
   "execution_count": 11,
   "metadata": {},
   "outputs": [
    {
     "data": {
      "text/plain": [
       "datetime.datetime(2019, 3, 31, 13, 0)"
      ]
     },
     "execution_count": 11,
     "metadata": {},
     "output_type": "execute_result"
    }
   ],
   "source": [
    "get_datetime('2019-03-31 13:00:00')"
   ]
  },
  {
   "cell_type": "code",
   "execution_count": 12,
   "metadata": {},
   "outputs": [
    {
     "data": {
      "text/plain": [
       "datetime.datetime(2019, 3, 31, 0, 0)"
      ]
     },
     "execution_count": 12,
     "metadata": {},
     "output_type": "execute_result"
    }
   ],
   "source": [
    "get_datetime('03/31/2019')"
   ]
  },
  {
   "cell_type": "code",
   "execution_count": 13,
   "metadata": {},
   "outputs": [
    {
     "data": {
      "text/plain": [
       "datetime.datetime(2019, 3, 31, 0, 0)"
      ]
     },
     "execution_count": 13,
     "metadata": {},
     "output_type": "execute_result"
    }
   ],
   "source": [
    "get_datetime('Mar 31, 2019')"
   ]
  },
  {
   "cell_type": "code",
   "execution_count": 14,
   "metadata": {},
   "outputs": [
    {
     "data": {
      "text/plain": [
       "datetime.datetime(2019, 3, 31, 0, 0)"
      ]
     },
     "execution_count": 14,
     "metadata": {},
     "output_type": "execute_result"
    }
   ],
   "source": [
    "get_datetime('31.03.2019')"
   ]
  },
  {
   "cell_type": "code",
   "execution_count": 15,
   "metadata": {},
   "outputs": [
    {
     "name": "stdout",
     "output_type": "stream",
     "text": [
      "Can't convert 31-03-2019\n"
     ]
    }
   ],
   "source": [
    "get_datetime('31-03-2019')"
   ]
  },
  {
   "cell_type": "markdown",
   "metadata": {},
   "source": [
    "In above example, `get_datetime(dt_str)` function will take one argument, dt_str, which is a datetime string, and convert it to python datetime object. Each try-except block deals with one kind of datetime format. `except` clause without exception name will catch all exceptions. In this function, the exception handling code is simply `pass` which means do nothing, just go to next line. We are able to handle 4 different datetime format. If a datetime string is in the 4 formats included in this function, a corresponding datetime object will be returned. Otherwise, a message will be printed and the function will return None."
   ]
  },
  {
   "cell_type": "markdown",
   "metadata": {},
   "source": [
    "-----\n",
    "\n",
    "<font color='red' size = '5'> Student Exercise </font>\n",
    "\n",
    "Improve above function `get_datetime(dt_str)` so that it can also handle date string `'31-03-2019'`.\n",
    "\n",
    "-----"
   ]
  },
  {
   "cell_type": "markdown",
   "metadata": {},
   "source": [
    "-----\n",
    "\n",
    "## Ancillary Information\n",
    "\n",
    "The following links are to additional documentation that you might find helpful in learning this material. Reading these web-accessible documents is completely optional.\n",
    "\n",
    "1. Python3 tutorial section on [modules](https://docs.python.org/3/tutorial/modules.html)\n",
    "\n",
    "2. The RealPython site has a nice tutorial on [modules](https://realpython.com/python-modules-packages/#reloading-a-module)\n",
    "\n",
    "3. Python3 Tutorial section on [errors](https://docs.python.org/3/tutorial/errors.html)\n",
    "\n",
    "5. The book _Dive into Python_ provides a detailed on [writing a Python program](http://www.diveintopython3.net/your-first-python-program.html)\n",
    "\n",
    "6. The book, A Byte of Python, has a section on [exceptions](https://python.swaroopch.com/exceptions.html)\n",
    "\n",
    "-----"
   ]
  },
  {
   "cell_type": "markdown",
   "metadata": {
    "deletable": false,
    "editable": false
   },
   "source": [
    "**&copy; 2019: Gies College of Business at the University of Illinois.**\n",
    "\n",
    "This notebook is released under the [Creative Commons license CC BY-NC-SA 4.0][ll]. Any reproduction, adaptation, distribution, dissemination or making available of this notebook for commercial use is not allowed unless authorized in writing by the copyright holder.\n",
    "\n",
    "[ll]: https://creativecommons.org/licenses/by-nc-sa/4.0/legalcode"
   ]
  }
 ],
 "metadata": {
  "kernelspec": {
   "display_name": "Python 3",
   "language": "python",
   "name": "python3"
  },
  "language_info": {
   "codemirror_mode": {
    "name": "ipython",
    "version": 3
   },
   "file_extension": ".py",
   "mimetype": "text/x-python",
   "name": "python",
   "nbconvert_exporter": "python",
   "pygments_lexer": "ipython3",
   "version": "3.7.3"
  }
 },
 "nbformat": 4,
 "nbformat_minor": 1
}
