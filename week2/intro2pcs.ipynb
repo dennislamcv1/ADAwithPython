{
 "cells": [
  {
   "cell_type": "markdown",
   "metadata": {},
   "source": [
    "# Python Conditional Statements\n",
    "\n",
    "-----"
   ]
  },
  {
   "cell_type": "markdown",
   "metadata": {},
   "source": [
    "In a previous notebook, we covered the basic Python concepts required to begin writing legal Python code. In this notebook, we will introduce conditional statements, which enable a program to perform different operations based on the value of a specific condition. The condition must evaluate to a Boolean value and can involve multiple comparison tests and logical operators.  \n",
    "\n",
    "## Table of Contents\n",
    "[Python Comparison Operators](#Python-Comparison-Operators)  \n",
    "\n",
    "[Python Logical Operators](#Python-Logical-Operators)  \n",
    "\n",
    "[Conditional Statements](#Conditional-Statements)  "
   ]
  },
  {
   "cell_type": "markdown",
   "metadata": {},
   "source": [
    "-----\n",
    "[[Back to TOC]](#Table-of-Contents)\n",
    "\n",
    "## Python Comparison Operators\n",
    "\n",
    "Python supports the [basic comparison operators][1]. The following list presents the basic mathematical operators:\n",
    "\n",
    "| Operator  | Description             | Example                    |\n",
    "| --------- | ----------------------- | -------------------------- |\n",
    "| `==` | Equivalence operator | `a == b` |\n",
    "| `!=` | Not equivalence operator | `a != b` |\n",
    "| `<>` | Not equivalence operator | `a <> b` |\n",
    "| `>` | Greater than operator | `a > b` |\n",
    "| `>` | Greater than or equal to operator | `a >= b` |\n",
    "| `<` | Less than operator | `a < b` |\n",
    "| `<=` | Less than or equal to operator | `a < b` |\n",
    "\n",
    "Typically, the data type of the values on either side of a comparison operator should be identical. If they are different, for example, different numerical types, the Python interpreter will attempt to coerce them to be of the same type. If that isn't possible, the objects being compared will never be equivalent (since they are of different, incompatible types). These operators are demonstrated in the following Code cells. \n",
    "\n",
    "-----\n",
    "\n",
    "[1]: https://docs.python.org/3.6/library/stdtypes.html?highlight=comparison%20operator#comparisons"
   ]
  },
  {
   "cell_type": "code",
   "execution_count": 1,
   "metadata": {},
   "outputs": [],
   "source": [
    "# Define several variables to demonstrate \n",
    "# comparison (Boolean) operators\n",
    "a = 5\n",
    "b = 6"
   ]
  },
  {
   "cell_type": "code",
   "execution_count": 2,
   "metadata": {},
   "outputs": [
    {
     "data": {
      "text/plain": [
       "False"
      ]
     },
     "execution_count": 2,
     "metadata": {},
     "output_type": "execute_result"
    }
   ],
   "source": [
    "# Equivalence operator\n",
    "a == b"
   ]
  },
  {
   "cell_type": "code",
   "execution_count": 3,
   "metadata": {},
   "outputs": [
    {
     "data": {
      "text/plain": [
       "True"
      ]
     },
     "execution_count": 3,
     "metadata": {},
     "output_type": "execute_result"
    }
   ],
   "source": [
    "# Not equivalence operator\n",
    "a != b"
   ]
  },
  {
   "cell_type": "code",
   "execution_count": 4,
   "metadata": {},
   "outputs": [
    {
     "data": {
      "text/plain": [
       "False"
      ]
     },
     "execution_count": 4,
     "metadata": {},
     "output_type": "execute_result"
    }
   ],
   "source": [
    "# Greater than operator\n",
    "a > b"
   ]
  },
  {
   "cell_type": "code",
   "execution_count": 5,
   "metadata": {},
   "outputs": [
    {
     "data": {
      "text/plain": [
       "True"
      ]
     },
     "execution_count": 5,
     "metadata": {},
     "output_type": "execute_result"
    }
   ],
   "source": [
    "# Less than operator\n",
    "a < b"
   ]
  },
  {
   "cell_type": "code",
   "execution_count": 6,
   "metadata": {},
   "outputs": [
    {
     "data": {
      "text/plain": [
       "True"
      ]
     },
     "execution_count": 6,
     "metadata": {},
     "output_type": "execute_result"
    }
   ],
   "source": [
    "# Compare different, numerical data types\n",
    "a == 5.0"
   ]
  },
  {
   "cell_type": "code",
   "execution_count": 7,
   "metadata": {},
   "outputs": [
    {
     "data": {
      "text/plain": [
       "False"
      ]
     },
     "execution_count": 7,
     "metadata": {},
     "output_type": "execute_result"
    }
   ],
   "source": [
    "# Compare different data types\n",
    "a == 'Five'"
   ]
  },
  {
   "cell_type": "markdown",
   "metadata": {},
   "source": [
    "-----\n",
    "\n",
    "<font color='red' size = '5'> Student Exercise </font>\n",
    "\n",
    "In the empty **Code** cell below, create two variables, `x` and `y`, assign the following values to these two variables, and test out the conditional operators `==`, `!=`, `>`, and `<`:\n",
    "\n",
    "1. 0, -1\n",
    "2. 1, 1.0\n",
    "3. 9, 3**2\n",
    "\n",
    "Did the results match your expectations?\n",
    "\n",
    "-----"
   ]
  },
  {
   "cell_type": "code",
   "execution_count": null,
   "metadata": {},
   "outputs": [],
   "source": []
  },
  {
   "cell_type": "markdown",
   "metadata": {},
   "source": [
    "-----\n",
    "[[Back to TOC]](#Table-of-Contents)\n",
    "\n",
    "\n",
    "## Python Logical Operators\n",
    "\n",
    "In order to build more complex conditional statements, Python provides [three logical operators][1] that allow multiple comparisons to be combined. These three operators are described in the following table:\n",
    "\n",
    "\n",
    "| Operator  | Description             | Example                    |\n",
    "| --------- | ----------------------- | -------------------------- |\n",
    "| or   | **or** operator, `True` if either condition is true       | `a or b`|\n",
    "| and  | **and** operator, `True` only if both conditions are true       | `a and b`|\n",
    "| not  | **not** operator, opposite of condition       | `not a`|\n",
    "\n",
    "These operators are fairly self-explanatory, but one important issue is that the Python operator will stop evaluating a conditional statement as quickly as possible. Thus, if the first part of an `and` operation is `False` (or, conversely `True` for an `or` operation), the remaining part of the statement will not be processed since the overall result will be `False`. This approach is known as _short-circuiting_ and can produce faster code execution.\n",
    "\n",
    "These operators are demonstrated in the following Code cells, where we first define several Boolean variables before showing how to use each operator. In general, it is recommended to use parentheses to explicitly indicate operator order. Otherwise, one must be very careful to understand and follow the rules of operator precedence.\n",
    "\n",
    "-----\n",
    "[1]: https://docs.python.org/3.6/library/stdtypes.html#boolean-operations-and-or-not"
   ]
  },
  {
   "cell_type": "code",
   "execution_count": 8,
   "metadata": {},
   "outputs": [
    {
     "name": "stdout",
     "output_type": "stream",
     "text": [
      "False True\n"
     ]
    }
   ],
   "source": [
    "c = (a == b)\n",
    "d = (a != b)\n",
    "\n",
    "print(c, d)"
   ]
  },
  {
   "cell_type": "code",
   "execution_count": 9,
   "metadata": {},
   "outputs": [
    {
     "data": {
      "text/plain": [
       "True"
      ]
     },
     "execution_count": 9,
     "metadata": {},
     "output_type": "execute_result"
    }
   ],
   "source": [
    "# Or operator\n",
    "c or d"
   ]
  },
  {
   "cell_type": "code",
   "execution_count": 10,
   "metadata": {},
   "outputs": [
    {
     "data": {
      "text/plain": [
       "False"
      ]
     },
     "execution_count": 10,
     "metadata": {},
     "output_type": "execute_result"
    }
   ],
   "source": [
    "# And operator\n",
    "\n",
    "c and d"
   ]
  },
  {
   "cell_type": "code",
   "execution_count": 11,
   "metadata": {},
   "outputs": [
    {
     "data": {
      "text/plain": [
       "True"
      ]
     },
     "execution_count": 11,
     "metadata": {},
     "output_type": "execute_result"
    }
   ],
   "source": [
    "# Not operator\n",
    "\n",
    "not c"
   ]
  },
  {
   "cell_type": "code",
   "execution_count": 12,
   "metadata": {},
   "outputs": [
    {
     "data": {
      "text/plain": [
       "False"
      ]
     },
     "execution_count": 12,
     "metadata": {},
     "output_type": "execute_result"
    }
   ],
   "source": [
    "# Demonstrate short-circuiting\n",
    "\n",
    "# Define function to print message and return Boolean\n",
    "def test():\n",
    "    print('Hello')\n",
    "    return True\n",
    "\n",
    "# Function is never called since c is False\n",
    "c and test()"
   ]
  },
  {
   "cell_type": "markdown",
   "metadata": {},
   "source": [
    "-----\n",
    "\n",
    "<font color='red' size = '5'> Student Exercise </font>\n",
    "\n",
    "In the empty **Code** cell below, create a new function called `my_function` that takes no arguments and always returns `True`. Apply the `not` operator to the return value from this function and use the equivalence operator to compare this new value to `False`. Did the final result match your expectations?\n",
    "\n",
    "Note that you may want to use parentheses to group operations.\n",
    "\n",
    "-----"
   ]
  },
  {
   "cell_type": "code",
   "execution_count": null,
   "metadata": {},
   "outputs": [],
   "source": []
  },
  {
   "cell_type": "markdown",
   "metadata": {},
   "source": [
    "-----\n",
    "\n",
    "These operators can be used on any data types, not just integers. When comparing a more complex data type, for example, a string of characters, the equivalence tests require matching of each item in the string. This is demonstrated in the following Code cell.\n",
    "\n",
    "-----"
   ]
  },
  {
   "cell_type": "code",
   "execution_count": 13,
   "metadata": {},
   "outputs": [
    {
     "data": {
      "text/plain": [
       "False"
      ]
     },
     "execution_count": 13,
     "metadata": {},
     "output_type": "execute_result"
    }
   ],
   "source": [
    "\"Robert\" == \"robert\""
   ]
  },
  {
   "cell_type": "markdown",
   "metadata": {},
   "source": [
    "-----\n",
    "[[Back to TOC]](#Table-of-Contents)\n",
    "\n",
    "\n",
    "## Conditional Statements\n",
    "\n",
    "Python supports conditional execution of code blocks by using `if` conditional branching statements. Formally, the syntax for an `if` statement is simple. \n",
    "\n",
    "```python\n",
    "if (condition):\n",
    "    # Do something\n",
    "```\n",
    "\n",
    "If the condition evaluates to `True`, the indented statements are executed; otherwise, they are not executed, and the program execution continues with the lines following the if clause. The condition can be any combination of variables, functions, comparison, or logical operators as long as the final result evaluates to either `True` or `False`. The following Code cell demonstrates the basic operation of an `if` statement.\n",
    "\n",
    "-----"
   ]
  },
  {
   "cell_type": "code",
   "execution_count": 1,
   "metadata": {},
   "outputs": [
    {
     "data": {
      "text/plain": [
       "False"
      ]
     },
     "execution_count": 1,
     "metadata": {},
     "output_type": "execute_result"
    }
   ],
   "source": [
    "a,b=5,7\n",
    "a>0 and b<0"
   ]
  },
  {
   "cell_type": "code",
   "execution_count": 14,
   "metadata": {
    "scrolled": true
   },
   "outputs": [
    {
     "name": "stdout",
     "output_type": "stream",
     "text": [
      "Before the if statement.\n",
      "Inside the if statement.\n",
      "After the if statement.\n"
     ]
    }
   ],
   "source": [
    "# Test out an if ... else statement\n",
    "\n",
    "# First define a variablea for condition\n",
    "a = 10\n",
    "print('Before the if statement.')\n",
    "\n",
    "if (a > 0):\n",
    "    print('Inside the if statement.')\n",
    "\n",
    "print('After the if statement.')"
   ]
  },
  {
   "cell_type": "markdown",
   "metadata": {},
   "source": [
    "-----\n",
    "\n",
    "An `if` statement can also execute statements if the condition is `False` by using an `else` clause as shown in the following pseudocode:\n",
    "\n",
    "\n",
    "```python\n",
    "if (condition):\n",
    "    # Do something\n",
    "else:\n",
    "    # Do something else        \n",
    "```\n",
    "\n",
    "In this case, either the first set of statements (indicted by the `# Do something` comment) is executed, or the second set of statements (indicted by the `# Do something else` comment) is executed, depending on whether the condition evaluates to `True` (the first set of statements) or `False` (the second set of statements). This is demonstrated in the following Code cell.\n",
    "\n",
    "-----"
   ]
  },
  {
   "cell_type": "code",
   "execution_count": 15,
   "metadata": {},
   "outputs": [
    {
     "name": "stdout",
     "output_type": "stream",
     "text": [
      "Before the if statement.\n",
      "Inside the false section.\n",
      "After the if statement.\n"
     ]
    }
   ],
   "source": [
    "# Test out an if ... else statement\n",
    "\n",
    "print('Before the if statement.')\n",
    "\n",
    "if (a < 0):\n",
    "    print('Inside the true section.')\n",
    "else:\n",
    "    print('Inside the false section.')\n",
    "\n",
    "print('After the if statement.')"
   ]
  },
  {
   "cell_type": "markdown",
   "metadata": {},
   "source": [
    "-----\n",
    "\n",
    "### Nested `if` statements\n",
    "\n",
    "We can nest `if` statements inside each other to handle more complex tests. The key requirement is that you must maintain the proper level of indentation for each `if` and `else` clause. A nested `if` statement can be useful when handling multiple options depending on the values of multiple variables. This is demonstrated in the following Code cell.\n",
    "\n",
    "-----"
   ]
  },
  {
   "cell_type": "code",
   "execution_count": 16,
   "metadata": {},
   "outputs": [],
   "source": [
    "# We assign multiple variables on one line, separating them by a semicolon\n",
    "# This is just a shorthand to avoid placing them on different lines\n",
    "x = 7 ; y = 14"
   ]
  },
  {
   "cell_type": "code",
   "execution_count": 17,
   "metadata": {},
   "outputs": [
    {
     "name": "stdout",
     "output_type": "stream",
     "text": [
      "x is small and y is large.\n"
     ]
    }
   ],
   "source": [
    "if (x > 10):\n",
    "    if (y > 10):\n",
    "        print('Both x and y are large.')\n",
    "    else:\n",
    "        print('x is large and y is small.')\n",
    "else:\n",
    "    if (y > 10):\n",
    "        print('x is small and y is large.')\n",
    "    else:\n",
    "        print('Both x and y are small.')"
   ]
  },
  {
   "cell_type": "markdown",
   "metadata": {},
   "source": [
    "-----\n",
    "\n",
    "### The `elif` clause\n",
    "\n",
    "Multiple branches are supported by using one or more `elif` commands, which is shorthand for `else if`, after the initial `if` statement. An `else` statement can be used to handle any results that are not met by previous conditional statements. The code blocks are initiated by a colon character following and indented four spaces, as demonstrated in the following sample code:\n",
    "\n",
    "```python\n",
    "if (x > 10):\n",
    "    print(\"x is large\")\n",
    "elif (x > 5):\n",
    "    print(\"x is medium\")\n",
    "else:\n",
    "    print(\"x is small\")\n",
    "```\n",
    "\n",
    "Depending on the value of the variable `x`, the first, second, or third `print` statement will be executed. `if` control statements can be nested if required by the algorithmic logic, but doing so requires being extremely careful to maintain proper indentation. Nested conditional statements are demonstrated in the following sample code:\n",
    "\n",
    "```python\n",
    "if (x > 10):\n",
    "    if (y > 10):\n",
    "        print(\"x and y are large\")\n",
    "    else:\n",
    "        print(\"x is large, but y is not\")  \n",
    "elif (x > 5):\n",
    "    if (y > 10):\n",
    "        print(\"x is medium but y is large\")\n",
    "else:\n",
    "    if (y > 10):\n",
    "        print(\"x is small and y is large\")\n",
    "    elif (y > 5):\n",
    "        print(\"x is small but y is medium\")\n",
    "    else:\n",
    "        print(\"x and y are small\")\n",
    "```\n",
    "\n",
    "-----"
   ]
  },
  {
   "cell_type": "markdown",
   "metadata": {},
   "source": [
    "<font color='red' size = '5'> Student Exercise </font>\n",
    "\n",
    "The **Code** cell below contains this last conditional statement. Provide your own initial values for `x` and `y`, and before executing the Code cell, determine what output will be displayed. Now run the Code cell Was your expectation correct? Try different values for `x` and `y` and repeat this process, and (optionally) try changing the conditional statements.\n",
    "\n",
    "-----"
   ]
  },
  {
   "cell_type": "code",
   "execution_count": 18,
   "metadata": {},
   "outputs": [],
   "source": [
    "# Change the values for x and y and see how the output changes\n",
    "\n",
    "x = 10\n",
    "y = 10\n",
    "\n",
    "if (x > 10):\n",
    "    if (y > 10):\n",
    "        print(\"x and y are large\")\n",
    "    else:\n",
    "        print(\"x is large, but y is not\")  \n",
    "elif (x > 5):\n",
    "    if (y > 10):\n",
    "        print(\"x is medium but y is large\")\n",
    "else:\n",
    "    if (y > 10):\n",
    "        print(\"x is small and y is large\")\n",
    "    elif (y > 5):\n",
    "        print(\"x is small but y is medium\")\n",
    "    else:\n",
    "        print(\"x and y are small\")"
   ]
  },
  {
   "cell_type": "markdown",
   "metadata": {},
   "source": [
    "-----\n",
    "\n",
    "### Handling empty code blocks\n",
    "\n",
    "While you can simply place a comment in an indented block to indicate no code should be executed, a better option, which is explicit, is to use the `pass` statement. The `pass` statement does nothing and is a simple placeholder that is used in place of a code block when no action is required. This statement can be useful to delay writing specific operations, for example, when you build a multi-way `if` statement and the code to implement each option is not finalized. This is demonstrated in the following Code cell.\n",
    "\n",
    "-----"
   ]
  },
  {
   "cell_type": "code",
   "execution_count": 19,
   "metadata": {},
   "outputs": [
    {
     "name": "stdout",
     "output_type": "stream",
     "text": [
      "You did not enter a valid color selection\n"
     ]
    }
   ],
   "source": [
    "# value could be entered by user or computed\n",
    "value = 'violet'\n",
    "\n",
    "if (value == 'blue'):\n",
    "    print('Your favorite color is blue.')\n",
    "    # modify a plot visualization to use blue\n",
    "elif (value == 'red'):\n",
    "    pass # No code option yet for red\n",
    "else:\n",
    "    print('You did not enter a valid color selection')"
   ]
  },
  {
   "cell_type": "markdown",
   "metadata": {},
   "source": [
    "## Useful Tips\n",
    "### Be careful with indentation\n",
    "Python code uses indentation to determine code groupings. Be very careful with indentation. What's the difference between following two blocks of code? What's the output of each code block? Try them in new cells.\n",
    "\n",
    "```\n",
    "a = 10\n",
    "if (a<0):\n",
    "    print (\"a is negative\")\n",
    "    print (\"a is\", a)\n",
    "```\n",
    "---\n",
    "```\n",
    "a = 10\n",
    "if (a<0):\n",
    "    print (\"a is negative\")\n",
    "print (\"a is\", a)\n",
    "```\n",
    "\n"
   ]
  },
  {
   "cell_type": "markdown",
   "metadata": {},
   "source": [
    "-----\n",
    "## Ancillary Information\n",
    "\n",
    "The following links are to additional documentation that you might find helpful in learning this material. Reading these web-accessible documents is completely optional.\n",
    "\n",
    "1. The official Python documentation for [conditional statements][1]\n",
    "2. The book _A Byte of Python_ includes an introduction to [conditional statements](https://python.swaroopch.com/control_flow.html).\n",
    "3. The book [_Think Python_][3] includes a discussion on conditional statements.\n",
    "4. The book _Dive into Python_ includes a nice discussion on [logical operators][2].\n",
    "\n",
    "\n",
    "-----\n",
    "\n",
    "[1]: https://docs.python.org/3/tutorial/controlflow.html#if-statements\n",
    "[2]: http://www.diveintopython.net/power_of_introspection/and_or.html\n",
    "[3]: http://greenteapress.com/thinkpython2/html/thinkpython2006.html"
   ]
  },
  {
   "cell_type": "markdown",
   "metadata": {
    "deletable": false,
    "editable": false
   },
   "source": [
    "**&copy; 2019: Gies College of Business at the University of Illinois.**\n",
    "\n",
    "This notebook is released under the [Creative Commons license CC BY-NC-SA 4.0][ll]. Any reproduction, adaptation, distribution, dissemination or making available of this notebook for commercial use is not allowed unless authorized in writing by the copyright holder.\n",
    "\n",
    "[ll]: https://creativecommons.org/licenses/by-nc-sa/4.0/legalcode"
   ]
  }
 ],
 "metadata": {
  "kernelspec": {
   "display_name": "Python 3",
   "language": "python",
   "name": "python3"
  },
  "language_info": {
   "codemirror_mode": {
    "name": "ipython",
    "version": 3
   },
   "file_extension": ".py",
   "mimetype": "text/x-python",
   "name": "python",
   "nbconvert_exporter": "python",
   "pygments_lexer": "ipython3",
   "version": "3.7.3"
  }
 },
 "nbformat": 4,
 "nbformat_minor": 1
}
