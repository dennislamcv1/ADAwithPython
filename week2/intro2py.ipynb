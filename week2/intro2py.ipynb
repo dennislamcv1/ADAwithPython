{
 "cells": [
  {
   "cell_type": "markdown",
   "metadata": {},
   "source": [
    "# Introduction to the Python\n",
    "-----"
   ]
  },
  {
   "cell_type": "markdown",
   "metadata": {},
   "source": [
    "## Table of Contents\n",
    "\n",
    "[Why Python](#Why-Python)  \n",
    "\n",
    "[Python History](#Python-History)  \n",
    "\n",
    "[Basic Concepts](#Basic-Concepts)  \n",
    "\n",
    "[Python Identifiers](#Python-Identifiers)  \n",
    "\n",
    "[Documentation](#Documentation)  \n",
    "\n",
    "[Data Types](#Data-Types)  \n",
    "\n",
    "[Python Operators](#Python-Operators)  \n"
   ]
  },
  {
   "cell_type": "markdown",
   "metadata": {},
   "source": [
    "-----\n",
    "[[Back to TOC]](#Table-of-Contents)\n",
    "\n",
    "## Why Python\n",
    "\n",
    "[Python][1] is an open-source, high-level, general purpose programming language that was originally developed by Guido van Rossum. What this means is that anyone can view (and optionally make contributions to) the actual language implementation, the language simplifies many tasks for the programmer, especially when compared to other programming languages like C or Java, and Python programs can easily be developed to tackle a wide range of problems including network communication, scientific calculations, data processing and archiving tasks, and graphical tool development. In addition, the syntax and form of the Python programming language is designed to allow Python programs to be quickly developed, simplifying development time and costs while also reducing maintenance costs since a well-written Python program is easy to comprehend.\n",
    "\n",
    "![Python logo](https://www.python.org/static/community_logos/python-logo-master-v3-TM.png)\n",
    "\n",
    "A large number of Python modules, which extend the base programming language, have been developed and are now widely used. These modules, which can simplify the development of new Python programs, can be broadly classified into three types. The first type are commonly used modules that are part of the official Python distribution, known as the [standard library][sl], such as the [`math`][i], [`os.path`][ii], [`pickle`][ip], [`sqlite3`][sql], [`bz2`][iii], or [`csv`][iv] modules. The second type are modules that are also commonly used, but not (yet) part of the official standard library. Relevant example modules of this type are the [`numpy`][np], [`pandas`][pd], [`matplotlib`][mp], or [`scipy`][sp] modules. The last type of module is developed by communities for a special purpose that are currently less commonly used (but this may change in time). These include modules like [`seaborn`][sb], [`statsmodels`][sm], or [`nltk`][nl]. Of course, any developer can write a Python module, thus offering a wide array of possible add-on functionality. Using these modules, however, should be carefully balanced with the importance of minimizing software dependencies, which can reduce development and maintenance issues for software engineers.\n",
    "\n",
    "\n",
    "[gv]: https://www.python.org/~guido/\n",
    "[i]: https://docs.python.org/3/library/math.html\n",
    "[ii]: https://docs.python.org/3/library/os.path.html\n",
    "[iii]: https://docs.python.org/3/library/bz2.html\n",
    "[iv]: https://docs.python.org/3/library/csv.html\n",
    "[ip]: https://docs.python.org/3/library/pickle.html\n",
    "[sl]: https://docs.python.org/3/library/\n",
    "[sql]: https://docs.python.org/3/library/sqlite3.html\n",
    "[np]: http://www.numpy.org\n",
    "[mp]: http://matplotlib.org\n",
    "[pd]: http://pandas.pydata.org\n",
    "[sp]: http://www.scipy.org\n",
    "[sb]: http://web.stanford.edu/~mwaskom/software/seaborn/index.html\n",
    "[sm]: http://statsmodels.sourceforge.net\n",
    "[nl]: http://www.nltk.org\n",
    "[1]: https://www.python.org\n",
    "[2]: https://en.wikipedia.org/wiki/Python_(programming_language)\n",
    "[3]: https://wiki.python.org/moin/Python2orPython3\n",
    "[4]: https://wiki.python.org/moin/Python3000/FAQ\n",
    "[5]: https://docs.python.org/3.0/whatsnew/3.0.html"
   ]
  },
  {
   "cell_type": "markdown",
   "metadata": {},
   "source": [
    "-----\n",
    "[[Back to TOC]](#Table-of-Contents)\n",
    "\n",
    "## Python History\n",
    "\n",
    "Python is maintained by the Python Software Foundation and currently comes in two versions: Python 2 and Python 3. Sometime around the turn of the millennium, Python developers began to consider improvements to the Python language that might produce incompatibilities with the existing Python language. One such change, which was introduced with Python 3, is that the Python programming language is now consistently object-oriented, which means that everything in a Python program or script is now an _object_. These changes were considered necessary to enable the language to continue to grow and develop. The development of this new version, originally entitled Python 3000 or Python 3K, now shortened to just Python 3 (and even sometimes Python3), took a number of years as new ideas were carefully developed and tested, and to provide sufficient time for the existing community to participate in the progression of the Python language.\n",
    "\n",
    "Now, Python 3 is an improved version of the original Python language and offers a number of important advances. Thus, Python 2 is primarily used to maintain backwards compatibility with legacy Python codes that are too difficult or expensive to port to the newer version. **In this class, we will exclusively use Python 3** since it represents the future, and all libraries we will use have already been successfully ported to the new version. As you browse different websites, Jupyter notebooks, or other resources, you should keep in mind this language split and be sure to focus primarily on Python 3 material to minimize confusion arising from these language differences. \n",
    "\n",
    "-----\n",
    "\n",
    "The following code block, when executed, displays what might be called the Python Zen.\n",
    "\n",
    "-----\n",
    "[gv]: https://www.python.org/~guido/\n",
    "[i]: https://docs.python.org/3/library/math.html\n",
    "[ii]: https://docs.python.org/3/library/os.path.html\n",
    "[iii]: https://docs.python.org/3/library/bz2.html\n",
    "[iv]: https://docs.python.org/3/library/csv.html\n",
    "[ip]: https://docs.python.org/3/library/pickle.html\n",
    "[sl]: https://docs.python.org/3/library/\n",
    "[sql]: https://docs.python.org/3/library/sqlite3.html\n",
    "[np]: http://www.numpy.org\n",
    "[mp]: http://matplotlib.org\n",
    "[pd]: http://pandas.pydata.org\n",
    "[sp]: http://www.scipy.org\n",
    "[sb]: http://web.stanford.edu/~mwaskom/software/seaborn/index.html\n",
    "[sm]: http://statsmodels.sourceforge.net\n",
    "[nl]: http://www.nltk.org\n",
    "[1]: https://www.python.org\n",
    "[2]: https://en.wikipedia.org/wiki/Python_(programming_language)\n",
    "[3]: https://wiki.python.org/moin/Python2orPython3\n",
    "[4]: https://wiki.python.org/moin/Python3000/FAQ\n",
    "[5]: https://docs.python.org/3.0/whatsnew/3.0.html"
   ]
  },
  {
   "cell_type": "code",
   "execution_count": 1,
   "metadata": {},
   "outputs": [
    {
     "name": "stdout",
     "output_type": "stream",
     "text": [
      "The Zen of Python, by Tim Peters\n",
      "\n",
      "Beautiful is better than ugly.\n",
      "Explicit is better than implicit.\n",
      "Simple is better than complex.\n",
      "Complex is better than complicated.\n",
      "Flat is better than nested.\n",
      "Sparse is better than dense.\n",
      "Readability counts.\n",
      "Special cases aren't special enough to break the rules.\n",
      "Although practicality beats purity.\n",
      "Errors should never pass silently.\n",
      "Unless explicitly silenced.\n",
      "In the face of ambiguity, refuse the temptation to guess.\n",
      "There should be one-- and preferably only one --obvious way to do it.\n",
      "Although that way may not be obvious at first unless you're Dutch.\n",
      "Now is better than never.\n",
      "Although never is often better than *right* now.\n",
      "If the implementation is hard to explain, it's a bad idea.\n",
      "If the implementation is easy to explain, it may be a good idea.\n",
      "Namespaces are one honking great idea -- let's do more of those!\n"
     ]
    }
   ],
   "source": [
    "import this"
   ]
  },
  {
   "cell_type": "markdown",
   "metadata": {},
   "source": [
    "-----\n",
    "[[Back to TOC]](#Table-of-Contents)\n",
    "\n",
    "\n",
    "## Basic Concepts\n",
    "\n",
    "While Python is a relatively easy language to learn, there are a few basic concepts that need to be reviewed before we begin to discuss the Python programming language. A fundamental concept to remember is that good Python code should be easy to read. To help programmers adhere to this guideline, Python has the following guidelines:\n",
    "\n",
    "1. White space is important.\n",
    "2. Names should be descriptive.\n",
    "3. Code blocks are indented four spaces (not hard tabs) and follow a colon.\n",
    "4. Lines of code should be limited to less than 80 characters.\n",
    "5. Good code should be throughly documented both with comments and descriptive documentation strings.\n",
    "\n",
    "If lines need to be longer than 80 characters, the recommended practice is to use parentheses to group operations and to use suitable indentation to maintain readability. In the event this is insufficient, a line continuation character, `\\`, can be used to allow code to extend over as many lines as necessary. If that sounds confusing, don't worry, you will see examples where this is demonstrated repeatedly in this course.\n",
    "\n",
    "Python supports [REPL](https://en.wikipedia.org/wiki/Read–eval–print_loop), which is an abbreviation for Read-Eval-Print Loop, allowing a developer to write, run, and test code iteratively, which aids in quickly developing new programs. Python is also Unicode complaint, so character coding can be specified (for example, UTF-8) at the start of a program (or in string literals), allowing a wider range of characters to be used to write descriptive text.\n",
    "\n"
   ]
  },
  {
   "cell_type": "markdown",
   "metadata": {},
   "source": [
    "-----\n",
    "[[Back to TOC]](#Table-of-Contents)\n",
    "\n",
    "## Python Identifiers\n",
    "\n",
    "A Python identifier is a name that is composed of a sequence of letters, numbers, and underscore characters that must adhere to the following rules:\n",
    "\n",
    "1. The first character must be a letter or an underscore character.\n",
    "2. Variable and Function names traditionally start with a lowercase letter.\n",
    "3. Classes traditionally start with an uppercase letter.\n",
    "4. The identifier cannot be one of the reserved Python keywords, listed in the code block below.\n",
    "\n",
    "While not explicitly prevented, it is also recommended to avoid names of objects from common Python libraries to minimize name collisions and any resultant confusion. \n",
    "\n",
    "In this lesson, we will discuss variables, demonstrate how to use them effectively in a Python program, and use several built-in functions. A variable is simply a name that refers to something else, like a number or a string of characters. In a future lesson, we will discuss functions in more depth. For now, simply consider a function as a chunk of code, wrapped in a name that does something. A classic example is a math function like the `sin` function or a more general function like `print`, which displays text to the screen.\n",
    "\n",
    "In the following Code cell, we use the `help`  built-in function to display the list of Python keywords. These names are reserved and cannot be used as the name of a variable or function.\n",
    "\n",
    "----"
   ]
  },
  {
   "cell_type": "code",
   "execution_count": 2,
   "metadata": {
    "scrolled": false
   },
   "outputs": [
    {
     "name": "stdout",
     "output_type": "stream",
     "text": [
      "\n",
      "Here is a list of the Python keywords.  Enter any keyword to get more help.\n",
      "\n",
      "False               class               from                or\n",
      "None                continue            global              pass\n",
      "True                def                 if                  raise\n",
      "and                 del                 import              return\n",
      "as                  elif                in                  try\n",
      "assert              else                is                  while\n",
      "async               except              lambda              with\n",
      "await               finally             nonlocal            yield\n",
      "break               for                 not                 \n",
      "\n"
     ]
    }
   ],
   "source": [
    "# We are in a Python3 Kernel\n",
    "# Display Python3 Keywords\n",
    "\n",
    "help('keywords')"
   ]
  },
  {
   "cell_type": "markdown",
   "metadata": {},
   "source": [
    "To find out more information of a key word, you may also use help() function as shown below."
   ]
  },
  {
   "cell_type": "code",
   "execution_count": 3,
   "metadata": {},
   "outputs": [
    {
     "name": "stdout",
     "output_type": "stream",
     "text": [
      "The \"if\" statement\n",
      "******************\n",
      "\n",
      "The \"if\" statement is used for conditional execution:\n",
      "\n",
      "   if_stmt ::= \"if\" expression \":\" suite\n",
      "               (\"elif\" expression \":\" suite)*\n",
      "               [\"else\" \":\" suite]\n",
      "\n",
      "It selects exactly one of the suites by evaluating the expressions one\n",
      "by one until one is found to be true (see section Boolean operations\n",
      "for the definition of true and false); then that suite is executed\n",
      "(and no other part of the \"if\" statement is executed or evaluated).\n",
      "If all expressions are false, the suite of the \"else\" clause, if\n",
      "present, is executed.\n",
      "\n",
      "Related help topics: TRUTHVALUE\n",
      "\n"
     ]
    }
   ],
   "source": [
    "#Find out more information about keyword if\n",
    "help('if')"
   ]
  },
  {
   "cell_type": "markdown",
   "metadata": {},
   "source": [
    "A Python identifier can be used as the name of a variable, function, class, or module. Python identifiers are case sensitive, so `mylist` is different than `myList`. Writing descriptive identifiers can be beneficial for code readability and subsequent maintenance, thus we often write multi-word identifiers. When combining words, one can either use camel-case format, where each new word after the first is capitalized like `myFileList`. Alternatively, we also can separate words by using underscores like `my_filename_list`.  While both approaches are legal, it is best to be consistent as much as possible. \n",
    "\n",
    "The Python Enhancement Proposal (abbreviated as PEP), [PEP-8](http://legacy.python.org/dev/peps/pep-0008/#introduction), provides a complete discussion of recommended best practices when writing Python code.\n",
    "\n"
   ]
  },
  {
   "cell_type": "markdown",
   "metadata": {},
   "source": [
    "-----\n",
    "[[Back to TOC]](#Table-of-Contents)\n",
    "\n",
    "## Documentation\n",
    "\n",
    "The primary mechanism for documenting Python code is to use comments. Python supports two types of comment strings. The first type is a single-line comment, which begins with the hash or pound character `#` and continues until the end of the line. The `#` character can appear anywhere on the line. You can create large comment blocks by placing single-line comments adjacent to each other in a Python program. Here are a several examples of single-line comments; the first comment consists of the entire line, and the second comment extends from the preceding command to the end of that line. \n",
    "\n",
    "```python   \n",
    "# Calculate the hypotenuse of a triangle\n",
    "c = math.sqrt(a**2 + b**2) # Assuming Euclidean Geometry\n",
    "```\n",
    "\n",
    "The second type of comment is a multi-line comment, which begins and ends with either three single quote characters,  `''' comment text '''` , or three double quote characters in a row: `\"\"\" comment text \"\"\"`. This comment can easily extend over multiple lines and is, therefore, used in a Python program to provide documentation via an implicit docstring for functions and classes. Here is an example of a multi-line comment string:\n",
    "\n",
    "```python   \n",
    "\n",
    "'''\n",
    "This multi-line comment can provide useful information\n",
    "for a function, class, or module.\n",
    "\n",
    "This also allows whitespace to be used to help\n",
    "write more clearly.\n",
    "'''\n",
    "```\n",
    "\n",
    "The built-in `help`  function can be used to view _docstring_ comments for different functions, classes, or other Python features, as shown in the following code block. As the adjacent comment suggests, you should execute this function and change the argument to the `help` function to view documentation for other Python language components like `int`, `complex`, `math`, or `list`.\n",
    "\n",
    "Another built-in function that you will frequently use is the `print` function, which, if necessary, converts its arguments to a string and displays the resulting string to _STDOUT_, which is generally the display. We will discuss functions, like the `print` function, in more detail in the next lesson.\n",
    "\n",
    "-----"
   ]
  },
  {
   "cell_type": "code",
   "execution_count": 4,
   "metadata": {},
   "outputs": [
    {
     "name": "stdout",
     "output_type": "stream",
     "text": [
      "Help on built-in function print in module builtins:\n",
      "\n",
      "print(...)\n",
      "    print(value, ..., sep=' ', end='\\n', file=sys.stdout, flush=False)\n",
      "    \n",
      "    Prints the values to a stream, or to sys.stdout by default.\n",
      "    Optional keyword arguments:\n",
      "    file:  a file-like object (stream); defaults to the current sys.stdout.\n",
      "    sep:   string inserted between values, default a space.\n",
      "    end:   string appended after the last value, default a newline.\n",
      "    flush: whether to forcibly flush the stream.\n",
      "\n"
     ]
    }
   ],
   "source": [
    "help(print) # Try changing print to something different like int, complex, str, or list."
   ]
  },
  {
   "cell_type": "markdown",
   "metadata": {},
   "source": [
    "-----\n",
    "\n",
    "<font color='red' size = '5'> Student Exercise </font>\n",
    "\n",
    "In the empty **Code** cell below, write a simple Python comment, write a multi-line comment, and use the `help` command to display the built-in documentation for the `dict` and `str` classes.\n",
    "\n",
    "-----"
   ]
  },
  {
   "cell_type": "code",
   "execution_count": null,
   "metadata": {},
   "outputs": [],
   "source": []
  },
  {
   "cell_type": "markdown",
   "metadata": {},
   "source": [
    "-----\n",
    "[[Back to TOC]](#Table-of-Contents)\n",
    "\n",
    "\n",
    "## Variables\n",
    "\n",
    "A Python variable is a name for a value. It's a python identifier. Python variables must begin with a letter and are case sensitive. The variable naming convention is lowercase with words separated by underscores as necessary to improve readability. Some people prefer mixedCase over mixed_case. You can name it whatever you want as long as you follow python identifier naming rules. \n",
    "\n",
    "We can create a new variable by assigning a value to it using `=`. In following code, we define a variable x and print out value of x in the next cell.\n",
    "\n",
    "-----"
   ]
  },
  {
   "cell_type": "code",
   "execution_count": 5,
   "metadata": {},
   "outputs": [],
   "source": [
    "# python variable\n",
    "x = 1"
   ]
  },
  {
   "cell_type": "code",
   "execution_count": 6,
   "metadata": {},
   "outputs": [
    {
     "name": "stdout",
     "output_type": "stream",
     "text": [
      "1\n"
     ]
    }
   ],
   "source": [
    "print(x)"
   ]
  },
  {
   "cell_type": "markdown",
   "metadata": {},
   "source": [
    "### Variable Scope\n",
    "\n",
    "Not all variables are accessible or exist in the whole part of a program. We call the part of a program where a variable is accessible its scope. Depending its scope, a variable is either global variable or local variable.\n",
    "\n",
    "#### Global Variable\n",
    "A variable which is defined in the main body of a file is called a global variable. It will be visible throughout the file after the variable definition.\n",
    "\n",
    "#### Local Variable\n",
    "A variable which is defined inside a function is local to that function. It is accessible from the point at which it is defined until the end of the function.\n",
    "\n",
    "#### Variable Scope Demo\n",
    "In the following code cell, we define a global variable `x = 0` in the main body, then define a function `f()`. In the function, we define a local variable `x = 1`. We print value of `x` which is the local variable in the function. Then we call the function and print value of `x` which is the global variable.\n",
    "\n",
    "The variable x defined within the function is a local variable, its scope is within the function body only. Even it has same name as the global variable `x` defined above, it's different variable. Any update of `x` inside the function won't affect the global variable `x`. This is demonstrated by the last print statement in the cell."
   ]
  },
  {
   "cell_type": "code",
   "execution_count": 7,
   "metadata": {},
   "outputs": [
    {
     "name": "stdout",
     "output_type": "stream",
     "text": [
      "Inside function f(): x = 1\n",
      "Outside function f(): x = 0\n"
     ]
    }
   ],
   "source": [
    "x = 0\n",
    "def f():\n",
    "    x = 1\n",
    "    print (f'Inside function f(): x = {x}')\n",
    "f()\n",
    "print (f'Outside function f(): x = {x}')\n"
   ]
  },
  {
   "cell_type": "markdown",
   "metadata": {},
   "source": [
    "-----\n",
    "[[Back to TOC]](#Table-of-Contents)\n",
    "\n",
    "\n",
    "## Data Types\n",
    "\n",
    "Python supports several standard data types including integer, floating-point, and character data, or a string of characters (this data type will be discussed in more detail in a later lesson). Python is a dynamically-typed language, which means we do not need to declare the data type for a variable. Instead, the Python interpreter determines the data type for a variable by the type of data the variable holds. For example, if a variable holds an integer number like 1, 2, 3, or -10, the variable is of type int. Likewise, if the variable contains a real number like 3.14, the variable is of type float, which is shorthand for floating-point.\n",
    "\n",
    "The Python language has two other special data types. The first is a Boolean type, which can take one of two special values: `True` or `False`. We will explore the Boolean data type in more detail in a later lesson. The second is a special type to indicate a null value, which in Python is encoded as `None`.\n",
    "\n",
    "In the following Code cells, we demonstrate how Python handles these basic data types. Remember to make changes and rerun these cells to better understand the Python type system.\n",
    "\n",
    "-----"
   ]
  },
  {
   "cell_type": "code",
   "execution_count": 8,
   "metadata": {},
   "outputs": [
    {
     "data": {
      "text/plain": [
       "int"
      ]
     },
     "execution_count": 8,
     "metadata": {},
     "output_type": "execute_result"
    }
   ],
   "source": [
    "# An integer value\n",
    "x = 1\n",
    "type(x)"
   ]
  },
  {
   "cell_type": "code",
   "execution_count": 9,
   "metadata": {},
   "outputs": [
    {
     "data": {
      "text/plain": [
       "float"
      ]
     },
     "execution_count": 9,
     "metadata": {},
     "output_type": "execute_result"
    }
   ],
   "source": [
    "# A floating-point value\n",
    "x = 3.2\n",
    "type(x)"
   ]
  },
  {
   "cell_type": "code",
   "execution_count": 10,
   "metadata": {},
   "outputs": [
    {
     "data": {
      "text/plain": [
       "str"
      ]
     },
     "execution_count": 10,
     "metadata": {},
     "output_type": "execute_result"
    }
   ],
   "source": [
    "# A string of characters\n",
    "x = 'Hello!'\n",
    "type(x)"
   ]
  },
  {
   "cell_type": "code",
   "execution_count": 11,
   "metadata": {},
   "outputs": [
    {
     "data": {
      "text/plain": [
       "bool"
      ]
     },
     "execution_count": 11,
     "metadata": {},
     "output_type": "execute_result"
    }
   ],
   "source": [
    "# A Boolean value\n",
    "x = True\n",
    "type(x)"
   ]
  },
  {
   "cell_type": "code",
   "execution_count": 12,
   "metadata": {},
   "outputs": [
    {
     "data": {
      "text/plain": [
       "NoneType"
      ]
     },
     "execution_count": 12,
     "metadata": {},
     "output_type": "execute_result"
    }
   ],
   "source": [
    "# A None value\n",
    "x = None\n",
    "type(x)"
   ]
  },
  {
   "cell_type": "code",
   "execution_count": 13,
   "metadata": {
    "scrolled": true
   },
   "outputs": [
    {
     "data": {
      "text/plain": [
       "builtin_function_or_method"
      ]
     },
     "execution_count": 13,
     "metadata": {},
     "output_type": "execute_result"
    }
   ],
   "source": [
    "type(print) # Try changing print to something different like 'Hello World!' or math"
   ]
  },
  {
   "cell_type": "markdown",
   "metadata": {},
   "source": [
    "-----\n",
    "[[Back to TOC]](#Table-of-Contents)\n",
    "\n",
    "\n",
    "## Python Operators\n",
    "\n",
    "Python supports the [basic mathematical operators][1]. The following list presents the basic mathematical operators, in order of precedence (operators in the same table cell have the same precedence):\n",
    "\n",
    "| Operator                         | Description                              | Example                                  |\n",
    "| -------------------------------- | ---------------------------------------- | ---------------------------------------- |\n",
    "| `()`                             | Parentheses for grouping                 | `(2 + 3)`                                |\n",
    "| `**`                             | Exponential function                     | `2**3`                                   |\n",
    "| `*`<br/> `/`<br/> `//` <br/> `%` | Multiplication<br/> Division<br/>Integer Division<br/> Remainder | `2*3.1` <br/> `3.2 / 1.2 ` <br/> `5//2` <br/> `5%2` |\n",
    "| `+` <br/> `-`                    | Addition <br/> Subtraction               | `1.45 + 3.14` <br/> `5.3 - 2.125`        |\n",
    "\n",
    "\n",
    "When computing a quantity, you often will want to assign the value to a variable. This is done by using the assignment operator `=`. On the other hand, if you want to test if two values are the same, you use the equivalence operator, `==`. In addition, Python provides augmented assignment operators that combine a basic mathematical operator (`+`, `-`, `*`, `/`, `**`, `//`, or `%`) with the assignment operator: `+=`, `-=`, `*=`, `/=`, `**=`, `//=`, and `%=`; this can simplify and thus clarify some expressions. As a simple example of an augmented assignment operator, the following Python expressions are equivalent:\n",
    "\n",
    "```python\n",
    "a = a + 1\n",
    "a += 1\n",
    "```\n",
    "\n",
    "In the preceding example code, we have introduced the use of variables to hold the result of a calculation. Python is a dynamically-typed language; thus we do not need to first declare the variable and its type before using it. If the variable is reused and assigned a different value, the variable takes on a new type. Python has a built-in `type` function that can always be used to ascertain the underlying data type of a variable or any other legal Python construct, as shown in the previous Code cells.\n",
    "\n",
    "-----\n",
    "[1]: https://en.wikibooks.org/wiki/Python_Programming/Basic_Math"
   ]
  },
  {
   "cell_type": "markdown",
   "metadata": {},
   "source": [
    "<font color='red' size = '5'> Student Exercise </font>\n",
    "\n",
    "In the empty **Code** cell below, write a simple Python script to calculate number of seconds in one week. Use a variable to hold the calculation and print the answer within this notebook.\n",
    "\n",
    "-----"
   ]
  },
  {
   "cell_type": "code",
   "execution_count": null,
   "metadata": {},
   "outputs": [],
   "source": []
  },
  {
   "cell_type": "markdown",
   "metadata": {},
   "source": [
    "## Useful Tips\n",
    "### Tab Completion\n",
    "One of the most useful things about Jupyter Notebook is its tab completion. If you forgot the name of the function to calculate square root in math module, tab completion comes to rescue as shown in following example, just press Tab after `math.s`. It will also speed up coding. If you press Tab after `math.sq`, The code will be completed as `math.sqrt` since it's the only option. This is especially helpful with long function names.\n",
    "<img src=\"tab_completion.png\" />\n",
    "\n",
    "### Question Mark(?)\n",
    "A time saving feature is immediate access to the help or docstring. Typing a question mark after any object or function will return the docstring within the browser. If you don't know how what `math.sqrt` function does or how to use it, before searching the internet, why not try `math.sqrt?` as shown below?\n",
    "\n",
    "<img src=\"help.png\"/>\n",
    "\n",
    "You can also use python built-in function `help(math.sqrt)` to view the docsting of the function. Difference between `help()` and `?` is that `help()` will print docstring below the cell as regular cell output, while `?` will show docstibng in a separate pane at the bottom of the notebook which you can close by clicking <button class='btn btn-default btn-xs'><i class=\"fa fa-close\" aria-hidden=\"true\"></i></button> on top right corner of the pane."
   ]
  },
  {
   "cell_type": "markdown",
   "metadata": {},
   "source": [
    "-----\n",
    "\n",
    "## Ancillary information\n",
    "\n",
    "The following links are to additional documentation that you might find helpful in learning this material. Reading these web-accessible documents is completely optional.\n",
    "\n",
    "1. The official [Python3 Tutorial](https://docs.python.org/3/tutorial/index.html)\n",
    "2. An official guide to Python for [Beginners](https://www.python.org/about/gettingstarted/)\n",
    "3. The introductory book [_A Byte of Python_](https://www.gitbook.com/book/swaroopch/byte-of-python/details)\n",
    "4. The book [_Think Python_](http://greenteapress.com/wp/think-python-2e/) for Python3 provides a comprehensive view of Python for data science.\n",
    "5. The book [_Dive into Python_](http://www.diveintopython.net/toc/index.html) is presented from a different, sometimes more advanced, viewpoint.\n",
    "\n",
    "\n",
    "-----"
   ]
  },
  {
   "cell_type": "markdown",
   "metadata": {
    "deletable": false,
    "editable": false
   },
   "source": [
    "**&copy; 2019: Gies College of Business at the University of Illinois.**\n",
    "\n",
    "This notebook is released under the [Creative Commons license CC BY-NC-SA 4.0][ll]. Any reproduction, adaptation, distribution, dissemination or making available of this notebook for commercial use is not allowed unless authorized in writing by the copyright holder.\n",
    "\n",
    "[ll]: https://creativecommons.org/licenses/by-nc-sa/4.0/legalcode"
   ]
  }
 ],
 "metadata": {
  "kernelspec": {
   "display_name": "Python 3",
   "language": "python",
   "name": "python3"
  },
  "language_info": {
   "codemirror_mode": {
    "name": "ipython",
    "version": 3
   },
   "file_extension": ".py",
   "mimetype": "text/x-python",
   "name": "python",
   "nbconvert_exporter": "python",
   "pygments_lexer": "ipython3",
   "version": "3.8.3"
  }
 },
 "nbformat": 4,
 "nbformat_minor": 1
}
