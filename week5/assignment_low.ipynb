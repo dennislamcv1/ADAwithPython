{
 "cells": [
  {
   "cell_type": "markdown",
   "metadata": {
    "deletable": false,
    "editable": false,
    "nbgrader": {
     "cell_type": "markdown",
     "checksum": "20b2ea97429140827b82de0ff2c3b317",
     "grade": false,
     "grade_id": "header",
     "locked": true,
     "schema_version": 3,
     "solution": false
    }
   },
   "source": [
    "# Module 5 Assignment \n",
    "\n",
    "A few things you should keep in mind when working on assignments:\n",
    "\n",
    "1. Run the first code cell to import modules needed by this assignment before proceeding to problems.\n",
    "2. Make sure you fill in any place that says `# YOUR CODE HERE`. Do not write your answer anywhere else other than where it says `# YOUR CODE HERE`. Anything you write elsewhere will be removed or overwritten by the autograder.\n",
    "3. Each problem has an autograder cell below the answer cell. Run the autograder cell to check your answer. If there's anything wrong in your answer, the autograder cell will display error messages.\n",
    "4. Before you submit your assignment, make sure everything runs as expected. Go to the menubar, select Kernel, and Restart & Run all. If the notebook runs through the last code cell without an error message, you've answered all problems correctly.\n",
    "5. Make sure that you save your work (in the menubar, select File → Save and CheckPoint).\n",
    "\n",
    "-----"
   ]
  },
  {
   "cell_type": "markdown",
   "metadata": {
    "deletable": false,
    "editable": false,
    "nbgrader": {
     "cell_type": "markdown",
     "checksum": "96b3d5b9a39937bf2b8a374191d70536",
     "grade": false,
     "grade_id": "cell-1577f06095d05bbf",
     "locked": true,
     "schema_version": 3,
     "solution": false
    }
   },
   "source": [
    "# Run Me First!"
   ]
  },
  {
   "cell_type": "code",
   "execution_count": null,
   "metadata": {
    "deletable": false,
    "editable": false,
    "nbgrader": {
     "cell_type": "code",
     "checksum": "d685123b0f60bb43525c7ae135997d4f",
     "grade": false,
     "grade_id": "import",
     "locked": true,
     "schema_version": 3,
     "solution": false
    }
   },
   "outputs": [],
   "source": [
    "import pandas as pd\n",
    "import numpy as np\n",
    "\n",
    "from nose.tools import assert_equal, assert_true, assert_false\n",
    "from numpy.testing import assert_array_almost_equal, assert_array_equal\n"
   ]
  },
  {
   "cell_type": "markdown",
   "metadata": {
    "deletable": false,
    "editable": false,
    "nbgrader": {
     "cell_type": "markdown",
     "checksum": "e5fc7c09a8c023019f1f4b80c60d69f7",
     "grade": false,
     "grade_id": "prob1_desc",
     "locked": true,
     "schema_version": 3,
     "solution": false
    }
   },
   "source": [
    "# Problem 1: Read in a dataset\n",
    "\n",
    "For this problem you will read in a dataset using Pandas. In the cell below, the function *read_data* has parameter \"file_path\" which contains a path to a dataset.\n",
    "- Use the *read_csv* function from Pandas to read in the dataset from the file path and return the resulting \n",
    "DataFrame."
   ]
  },
  {
   "cell_type": "code",
   "execution_count": null,
   "metadata": {
    "deletable": false,
    "nbgrader": {
     "cell_type": "code",
     "checksum": "9cc935d616180759b4a6b6db162384bc",
     "grade": false,
     "grade_id": "prob1_ans",
     "locked": false,
     "schema_version": 3,
     "solution": true
    }
   },
   "outputs": [],
   "source": [
    "def read_data(file_path):\n",
    "    '''\n",
    "    Reads in a dataset using pandas.\n",
    "    \n",
    "    Parameters\n",
    "    ----------\n",
    "    file_path : string containing path to a file\n",
    "    \n",
    "    Returns\n",
    "    -------\n",
    "    Pandas DataFrame with data read in from the file path\n",
    "    '''\n",
    "    # YOUR CODE HERE\n",
    "    \n"
   ]
  },
  {
   "cell_type": "code",
   "execution_count": null,
   "metadata": {
    "deletable": false,
    "editable": false,
    "nbgrader": {
     "cell_type": "code",
     "checksum": "f08dc0987194c2a166c61760621367bf",
     "grade": true,
     "grade_id": "prob1_test",
     "locked": true,
     "points": 1,
     "schema_version": 3,
     "solution": false
    }
   },
   "outputs": [],
   "source": [
    "df = read_data('data/dow_jones_index.data')\n",
    "assert_equal(len(df), 750, msg=\"The dataset should have 750 rows. Your solution only has %s\"%len(df))\n",
    "assert_equal(set(df.columns.tolist()), set(['quarter', 'stock', 'date', 'open', 'high', 'low', 'close',\n",
    "                                            'volume', 'percent_change_price', 'percent_change_volume_over_last_wk',\n",
    "                                            'previous_weeks_volume', 'next_weeks_open', 'next_weeks_close',\n",
    "                                            'percent_change_next_weeks_price', 'days_to_next_dividend',\n",
    "                                            'percent_return_next_dividend']), \n",
    "             msg=\"Your column names do not match the solutions\")\n",
    "\n",
    "ans = df.head().values.tolist()\n",
    "sol = [[1, 'AA', '1/7/2011', 15.82, 16.72, 15.78, 16.42, 239655616, 3.7926699999999998, np.nan, np.nan,\n",
    "        16.71, 15.97, -4.42849, 26, 0.182704],\n",
    "       [1, 'AA', '1/14/2011', 16.71, 16.71, 15.64, 15.97, 242963398, -4.42849, 1.380223028, 239655616.0,\n",
    "        16.19, 15.79, -2.4706599999999996, 19, 0.187852],\n",
    "       [1, 'AA', '1/21/2011', 16.19, 16.38, 15.6, 15.79, 138428495, -2.4706599999999996, -43.02495926,\n",
    "        242963398.0, 15.87, 16.13, 1.63831, 12, 0.189994],\n",
    "       [1, 'AA', '1/28/2011', 15.87, 16.63, 15.82, 16.13, 151379173, 1.63831, 9.355500109, 138428495.0,\n",
    "        16.18, 17.14, 5.93325, 5, 0.18598900000000002],\n",
    "       [1, 'AA', '2/4/2011', 16.18, 17.39, 16.18, 17.14, 154387761, 5.93325, 1.987451735, 151379173.0,\n",
    "        17.33, 17.37, 0.230814, 97, 0.175029]]\n",
    "\n",
    "assert_array_equal(ans, sol, err_msg=\"Your answer does not match the solution.\")\n",
    "\n",
    "print(\"2 random rows of the dow jones dataset:\")\n",
    "df.sample(2)"
   ]
  },
  {
   "cell_type": "markdown",
   "metadata": {
    "deletable": false,
    "editable": false,
    "nbgrader": {
     "cell_type": "markdown",
     "checksum": "4ee1b2f68438c89abfd4fb53d83edf88",
     "grade": false,
     "grade_id": "prob2_desc",
     "locked": true,
     "schema_version": 3,
     "solution": false
    }
   },
   "source": [
    "# Problem 2: Selecting first n rows of a DataFrame\n",
    "\n",
    "In the code cell below the function *get_head_rows* accepts 2 parameters *df* which is a DataFrame, and *n*, which is an integer.\n",
    "\n",
    "For this problem:\n",
    "- Return first *n* rows of _df_"
   ]
  },
  {
   "cell_type": "code",
   "execution_count": null,
   "metadata": {
    "deletable": false,
    "nbgrader": {
     "cell_type": "code",
     "checksum": "d76c01a774a63fe648ff6deb32979891",
     "grade": false,
     "grade_id": "prob2_ans",
     "locked": false,
     "schema_version": 3,
     "solution": true
    }
   },
   "outputs": [],
   "source": [
    "def get_head_rows(df, n):\n",
    "    '''    \n",
    "    Parameters\n",
    "    ----------\n",
    "    df: Pandas DataFrame\n",
    "    n: integer\n",
    "    Returns\n",
    "    -------\n",
    "    returns first n rows of df\n",
    "    '''\n",
    "    # YOUR CODE HERE\n",
    "    \n"
   ]
  },
  {
   "cell_type": "code",
   "execution_count": null,
   "metadata": {
    "deletable": false,
    "editable": false,
    "nbgrader": {
     "cell_type": "code",
     "checksum": "c3872224e0cd10eca01a4bb6ce277603",
     "grade": true,
     "grade_id": "prob2_test",
     "locked": true,
     "points": 1,
     "schema_version": 3,
     "solution": false
    }
   },
   "outputs": [],
   "source": [
    "assert_equal(get_head_rows(df, 3).shape[0], 3, msg=\"You did not return first 3 rows\")\n",
    "assert_equal(get_head_rows(df, 4).shape[0], 4, msg=\"You did not return first 4 rows\")\n"
   ]
  },
  {
   "cell_type": "markdown",
   "metadata": {
    "deletable": false,
    "editable": false,
    "nbgrader": {
     "cell_type": "markdown",
     "checksum": "9f555d31bbe0e7c966fcd1eb1a9d0e4c",
     "grade": false,
     "grade_id": "prob3_desc",
     "locked": true,
     "schema_version": 3,
     "solution": false
    }
   },
   "source": [
    "# Problem 3: Selecting stocks under certain price\n",
    "\n",
    "In the code cell below the function *get_stocks_by_price* accepts two parameters: *df* which is a DataFrame, and *price_cut*, which is a float.\n",
    "\n",
    "For this problem:\n",
    "- Return all data with close price less than *price_cut*."
   ]
  },
  {
   "cell_type": "code",
   "execution_count": null,
   "metadata": {
    "deletable": false,
    "nbgrader": {
     "cell_type": "code",
     "checksum": "f3fbd44435863b1bb5319313793cac26",
     "grade": false,
     "grade_id": "prob3_ans",
     "locked": false,
     "schema_version": 3,
     "solution": true
    }
   },
   "outputs": [],
   "source": [
    "def get_stocks_by_price(df, price_cut):\n",
    "    '''\n",
    "    \n",
    "    Parameters\n",
    "    ----------\n",
    "    df: Pandas DataFrame containing data from Problem 1's solution\n",
    "    price_cut: float.\n",
    "    Returns\n",
    "    -------\n",
    "    \n",
    "    Return all data with close price less than price_cut.\n",
    "    '''\n",
    "    # YOUR CODE HERE\n",
    "    \n"
   ]
  },
  {
   "cell_type": "code",
   "execution_count": null,
   "metadata": {
    "deletable": false,
    "editable": false,
    "nbgrader": {
     "cell_type": "code",
     "checksum": "2d61eef1012c5299fb1f41aff81f6674",
     "grade": true,
     "grade_id": "prob3_test",
     "locked": true,
     "points": 1,
     "schema_version": 3,
     "solution": false
    }
   },
   "outputs": [],
   "source": [
    "assert_equal(get_stocks_by_price(df, 12).shape[0], 7, msg=\"You did not return a correct Pandas DataFrame object\")\n",
    "assert_true(get_stocks_by_price(df, 12).close.max()<12, msg=\"You did not return a correct Pandas DataFrame object\")\n"
   ]
  },
  {
   "cell_type": "markdown",
   "metadata": {
    "deletable": false,
    "editable": false,
    "nbgrader": {
     "cell_type": "markdown",
     "checksum": "0a20c942c6f280548d4d57af8afd3a2f",
     "grade": false,
     "grade_id": "p4-desc",
     "locked": true,
     "schema_version": 3,
     "solution": false
    }
   },
   "source": [
    "# Problem 4: Get highest and lowest close price for a stock\n",
    "\n",
    "In the code cell below the function *get_high_low_close* accepts two parameters: *df* which is a DataFrame, and *symbol*, which is a string.\n",
    "\n",
    "For this problem:\n",
    "- Return highest and lowest close price of stock represented by *symbol*."
   ]
  },
  {
   "cell_type": "code",
   "execution_count": null,
   "metadata": {
    "deletable": false,
    "nbgrader": {
     "cell_type": "code",
     "checksum": "c9685e4068c0c59b9884c900f4433179",
     "grade": false,
     "grade_id": "prob4_ans",
     "locked": false,
     "schema_version": 3,
     "solution": true
    }
   },
   "outputs": [],
   "source": [
    "def get_high_low_close(df, symbol):\n",
    "    '''\n",
    "    Get highest and lowest close price of a stock.\n",
    "    \n",
    "    Parameters\n",
    "    ----------\n",
    "    df: Pandas DataFrame containing data from Problem 1's solution\n",
    "    symbol: stock symbol\n",
    "    \n",
    "    Returns\n",
    "    -------\n",
    "    returns two values, highest and lowest close price of the stock.\n",
    "    '''\n",
    "    # YOUR CODE HERE\n",
    "    \n",
    "    return highest_close, lowest_close\n"
   ]
  },
  {
   "cell_type": "code",
   "execution_count": null,
   "metadata": {
    "deletable": false,
    "editable": false,
    "nbgrader": {
     "cell_type": "code",
     "checksum": "52f5a0afbcbbadf51a6204c4f014f938",
     "grade": true,
     "grade_id": "prob4_test",
     "locked": true,
     "points": 1,
     "schema_version": 3,
     "solution": false
    }
   },
   "outputs": [],
   "source": [
    "assert_equal(get_high_low_close(df, 'AA'), (17.92, 14.72), msg=\"You did not return correct highest and lowest close of AA\")\n",
    "assert_equal(get_high_low_close(df, 'IBM'), (170.58, 147.93), msg=\"You did not return correct highest and lowest close of IBM\")\n"
   ]
  }
 ],
 "metadata": {
  "coursera": {
   "course_slug": "accounting-data-analytics-python",
   "graded_item_id": "LJxSb",
   "launcher_item_id": "xF0Qg"
  },
  "kernelspec": {
   "display_name": "Python 3",
   "language": "python",
   "name": "python3"
  },
  "language_info": {
   "codemirror_mode": {
    "name": "ipython",
    "version": 3
   },
   "file_extension": ".py",
   "mimetype": "text/x-python",
   "name": "python",
   "nbconvert_exporter": "python",
   "pygments_lexer": "ipython3",
   "version": "3.7.3"
  }
 },
 "nbformat": 4,
 "nbformat_minor": 2
}
