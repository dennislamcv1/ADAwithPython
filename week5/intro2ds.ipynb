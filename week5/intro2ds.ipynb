{
 "cells": [
  {
   "cell_type": "markdown",
   "metadata": {},
   "source": [
    "# Introduction to Descriptive Statistics\n",
    "\n",
    "-----"
   ]
  },
  {
   "cell_type": "markdown",
   "metadata": {},
   "source": [
    "One of the most basic tasks in data analytics, particularly for large data sets, is describing a data set by a small number of statistical quantities. For example, we may wish to know the average income in a geographic region, or the general spread about this average income. In this notebook, we introduce statistical quantities that can be used to describe a (one-dimensional) data set and to enable comparisons between data sets.\n",
    "\n",
    "## Table of Contents\n",
    "\n",
    "[Measures of Location](#Measures-of-Location)  \n",
    "\n",
    "[Measures of Variability](#Measures-of-Variability)  \n",
    "\n",
    "[Measures of Distribution](#Measures-of-Distribution)  \n",
    "\n",
    "[Pandas Descriptive Statitics](#Pandas-Descriptive-Statitics)\n",
    "\n",
    "[Exploratory Data Analysis](#Exploratory-Data-Analysis)\n",
    "\n",
    "First, we include our standard imports and provide a brief exploration of a demo dataset before generating a NumPy array for our `total_bill` column to simplify computing descriptive statistics.\n",
    "\n",
    "-----"
   ]
  },
  {
   "cell_type": "code",
   "execution_count": 1,
   "metadata": {},
   "outputs": [
    {
     "data": {
      "text/html": [
       "<div>\n",
       "<style scoped>\n",
       "    .dataframe tbody tr th:only-of-type {\n",
       "        vertical-align: middle;\n",
       "    }\n",
       "\n",
       "    .dataframe tbody tr th {\n",
       "        vertical-align: top;\n",
       "    }\n",
       "\n",
       "    .dataframe thead th {\n",
       "        text-align: right;\n",
       "    }\n",
       "</style>\n",
       "<table border=\"1\" class=\"dataframe\">\n",
       "  <thead>\n",
       "    <tr style=\"text-align: right;\">\n",
       "      <th></th>\n",
       "      <th>total_bill</th>\n",
       "      <th>tip</th>\n",
       "      <th>sex</th>\n",
       "      <th>smoker</th>\n",
       "      <th>day</th>\n",
       "      <th>time</th>\n",
       "      <th>size</th>\n",
       "    </tr>\n",
       "  </thead>\n",
       "  <tbody>\n",
       "    <tr>\n",
       "      <td>0</td>\n",
       "      <td>16.99</td>\n",
       "      <td>1.01</td>\n",
       "      <td>Female</td>\n",
       "      <td>No</td>\n",
       "      <td>Sun</td>\n",
       "      <td>Dinner</td>\n",
       "      <td>2</td>\n",
       "    </tr>\n",
       "    <tr>\n",
       "      <td>1</td>\n",
       "      <td>10.34</td>\n",
       "      <td>1.66</td>\n",
       "      <td>Male</td>\n",
       "      <td>No</td>\n",
       "      <td>Sun</td>\n",
       "      <td>Dinner</td>\n",
       "      <td>3</td>\n",
       "    </tr>\n",
       "    <tr>\n",
       "      <td>2</td>\n",
       "      <td>21.01</td>\n",
       "      <td>3.50</td>\n",
       "      <td>Male</td>\n",
       "      <td>No</td>\n",
       "      <td>Sun</td>\n",
       "      <td>Dinner</td>\n",
       "      <td>3</td>\n",
       "    </tr>\n",
       "    <tr>\n",
       "      <td>3</td>\n",
       "      <td>23.68</td>\n",
       "      <td>3.31</td>\n",
       "      <td>Male</td>\n",
       "      <td>No</td>\n",
       "      <td>Sun</td>\n",
       "      <td>Dinner</td>\n",
       "      <td>2</td>\n",
       "    </tr>\n",
       "    <tr>\n",
       "      <td>4</td>\n",
       "      <td>24.59</td>\n",
       "      <td>3.61</td>\n",
       "      <td>Female</td>\n",
       "      <td>No</td>\n",
       "      <td>Sun</td>\n",
       "      <td>Dinner</td>\n",
       "      <td>4</td>\n",
       "    </tr>\n",
       "  </tbody>\n",
       "</table>\n",
       "</div>"
      ],
      "text/plain": [
       "   total_bill   tip     sex smoker  day    time  size\n",
       "0       16.99  1.01  Female     No  Sun  Dinner     2\n",
       "1       10.34  1.66    Male     No  Sun  Dinner     3\n",
       "2       21.01  3.50    Male     No  Sun  Dinner     3\n",
       "3       23.68  3.31    Male     No  Sun  Dinner     2\n",
       "4       24.59  3.61  Female     No  Sun  Dinner     4"
      ]
     },
     "execution_count": 1,
     "metadata": {},
     "output_type": "execute_result"
    }
   ],
   "source": [
    "# Standard imports\n",
    "import numpy as np\n",
    "import scipy as sp\n",
    "import pandas as pd\n",
    "\n",
    "import seaborn as sns\n",
    "\n",
    "pd.options.display.max_rows = 10\n",
    "\n",
    "# Load the Tips Data\n",
    "tips = pd.read_csv('tips.csv')\n",
    "\n",
    "# Display first few rows\n",
    "tips.head(5)"
   ]
  },
  {
   "cell_type": "code",
   "execution_count": 2,
   "metadata": {},
   "outputs": [
    {
     "data": {
      "text/plain": [
       "array([10.27, 35.26, 15.42, 18.43, 14.83, 21.58, 10.33, 16.29, 16.97,\n",
       "       20.65])"
      ]
     },
     "execution_count": 2,
     "metadata": {},
     "output_type": "execute_result"
    }
   ],
   "source": [
    "# Convert the total_bill column to a NumPy array\n",
    "data = tips.total_bill.values\n",
    "data[10:20]"
   ]
  },
  {
   "cell_type": "markdown",
   "metadata": {},
   "source": [
    "-----\n",
    "[[Back to TOC]](#Table-of-Contents)\n",
    "\n",
    "## Measures of Location\n",
    "\n",
    "### [Mean][1]\n",
    "\n",
    "Given a data set, for example, the `total_bill` column in the _tips_ data set, the first step is often to compute a typical value, in this case the typical bill. The standard approach to this task is to compute the average or (arithmetic) mean ($\\mu$ or $\\overline{x}$):\n",
    "\n",
    "\\begin{equation}\n",
    "\\textrm{Mean} = \\mu = \\overline{x} = \\frac{\\sum_{i=1}^N x_i}{N}\n",
    "\\end{equation}\n",
    "\n",
    "Computing this in Python is generally quite simple, and most data structures (including both Pandas and NumPy) include helper functions for computing this and other descriptive statistics. For example, we can compute the mean value for the `total_bill` column in the tips data:\n",
    "\n",
    "`tips.total_bill.mean()`\n",
    "\n",
    "-----\n",
    "[1]: https://en.wikipedia.org/wiki/Mean"
   ]
  },
  {
   "cell_type": "code",
   "execution_count": 3,
   "metadata": {},
   "outputs": [
    {
     "name": "stdout",
     "output_type": "stream",
     "text": [
      "Total Bill Mean Value =  19.79\n"
     ]
    }
   ],
   "source": [
    "# We compute the mean of data\n",
    "print(f'Total Bill Mean Value = {tips.total_bill.mean():6.2f}')"
   ]
  },
  {
   "cell_type": "markdown",
   "metadata": {},
   "source": [
    "-----\n",
    "\n",
    "The mean (or average) is a commonly used descriptive statistic. However, some data are distributed in ways that make the mean a poor measure for the typical value. For example, if data are bi-modal (with lots of low values and lots of high values), the mean will typically lie between these two clumps of data. Likewise, this can occur if a data set has a number of outliers at one end of a range (such as sales contracts that are much higher than the rest of the sales contracts in a list). In this case, other measures can provide more robust estimates. Some of the more common measures include the median and the mode.\n",
    "\n",
    "\n",
    "### [Median][2]\n",
    "\n",
    "The median is conceptually an easy measure of centrality–half the data lie above and below the median. Thus, to compute the median you first sort the data and select the middle element. While conceptually simple, in practice computing the median is complicated by several issues:\n",
    "\n",
    "1. We need to sort the data, which is challenging for big data (and also implies the data can be sorted).\n",
    "2. For a data set with an even number of values there is no middle value.\n",
    "\n",
    "In the last case, for example, given the list of points `[0, 1, 2, 3, 4, 5]`, we can use three different techniques to compute a median:\n",
    "a. average the two middle values (`median=2.5`),\n",
    "b. take the lower of the two middle values (`median=2`), or\n",
    "c. take the higher of the two middle values (`median=3`).\n",
    "\n",
    "Often, a Python module by default employs the first technique (average the two middle values), although, as demonstrated below.\n",
    "\n",
    "-----\n",
    "\n",
    "[2]: https://en.wikipedia.org/wiki/Median\n"
   ]
  },
  {
   "cell_type": "code",
   "execution_count": 4,
   "metadata": {},
   "outputs": [
    {
     "data": {
      "text/plain": [
       "3.5"
      ]
     },
     "execution_count": 4,
     "metadata": {},
     "output_type": "execute_result"
    }
   ],
   "source": [
    "import numpy as np\n",
    "np.median([1,2,3,4,5,6])"
   ]
  },
  {
   "cell_type": "code",
   "execution_count": 5,
   "metadata": {},
   "outputs": [
    {
     "name": "stdout",
     "output_type": "stream",
     "text": [
      "Total Bill Median Value =  17.80\n"
     ]
    }
   ],
   "source": [
    "print(f'Total Bill Median Value = {tips.total_bill.median():6.2f}')"
   ]
  },
  {
   "cell_type": "markdown",
   "metadata": {},
   "source": [
    "\n",
    "### Mode\n",
    "\n",
    "The mode is simply the most common value in a data set. Often, a mode makes the most sense when the data have been binned, in which case the data have been aggregated and it becomes simple to find the bin with the most values (we will see this in a later lesson on distributions). A mode can also make sense when data are categorical, or explicitly limited to a discrete set of values. In following cell we will find out the most common group size of a meal. Notice that since `size` is a keyword to pandas, we can't refer to the `size` column with `tips.size` as we do for `total_bill` above, we have to use `tips['size']` instead. Also since `mode` can have more than one values, we convert the result which is a pandas Series to a python list.\n",
    "\n",
    "-----"
   ]
  },
  {
   "cell_type": "code",
   "execution_count": 6,
   "metadata": {},
   "outputs": [
    {
     "name": "stdout",
     "output_type": "stream",
     "text": [
      "Total Bill Median Value = [2]\n"
     ]
    }
   ],
   "source": [
    "print(f'Total Bill Median Value = {tips[\"size\"].mode().tolist()}')"
   ]
  },
  {
   "cell_type": "markdown",
   "metadata": {},
   "source": [
    "-----\n",
    "\n",
    "<font color='red' size = '5'> Student Exercise </font>\n",
    "\n",
    "In the empty **Code** cell below, write and execute code to compute the mean and median for the `total_bill` column, separately for those rows corresponding to _lunch_ and _dinner_. What do these values suggest about the typical lunch or dinner party?\n",
    "\n",
    "\n",
    "-----"
   ]
  },
  {
   "cell_type": "code",
   "execution_count": null,
   "metadata": {},
   "outputs": [],
   "source": []
  },
  {
   "cell_type": "markdown",
   "metadata": {},
   "source": [
    "-----\n",
    "[[Back to TOC]](#Table-of-Contents)\n",
    "\n",
    "\n",
    "## Measures of Variability\n",
    "\n",
    "Once we have a measure for the central location of a data set, the next step is to quantify the spread or dispersion of the data around this location. Inherent in this process is the computation of a distance between the data and the central location. Variations in the distance measurement can lead to differences in variability measures, which include the following dispersion measurements:\n",
    "\n",
    "- Range\n",
    "- Variance\n",
    "- Standard deviation\n",
    "\n",
    "\n",
    "### [Range][1]\n",
    "\n",
    "Of these, the simplest is a range measurement, which is simply the difference between two characteristic values. Often these are the minimum and maximum values in a data set. While simple, this provides little insight into the true spread or dispersion of the data, in particular, about the centrality measure (since the mean might lie anywhere between the maximum and minimum values).\n",
    "\n",
    "### [Variance][3]\n",
    "\n",
    "Variance is the expectation of the squared deviation of a random variable from its mean. Informally, it measures how far a set of (random) numbers are spread out from their average value.\n",
    "The formula for the variance is simple:\n",
    "\n",
    "\\begin{equation}\n",
    "\\textrm{Variance} = \\frac{\\sum_{i=1}^N (x_i - \\overline{x})^2}{N}\n",
    "\\end{equation}\n",
    "\n",
    "### [Standard Deviation][4]\n",
    "\n",
    "One concern with the variance, however, is that the units of variance are the square of the original units (for example, length versus length * length). To enable the measure of the variability around the mean to be compared to the mean, we generally will use the standard deviation, which is simply the square root of the variance:\n",
    "\n",
    "\\begin{equation}\n",
    "\\textrm{Standard Deviation} = \\sigma = \\sqrt{\\left(\\frac{\\sum_{i=1}^N (x_i - \\overline{x})^2}{N}\\right)}\n",
    "\\end{equation}\n",
    "\n",
    "Pandas Series and DataFrame have functions to calculate these statistics as shown in below code cell.\n",
    "\n",
    "-----\n",
    "\n",
    "\n",
    "[1]: https://en.wikipedia.org/wiki/Range_(statistics)\n",
    "[3]: https://en.wikipedia.org/wiki/Variance#Sample_variance\n",
    "[4]: https://en.wikipedia.org/wiki/Standard_deviation"
   ]
  },
  {
   "cell_type": "code",
   "execution_count": 7,
   "metadata": {},
   "outputs": [
    {
     "name": "stdout",
     "output_type": "stream",
     "text": [
      "Maximum = 50.8100\n",
      "Minimum = 3.0700\n",
      "Range = 47.7400\n",
      "Variance = 79.2529\n",
      "Standard Deviation = 8.9024\n",
      "\n"
     ]
    }
   ],
   "source": [
    "# Compute Range quantities\n",
    "maximum = tips.total_bill.max()\n",
    "minimum = tips.total_bill.min()\n",
    "print(f'Maximum = {maximum:6.4f}')\n",
    "print(f'Minimum = {minimum:6.4f}')\n",
    "print(f'Range = {maximum-minimum:6.4f}')\n",
    "\n",
    "# Variance and standard deviation\n",
    "print(f'Variance = {tips.total_bill.var():6.4f}')\n",
    "print(f'Standard Deviation = {tips.total_bill.std():6.4f}\\n')"
   ]
  },
  {
   "cell_type": "markdown",
   "metadata": {},
   "source": [
    "-----\n",
    "\n",
    "<font color='red' size = '5'> Student Exercise </font>\n",
    "\n",
    "In the empty **Code** cell below, write and execute code to compute the standard deviation for the `total_bill` column, separately for those rows corresponding to _lunch_ and _dinner_. What do these values suggest about the typical lunch or dinner party? Also, compare the coefficient of variation for the same data. Do these values also make sense?\n",
    "\n",
    "\n",
    "-----"
   ]
  },
  {
   "cell_type": "code",
   "execution_count": null,
   "metadata": {},
   "outputs": [],
   "source": []
  },
  {
   "cell_type": "markdown",
   "metadata": {},
   "source": [
    "-----\n",
    "[[Back to TOC]](#Table-of-Contents)\n",
    "\n",
    "## Measures of Distribution\n",
    "\n",
    "While useful, measures of location and dispersion are only two numbers. Thus, other techniques exist for analytically quantifying a distribution of data. Fundamentally, these techniques all rely on sorting the data and finding the value  below which a certain percentage of data lie. In this manner, one _percentile_ would correspond to one percent of the data, while the median would correspond to fifty percent of the data. Formally, the following pre-defined measures are commonly used:\n",
    "\n",
    "4. Percentiles: Divides the data into one percent chunks, the value indicates which percentile is of interest\n",
    "5. Deciles: Divides the data into ten chunks, each containing 10% of the data\n",
    "6. Quantiles: Divides the data into five chunks, each containing 20% of the data\n",
    "7. Quartiles: Divides the data into four chunks, each containing 25% of the data\n",
    "\n",
    "With NumPy we just use `percentile` function for all of these and specify the appropriate value for the percentile. Thus for the second decile, we specify `np.percentile(data, 20)`. The following Code cell demonstrates some of the more common values.\n",
    "\n",
    "-----"
   ]
  },
  {
   "cell_type": "code",
   "execution_count": 8,
   "metadata": {},
   "outputs": [
    {
     "name": "stdout",
     "output_type": "stream",
     "text": [
      "Median (via percentile) = 17.7950\n",
      "First Quartile = 13.3475\n",
      "Second Quartile = 17.7950\n",
      "Third Quartile = 24.1275\n",
      "Fourth Quartile = 50.8100\n",
      "Quartile Range = 10.7800\n"
     ]
    }
   ],
   "source": [
    "# Demonstrate percentile with the Median\n",
    "data = tips.total_bill.values\n",
    "print(f'Median (via percentile) = {np.percentile(data, 50):6.4f}')\n",
    "\n",
    "# Compute quartiles\n",
    "print(f'First Quartile = {np.percentile(data, 25):6.4f}')\n",
    "print(f'Second Quartile = {np.percentile(data, 50):6.4f}')\n",
    "print(f'Third Quartile = {np.percentile(data, 75):6.4f}')\n",
    "print(f'Fourth Quartile = {np.percentile(data, 100):6.4f}')\n",
    "\n",
    "# Interquartile range is sometimes used as a dispersion measure\n",
    "print(f'Quartile Range = {np.percentile(data, 75) - np.percentile(data, 25):6.4f}')"
   ]
  },
  {
   "cell_type": "code",
   "execution_count": 9,
   "metadata": {},
   "outputs": [
    {
     "name": "stdout",
     "output_type": "stream",
     "text": [
      "First Quantile = {np.percentile(data, 20):6.4f}\n",
      "Second Quantile = {np.percentile(data, 40):6.4f}\n",
      "Third Quantile = {np.percentile(data, 60):6.4f}\n",
      "Fourth Quantile = {np.percentile(data, 80):6.4f}\n"
     ]
    }
   ],
   "source": [
    "# Compute quantiles\n",
    "print('First Quantile = {np.percentile(data, 20):6.4f}')\n",
    "print('Second Quantile = {np.percentile(data, 40):6.4f}')\n",
    "print('Third Quantile = {np.percentile(data, 60):6.4f}')\n",
    "print('Fourth Quantile = {np.percentile(data, 80):6.4f}')"
   ]
  },
  {
   "cell_type": "markdown",
   "metadata": {},
   "source": [
    "-----\n",
    "[[Back to TOC]](#Table-of-Contents)\n",
    "\n",
    "## Pandas Descriptive Statitics\n",
    "\n",
    "Pandas Series and DataFrame function `describe()` generates descriptive statistics that summarize the central tendency, dispersion and shape of a dataset’s distribution, excluding NaN values. The function lists count of not NaN values, mean, standard deviation, quartiles including min and max of numeric columns. "
   ]
  },
  {
   "cell_type": "code",
   "execution_count": 10,
   "metadata": {
    "scrolled": true
   },
   "outputs": [
    {
     "data": {
      "text/html": [
       "<div>\n",
       "<style scoped>\n",
       "    .dataframe tbody tr th:only-of-type {\n",
       "        vertical-align: middle;\n",
       "    }\n",
       "\n",
       "    .dataframe tbody tr th {\n",
       "        vertical-align: top;\n",
       "    }\n",
       "\n",
       "    .dataframe thead th {\n",
       "        text-align: right;\n",
       "    }\n",
       "</style>\n",
       "<table border=\"1\" class=\"dataframe\">\n",
       "  <thead>\n",
       "    <tr style=\"text-align: right;\">\n",
       "      <th></th>\n",
       "      <th>total_bill</th>\n",
       "      <th>tip</th>\n",
       "      <th>size</th>\n",
       "    </tr>\n",
       "  </thead>\n",
       "  <tbody>\n",
       "    <tr>\n",
       "      <td>count</td>\n",
       "      <td>244.000000</td>\n",
       "      <td>244.000000</td>\n",
       "      <td>244.000000</td>\n",
       "    </tr>\n",
       "    <tr>\n",
       "      <td>mean</td>\n",
       "      <td>19.785943</td>\n",
       "      <td>2.998279</td>\n",
       "      <td>2.569672</td>\n",
       "    </tr>\n",
       "    <tr>\n",
       "      <td>std</td>\n",
       "      <td>8.902412</td>\n",
       "      <td>1.383638</td>\n",
       "      <td>0.951100</td>\n",
       "    </tr>\n",
       "    <tr>\n",
       "      <td>min</td>\n",
       "      <td>3.070000</td>\n",
       "      <td>1.000000</td>\n",
       "      <td>1.000000</td>\n",
       "    </tr>\n",
       "    <tr>\n",
       "      <td>25%</td>\n",
       "      <td>13.347500</td>\n",
       "      <td>2.000000</td>\n",
       "      <td>2.000000</td>\n",
       "    </tr>\n",
       "    <tr>\n",
       "      <td>50%</td>\n",
       "      <td>17.795000</td>\n",
       "      <td>2.900000</td>\n",
       "      <td>2.000000</td>\n",
       "    </tr>\n",
       "    <tr>\n",
       "      <td>75%</td>\n",
       "      <td>24.127500</td>\n",
       "      <td>3.562500</td>\n",
       "      <td>3.000000</td>\n",
       "    </tr>\n",
       "    <tr>\n",
       "      <td>max</td>\n",
       "      <td>50.810000</td>\n",
       "      <td>10.000000</td>\n",
       "      <td>6.000000</td>\n",
       "    </tr>\n",
       "  </tbody>\n",
       "</table>\n",
       "</div>"
      ],
      "text/plain": [
       "       total_bill         tip        size\n",
       "count  244.000000  244.000000  244.000000\n",
       "mean    19.785943    2.998279    2.569672\n",
       "std      8.902412    1.383638    0.951100\n",
       "min      3.070000    1.000000    1.000000\n",
       "25%     13.347500    2.000000    2.000000\n",
       "50%     17.795000    2.900000    2.000000\n",
       "75%     24.127500    3.562500    3.000000\n",
       "max     50.810000   10.000000    6.000000"
      ]
     },
     "execution_count": 10,
     "metadata": {},
     "output_type": "execute_result"
    }
   ],
   "source": [
    "tips.describe()"
   ]
  },
  {
   "cell_type": "markdown",
   "metadata": {},
   "source": [
    "-----\n",
    "[[Back to TOC]](#Table-of-Contents)\n",
    "\n",
    "## Exploratory Data Analysis\n",
    "\n",
    "Exploratory Data Analysis, or EDA, refers to the critical process of performing initial investigations on data so as to discover patterns, to spot anomalies, to test hypothesis and to check assumptions with the help of summary statistics and graphical representations.\n",
    "\n",
    "A statistical model introduced above can be used to see what the data can tell us. But mostly, a graphical approach will be used in EDA. We will introduce some basic data visualizations for EDA in the following lesson."
   ]
  },
  {
   "cell_type": "markdown",
   "metadata": {},
   "source": [
    "-----\n",
    "\n",
    "<font color='red' size = '5'> Student Exercise </font>\n",
    "\n",
    "In the empty **Code** cell below, print descriptive statistics of total_bill, tip and size, separately for those rows corresponding to _lunch_ and _dinner_. What do these values suggest about the typical lunch or dinner party?\n",
    "\n",
    "-----"
   ]
  },
  {
   "cell_type": "code",
   "execution_count": null,
   "metadata": {},
   "outputs": [],
   "source": []
  },
  {
   "cell_type": "markdown",
   "metadata": {},
   "source": [
    "-----\n",
    "\n",
    "## Ancillary Information\n",
    "\n",
    "The following links are to additional documentation that you might find helpful in learning this material. Reading these web-accessible documents is completely optional.\n",
    "\n",
    "1. [NumPy statistics][1] documentation\n",
    "2. The [Python statistics module][2]\n",
    "3. Blog article by Randal Olsen on [statistical analysis][4] with Pandas\n",
    "4. The [exploratory data analysis chapter][ts2c] from the book _Think Stats 2e_ by Allen Downey\n",
    "\n",
    "-----\n",
    "\n",
    "[1]: https://docs.scipy.org/doc/numpy/reference/routines.statistics.html\n",
    "[2]: https://docs.python.org/3/library/statistics.html\n",
    "[4]: http://www.randalolson.com/2012/08/06/statistical-analysis-made-easy-in-python/\n",
    "[ts2c]: http://greenteapress.com/thinkstats2/html/index.html"
   ]
  },
  {
   "cell_type": "markdown",
   "metadata": {
    "deletable": false,
    "editable": false
   },
   "source": [
    "**&copy; 2019: Gies College of Business at the University of Illinois.**\n",
    "\n",
    "This notebook is released under the [Creative Commons license CC BY-NC-SA 4.0][ll]. Any reproduction, adaptation, distribution, dissemination or making available of this notebook for commercial use is not allowed unless authorized in writing by the copyright holder.\n",
    "\n",
    "[ll]: https://creativecommons.org/licenses/by-nc-sa/4.0/legalcode"
   ]
  }
 ],
 "metadata": {
  "kernelspec": {
   "display_name": "Python 3",
   "language": "python",
   "name": "python3"
  },
  "language_info": {
   "codemirror_mode": {
    "name": "ipython",
    "version": 3
   },
   "file_extension": ".py",
   "mimetype": "text/x-python",
   "name": "python",
   "nbconvert_exporter": "python",
   "pygments_lexer": "ipython3",
   "version": "3.7.3"
  }
 },
 "nbformat": 4,
 "nbformat_minor": 4
}
