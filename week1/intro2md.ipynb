{
 "cells": [
  {
   "cell_type": "markdown",
   "metadata": {},
   "source": [
    "# Introduction to Markdown\n",
    "\n",
    "-----"
   ]
  },
  {
   "cell_type": "markdown",
   "metadata": {},
   "source": [
    "[Markdown][1] is a plain text formatting syntax that you can easily use to write text that can be converted to formatted text. Markdown was developed by John Gruber, who runs the popular [Daring Fireball][df] blog. \n",
    "\n",
    "Markdown is [free software][2] that is available under a BSD-style open source license. The Jupyter organization has [documentation][3] that demonstrates how to use Markdown within a cell to produce formatted text, and of course we often use documentation presented in Jupyter Notebooks that use Markdown cells.\n",
    "\n",
    "The rest of this Jupyter Notebook will review the standard mechanisms for documenting your work in Markdown.\n",
    "\n",
    "-----\n",
    "[df]: http://daringfireball.net\n",
    "[1]: http://daringfireball.net/projects/markdown/\n",
    "[2]: http://daringfireball.net/projects/markdown/license\n",
    "[3]: http://jupyter-notebook.readthedocs.io/en/latest/examples/Notebook/Working%20With%20Markdown%20Cells.html"
   ]
  },
  {
   "cell_type": "markdown",
   "metadata": {},
   "source": [
    "## Table of Contents\n",
    "\n",
    "[Header Text](#Header-Text)  \n",
    "\n",
    "[Paragraphs](#Paragraphs)  \n",
    "\n",
    "[Text Styling](#Text-Styling)  \n",
    "\n",
    "[Lists](#Lists)  \n",
    "\n",
    "[Representing Code](#Representing-Code)  \n",
    "\n",
    "[Quoting Text](#Quoting-Text)  \n",
    "\n",
    "[Math Formulae](#Math-Formulae)  \n",
    "\n",
    "[Other Markdown Elements](#Other-Markdown-Elements)  "
   ]
  },
  {
   "cell_type": "markdown",
   "metadata": {},
   "source": [
    "-----\n",
    "[[Back to TOC]](#Table-of-Contents)\n",
    "\n",
    "## Header Text\n",
    "\n",
    "You can mark different sections of text by using different header levels (you can also use the IPython Notebook _Header_ cells). Markdown provides support for six header levels, which are generally marked by one or more hash `#` characters, where the number of hash characters indicates the header level. For example, to make a first level header text called _Markdown_ followed by a second level header called _Header Text_, you would use the following:\n",
    "\n",
    "```\n",
    "\n",
    "# Markdown\n",
    "  \n",
    "## Header Text\n",
    "\n",
    "```\n",
    "\n",
    "-----"
   ]
  },
  {
   "cell_type": "markdown",
   "metadata": {},
   "source": [
    "<font color='red' size = '5'> Student Exercise </font>\n",
    "\n",
    "Insert a cell below, convert it to markdown cell. Create level one header, followed by level two, three..., render the markdown cell by running it.  \n",
    "How many levels does notebook support?  \n",
    "*Try using keyboard shortcut as much as possible.*\n"
   ]
  },
  {
   "cell_type": "markdown",
   "metadata": {},
   "source": [
    "-----\n",
    "[[Back to TOC]](#Table-of-Contents)\n",
    "\n",
    "## Paragraphs\n",
    "\n",
    "Normally, you simply write text as normal for a document. Paragraphs are simply one or more lines that are enclosed in blank lines. If you need to insert a line break between two lines of text (sometimes useful when writing out lists), you simply add two or more blank spaces at the end of the line to break.\n"
   ]
  },
  {
   "cell_type": "markdown",
   "metadata": {},
   "source": [
    "-----\n",
    "[[Back to TOC]](#Table-of-Contents)\n",
    "\n",
    "## Text Styling\n",
    "\n",
    "You can easily indicate text that should be _italicized_ by enclosing the appropriate text in either single asterisk `*` characters or single underscore `_` characters. Likewise, for __bold__ text, you enclose the text in two asterisk `**` or underscore `__` characters. My personal preference is to underscore characters; for example, the following Markdown text will first create __bold text__ followed by _italics text_:\n",
    "\n",
    "```\n",
    "first create __bold text__ followed by _italics text_\n",
    "```\n",
    "\n",
    "first create __bold text__ followed by _italics text_\n",
    "\n",
    "-----"
   ]
  },
  {
   "cell_type": "markdown",
   "metadata": {},
   "source": [
    "<font color='red' size = '5'> Student Exercise </font>\n",
    "\n",
    "Insert a new **Markdown** cell below, write a Markdown formatted document that includes a first level heading, a sentence, a second level heading, and two paragraphs. Be sure to include both **bolded** text and _italicized_ text in the document.\n"
   ]
  },
  {
   "cell_type": "markdown",
   "metadata": {},
   "source": [
    "-----\n",
    "[[Back to TOC]](#Table-of-Contents)\n",
    "\n",
    "## Lists\n",
    "\n",
    "You can easily create two types of lists in Markdown: unordered and ordered, both of which can be nested. To make a simple unordered list, we simply prefix the list entries (that is a line) by a dash `-`, single asterisk `*`, or plus `+` character. To create a nested list, you indent the nested list by one or more spaces. For consistency, I prefer to use the dash `-` character to indicate unordered lists. For example, the following Markdown:\n",
    "\n",
    "```\n",
    "- Item 1\n",
    "- Item 2\n",
    " - Item 2.1\n",
    " - Item 2.2\n",
    "- Item 3\n",
    "```\n",
    "\n",
    "will produce the following list:\n",
    "- Item 1\n",
    "- Item 2\n",
    " - Item 2.1\n",
    " - Item 2.2\n",
    "- Item 3\n",
    "\n",
    "Ordered lists are similar, but are prefixed by numbers and a period, for example `1.` for the first item. The Markdown numbers used to indicate list items do not have to start at one, nor must they be sequential. As an example, the text generated from the following Markdown will be formatted to begin at one and proceed sequentially.\n",
    "\n",
    "```\n",
    "1. Item 1\n",
    "4. Item 2  \n",
    "2. Item 3\n",
    "```\n",
    "\n",
    "will produce the following list:\n",
    "1. Item 1\n",
    "4. Item 2  \n",
    "2. Item 3\n"
   ]
  },
  {
   "cell_type": "markdown",
   "metadata": {},
   "source": [
    "-----\n",
    "[[Back to TOC]](#Table-of-Contents)\n",
    "\n",
    "## Representing Code\n",
    "\n",
    "One of the most useful features of Markdown is the ability to include formatted code directly in the text. Code elements can be included in two manners: inline and block. Inline code elements are simply wrapped in single tick mark ``` characters. For example, the Markdown \\`print(\"Hello World!\")\\` renders as `print(\"Hello World!\")`. \n",
    "\n",
    "For longer code blocks, you can enclose the block in three tick marks(```). Double click this cell to see markdown of following code block example.\n",
    "\n",
    "```\n",
    "x = 3  \n",
    "y = 4  \n",
    "z = 5   \n",
    "  \n",
    "print(\"%b\" % (x**2 + y**2 = z**2) \n",
    "```   "
   ]
  },
  {
   "cell_type": "markdown",
   "metadata": {},
   "source": [
    "-----\n",
    "[[Back to TOC]](#Table-of-Contents)\n",
    "\n",
    "## Quoting Text\n",
    "\n",
    "You also can write quoted text by prefixing the line with a greater-than `>` character. You can also write multi-line block quoted text by prefixing every line with a greater-than `>` character. For example, the following Markdown:  \n",
    "\n",
    "```\n",
    "> Here is a long line of text  \n",
    "> that we wrapped over multiple lines by inserting a Markdown line break  \n",
    "> that is of course multiple space characters inserted at the end  \n",
    "> of a line.\n",
    "```\n",
    "\n",
    "will produce the following formatted text:\n",
    "\n",
    "> Here is a long line of text  \n",
    "> that we wrapped over multiple lines by inserting a Markdown line break  \n",
    "> that is of course multiple space characters inserted at the end  \n",
    "> of a line.\n",
    "\n",
    "For more detailed discussion, look at the official [Markdown][1] documentation.\n",
    "\n",
    "-----\n",
    "\n",
    "[1]: http://daringfireball.net/projects/markdown/"
   ]
  },
  {
   "cell_type": "markdown",
   "metadata": {},
   "source": [
    "<font color='red' size = '5'> Student Exercise </font>\n",
    "\n",
    "Insert a new **Markdown** cell below, write a Markdown formatted document that includes an unordered list, an ordered list, a quotation, and a simple `python` script (you can copy the previous Python script from this notebook).\n"
   ]
  },
  {
   "cell_type": "markdown",
   "metadata": {},
   "source": [
    "-----\n",
    "[[Back to TOC]](#Table-of-Contents)\n",
    "\n",
    "## Math Formulae\n",
    "\n",
    "We can include detailed math formulae in a markdown cell by using [LaTeX][1], a general purpose text formatting language that is commonly used in academia for scientific articles. LaTeX can be difficult to master but is fairly simple for writing simple math formulae. The LaTeX formulae are translated for display in a web browser by the [MathJax][2] Javascript display engine. \n",
    "\n",
    "To indicate a LaTeX formula, the simplest approach is to enclose the relevant LaTeX between dollar sign characters, `$ ... $` or to make the expression appear on its own line you enclose the expression between double dollar sign characters, `$$ ... $$`. Many specific functions or math symbols are prefixed with a forward slash character, `\\`. For example, to write the LaTeX formula for lowercase Greek character theta, you would write `$\\theta$`. The [support for mathematical expressions][3] in LaTeX is quite extensive, and there are tools, such as [LaTeXit][4] or browser add-ons that can help build and test LaTeX expressions.\n",
    "\n",
    "For example, the LaTeX expression \n",
    "\n",
    "```\n",
    "$\\int_0^{\\pi} \\sin(\\theta)\\ d\\theta = 2$\n",
    "```\n",
    "\n",
    "is translated into \n",
    "\n",
    "$\\int_0^{\\pi} \\sin(\\theta)\\ d\\theta = 2$ \n",
    "\n",
    "in a Markdown cell by MathJaX.\n",
    "\n",
    "LaTeX can also be used in code blocks to provide cleaner or more descriptive plot labels (for example, theta versus $\\theta$).\n",
    "\n",
    "[1]: http://latex-project.org\n",
    "[2]: http://www.mathjax.org\n",
    "[3]: https://en.wikibooks.org/wiki/LaTeX/Mathematics\n",
    "[4]: http://pierre.chachatelier.fr/latexit/latexit-home.php?lang=en"
   ]
  },
  {
   "cell_type": "markdown",
   "metadata": {},
   "source": [
    "-----\n",
    "[[Back to TOC]](#Table-of-Contents)\n",
    "\n",
    "## Other Markdown Elements\n",
    "You may create a lot of other markdown elements, like table of content, web links, tables etc. You can find samples in the notebooks of this course or on the internet. We also provide a list of web pages that introduce markdown in more detail below."
   ]
  },
  {
   "cell_type": "markdown",
   "metadata": {},
   "source": [
    "## Ancillary Information\n",
    "\n",
    "The following links are to additional documentation that you might find helpful in learning this material. Reading these web-accessible documents is completely optional.\n",
    "\n",
    "1. The official [Markdown][1] documentation.\n",
    "2. Github [Markdown][2] documentation.\n",
    "3. Github [Markdown Cheatsheet][mc].\n",
    "\n",
    "-----\n",
    "\n",
    "[1]: http://daringfireball.net/projects/markdown/\n",
    "[2]: https://guides.github.com/features/mastering-markdown/\n",
    "[mc]: https://guides.github.com/pdfs/markdown-cheatsheet-online.pdf"
   ]
  },
  {
   "cell_type": "markdown",
   "metadata": {
    "deletable": false,
    "editable": false
   },
   "source": [
    "**&copy; 2019: Gies College of Business at the University of Illinois.**\n",
    "\n",
    "This notebook is released under the [Creative Commons license CC BY-NC-SA 4.0][ll]. Any reproduction, adaptation, distribution, dissemination or making available of this notebook for commercial use is not allowed unless authorized in writing by the copyright holder.\n",
    "\n",
    "[ll]: https://creativecommons.org/licenses/by-nc-sa/4.0/legalcode"
   ]
  }
 ],
 "metadata": {
  "kernelspec": {
   "display_name": "Python 3",
   "language": "python",
   "name": "python3"
  },
  "language_info": {
   "codemirror_mode": {
    "name": "ipython",
    "version": 3
   },
   "file_extension": ".py",
   "mimetype": "text/x-python",
   "name": "python",
   "nbconvert_exporter": "python",
   "pygments_lexer": "ipython3",
   "version": "3.7.1"
  }
 },
 "nbformat": 4,
 "nbformat_minor": 1
}
