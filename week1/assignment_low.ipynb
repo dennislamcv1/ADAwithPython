{
 "cells": [
  {
   "cell_type": "markdown",
   "metadata": {
    "deletable": false,
    "editable": false,
    "nbgrader": {
     "cell_type": "markdown",
     "checksum": "170a026f18bfb8988362a335b3086d2b",
     "grade": false,
     "grade_id": "cell-5473c5db0748f0e2",
     "locked": true,
     "schema_version": 3,
     "solution": false
    }
   },
   "source": [
    "\n",
    "# Module 1 Assignment\n",
    "\n",
    "\n",
    "A few things you should keep in mind when working on assignments:\n",
    "\n",
    "1. Run the first code cell to import modules needed by this assignment before proceeding to problems.\n",
    "2. Make sure you fill in any place that says `# YOUR CODE HERE`. Do not write your answer anywhere else other than where it says `# YOUR CODE HERE`. Anything you write elsewhere will be removed or overwritten by the autograder.\n",
    "3. Each problem has an autograder cell below the answer cell. Run the autograder cell to check your answer. If there's anything wrong in your answer, the autograder cell will display error messages.\n",
    "4. Before you submit your assignment, make sure everything runs as expected. Go to the menubar, select Kernel, and Restart & Run all. If the notebook runs through the last code cell without an error message, you've answered all problems correctly.\n",
    "5. Make sure that you save your work (in the menubar, select File → Save and CheckPoint).\n",
    "\n",
    "-----"
   ]
  },
  {
   "cell_type": "markdown",
   "metadata": {
    "deletable": false,
    "editable": false,
    "nbgrader": {
     "cell_type": "markdown",
     "checksum": "0fab651ca07b69c10c695aca4c790944",
     "grade": false,
     "grade_id": "cell-b13433d4a4c009d5",
     "locked": true,
     "schema_version": 3,
     "solution": false
    }
   },
   "source": [
    "# Run Me First!"
   ]
  },
  {
   "cell_type": "code",
   "execution_count": null,
   "metadata": {
    "deletable": false,
    "editable": false,
    "nbgrader": {
     "cell_type": "code",
     "checksum": "b554a81018a4b5e3a0e60d31020f3e93",
     "grade": false,
     "grade_id": "cell-ee9840206d8246e8",
     "locked": true,
     "schema_version": 3,
     "solution": false
    }
   },
   "outputs": [],
   "source": [
    "import numpy as np\n",
    "from nose.tools import assert_equal, assert_almost_equals, assert_not_equal\n",
    "import warnings\n",
    "warnings.filterwarnings(\"ignore\", category=DeprecationWarning) "
   ]
  },
  {
   "cell_type": "markdown",
   "metadata": {
    "deletable": false,
    "editable": false,
    "nbgrader": {
     "cell_type": "markdown",
     "checksum": "7e5525d3ed919a099e7b4096830ae0d7",
     "grade": false,
     "grade_id": "p1-desc",
     "locked": true,
     "schema_version": 3,
     "solution": false
    }
   },
   "source": [
    "# Problem 1: Running your first Python code\n",
    "\n",
    "- Type \"x = 3.14\" without quotation marks in the below cell and run it."
   ]
  },
  {
   "cell_type": "code",
   "execution_count": null,
   "metadata": {
    "deletable": false,
    "nbgrader": {
     "cell_type": "code",
     "checksum": "e8a2e206ac1b6a6e4246568880a89d2b",
     "grade": false,
     "grade_id": "p1-answer",
     "locked": false,
     "schema_version": 3,
     "solution": true
    }
   },
   "outputs": [],
   "source": [
    "# YOUR CODE HERE\n"
   ]
  },
  {
   "cell_type": "code",
   "execution_count": null,
   "metadata": {
    "deletable": false,
    "editable": false,
    "nbgrader": {
     "cell_type": "code",
     "checksum": "fb6e0e8e4dcb749372b29e587c3ec8c0",
     "grade": true,
     "grade_id": "p1-test",
     "locked": true,
     "points": 1,
     "schema_version": 3,
     "solution": false
    }
   },
   "outputs": [],
   "source": [
    "try:\n",
    "    if ((x==3.14) & (type(x)==float)):\n",
    "        print('Great! You ran your first Python code!')\n",
    "    else:\n",
    "        print('x is not the right value check your code and run again')\n",
    "except NameError:\n",
    "    print('x is not defined! You need to run the code cell!')\n",
    "\n",
    "assert_equal(x,3.14,msg='x is not equal to 3.14!')"
   ]
  },
  {
   "cell_type": "markdown",
   "metadata": {
    "deletable": false,
    "editable": false,
    "nbgrader": {
     "cell_type": "markdown",
     "checksum": "e39fe1f8bc599e273a661b350d1ea3b0",
     "grade": false,
     "grade_id": "p2-desc",
     "locked": true,
     "schema_version": 3,
     "solution": false
    }
   },
   "source": [
    "# Problem 2: Use cell magic to view a plot inline\n",
    "\n",
    "- In the below code cell, type \"%matplotlib inline\" and then run the cell. This allows Python plots to be shown inside the notebook."
   ]
  },
  {
   "cell_type": "code",
   "execution_count": null,
   "metadata": {
    "deletable": false,
    "nbgrader": {
     "cell_type": "code",
     "checksum": "ad3e68d81714248d80f7866ce53b9def",
     "grade": false,
     "grade_id": "p2-answer",
     "locked": false,
     "schema_version": 3,
     "solution": true
    }
   },
   "outputs": [],
   "source": [
    "# YOUR CODE HERE\n"
   ]
  },
  {
   "cell_type": "code",
   "execution_count": null,
   "metadata": {
    "deletable": false,
    "editable": false,
    "nbgrader": {
     "cell_type": "code",
     "checksum": "cbc095b52caccac295f00de7b69f535b",
     "grade": true,
     "grade_id": "p2-test",
     "locked": true,
     "points": 1,
     "schema_version": 3,
     "solution": false
    }
   },
   "outputs": [],
   "source": [
    "theta = np.arange(0., np.pi, 0.01)\n",
    "y = np.sin(theta)\n",
    "\n",
    "import matplotlib.pyplot as plt\n",
    "\n",
    "plt.plot(theta, y)\n",
    "plt.xlabel(r\"$\\theta$\")\n",
    "plt.ylabel(r\"$\\sin$($\\theta$)\")\n",
    "plt.title(\"My Plot\")\n",
    "plt.show()"
   ]
  },
  {
   "cell_type": "markdown",
   "metadata": {
    "deletable": false,
    "editable": false,
    "nbgrader": {
     "cell_type": "markdown",
     "checksum": "f44d22533cec024f1d12be0e52598199",
     "grade": false,
     "grade_id": "p3-desc",
     "locked": true,
     "schema_version": 3,
     "solution": false
    }
   },
   "source": [
    "# Problem 3: Change the cell type\n",
    "\n",
    "- The below cell is in Markdown format. Change the cell type so that the cell type is now \"code\" and then run the cell. Note that although \"#YOUR CODE HERE\" appears in the cell, no code writing is necessary. \n",
    "\n",
    "\n",
    "- HINT: Look at the \"Cell\" tab in the notebook menu bar."
   ]
  },
  {
   "cell_type": "markdown",
   "metadata": {},
   "source": [
    "#YOUR CODE HERE\n",
    "\n",
    "z = 'Change my cell type to code so I can run!'"
   ]
  },
  {
   "cell_type": "code",
   "execution_count": null,
   "metadata": {
    "deletable": false,
    "editable": false,
    "nbgrader": {
     "cell_type": "code",
     "checksum": "68248e2b27360fc53f89fa4bebfdefcb",
     "grade": true,
     "grade_id": "p3-test",
     "locked": true,
     "points": 1,
     "schema_version": 3,
     "solution": false
    }
   },
   "outputs": [],
   "source": [
    "try:\n",
    "    if ((z=='Change my cell type to code so I can run!') & (type(z)==str)):\n",
    "        print('Great! You changed the cell type')\n",
    "except NameError:\n",
    "    print('z is not defined! Check the cell type!')\n",
    "    \n",
    "assert_equal(type(z),str,msg='z is not defined! change the cell type!')"
   ]
  },
  {
   "cell_type": "markdown",
   "metadata": {
    "deletable": false,
    "editable": false,
    "nbgrader": {
     "cell_type": "markdown",
     "checksum": "d54922891dabd47175a2868303d6671e",
     "grade": false,
     "grade_id": "p4-desc",
     "locked": true,
     "schema_version": 3,
     "solution": false
    }
   },
   "source": [
    "# Problem 4: Write a Markdown header\n",
    "\n",
    "- The below cell is in code format, but we can use the IPython.display module to write Markdown formatted code as Python strings, and then display it as Markdown.\n",
    "\n",
    "\n",
    "- In the below cell, in between the two ` '''` statements, write Markdown code that would produce the **largest possible** Markdown header. The header text should be \"My first header\".\n",
    "\n",
    "After you run your answer code cell and the cell below, the output of the cell below the answer cell should look like this:\n",
    "# YOUR CODE HERE  \n",
    "# My first header"
   ]
  },
  {
   "cell_type": "code",
   "execution_count": null,
   "metadata": {
    "deletable": false,
    "nbgrader": {
     "cell_type": "code",
     "checksum": "15d0dc6c484533a7ce6e93bb9b468936",
     "grade": false,
     "grade_id": "p4-answer",
     "locked": false,
     "schema_version": 3,
     "solution": true
    }
   },
   "outputs": [],
   "source": [
    "md='''\n",
    "\n",
    "# YOUR CODE HERE\n",
    "\n",
    "\n",
    "\n",
    "'''"
   ]
  },
  {
   "cell_type": "code",
   "execution_count": null,
   "metadata": {
    "deletable": false,
    "editable": false,
    "nbgrader": {
     "cell_type": "code",
     "checksum": "0ef228749a2a47ce19aeed306fc1bca3",
     "grade": false,
     "grade_id": "cell-f1c9d9d6428d2285",
     "locked": true,
     "schema_version": 3,
     "solution": false
    }
   },
   "outputs": [],
   "source": [
    "#Let's view the Markdown\n",
    "from IPython.display import Markdown\n",
    "display(Markdown(md))"
   ]
  },
  {
   "cell_type": "code",
   "execution_count": null,
   "metadata": {
    "deletable": false,
    "editable": false,
    "nbgrader": {
     "cell_type": "code",
     "checksum": "b0afad68c3cb5697b826a994fece24ce",
     "grade": true,
     "grade_id": "p4-test",
     "locked": true,
     "points": 1,
     "schema_version": 3,
     "solution": false
    }
   },
   "outputs": [],
   "source": [
    "text = md.find('# My first header')\n",
    "assert_not_equal(text,-1,msg='Make sure you are using the largest header.')"
   ]
  }
 ],
 "metadata": {
  "coursera": {
   "course_slug": "accounting-data-analytics-python",
   "graded_item_id": "5FK0X",
   "launcher_item_id": "w5fdK"
  },
  "kernelspec": {
   "display_name": "Python 3",
   "language": "python",
   "name": "python3"
  },
  "language_info": {
   "codemirror_mode": {
    "name": "ipython",
    "version": 3
   },
   "file_extension": ".py",
   "mimetype": "text/x-python",
   "name": "python",
   "nbconvert_exporter": "python",
   "pygments_lexer": "ipython3",
   "version": "3.7.3"
  }
 },
 "nbformat": 4,
 "nbformat_minor": 2
}
