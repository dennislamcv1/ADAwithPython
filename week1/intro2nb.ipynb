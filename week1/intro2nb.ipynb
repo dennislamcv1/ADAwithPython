{
 "cells": [
  {
   "cell_type": "markdown",
   "metadata": {},
   "source": [
    "# Introduction to the Jupyter Notebook\n",
    "\n",
    "-----"
   ]
  },
  {
   "cell_type": "markdown",
   "metadata": {},
   "source": [
    "The **Jupyter Notebook** is an open-source web application that allows you to create and share documents that contain live code, equations, visualizations and narrative text. The Jupyter Notebook supports over 40 programming languages, including Python, R and Julia. With the Notebook, one can perform data cleaning and transformation, numerical simulation, statistical modeling, data visualization, machine learning, and much more.\n",
    "\n",
    "---"
   ]
  },
  {
   "cell_type": "markdown",
   "metadata": {},
   "source": [
    "## Table of Contents\n",
    "\n",
    "[The Dashboard](#The-Dashboard)\n",
    "\n",
    "[The Notebook](#The-Notebook)  \n",
    "\n",
    "[Basic Workflow](#Basic-Workflow)  \n",
    "\n",
    "[Magics](#Magics)  \n",
    "\n",
    "[Writing Markdown Document](#Writing-Markdown-Document)  \n",
    "\n",
    "[Writing and Executing Code](#Writing-and-Executing-Code)  \n",
    "\n",
    "[Download Notebook](#Download-Notebook)\n",
    "\n",
    "[Install Your Own Jupyter Notebook Server](#Install-Your-Own-Jupyter-Notebook-Server)\n",
    "\n",
    "---"
   ]
  },
  {
   "cell_type": "markdown",
   "metadata": {},
   "source": [
    "Our coverage of most of these topics will be brief, and given the time limitations of this course, some topics will be covered in more detail in subsequent lessons. For some topics, links will be provided for more detailed reference; a good example is Jupyter's [Rich Output][1] capabilities. However, we will explore some topics, such as writing and executing code, in more detail through the rest of this course. \n",
    "\n",
    "The Jupyter team has provided a nice [introduction to working][2] in an Jupyter Notebook, including how to use the menu commands, toolbar, and keyboard shortcuts. Of these, the most important points are to use the mouse to select a cell by single-clicking, and to enter a cell for editing by double-clicking. To have the notebook kernel process a cell, you can either enter control-return, which processes and remains in the current cell, or shift-return, which processes the cell and advances to the next cell. Finally, another important keyboard trick is to place a question mark, `?`, at the end of a notebook magic or Python keyword to bring up an notebook message window that provides online details for the magic or keyword.\n",
    "\n",
    "[1]: http://nbviewer.ipython.org/github/ipython/ipython/blob/master/examples/IPython%20Kernel/Rich%20Output.ipynb\n",
    "[2]: http://jupyter-notebook.readthedocs.io/en/latest/examples/Notebook/Notebook%20Basics.html"
   ]
  },
  {
   "cell_type": "markdown",
   "metadata": {},
   "source": [
    "-----\n",
    "[[Back to TOC]](#Table-of-Contents)\n",
    "\n",
    "## The Dashboard\n",
    "\n",
    "The dashboard serves as a home page for the notebook. Its main purpose is to display the portion of the filesystem accessible by the user, and to provide an overview of the running kernels, terminals.\n",
    "\n",
    "To enter the dashboard from within a notebook, click the icon(Jupyter by default) on the top left corner of the notebook, or click `File->Open...` in the menu bar.\n",
    "\n",
    "If you install Jupyter server on your own computer(instructions are at the end of this lesson), when the notebook server is first started, a browser will be opened to the notebook dashboard. \n",
    "\n",
    "There are multiple tabs in the Dashboard, Files, Running, Clusters and others depending on the configuration. We will only be using Files and Running in this course. "
   ]
  },
  {
   "cell_type": "markdown",
   "metadata": {},
   "source": [
    "### Files Tab\n",
    "\n",
    "The files tab provides an interactive view of the portion of the filesystem which is accessible by the user. This is typically rooted by the directory in which the notebook server was started.\n",
    "\n",
    "The top of the files list displays clickable breadcrumbs of the current directory. It is possible to navigate the file system by clicking on these breadcrumbs or on the directories displayed in the notebook list.\n",
    "\n",
    "To create a new folder, click the **`New`** dropdown button and select Folder. New folder will be named `Untitled Folder`. Check the checkbox of the folder and click `Rename` button to rename folder.\n",
    "\n",
    "A new python notebook can be created by clicking on the **`New`** dropdown button at the top of the list, and selecting Python 3 kernel.\n",
    "\n",
    "Notebooks can also be uploaded to the current directory by clicking the **`Upload`** button at the top of the list.\n",
    "\n",
    "<img src=\"dashboard_notebooks_tab_5_0.png\" />"
   ]
  },
  {
   "cell_type": "markdown",
   "metadata": {},
   "source": [
    "### Running Tab\n",
    "\n",
    "The running tab displays the currently running notebooks which are known to the server. This view provides a convenient way to track notebooks that have been started during a long running notebook server session.\n",
    "\n",
    "Each running notebook will have an orange **`Shutdown`** button which can be used to shutdown its associated kernel. Closing the notebook's page is not sufficient to shutdown a kernel.\n",
    "\n",
    "Running terminals are also listed, provided that the notebook server is running on an operating system which supports PTY(Unix, Linux, Mac, but not Windows).\n",
    "\n",
    "When there are too many running notebooks, you could encounter \"Too many open files\" error and all open notebooks will stop working properly. You can either restart the jupyter server or click \"shutdown\" buttons in Running tab to reduce number of open notebooks. Just closing the notebook page won't fix the issue.\n",
    "\n",
    "<img src=\"dashboard_running_tab_4_0.png\" />"
   ]
  },
  {
   "cell_type": "markdown",
   "metadata": {},
   "source": [
    "## The Notebook\n",
    "\n",
    "When a notebook is opened, a new browser tab will be created which presents the notebook user interface (UI). This UI allows for interactively editing and running the notebook document.  \n",
    "\n",
    "A new notebook can be created from the dashboard by clicking on the Files tab, followed by the New dropdown button, and then selecting the language of choice(Python 3 for this course) for the notebook. From within a notebook, one can create a new python notebook by clicking **`File -> New Notebook -> Python 3`** from the notebook menu bar.\n",
    "\n",
    "A notebook file has extension `.ipynb`. A newly created notebook by default has name `Untitled.ipynb`."
   ]
  },
  {
   "cell_type": "markdown",
   "metadata": {},
   "source": [
    "### Header\n",
    "\n",
    "At the top of the notebook document is a header which contains the notebook title, a menubar, and toolbar. This header remains fixed at the top of the screen, even as the body of the notebook is scrolled. The menubar and toolbar contain a variety of actions which control notebook navigation and document structure.\n",
    "\n",
    "When a new notebook is created, the title will be **Untitled**. By clicking the title, it can be edited in-place (which renames the notebook file). \n",
    "\n",
    "<img src=\"notebook_header_4_0.png\" />"
   ]
  },
  {
   "cell_type": "markdown",
   "metadata": {},
   "source": [
    "### Body\n",
    "\n",
    "The body of a notebook is composed of cells. Each cell contains either markdown, code input, code output, or raw text. Cells can be included in any order and edited at-will, allowing for a large amount of flexibility for constructing a narrative. We will only be using **Code** and **Markdown** cells in this course.\n",
    "\n",
    "- **Markdown cells** - These are used to build a nicely formatted narrative around the code in the document. The majority of this notebook is composed of markdown cells.\n",
    "\n",
    "- **Code cells** - These are used to define the computational code in the document. They come in two forms: the *input cell* where the user types the code to be executed, and the *output cell* which is the representation of the executed code. Depending on the code, this representation may be a simple scalar value, or something more complex like a plot or an interactive widget.\n",
    "\n",
    "<img src=\"notebook_cells.png\" />\n",
    "\n",
    "To change a cell type, first select the cell, then click the drop down list in the header which displays the cell type of current selected cell, then select the type from the drop down menu. In the sample header image above, the code type drop down shows that current selected cell is a code cell. You may also use notebook menu or keyboard shortcuts to change cell type. We will introduce these two options below in Basic Workflow section."
   ]
  },
  {
   "cell_type": "markdown",
   "metadata": {},
   "source": [
    "### Cell Mode\n",
    "\n",
    "The notebook user interface is *modal*. This means that the keyboard behaves differently depending upon the current mode of the notebook. A notebook cell has two modes: **edit** and **command**.\n",
    "\n",
    "**Edit mode** is indicated by a green cell border and a prompt showing in the editor area. When a cell is in edit mode, you can type into the cell, like a normal text editor.\n",
    "\n",
    "<img src=\"edit_mode.png\">\n",
    "\n",
    "**Command mode** is indicated by a grey cell border. When in command mode, the structure of the notebook can be modified as a whole, but the text in individual cells cannot be changed. Most importantly, the keyboard is mapped to a set of shortcuts for efficiently performing notebook and cell actions. For example, pressing **`b`** when in command mode, will create a new cell **below** current cell.\n",
    "\n",
    "<img src=\"command_mode.png\">\n",
    "\n",
    "<br>\n",
    "<div class=\"alert alert-success\">\n",
    "Enter edit mode by pressing `Enter` or using the mouse to click on a cell's editor area.\n",
    "</div>\n",
    "<div class=\"alert alert-success\">\n",
    "Enter command mode by pressing `Esc` or using the mouse to click *outside* a cell's editor area.\n",
    "</div>\n",
    "<div class=\"alert alert-warning\">\n",
    "Do not attempt to type into a cell when in command mode; unexpected things will happen!\n",
    "</div>"
   ]
  },
  {
   "cell_type": "markdown",
   "metadata": {},
   "source": [
    "-----\n",
    "[[Back to TOC]](#Table-of-Contents)\n",
    "\n",
    "## Basic Workflow"
   ]
  },
  {
   "cell_type": "markdown",
   "metadata": {},
   "source": [
    "### Mouse Navigation\n",
    "\n",
    "The first concept to understand in mouse-based navigation is that **cells can be selected by clicking on them.** The currently selected cell is indicated with a grey or green border depending on whether the notebook is in edit or command mode. Clicking inside a code cell's editor area or double clicking a command cell will enter edit mode. Clicking on the prompt or the output area of a cell will enter command mode.\n",
    "\n",
    "The second concept to understand in mouse-based navigation is that **cell actions usually apply to the currently selected cell**. For example, to run a code cell, select it and then click the <button class='btn btn-default btn-xs'><i class=\"fa fa-play icon-play\">| Run</i></button> button in the toolbar or the **`Cell -> Run`** menu item. Similarly, to change a code cell to markdown cell, click the drop down list in the tool bar and select Markdown or the **`Cell->Cell Type->Markdown`**. With this simple pattern, it should be possible to perform nearly every action with the mouse.\n",
    "\n",
    "Markdown cells have one other state which can be modified with the mouse. These cells can either be rendered or unrendered. When they are rendered, a nice formatted representation of the cell's contents will be presented. When they are unrendered, the raw text source of the cell will be presented. To render the selected cell with the mouse, click the <button class='btn btn-default btn-xs'><i class=\"fa fa-play icon-play\">| Run</i></button> button in the toolbar or the **`Cell -> Run`** menu item. To unrender the selected cell, double click on the cell.\n",
    "\n",
    "### Keyboard Navigation\n",
    "\n",
    "All actions in the notebook can be performed with the mouse, but keyboard shortcuts are also available for the most common ones. This is made possible by having two different sets of keyboard shortcuts: one set that is active in edit mode and another in command mode. Click <button class='btn btn-default btn-xs'><i class=\"fa fa-keyboard-o\" aria-hidden=\"true\"></i></button> button in the tool bar for all keyboard shortcuts. The essential shortcuts to remember are the following:\n",
    "\n",
    "- **Esc**: Command mode\n",
    "- **Enter**: Edit mode\n",
    "- **Ctrl-Enter**: Run cell\n",
    "- **Shift-Enter**: Run cell and go to next cell\n",
    "- **Alt-Enter**: Run cell and insert a new code cell below\n",
    "- **Under command mode**\n",
    " - **a**: Insert a new cell above\n",
    " - **b**: Insert a new cell below\n",
    " - **dd**: Delete cell\n",
    " - **y**: Change cell to Code cell\n",
    " - **m**: Change cell to Markdown cell\n"
   ]
  },
  {
   "cell_type": "markdown",
   "metadata": {},
   "source": [
    "-----\n",
    "[[Back to TOC]](#Table-of-Contents)\n",
    "\n",
    "## Magics\n",
    "\n",
    "Jupyter provides [specific commands][1], known as magics, that you can execute within a Code cell to provide enhanced functionality to the current notebook. Magics are not part of the Python programming language but can often make programming easier, especially within the notebook, and some magics can be used to improve your data processing work flow. Magics come in two types:\n",
    "\n",
    "1. line magics and\n",
    "2. cell magics.\n",
    "\n",
    "To see the list of currently available magics, execute the following cell.\n",
    "\n",
    "\n",
    "[1]: http://ipython.readthedocs.io/en/stable/interactive/magics.html#built-in-magic-commands"
   ]
  },
  {
   "cell_type": "code",
   "execution_count": 1,
   "metadata": {},
   "outputs": [
    {
     "data": {
      "application/json": {
       "cell": {
        "!": "OSMagics",
        "HTML": "Other",
        "SVG": "Other",
        "bash": "Other",
        "capture": "ExecutionMagics",
        "debug": "ExecutionMagics",
        "file": "Other",
        "html": "DisplayMagics",
        "javascript": "DisplayMagics",
        "js": "DisplayMagics",
        "latex": "DisplayMagics",
        "markdown": "DisplayMagics",
        "perl": "Other",
        "prun": "ExecutionMagics",
        "pypy": "Other",
        "python": "Other",
        "python2": "Other",
        "python3": "Other",
        "ruby": "Other",
        "script": "ScriptMagics",
        "sh": "Other",
        "svg": "DisplayMagics",
        "sx": "OSMagics",
        "system": "OSMagics",
        "time": "ExecutionMagics",
        "timeit": "ExecutionMagics",
        "writefile": "OSMagics"
       },
       "line": {
        "alias": "OSMagics",
        "alias_magic": "BasicMagics",
        "autocall": "AutoMagics",
        "automagic": "AutoMagics",
        "autosave": "KernelMagics",
        "bookmark": "OSMagics",
        "cat": "Other",
        "cd": "OSMagics",
        "clear": "KernelMagics",
        "colors": "BasicMagics",
        "config": "ConfigMagics",
        "connect_info": "KernelMagics",
        "cp": "Other",
        "debug": "ExecutionMagics",
        "dhist": "OSMagics",
        "dirs": "OSMagics",
        "doctest_mode": "BasicMagics",
        "ed": "Other",
        "edit": "KernelMagics",
        "env": "OSMagics",
        "gui": "BasicMagics",
        "hist": "Other",
        "history": "HistoryMagics",
        "killbgscripts": "ScriptMagics",
        "ldir": "Other",
        "less": "KernelMagics",
        "lf": "Other",
        "lk": "Other",
        "ll": "Other",
        "load": "CodeMagics",
        "load_ext": "ExtensionMagics",
        "loadpy": "CodeMagics",
        "logoff": "LoggingMagics",
        "logon": "LoggingMagics",
        "logstart": "LoggingMagics",
        "logstate": "LoggingMagics",
        "logstop": "LoggingMagics",
        "ls": "Other",
        "lsmagic": "BasicMagics",
        "lx": "Other",
        "macro": "ExecutionMagics",
        "magic": "BasicMagics",
        "man": "KernelMagics",
        "matplotlib": "PylabMagics",
        "mkdir": "Other",
        "more": "KernelMagics",
        "mv": "Other",
        "notebook": "BasicMagics",
        "page": "BasicMagics",
        "pastebin": "CodeMagics",
        "pdb": "ExecutionMagics",
        "pdef": "NamespaceMagics",
        "pdoc": "NamespaceMagics",
        "pfile": "NamespaceMagics",
        "pinfo": "NamespaceMagics",
        "pinfo2": "NamespaceMagics",
        "pip": "BasicMagics",
        "popd": "OSMagics",
        "pprint": "BasicMagics",
        "precision": "BasicMagics",
        "profile": "BasicMagics",
        "prun": "ExecutionMagics",
        "psearch": "NamespaceMagics",
        "psource": "NamespaceMagics",
        "pushd": "OSMagics",
        "pwd": "OSMagics",
        "pycat": "OSMagics",
        "pylab": "PylabMagics",
        "qtconsole": "KernelMagics",
        "quickref": "BasicMagics",
        "recall": "HistoryMagics",
        "rehashx": "OSMagics",
        "reload_ext": "ExtensionMagics",
        "rep": "Other",
        "rerun": "HistoryMagics",
        "reset": "NamespaceMagics",
        "reset_selective": "NamespaceMagics",
        "rm": "Other",
        "rmdir": "Other",
        "run": "ExecutionMagics",
        "save": "CodeMagics",
        "sc": "OSMagics",
        "set_env": "OSMagics",
        "store": "StoreMagics",
        "sx": "OSMagics",
        "system": "OSMagics",
        "tb": "ExecutionMagics",
        "time": "ExecutionMagics",
        "timeit": "ExecutionMagics",
        "unalias": "OSMagics",
        "unload_ext": "ExtensionMagics",
        "who": "NamespaceMagics",
        "who_ls": "NamespaceMagics",
        "whos": "NamespaceMagics",
        "xdel": "NamespaceMagics",
        "xmode": "BasicMagics"
       }
      },
      "text/plain": [
       "Available line magics:\n",
       "%alias  %alias_magic  %autocall  %automagic  %autosave  %bookmark  %cat  %cd  %clear  %colors  %config  %connect_info  %cp  %debug  %dhist  %dirs  %doctest_mode  %ed  %edit  %env  %gui  %hist  %history  %killbgscripts  %ldir  %less  %lf  %lk  %ll  %load  %load_ext  %loadpy  %logoff  %logon  %logstart  %logstate  %logstop  %ls  %lsmagic  %lx  %macro  %magic  %man  %matplotlib  %mkdir  %more  %mv  %notebook  %page  %pastebin  %pdb  %pdef  %pdoc  %pfile  %pinfo  %pinfo2  %popd  %pprint  %precision  %profile  %prun  %psearch  %psource  %pushd  %pwd  %pycat  %pylab  %qtconsole  %quickref  %recall  %rehashx  %reload_ext  %rep  %rerun  %reset  %reset_selective  %rm  %rmdir  %run  %save  %sc  %set_env  %store  %sx  %system  %tb  %time  %timeit  %unalias  %unload_ext  %who  %who_ls  %whos  %xdel  %xmode\n",
       "\n",
       "Available cell magics:\n",
       "%%!  %%HTML  %%SVG  %%bash  %%capture  %%debug  %%file  %%html  %%javascript  %%js  %%latex  %%markdown  %%perl  %%prun  %%pypy  %%python  %%python2  %%python3  %%ruby  %%script  %%sh  %%svg  %%sx  %%system  %%time  %%timeit  %%writefile\n",
       "\n",
       "Automagic is ON, % prefix IS NOT needed for line magics."
      ]
     },
     "execution_count": 1,
     "metadata": {},
     "output_type": "execute_result"
    }
   ],
   "source": [
    "%lsmagic"
   ]
  },
  {
   "cell_type": "markdown",
   "metadata": {},
   "source": [
    "-----\n",
    "\n",
    "### Line magic\n",
    "\n",
    "A line magic is prepended by a single `%` character and will have any arguments specified all on the same line. As a caveat to this statement, if the line magic `Automagic` is set to `on`, the preceding `% \n",
    "character is not required. Some useful line magics include:\n",
    "\n",
    "- `%lsmagic`, which lists all currently defined line and cell magics for the current notebook,\n",
    "- `%matplotlib inline`, which allows inline plotting to be enabled,\n",
    "- `%ls`, list files in current folder,\n",
    "- `%pwd`, print the current working directory path.\n",
    "\n",
    "-----"
   ]
  },
  {
   "cell_type": "markdown",
   "metadata": {},
   "source": [
    "\n",
    "### Cell magics\n",
    "\n",
    "A cell magic is prepended by two `%` characters and they can have arguments that include both the current line and the remaining lines in the current cell. Thus, cell magics must be placed on the first line of a cell, and in general you can only have one cell magic per cell. Some useful line magics include:\n",
    "\n",
    "- '%%timeit', which can be used to time a multi-line Python statement,\n",
    "- '%%writefile' writes the contents of the cell into the named file,\n",
    "\n",
    "If you are uncertain how to use a particular magic, you can always obtain help from the notebook kernel by entering the magic by itself in a cell, adding a `?` character at the end, and executing the cell to bring up the notebook help window, as shown below for the `%%writefile` magic.\n",
    "\n",
    "![IPython magic help](images/ipython-help.png)\n"
   ]
  },
  {
   "cell_type": "markdown",
   "metadata": {},
   "source": [
    "-----\n",
    "[[Back to TOC]](#Table-of-Contents)\n",
    "\n",
    "## Writing Markdown Document\n",
    "\n",
    "Markdown is a plain text formatting syntax that you can easily use to write text that can be converted to formatted text. Markdown was developed by John Gruber, who runs the popular [Daring Fireball][df] blog. \n",
    "\n",
    "You can view the source of a markdown cell by double clicking on it, or while the cell is selected in command mode, press Enter to edit it. Use Shift-Enter to re-render a markdown cell when it is in edit mode. We will introduce markdown in more details in next lesson.\n",
    "\n",
    "[df]: http://daringfireball.net\n"
   ]
  },
  {
   "cell_type": "markdown",
   "metadata": {},
   "source": [
    "-----\n",
    "[[Back to TOC]](#Table-of-Contents)\n",
    "\n",
    "## Writing and Executing Code\n",
    "\n",
    "Of course, the reason we are using Jupyter Notebook is that it allows for in place development and execution of Python code. There are a number of direct benefits you accrue by developing and executing code in an Jupyter Notebook:\n",
    "\n",
    "1. Run code in place with the output displayed in the notebook,  \n",
    "2. Display visualizations inline,  \n",
    "3. Run code in the background, while you edit or run code in other cells,  \n",
    "4. Clean restarts of the notebook kernel, and  \n",
    "5. Built-in support for parallelization.\n",
    "\n",
    "The simplest of these capabilities to demonstrate is developing and running code in the notebook. The code can be a single line or multiple lines. Code cells can be executed by using one of three key combinations: \n",
    "- **CTRL-return**, which executes the cell in place, \n",
    "- **SHIFT-return**, which executes the code and advances to the next cell, or \n",
    "- **ALT-return**, which executes the code and insert a new code cell below. \n",
    "\n",
    "For example, as shown below, we have a single line of Python code that can be executed with the output directly shown."
   ]
  },
  {
   "cell_type": "code",
   "execution_count": 2,
   "metadata": {},
   "outputs": [
    {
     "name": "stdout",
     "output_type": "stream",
     "text": [
      "Hello World!\n"
     ]
    }
   ],
   "source": [
    "print(\"Hello World!\")"
   ]
  },
  {
   "cell_type": "markdown",
   "metadata": {},
   "source": [
    "-----\n",
    "\n",
    "### Python Programs\n",
    "\n",
    "A Jupyter Notebook Code cell can take a full Python program, including importing Python libraries, which are in scope for the remainder of the Notebook. For example, we can calculate area of a circle with radius equals to 2 by importing a constant from math module in following code cell:\n",
    "\n",
    "$r = 2$  \n",
    "$area = {\\pi}{r^2}$\n",
    "\n",
    "Note: At this point you are not expected to understand the Python statements being demonstrated. They are only being used for demonstration purposes and will be introduced more completely later in this course."
   ]
  },
  {
   "cell_type": "code",
   "execution_count": 3,
   "metadata": {},
   "outputs": [
    {
     "name": "stdout",
     "output_type": "stream",
     "text": [
      "The Area = 12.6\n"
     ]
    }
   ],
   "source": [
    "import math\n",
    "\n",
    "r = 2\n",
    "area = math.pi * r**2\n",
    "print(f\"The Area = {area:3.1f}\")"
   ]
  },
  {
   "cell_type": "markdown",
   "metadata": {},
   "source": [
    "-----\n",
    "\n",
    "### Inline Figures\n",
    "\n",
    "When making data visualization, the resulting plots or images can be displayed inline. The recommended way to accomplish this is to use the `%matplotlib` line magic, which will inform the notebook kernel to display the image inline; this magic can take either the `inline` or the `notebook` value; the `inline` value will generally be preferred in this class for simplicity."
   ]
  },
  {
   "cell_type": "code",
   "execution_count": 4,
   "metadata": {},
   "outputs": [
    {
     "data": {
      "image/png": "[encoded data removed]",
      "text/plain": [
       "<Figure size 432x288 with 1 Axes>"
      ]
     },
     "metadata": {
      "needs_background": "light"
     },
     "output_type": "display_data"
    }
   ],
   "source": [
    "%matplotlib inline\n",
    "import numpy as np\n",
    "import matplotlib.pyplot as plt\n",
    "\n",
    "theta = np.arange(0., np.pi, 0.01)\n",
    "y = np.sin(theta)\n",
    "\n",
    "plt.plot(theta, y)\n",
    "plt.xlabel(r\"$\\theta$\")\n",
    "plt.ylabel(r\"$\\sin$($\\theta$)\")\n",
    "plt.title(\"My Awesome Plot\")\n",
    "plt.show()"
   ]
  },
  {
   "cell_type": "markdown",
   "metadata": {},
   "source": [
    "-----\n",
    "\n",
    "### Clean Kernel Restarts\n",
    "\n",
    "On some occasions, our code might cause the Python interpreter to crash. While this normally might be a serious concern, the Python kernel can detect this condition and initiate a clean restart.\n",
    "\n",
    "Some times when you execute a code cell, it never finish executing. This could be caused by bug in code, ie. infinite loop, or dead kernel due to various reasons. This is demonstrated in the following example. The first cell finishes execution properly and a sequence number is shown on the left of the cell. The second cell falls into an infinite loop due and will never finish execution. `*` will never become a sequence number.\n",
    "\n",
    "<img src=\"code_cell.png\" />\n",
    "\n",
    "Another common reason that a code cell hangs for ever is that the kernel is dead due to various reasons, like idle for too long, or been shutdown from Jupyter Notebook Dashboard.\n",
    "\n",
    "When a cell never finishes running, you can interrupt the cell or restart kernel by clicking one option in `Kernel` in the menu bar.\n"
   ]
  },
  {
   "cell_type": "markdown",
   "metadata": {},
   "source": [
    "-----\n",
    "[[Back to TOC]](#Table-of-Contents)\n",
    "\n",
    "## Download Notebook\n",
    "\n",
    "you may want to download notebooks so you can run them locally on your own jupyter notebook server. To download a single notebook:\n",
    "\n",
    "- Open the notebook you want to download\n",
    "- Click File in the header menu\n",
    "- Click Download As\n",
    "- Choose a file format, then download your notebook.\n",
    "\n",
    "There are many file format options but we normally only use two of them. Choose Notebook(.ipynb) if you want to download it as a notebook file which you can open in a jupyter notebook server. Choose HTML(.html) if you just want to view the notebook in non-interactive ways(in a browser). You might also want to download as PDF format, but PDF format files normally don't preserve notebook appearance as good as HTML format files."
   ]
  },
  {
   "cell_type": "markdown",
   "metadata": {},
   "source": [
    "-----\n",
    "[[Back to TOC]](#Table-of-Contents)\n",
    "\n",
    "## Install Your Own Jupyter Notebook Server\n",
    "\n",
    "While we provide Jupyter Notebook server via JupyterHub to students in this course, you may install your own Jupyter Server on your machine with following steps:\n",
    "1. Go to [Anaconda][ana] website.\n",
    "2. Download Anaconda Python 3.8 Version.\n",
    "3. Install Anaconda under your user folder(take the default install option). Pay attention to installation folder since this will be the root folder when you open the notebook.\n",
    "4. Open Anaconda-Navigator and launch Jupyter Notebook.\n",
    "\n",
    "A web browser will be started automatically with the dashboard page open.\n",
    "\n",
    "**Note:** If your account name on your computer has whitespaces or non-English characters, the jupyter server may have trouble to run. If you encounter this issue, you may create a new user account with one English word and install anaconda with the new user account.\n",
    "\n",
    "----\n",
    "[ana]:https://www.anaconda.com/distribution/"
   ]
  },
  {
   "cell_type": "markdown",
   "metadata": {},
   "source": [
    "## Useful Tips\n",
    "1. When a new notebook is created, it's in **current** folder. By default, the **current** folder is the folder where Jupyter Notebook server is started. You may change current folder in Dashboard, Files tab. It's a good habit to create your own folder to keep your notebooks. For example, you may create a new folder in Dashboard, rename it to MyAccy570, then click the folder to get into it. Now you've changed your **current** folder to MyAccy570. If you create a new notebook by clicking `New-Python 3`, the new file will be in MyAccy570 folder.\n",
    "2. Even though notebook will autosave itself periodically. It's recommended to click `File->Save and Checkpoint` to save your notebook if you want to keep the changes you've made."
   ]
  },
  {
   "cell_type": "markdown",
   "metadata": {},
   "source": [
    "## Ancillary Information\n",
    "\n",
    "The following links are to additional documentation that you might find helpful in learning this material. Reading these web-accessible documents is completely optional.\n",
    "\n",
    "1. Project [Jupyter][1]\n",
    "2. Demonstration [Jupyter Notebook][2]\n",
    "3. Jupyter [Documentation][3]\n",
    "5. A tutorial to the [Jupyter Notebook][5]\n",
    "\n",
    "-----\n",
    "[1]: https://jupyter.org/index.html\n",
    "[2]: https://try.jupyter.org\n",
    "[3]: https://jupyter-notebook.readthedocs.io/en/stable/\n",
    "[4]: http://ipython.org\n",
    "[5]: https://www.datacamp.com/community/tutorials/tutorial-jupyter-notebook"
   ]
  },
  {
   "cell_type": "markdown",
   "metadata": {
    "deletable": false,
    "editable": false
   },
   "source": [
    "**&copy; 2019: Gies College of Business at the University of Illinois.**\n",
    "\n",
    "This notebook is released under the [Creative Commons license CC BY-NC-SA 4.0][ll]. Any reproduction, adaptation, distribution, dissemination or making available of this notebook for commercial use is not allowed unless authorized in writing by the copyright holder.\n",
    "\n",
    "[ll]: https://creativecommons.org/licenses/by-nc-sa/4.0/legalcode"
   ]
  }
 ],
 "metadata": {
  "kernelspec": {
   "display_name": "Python 3",
   "language": "python",
   "name": "python3"
  },
  "language_info": {
   "codemirror_mode": {
    "name": "ipython",
    "version": 3
   },
   "file_extension": ".py",
   "mimetype": "text/x-python",
   "name": "python",
   "nbconvert_exporter": "python",
   "pygments_lexer": "ipython3",
   "version": "3.8.3"
  }
 },
 "nbformat": 4,
 "nbformat_minor": 1
}
