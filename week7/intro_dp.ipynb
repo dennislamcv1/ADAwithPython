{
 "cells": [
  {
   "cell_type": "markdown",
   "metadata": {},
   "source": [
    "## Introduction to Data Preparation Techniques\n",
    "\n",
    "Surveys of data analysts found that they spend most of their time massaging rather than mining or modeling data. Data preparation accounts for 60% to 80% of the work of data analysts. In this section, we will introduce some common techniques in data preparation. Mastering these techniques may save you a lot time and trouble. In this lesson, we will introduce some commonly used Python data preparation techniques.\n",
    "\n",
    "## Table of Contents\n",
    "\n",
    "[Load Data](#Load-Data)\n",
    "\n",
    "[Change Column Name](#Change-Column-Name)  \n",
    "\n",
    "[Handle Missing Data](#Handle-Missing-Data)  \n",
    "\n",
    "[Manipulate String Values](#Manipulate-String-Values)  \n",
    "\n",
    "[Transform Datetime](#Transform-Datetime)  \n",
    "\n",
    "[Lambda Function](#Lambda-Function)\n"
   ]
  },
  {
   "cell_type": "markdown",
   "metadata": {},
   "source": [
    "-----\n",
    "[[Back to TOC]](#Table-of-Contents)\n",
    "\n",
    "## Load Data\n",
    "\n",
    "A dataset can be one of several different types. Dataset type is distinguished on the basis of data storage and structure. In this lesson, we will briefly introduce how to load **structured** data from various storage types, CSV file, Excel file and relational database, using `pandas` functions.\n",
    "\n",
    "#### From CSV File\n",
    "\n",
    "Comma separated values or CSV file, is one of the most popular way to store structured data. We call `pandas` function `read_csv()` to load a dataset from CSV files to `pandas` `DataFrame`.\n",
    "\n",
    "> ~~~\n",
    ">import pandas as pd\n",
    ">df = pd.read_csv('filename.csv')\n",
    "> ~~~\n",
    "\n",
    "`read_csv()` have many other arguments in addition to file name. For example, the following code loads a CSV file that uses '\\|' as delimiter, skips the first 5 rows in the file, sets the first column as DataFrame index:\n",
    "\n",
    "> ~~~\n",
    ">df = pd.read_csv('filename.csv', delimiter='|', index_col=0, skiprows=5)\n",
    "> ~~~\n",
    "\n",
    "To learn the detail of the function, check out the functions doc string:\n",
    "\n",
    "> ~~~\n",
    ">#display function doc string\n",
    ">help(pd.read_csv)\n",
    "> ~~~\n",
    "\n",
    "#### From Spreadsheet\n",
    "\n",
    "To load a dataset from an Excel file, we will use `pandas` function `read_excel()`. The following code loads a dataset from sheet \"sheet1\" of an excel file \"filename.xlsx\":\n",
    "\n",
    "> ~~~\n",
    ">df = pd.read_excel('filename.xlsx', sheet_name='sheet1')\n",
    "> ~~~\n",
    "\n",
    "As `read_csv()`, `read_excel()` takes many other arguments. Please refer to the doc string of the function (`help(pd.read_excel)`) for more detail.\n",
    "\n",
    "#### From Relational database\n",
    "\n",
    "`pandas` function `read_sql()` can be used to load data from a relational database. We need to provide a database connection to the function, we also need to provide a query that will be used to retrieve values from the database. In the following code, we assume there's a SQLite database \"mydb\" in current folder, and there's a table with name tblCustomer. We will load all rows from tblCustomer table to a DataFrame. The column names of tblCustomer will be the column names of the resulting DataFrame.\n",
    "\n",
    "> ~~~\n",
    ">import pandas as pd\n",
    ">import sqlite3 as sql\n",
    ">with sql.connect('mydb') as con:\n",
    "    df_customer = pd.read_sql('select * from tblCustomer', con)\n",
    "> ~~~\n",
    "\n",
    "Using `with` clause to create a database connection ensures that the connection will be closed after the block is executed.\n"
   ]
  },
  {
   "cell_type": "markdown",
   "metadata": {},
   "source": [
    "-----\n",
    "[[Back to TOC]](#Table-of-Contents)\n",
    "\n",
    "## Change Column Name\n",
    "\n",
    "When a dataset is loaded to a DataFrame, it may or may not have column names. If there are no column names, we usually need to assign meaningful column names based on data understanding. When the DataFrame does have column names, we may still need to modify them to make the following work easier. Industry practice suggests column names should:\n",
    "- **Not** contain spaces. Instead of `Last Name` as column name, it should be `LastName` or `last_name`.\n",
    "- **Not** contain special characters(e.g, $, &, %, -, all punctuations).\n",
    "- Be descriptive and provide some information in the field.\n",
    "\n",
    "DataFrame has a `columns` property, and you can reset all column names with:\n",
    "\n",
    "`df.columns = [col_name1, col_name2...]`\n",
    "\n",
    "You can also change a particular column name with function `rename()`:\n",
    "\n",
    "`df.rename(columns={orignial_name:new_name}, inplace=True)`\n",
    "\n",
    "Notice that `df.rename()` will return a renamed DataFrame by default. If you want to rename `df` in place, you need to set the function argument `inplace=True`. For more details of the function, check out the doc string with `help(df.rename)` or `df.rename?`."
   ]
  },
  {
   "cell_type": "code",
   "execution_count": 1,
   "metadata": {
    "scrolled": false
   },
   "outputs": [
    {
     "data": {
      "text/html": [
       "<div>\n",
       "<style scoped>\n",
       "    .dataframe tbody tr th:only-of-type {\n",
       "        vertical-align: middle;\n",
       "    }\n",
       "\n",
       "    .dataframe tbody tr th {\n",
       "        vertical-align: top;\n",
       "    }\n",
       "\n",
       "    .dataframe thead th {\n",
       "        text-align: right;\n",
       "    }\n",
       "</style>\n",
       "<table border=\"1\" class=\"dataframe\">\n",
       "  <thead>\n",
       "    <tr style=\"text-align: right;\">\n",
       "      <th></th>\n",
       "      <th>Last Name</th>\n",
       "      <th>First Name</th>\n",
       "      <th>Age</th>\n",
       "    </tr>\n",
       "  </thead>\n",
       "  <tbody>\n",
       "    <tr>\n",
       "      <td>0</td>\n",
       "      <td>Brunner</td>\n",
       "      <td>Rob</td>\n",
       "      <td>21</td>\n",
       "    </tr>\n",
       "    <tr>\n",
       "      <td>1</td>\n",
       "      <td>Lu</td>\n",
       "      <td>Lin</td>\n",
       "      <td>22</td>\n",
       "    </tr>\n",
       "  </tbody>\n",
       "</table>\n",
       "</div>"
      ],
      "text/plain": [
       "  Last Name First Name  Age\n",
       "0   Brunner        Rob   21\n",
       "1        Lu        Lin   22"
      ]
     },
     "execution_count": 1,
     "metadata": {},
     "output_type": "execute_result"
    }
   ],
   "source": [
    "import pandas as pd\n",
    "df1 = pd.DataFrame({'Last Name':['Brunner', 'Lu'], 'First Name':['Rob', 'Lin'], 'Age':[21, 22]})\n",
    "df1"
   ]
  },
  {
   "cell_type": "code",
   "execution_count": 2,
   "metadata": {},
   "outputs": [
    {
     "data": {
      "text/plain": [
       "Index(['Last Name', 'First Name', 'Age'], dtype='object')"
      ]
     },
     "execution_count": 2,
     "metadata": {},
     "output_type": "execute_result"
    }
   ],
   "source": [
    "#print current column names\n",
    "df1.columns"
   ]
  },
  {
   "cell_type": "code",
   "execution_count": 3,
   "metadata": {
    "scrolled": true
   },
   "outputs": [
    {
     "data": {
      "text/html": [
       "<div>\n",
       "<style scoped>\n",
       "    .dataframe tbody tr th:only-of-type {\n",
       "        vertical-align: middle;\n",
       "    }\n",
       "\n",
       "    .dataframe tbody tr th {\n",
       "        vertical-align: top;\n",
       "    }\n",
       "\n",
       "    .dataframe thead th {\n",
       "        text-align: right;\n",
       "    }\n",
       "</style>\n",
       "<table border=\"1\" class=\"dataframe\">\n",
       "  <thead>\n",
       "    <tr style=\"text-align: right;\">\n",
       "      <th></th>\n",
       "      <th>LastName</th>\n",
       "      <th>FirstName</th>\n",
       "      <th>Age</th>\n",
       "    </tr>\n",
       "  </thead>\n",
       "  <tbody>\n",
       "    <tr>\n",
       "      <td>0</td>\n",
       "      <td>Brunner</td>\n",
       "      <td>Rob</td>\n",
       "      <td>21</td>\n",
       "    </tr>\n",
       "    <tr>\n",
       "      <td>1</td>\n",
       "      <td>Lu</td>\n",
       "      <td>Lin</td>\n",
       "      <td>22</td>\n",
       "    </tr>\n",
       "  </tbody>\n",
       "</table>\n",
       "</div>"
      ],
      "text/plain": [
       "  LastName FirstName  Age\n",
       "0  Brunner       Rob   21\n",
       "1       Lu       Lin   22"
      ]
     },
     "execution_count": 3,
     "metadata": {},
     "output_type": "execute_result"
    }
   ],
   "source": [
    "df1_1 = df1.copy()\n",
    "#set new column names\n",
    "df1_1.columns = ['LastName', 'FirstName', 'Age']\n",
    "df1_1"
   ]
  },
  {
   "cell_type": "code",
   "execution_count": 4,
   "metadata": {
    "scrolled": true
   },
   "outputs": [
    {
     "data": {
      "text/html": [
       "<div>\n",
       "<style scoped>\n",
       "    .dataframe tbody tr th:only-of-type {\n",
       "        vertical-align: middle;\n",
       "    }\n",
       "\n",
       "    .dataframe tbody tr th {\n",
       "        vertical-align: top;\n",
       "    }\n",
       "\n",
       "    .dataframe thead th {\n",
       "        text-align: right;\n",
       "    }\n",
       "</style>\n",
       "<table border=\"1\" class=\"dataframe\">\n",
       "  <thead>\n",
       "    <tr style=\"text-align: right;\">\n",
       "      <th></th>\n",
       "      <th>LastName</th>\n",
       "      <th>FirstName</th>\n",
       "      <th>Age</th>\n",
       "    </tr>\n",
       "  </thead>\n",
       "  <tbody>\n",
       "    <tr>\n",
       "      <td>0</td>\n",
       "      <td>Brunner</td>\n",
       "      <td>Rob</td>\n",
       "      <td>21</td>\n",
       "    </tr>\n",
       "    <tr>\n",
       "      <td>1</td>\n",
       "      <td>Lu</td>\n",
       "      <td>Lin</td>\n",
       "      <td>22</td>\n",
       "    </tr>\n",
       "  </tbody>\n",
       "</table>\n",
       "</div>"
      ],
      "text/plain": [
       "  LastName FirstName  Age\n",
       "0  Brunner       Rob   21\n",
       "1       Lu       Lin   22"
      ]
     },
     "execution_count": 4,
     "metadata": {},
     "output_type": "execute_result"
    }
   ],
   "source": [
    "df1_2 = df1.copy()\n",
    "#change specific column names\n",
    "df1_2.rename(columns={'Last Name':'LastName', 'First Name':'FirstName'}, inplace=True)\n",
    "df1_2"
   ]
  },
  {
   "cell_type": "markdown",
   "metadata": {},
   "source": [
    "-----\n",
    "[[Back to TOC]](#Table-of-Contents)\n",
    "\n",
    "## Handle Missing Data\n",
    "\n",
    "Data sets can have missing values for various reasons such as observations not recorded or data corruption. Handling missing data is very important as many analytic algorithms do not support data with missing values.\n",
    "\n",
    "Missing data is normally represented as `NaN` which stands for \"Not a Number\" in Pandas DataFrame(`NaT` for datetime data). We will demonstrate common techniques to handling missing values in a DataFrame which include:\n",
    "- Find general information about missing values in the DataFrame.\n",
    "- Simply drop rows contain missing value.\n",
    "- Fill missing value\n",
    "    - with constant\n",
    "    - with mode (for categorical features)\n",
    "    - with mean/median (for continuous features)\n",
    "    - with estimated values generated from other columns\n",
    "    \n",
    "First, we will create a DataFrame with missing values.\n",
    "\n",
    "\n"
   ]
  },
  {
   "cell_type": "code",
   "execution_count": 5,
   "metadata": {},
   "outputs": [
    {
     "data": {
      "text/html": [
       "<div>\n",
       "<style scoped>\n",
       "    .dataframe tbody tr th:only-of-type {\n",
       "        vertical-align: middle;\n",
       "    }\n",
       "\n",
       "    .dataframe tbody tr th {\n",
       "        vertical-align: top;\n",
       "    }\n",
       "\n",
       "    .dataframe thead th {\n",
       "        text-align: right;\n",
       "    }\n",
       "</style>\n",
       "<table border=\"1\" class=\"dataframe\">\n",
       "  <thead>\n",
       "    <tr style=\"text-align: right;\">\n",
       "      <th></th>\n",
       "      <th>LastName</th>\n",
       "      <th>FirstName</th>\n",
       "      <th>Gender</th>\n",
       "      <th>Age</th>\n",
       "    </tr>\n",
       "  </thead>\n",
       "  <tbody>\n",
       "    <tr>\n",
       "      <td>0</td>\n",
       "      <td>Mend</td>\n",
       "      <td>Kim</td>\n",
       "      <td>F</td>\n",
       "      <td>20.0</td>\n",
       "    </tr>\n",
       "    <tr>\n",
       "      <td>1</td>\n",
       "      <td>Brun</td>\n",
       "      <td>Rob</td>\n",
       "      <td>M</td>\n",
       "      <td>21.0</td>\n",
       "    </tr>\n",
       "    <tr>\n",
       "      <td>2</td>\n",
       "      <td>Lu</td>\n",
       "      <td>Lin</td>\n",
       "      <td>M</td>\n",
       "      <td>NaN</td>\n",
       "    </tr>\n",
       "    <tr>\n",
       "      <td>3</td>\n",
       "      <td>Guy</td>\n",
       "      <td>Ron</td>\n",
       "      <td>NaN</td>\n",
       "      <td>22.0</td>\n",
       "    </tr>\n",
       "  </tbody>\n",
       "</table>\n",
       "</div>"
      ],
      "text/plain": [
       "  LastName FirstName Gender   Age\n",
       "0     Mend       Kim      F  20.0\n",
       "1     Brun       Rob      M  21.0\n",
       "2       Lu       Lin      M   NaN\n",
       "3      Guy       Ron    NaN  22.0"
      ]
     },
     "execution_count": 5,
     "metadata": {},
     "output_type": "execute_result"
    }
   ],
   "source": [
    "import numpy as np\n",
    "df2 = pd.DataFrame({'LastName':['Mend', 'Brun', 'Lu', 'Guy'], 'FirstName':['Kim', 'Rob', 'Lin', 'Ron'],\n",
    "                    'Gender':['F', 'M', 'M', np.NaN], 'Age':[20, 21, np.NaN, 22]})\n",
    "df2"
   ]
  },
  {
   "cell_type": "markdown",
   "metadata": {},
   "source": [
    "#### General information about missing values\n",
    "\n",
    "Pandas DataFrame has a function `info()` that will print out general DataFrame information including number of rows, number of columns, each column's data type, and number of not null values in all columns. The below cell shows that df2 has 3 rows, and 4 columns. LastName and FirstName have 3 non-null values, or no missing values, Gender and Age have 2 non-null values or each has one missing value. \n"
   ]
  },
  {
   "cell_type": "code",
   "execution_count": 6,
   "metadata": {
    "scrolled": false
   },
   "outputs": [
    {
     "name": "stdout",
     "output_type": "stream",
     "text": [
      "<class 'pandas.core.frame.DataFrame'>\n",
      "RangeIndex: 4 entries, 0 to 3\n",
      "Data columns (total 4 columns):\n",
      "LastName     4 non-null object\n",
      "FirstName    4 non-null object\n",
      "Gender       3 non-null object\n",
      "Age          3 non-null float64\n",
      "dtypes: float64(1), object(3)\n",
      "memory usage: 256.0+ bytes\n"
     ]
    }
   ],
   "source": [
    "#general information about missing values\n",
    "df2.info()"
   ]
  },
  {
   "cell_type": "markdown",
   "metadata": {},
   "source": [
    "We can also use `df.isnull().sum()` to get the number of missing values in each column. The output is a pandas Series, with column name as index and number of missing values as values. From the following cell, we can see that there's no missing value in LastName and FirstName, there's 1 missing value in Gender and Age. You may also check the number of missing values in specific column as shown below."
   ]
  },
  {
   "cell_type": "code",
   "execution_count": 7,
   "metadata": {},
   "outputs": [
    {
     "data": {
      "text/plain": [
       "LastName     0\n",
       "FirstName    0\n",
       "Gender       1\n",
       "Age          1\n",
       "dtype: int64"
      ]
     },
     "execution_count": 7,
     "metadata": {},
     "output_type": "execute_result"
    }
   ],
   "source": [
    "df2.isnull().sum()"
   ]
  },
  {
   "cell_type": "code",
   "execution_count": 8,
   "metadata": {},
   "outputs": [
    {
     "data": {
      "text/plain": [
       "1"
      ]
     },
     "execution_count": 8,
     "metadata": {},
     "output_type": "execute_result"
    }
   ],
   "source": [
    "#check number of missing value in specific column\n",
    "df2.Gender.isnull().sum()"
   ]
  },
  {
   "cell_type": "markdown",
   "metadata": {},
   "source": [
    "#### Simply Drop Rows with Missing Values\n",
    "\n",
    "The simplest way to handle missing values is simply dropping rows that have missing values in particular columns with DataFrame function `dropna()`. The function by default will return a new DataFrame with the missing values dropped. If you want to modify the DataFrame in place, you'll have to set `inplace=True`. Try `help(df2.dropna)` or `df2.dropna?` to see details of this function."
   ]
  },
  {
   "cell_type": "code",
   "execution_count": 9,
   "metadata": {},
   "outputs": [
    {
     "data": {
      "text/html": [
       "<div>\n",
       "<style scoped>\n",
       "    .dataframe tbody tr th:only-of-type {\n",
       "        vertical-align: middle;\n",
       "    }\n",
       "\n",
       "    .dataframe tbody tr th {\n",
       "        vertical-align: top;\n",
       "    }\n",
       "\n",
       "    .dataframe thead th {\n",
       "        text-align: right;\n",
       "    }\n",
       "</style>\n",
       "<table border=\"1\" class=\"dataframe\">\n",
       "  <thead>\n",
       "    <tr style=\"text-align: right;\">\n",
       "      <th></th>\n",
       "      <th>LastName</th>\n",
       "      <th>FirstName</th>\n",
       "      <th>Gender</th>\n",
       "      <th>Age</th>\n",
       "    </tr>\n",
       "  </thead>\n",
       "  <tbody>\n",
       "    <tr>\n",
       "      <td>0</td>\n",
       "      <td>Mend</td>\n",
       "      <td>Kim</td>\n",
       "      <td>F</td>\n",
       "      <td>20.0</td>\n",
       "    </tr>\n",
       "    <tr>\n",
       "      <td>1</td>\n",
       "      <td>Brun</td>\n",
       "      <td>Rob</td>\n",
       "      <td>M</td>\n",
       "      <td>21.0</td>\n",
       "    </tr>\n",
       "  </tbody>\n",
       "</table>\n",
       "</div>"
      ],
      "text/plain": [
       "  LastName FirstName Gender   Age\n",
       "0     Mend       Kim      F  20.0\n",
       "1     Brun       Rob      M  21.0"
      ]
     },
     "execution_count": 9,
     "metadata": {},
     "output_type": "execute_result"
    }
   ],
   "source": [
    "#drop all rows that have missing values\n",
    "df2_1 = df2.dropna()\n",
    "df2_1"
   ]
  },
  {
   "cell_type": "code",
   "execution_count": 10,
   "metadata": {
    "scrolled": true
   },
   "outputs": [
    {
     "data": {
      "text/html": [
       "<div>\n",
       "<style scoped>\n",
       "    .dataframe tbody tr th:only-of-type {\n",
       "        vertical-align: middle;\n",
       "    }\n",
       "\n",
       "    .dataframe tbody tr th {\n",
       "        vertical-align: top;\n",
       "    }\n",
       "\n",
       "    .dataframe thead th {\n",
       "        text-align: right;\n",
       "    }\n",
       "</style>\n",
       "<table border=\"1\" class=\"dataframe\">\n",
       "  <thead>\n",
       "    <tr style=\"text-align: right;\">\n",
       "      <th></th>\n",
       "      <th>LastName</th>\n",
       "      <th>FirstName</th>\n",
       "      <th>Gender</th>\n",
       "      <th>Age</th>\n",
       "    </tr>\n",
       "  </thead>\n",
       "  <tbody>\n",
       "    <tr>\n",
       "      <td>0</td>\n",
       "      <td>Mend</td>\n",
       "      <td>Kim</td>\n",
       "      <td>F</td>\n",
       "      <td>20.0</td>\n",
       "    </tr>\n",
       "    <tr>\n",
       "      <td>1</td>\n",
       "      <td>Brun</td>\n",
       "      <td>Rob</td>\n",
       "      <td>M</td>\n",
       "      <td>21.0</td>\n",
       "    </tr>\n",
       "    <tr>\n",
       "      <td>3</td>\n",
       "      <td>Guy</td>\n",
       "      <td>Ron</td>\n",
       "      <td>NaN</td>\n",
       "      <td>22.0</td>\n",
       "    </tr>\n",
       "  </tbody>\n",
       "</table>\n",
       "</div>"
      ],
      "text/plain": [
       "  LastName FirstName Gender   Age\n",
       "0     Mend       Kim      F  20.0\n",
       "1     Brun       Rob      M  21.0\n",
       "3      Guy       Ron    NaN  22.0"
      ]
     },
     "execution_count": 10,
     "metadata": {},
     "output_type": "execute_result"
    }
   ],
   "source": [
    "#drop rows that miss Age\n",
    "df2_2 = df2.dropna(subset=['Age'])\n",
    "df2_2"
   ]
  },
  {
   "cell_type": "markdown",
   "metadata": {},
   "source": [
    "#### Fill Missing Values\n",
    "\n",
    "We can also fill missing values with `fillna()` function. We will set function argument `inplace=True` to fill missing values in place.\n",
    "\n",
    "We will demonstrate three ways to fill missing values:\n",
    "\n",
    "- Fill with constant.\n",
    "- Fill with mean/mode.\n",
    "- Fill with values calculated based on other column."
   ]
  },
  {
   "cell_type": "code",
   "execution_count": 11,
   "metadata": {
    "scrolled": true
   },
   "outputs": [
    {
     "data": {
      "text/html": [
       "<div>\n",
       "<style scoped>\n",
       "    .dataframe tbody tr th:only-of-type {\n",
       "        vertical-align: middle;\n",
       "    }\n",
       "\n",
       "    .dataframe tbody tr th {\n",
       "        vertical-align: top;\n",
       "    }\n",
       "\n",
       "    .dataframe thead th {\n",
       "        text-align: right;\n",
       "    }\n",
       "</style>\n",
       "<table border=\"1\" class=\"dataframe\">\n",
       "  <thead>\n",
       "    <tr style=\"text-align: right;\">\n",
       "      <th></th>\n",
       "      <th>LastName</th>\n",
       "      <th>FirstName</th>\n",
       "      <th>Gender</th>\n",
       "      <th>Age</th>\n",
       "    </tr>\n",
       "  </thead>\n",
       "  <tbody>\n",
       "    <tr>\n",
       "      <td>0</td>\n",
       "      <td>Mend</td>\n",
       "      <td>Kim</td>\n",
       "      <td>F</td>\n",
       "      <td>20.0</td>\n",
       "    </tr>\n",
       "    <tr>\n",
       "      <td>1</td>\n",
       "      <td>Brun</td>\n",
       "      <td>Rob</td>\n",
       "      <td>M</td>\n",
       "      <td>21.0</td>\n",
       "    </tr>\n",
       "    <tr>\n",
       "      <td>2</td>\n",
       "      <td>Lu</td>\n",
       "      <td>Lin</td>\n",
       "      <td>M</td>\n",
       "      <td>NaN</td>\n",
       "    </tr>\n",
       "    <tr>\n",
       "      <td>3</td>\n",
       "      <td>Guy</td>\n",
       "      <td>Ron</td>\n",
       "      <td>NaN</td>\n",
       "      <td>22.0</td>\n",
       "    </tr>\n",
       "  </tbody>\n",
       "</table>\n",
       "</div>"
      ],
      "text/plain": [
       "  LastName FirstName Gender   Age\n",
       "0     Mend       Kim      F  20.0\n",
       "1     Brun       Rob      M  21.0\n",
       "2       Lu       Lin      M   NaN\n",
       "3      Guy       Ron    NaN  22.0"
      ]
     },
     "execution_count": 11,
     "metadata": {},
     "output_type": "execute_result"
    }
   ],
   "source": [
    "df2"
   ]
  },
  {
   "cell_type": "markdown",
   "metadata": {},
   "source": [
    "##### Fill with constant\n",
    "Fill missing Age with 20."
   ]
  },
  {
   "cell_type": "code",
   "execution_count": 12,
   "metadata": {
    "scrolled": true
   },
   "outputs": [
    {
     "data": {
      "text/html": [
       "<div>\n",
       "<style scoped>\n",
       "    .dataframe tbody tr th:only-of-type {\n",
       "        vertical-align: middle;\n",
       "    }\n",
       "\n",
       "    .dataframe tbody tr th {\n",
       "        vertical-align: top;\n",
       "    }\n",
       "\n",
       "    .dataframe thead th {\n",
       "        text-align: right;\n",
       "    }\n",
       "</style>\n",
       "<table border=\"1\" class=\"dataframe\">\n",
       "  <thead>\n",
       "    <tr style=\"text-align: right;\">\n",
       "      <th></th>\n",
       "      <th>LastName</th>\n",
       "      <th>FirstName</th>\n",
       "      <th>Gender</th>\n",
       "      <th>Age</th>\n",
       "    </tr>\n",
       "  </thead>\n",
       "  <tbody>\n",
       "    <tr>\n",
       "      <td>0</td>\n",
       "      <td>Mend</td>\n",
       "      <td>Kim</td>\n",
       "      <td>F</td>\n",
       "      <td>20.0</td>\n",
       "    </tr>\n",
       "    <tr>\n",
       "      <td>1</td>\n",
       "      <td>Brun</td>\n",
       "      <td>Rob</td>\n",
       "      <td>M</td>\n",
       "      <td>21.0</td>\n",
       "    </tr>\n",
       "    <tr>\n",
       "      <td>2</td>\n",
       "      <td>Lu</td>\n",
       "      <td>Lin</td>\n",
       "      <td>M</td>\n",
       "      <td>20.0</td>\n",
       "    </tr>\n",
       "    <tr>\n",
       "      <td>3</td>\n",
       "      <td>Guy</td>\n",
       "      <td>Ron</td>\n",
       "      <td>NaN</td>\n",
       "      <td>22.0</td>\n",
       "    </tr>\n",
       "  </tbody>\n",
       "</table>\n",
       "</div>"
      ],
      "text/plain": [
       "  LastName FirstName Gender   Age\n",
       "0     Mend       Kim      F  20.0\n",
       "1     Brun       Rob      M  21.0\n",
       "2       Lu       Lin      M  20.0\n",
       "3      Guy       Ron    NaN  22.0"
      ]
     },
     "execution_count": 12,
     "metadata": {},
     "output_type": "execute_result"
    }
   ],
   "source": [
    "#fill missing age with 20\n",
    "df2_3 = df2.copy()\n",
    "df2_3.Age.fillna(20, inplace=True)\n",
    "df2_3"
   ]
  },
  {
   "cell_type": "markdown",
   "metadata": {},
   "source": [
    "##### Fill with mean/mode"
   ]
  },
  {
   "cell_type": "code",
   "execution_count": 13,
   "metadata": {
    "scrolled": true
   },
   "outputs": [
    {
     "data": {
      "text/html": [
       "<div>\n",
       "<style scoped>\n",
       "    .dataframe tbody tr th:only-of-type {\n",
       "        vertical-align: middle;\n",
       "    }\n",
       "\n",
       "    .dataframe tbody tr th {\n",
       "        vertical-align: top;\n",
       "    }\n",
       "\n",
       "    .dataframe thead th {\n",
       "        text-align: right;\n",
       "    }\n",
       "</style>\n",
       "<table border=\"1\" class=\"dataframe\">\n",
       "  <thead>\n",
       "    <tr style=\"text-align: right;\">\n",
       "      <th></th>\n",
       "      <th>LastName</th>\n",
       "      <th>FirstName</th>\n",
       "      <th>Gender</th>\n",
       "      <th>Age</th>\n",
       "    </tr>\n",
       "  </thead>\n",
       "  <tbody>\n",
       "    <tr>\n",
       "      <td>0</td>\n",
       "      <td>Mend</td>\n",
       "      <td>Kim</td>\n",
       "      <td>F</td>\n",
       "      <td>20.0</td>\n",
       "    </tr>\n",
       "    <tr>\n",
       "      <td>1</td>\n",
       "      <td>Brun</td>\n",
       "      <td>Rob</td>\n",
       "      <td>M</td>\n",
       "      <td>21.0</td>\n",
       "    </tr>\n",
       "    <tr>\n",
       "      <td>2</td>\n",
       "      <td>Lu</td>\n",
       "      <td>Lin</td>\n",
       "      <td>M</td>\n",
       "      <td>21.0</td>\n",
       "    </tr>\n",
       "    <tr>\n",
       "      <td>3</td>\n",
       "      <td>Guy</td>\n",
       "      <td>Ron</td>\n",
       "      <td>NaN</td>\n",
       "      <td>22.0</td>\n",
       "    </tr>\n",
       "  </tbody>\n",
       "</table>\n",
       "</div>"
      ],
      "text/plain": [
       "  LastName FirstName Gender   Age\n",
       "0     Mend       Kim      F  20.0\n",
       "1     Brun       Rob      M  21.0\n",
       "2       Lu       Lin      M  21.0\n",
       "3      Guy       Ron    NaN  22.0"
      ]
     },
     "execution_count": 13,
     "metadata": {},
     "output_type": "execute_result"
    }
   ],
   "source": [
    "#fill missing age with mean age\n",
    "df2_4 = df2.copy()\n",
    "df2_4.Age.fillna(df2_4.Age.mean(), inplace=True)\n",
    "df2_4"
   ]
  },
  {
   "cell_type": "code",
   "execution_count": 14,
   "metadata": {
    "scrolled": true
   },
   "outputs": [
    {
     "data": {
      "text/html": [
       "<div>\n",
       "<style scoped>\n",
       "    .dataframe tbody tr th:only-of-type {\n",
       "        vertical-align: middle;\n",
       "    }\n",
       "\n",
       "    .dataframe tbody tr th {\n",
       "        vertical-align: top;\n",
       "    }\n",
       "\n",
       "    .dataframe thead th {\n",
       "        text-align: right;\n",
       "    }\n",
       "</style>\n",
       "<table border=\"1\" class=\"dataframe\">\n",
       "  <thead>\n",
       "    <tr style=\"text-align: right;\">\n",
       "      <th></th>\n",
       "      <th>LastName</th>\n",
       "      <th>FirstName</th>\n",
       "      <th>Gender</th>\n",
       "      <th>Age</th>\n",
       "    </tr>\n",
       "  </thead>\n",
       "  <tbody>\n",
       "    <tr>\n",
       "      <td>0</td>\n",
       "      <td>Mend</td>\n",
       "      <td>Kim</td>\n",
       "      <td>F</td>\n",
       "      <td>20.0</td>\n",
       "    </tr>\n",
       "    <tr>\n",
       "      <td>1</td>\n",
       "      <td>Brun</td>\n",
       "      <td>Rob</td>\n",
       "      <td>M</td>\n",
       "      <td>21.0</td>\n",
       "    </tr>\n",
       "    <tr>\n",
       "      <td>2</td>\n",
       "      <td>Lu</td>\n",
       "      <td>Lin</td>\n",
       "      <td>M</td>\n",
       "      <td>NaN</td>\n",
       "    </tr>\n",
       "    <tr>\n",
       "      <td>3</td>\n",
       "      <td>Guy</td>\n",
       "      <td>Ron</td>\n",
       "      <td>M</td>\n",
       "      <td>22.0</td>\n",
       "    </tr>\n",
       "  </tbody>\n",
       "</table>\n",
       "</div>"
      ],
      "text/plain": [
       "  LastName FirstName Gender   Age\n",
       "0     Mend       Kim      F  20.0\n",
       "1     Brun       Rob      M  21.0\n",
       "2       Lu       Lin      M   NaN\n",
       "3      Guy       Ron      M  22.0"
      ]
     },
     "execution_count": 14,
     "metadata": {},
     "output_type": "execute_result"
    }
   ],
   "source": [
    "#fill missing Gender with mode\n",
    "df2_5 = df2.copy()\n",
    "df2_5.Gender.fillna(df2_5.Gender.mode()[0], inplace=True)\n",
    "df2_5"
   ]
  },
  {
   "cell_type": "markdown",
   "metadata": {},
   "source": [
    "##### Fill with values calculated based on other column"
   ]
  },
  {
   "cell_type": "code",
   "execution_count": 15,
   "metadata": {
    "scrolled": false
   },
   "outputs": [
    {
     "data": {
      "text/html": [
       "<div>\n",
       "<style scoped>\n",
       "    .dataframe tbody tr th:only-of-type {\n",
       "        vertical-align: middle;\n",
       "    }\n",
       "\n",
       "    .dataframe tbody tr th {\n",
       "        vertical-align: top;\n",
       "    }\n",
       "\n",
       "    .dataframe thead th {\n",
       "        text-align: right;\n",
       "    }\n",
       "</style>\n",
       "<table border=\"1\" class=\"dataframe\">\n",
       "  <thead>\n",
       "    <tr style=\"text-align: right;\">\n",
       "      <th></th>\n",
       "      <th>LastName</th>\n",
       "      <th>FirstName</th>\n",
       "      <th>Gender</th>\n",
       "      <th>Age</th>\n",
       "    </tr>\n",
       "  </thead>\n",
       "  <tbody>\n",
       "    <tr>\n",
       "      <td>0</td>\n",
       "      <td>Mend</td>\n",
       "      <td>Kim</td>\n",
       "      <td>F</td>\n",
       "      <td>20.0</td>\n",
       "    </tr>\n",
       "    <tr>\n",
       "      <td>1</td>\n",
       "      <td>Brun</td>\n",
       "      <td>Rob</td>\n",
       "      <td>M</td>\n",
       "      <td>21.0</td>\n",
       "    </tr>\n",
       "    <tr>\n",
       "      <td>2</td>\n",
       "      <td>Lu</td>\n",
       "      <td>Lin</td>\n",
       "      <td>M</td>\n",
       "      <td>21.0</td>\n",
       "    </tr>\n",
       "    <tr>\n",
       "      <td>3</td>\n",
       "      <td>Guy</td>\n",
       "      <td>Ron</td>\n",
       "      <td>NaN</td>\n",
       "      <td>22.0</td>\n",
       "    </tr>\n",
       "  </tbody>\n",
       "</table>\n",
       "</div>"
      ],
      "text/plain": [
       "  LastName FirstName Gender   Age\n",
       "0     Mend       Kim      F  20.0\n",
       "1     Brun       Rob      M  21.0\n",
       "2       Lu       Lin      M  21.0\n",
       "3      Guy       Ron    NaN  22.0"
      ]
     },
     "execution_count": 15,
     "metadata": {},
     "output_type": "execute_result"
    }
   ],
   "source": [
    "#fill missing Age with average age based on gender\n",
    "df2_6 = df2.copy()\n",
    "df2_6.Age.fillna(df2_6.groupby('Gender').Age.transform('mean'), inplace=True)\n",
    "df2_6"
   ]
  },
  {
   "cell_type": "markdown",
   "metadata": {},
   "source": [
    "-----\n",
    "[[Back to TOC]](#Table-of-Contents)\n",
    "\n",
    "## Manipulate String Values\n",
    "\n",
    "There are countless ways you might want to transform string values. We will introduce some common manipulations. We will mostly use pandas Series attribute `str` to invoke string functions.\n",
    "\n",
    "- Strip leading/trailing white spaces.\n",
    "- Unify string case (this is especially critical if you need to compare or group by the values in the column).\n",
    "- Replace certain characters in string (common when dealing with currency values).\n",
    "\n",
    "First, we will create a DataFrame to demonstrate string manipulations. We will:\n",
    "- strip leading/trailing white spaces in Gender column and convert values to all upper case, and\n",
    "- remove '$' and ',' from Tuition column and convert the column to float data type.\n"
   ]
  },
  {
   "cell_type": "code",
   "execution_count": 16,
   "metadata": {
    "scrolled": true
   },
   "outputs": [
    {
     "data": {
      "text/html": [
       "<div>\n",
       "<style scoped>\n",
       "    .dataframe tbody tr th:only-of-type {\n",
       "        vertical-align: middle;\n",
       "    }\n",
       "\n",
       "    .dataframe tbody tr th {\n",
       "        vertical-align: top;\n",
       "    }\n",
       "\n",
       "    .dataframe thead th {\n",
       "        text-align: right;\n",
       "    }\n",
       "</style>\n",
       "<table border=\"1\" class=\"dataframe\">\n",
       "  <thead>\n",
       "    <tr style=\"text-align: right;\">\n",
       "      <th></th>\n",
       "      <th>Name</th>\n",
       "      <th>Gender</th>\n",
       "      <th>Birthday</th>\n",
       "      <th>Tuition</th>\n",
       "    </tr>\n",
       "  </thead>\n",
       "  <tbody>\n",
       "    <tr>\n",
       "      <td>0</td>\n",
       "      <td>Kim Mend</td>\n",
       "      <td>Femal</td>\n",
       "      <td>3/31/1998</td>\n",
       "      <td>$10,125</td>\n",
       "    </tr>\n",
       "    <tr>\n",
       "      <td>1</td>\n",
       "      <td>Rob Brun</td>\n",
       "      <td>Male</td>\n",
       "      <td>Jan 15, 1999</td>\n",
       "      <td>$9999</td>\n",
       "    </tr>\n",
       "    <tr>\n",
       "      <td>2</td>\n",
       "      <td>Lin Lu</td>\n",
       "      <td>male</td>\n",
       "      <td>20/1/1998</td>\n",
       "      <td>0</td>\n",
       "    </tr>\n",
       "    <tr>\n",
       "      <td>3</td>\n",
       "      <td>Ron Guy</td>\n",
       "      <td>Male</td>\n",
       "      <td>5/6/1997</td>\n",
       "      <td>$2000</td>\n",
       "    </tr>\n",
       "  </tbody>\n",
       "</table>\n",
       "</div>"
      ],
      "text/plain": [
       "       Name    Gender      Birthday  Tuition\n",
       "0  Kim Mend   Femal       3/31/1998  $10,125\n",
       "1  Rob Brun    Male    Jan 15, 1999    $9999\n",
       "2    Lin Lu      male     20/1/1998        0\n",
       "3   Ron Guy      Male      5/6/1997    $2000"
      ]
     },
     "execution_count": 16,
     "metadata": {},
     "output_type": "execute_result"
    }
   ],
   "source": [
    "df3 = pd.DataFrame({'Name':['Kim Mend', 'Rob Brun', 'Lin Lu', 'Ron Guy'],\n",
    "                   'Gender':['Femal  ', '  Male  ', 'male', 'Male'],\n",
    "                    'Birthday':['3/31/1998', 'Jan 15, 1999', '20/1/1998', '5/6/1997'],\n",
    "                   'Tuition':['$10,125', '$9999', '0', '$2000']})\n",
    "df3"
   ]
  },
  {
   "cell_type": "markdown",
   "metadata": {},
   "source": [
    "##### Strip leading/trailing white spaces and unify string case"
   ]
  },
  {
   "cell_type": "code",
   "execution_count": 17,
   "metadata": {
    "scrolled": true
   },
   "outputs": [
    {
     "data": {
      "text/html": [
       "<div>\n",
       "<style scoped>\n",
       "    .dataframe tbody tr th:only-of-type {\n",
       "        vertical-align: middle;\n",
       "    }\n",
       "\n",
       "    .dataframe tbody tr th {\n",
       "        vertical-align: top;\n",
       "    }\n",
       "\n",
       "    .dataframe thead th {\n",
       "        text-align: right;\n",
       "    }\n",
       "</style>\n",
       "<table border=\"1\" class=\"dataframe\">\n",
       "  <thead>\n",
       "    <tr style=\"text-align: right;\">\n",
       "      <th></th>\n",
       "      <th>Name</th>\n",
       "      <th>Gender</th>\n",
       "      <th>Birthday</th>\n",
       "      <th>Tuition</th>\n",
       "    </tr>\n",
       "  </thead>\n",
       "  <tbody>\n",
       "    <tr>\n",
       "      <td>0</td>\n",
       "      <td>Kim Mend</td>\n",
       "      <td>FEMAL</td>\n",
       "      <td>3/31/1998</td>\n",
       "      <td>$10,125</td>\n",
       "    </tr>\n",
       "    <tr>\n",
       "      <td>1</td>\n",
       "      <td>Rob Brun</td>\n",
       "      <td>MALE</td>\n",
       "      <td>Jan 15, 1999</td>\n",
       "      <td>$9999</td>\n",
       "    </tr>\n",
       "    <tr>\n",
       "      <td>2</td>\n",
       "      <td>Lin Lu</td>\n",
       "      <td>MALE</td>\n",
       "      <td>20/1/1998</td>\n",
       "      <td>0</td>\n",
       "    </tr>\n",
       "    <tr>\n",
       "      <td>3</td>\n",
       "      <td>Ron Guy</td>\n",
       "      <td>MALE</td>\n",
       "      <td>5/6/1997</td>\n",
       "      <td>$2000</td>\n",
       "    </tr>\n",
       "  </tbody>\n",
       "</table>\n",
       "</div>"
      ],
      "text/plain": [
       "       Name Gender      Birthday  Tuition\n",
       "0  Kim Mend  FEMAL     3/31/1998  $10,125\n",
       "1  Rob Brun   MALE  Jan 15, 1999    $9999\n",
       "2    Lin Lu   MALE     20/1/1998        0\n",
       "3   Ron Guy   MALE      5/6/1997    $2000"
      ]
     },
     "execution_count": 17,
     "metadata": {},
     "output_type": "execute_result"
    }
   ],
   "source": [
    "#Strip leading/trailing spaces in Gender column\n",
    "df3['Gender'] = df3.Gender.str.strip()\n",
    "#Convert to all upper case\n",
    "df3['Gender'] = df3.Gender.str.upper()\n",
    "df3"
   ]
  },
  {
   "cell_type": "markdown",
   "metadata": {},
   "source": [
    "##### Replace substring\n",
    "\n",
    "Currency values are some times stored as strings like $12,345.99. We need to strip dollar sign and comma from the values and then convert to float for further operations. The following code achieves three tasks in one line. Notice that you will need to involve attribute `str` for both call of string function `replace()`."
   ]
  },
  {
   "cell_type": "code",
   "execution_count": 18,
   "metadata": {
    "scrolled": false
   },
   "outputs": [
    {
     "data": {
      "text/html": [
       "<div>\n",
       "<style scoped>\n",
       "    .dataframe tbody tr th:only-of-type {\n",
       "        vertical-align: middle;\n",
       "    }\n",
       "\n",
       "    .dataframe tbody tr th {\n",
       "        vertical-align: top;\n",
       "    }\n",
       "\n",
       "    .dataframe thead th {\n",
       "        text-align: right;\n",
       "    }\n",
       "</style>\n",
       "<table border=\"1\" class=\"dataframe\">\n",
       "  <thead>\n",
       "    <tr style=\"text-align: right;\">\n",
       "      <th></th>\n",
       "      <th>Name</th>\n",
       "      <th>Gender</th>\n",
       "      <th>Birthday</th>\n",
       "      <th>Tuition</th>\n",
       "    </tr>\n",
       "  </thead>\n",
       "  <tbody>\n",
       "    <tr>\n",
       "      <td>0</td>\n",
       "      <td>Kim Mend</td>\n",
       "      <td>FEMAL</td>\n",
       "      <td>3/31/1998</td>\n",
       "      <td>10125.0</td>\n",
       "    </tr>\n",
       "    <tr>\n",
       "      <td>1</td>\n",
       "      <td>Rob Brun</td>\n",
       "      <td>MALE</td>\n",
       "      <td>Jan 15, 1999</td>\n",
       "      <td>9999.0</td>\n",
       "    </tr>\n",
       "    <tr>\n",
       "      <td>2</td>\n",
       "      <td>Lin Lu</td>\n",
       "      <td>MALE</td>\n",
       "      <td>20/1/1998</td>\n",
       "      <td>0.0</td>\n",
       "    </tr>\n",
       "    <tr>\n",
       "      <td>3</td>\n",
       "      <td>Ron Guy</td>\n",
       "      <td>MALE</td>\n",
       "      <td>5/6/1997</td>\n",
       "      <td>2000.0</td>\n",
       "    </tr>\n",
       "  </tbody>\n",
       "</table>\n",
       "</div>"
      ],
      "text/plain": [
       "       Name Gender      Birthday  Tuition\n",
       "0  Kim Mend  FEMAL     3/31/1998  10125.0\n",
       "1  Rob Brun   MALE  Jan 15, 1999   9999.0\n",
       "2    Lin Lu   MALE     20/1/1998      0.0\n",
       "3   Ron Guy   MALE      5/6/1997   2000.0"
      ]
     },
     "execution_count": 18,
     "metadata": {},
     "output_type": "execute_result"
    }
   ],
   "source": [
    "#Remove $ and , in Tuition, convert to float\n",
    "df3['Tuition'] = df3.Tuition.str.replace('$', '').str.replace(',','').astype(float)\n",
    "df3"
   ]
  },
  {
   "cell_type": "markdown",
   "metadata": {},
   "source": [
    "-----\n",
    "[[Back to TOC]](#Table-of-Contents)\n",
    "\n",
    "## Transform Datetime\n",
    "\n",
    "Date and time are very common in business related datasets. We always want to convert date time information from string to datetime data type. We sometimes need to create datetime related columns for datetime related analysis, i.e., sales in different days of the week. \n",
    "\n",
    "#### Convert Datetime String to Datetime Object\n",
    "\n",
    "Pandas has a function `to_datetime()` that will convert date time string to datetime datatype. This function can deal with various date time formats. "
   ]
  },
  {
   "cell_type": "code",
   "execution_count": 19,
   "metadata": {
    "scrolled": false
   },
   "outputs": [
    {
     "data": {
      "text/html": [
       "<div>\n",
       "<style scoped>\n",
       "    .dataframe tbody tr th:only-of-type {\n",
       "        vertical-align: middle;\n",
       "    }\n",
       "\n",
       "    .dataframe tbody tr th {\n",
       "        vertical-align: top;\n",
       "    }\n",
       "\n",
       "    .dataframe thead th {\n",
       "        text-align: right;\n",
       "    }\n",
       "</style>\n",
       "<table border=\"1\" class=\"dataframe\">\n",
       "  <thead>\n",
       "    <tr style=\"text-align: right;\">\n",
       "      <th></th>\n",
       "      <th>Name</th>\n",
       "      <th>Gender</th>\n",
       "      <th>Birthday</th>\n",
       "      <th>Tuition</th>\n",
       "      <th>Birthday_clean</th>\n",
       "    </tr>\n",
       "  </thead>\n",
       "  <tbody>\n",
       "    <tr>\n",
       "      <td>0</td>\n",
       "      <td>Kim Mend</td>\n",
       "      <td>FEMAL</td>\n",
       "      <td>3/31/1998</td>\n",
       "      <td>10125.0</td>\n",
       "      <td>1998-03-31</td>\n",
       "    </tr>\n",
       "    <tr>\n",
       "      <td>1</td>\n",
       "      <td>Rob Brun</td>\n",
       "      <td>MALE</td>\n",
       "      <td>Jan 15, 1999</td>\n",
       "      <td>9999.0</td>\n",
       "      <td>1999-01-15</td>\n",
       "    </tr>\n",
       "    <tr>\n",
       "      <td>2</td>\n",
       "      <td>Lin Lu</td>\n",
       "      <td>MALE</td>\n",
       "      <td>20/1/1998</td>\n",
       "      <td>0.0</td>\n",
       "      <td>1998-01-20</td>\n",
       "    </tr>\n",
       "    <tr>\n",
       "      <td>3</td>\n",
       "      <td>Ron Guy</td>\n",
       "      <td>MALE</td>\n",
       "      <td>5/6/1997</td>\n",
       "      <td>2000.0</td>\n",
       "      <td>1997-05-06</td>\n",
       "    </tr>\n",
       "  </tbody>\n",
       "</table>\n",
       "</div>"
      ],
      "text/plain": [
       "       Name Gender      Birthday  Tuition Birthday_clean\n",
       "0  Kim Mend  FEMAL     3/31/1998  10125.0     1998-03-31\n",
       "1  Rob Brun   MALE  Jan 15, 1999   9999.0     1999-01-15\n",
       "2    Lin Lu   MALE     20/1/1998      0.0     1998-01-20\n",
       "3   Ron Guy   MALE      5/6/1997   2000.0     1997-05-06"
      ]
     },
     "execution_count": 19,
     "metadata": {},
     "output_type": "execute_result"
    }
   ],
   "source": [
    "df3['Birthday_clean'] = pd.to_datetime(df3.Birthday)\n",
    "df3"
   ]
  },
  {
   "cell_type": "markdown",
   "metadata": {},
   "source": [
    "We need to be very careful when dealing with datetime values, for example, for '5/6/1998', it's unclear whether it's May 6 or Jun 5. `pd.to_datetime()` by default will assume '5' is month and '6' is date. But this may not be the case. You may pass datetime format to the function to eliminate the ambiguity like the following example shows. But if you want to apply a format to a DataFrame column, this column has to have the same datetime format. For a dataset that has very messy datetime format, you need more advanced techniques to clean them up, which is out of the scope of this lesson.\n",
    "\n",
    "You may review the list of all [python datetime format codes](https://docs.python.org/2/library/datetime.html#strftime-and-strptime-behavior)."
   ]
  },
  {
   "cell_type": "code",
   "execution_count": 20,
   "metadata": {
    "scrolled": true
   },
   "outputs": [
    {
     "data": {
      "text/plain": [
       "Timestamp('1997-06-05 00:00:00')"
      ]
     },
     "execution_count": 20,
     "metadata": {},
     "output_type": "execute_result"
    }
   ],
   "source": [
    "#set datetime format\n",
    "pd.to_datetime('5/6/1997', format='%d/%m/%Y')"
   ]
  },
  {
   "cell_type": "markdown",
   "metadata": {},
   "source": [
    "#### Create New Columns from Datetime Column\n",
    "\n",
    "Pandas datetime object has functions to get datetime parts like year, month, day, day of week, hour etc. Similar to string functions, we need to use datetime attribute `dt` when invoking datetime functions. In the following cells, we will add new datetime related columns into the DataFrame created above."
   ]
  },
  {
   "cell_type": "code",
   "execution_count": 21,
   "metadata": {
    "scrolled": true
   },
   "outputs": [
    {
     "data": {
      "text/html": [
       "<div>\n",
       "<style scoped>\n",
       "    .dataframe tbody tr th:only-of-type {\n",
       "        vertical-align: middle;\n",
       "    }\n",
       "\n",
       "    .dataframe tbody tr th {\n",
       "        vertical-align: top;\n",
       "    }\n",
       "\n",
       "    .dataframe thead th {\n",
       "        text-align: right;\n",
       "    }\n",
       "</style>\n",
       "<table border=\"1\" class=\"dataframe\">\n",
       "  <thead>\n",
       "    <tr style=\"text-align: right;\">\n",
       "      <th></th>\n",
       "      <th>Name</th>\n",
       "      <th>Gender</th>\n",
       "      <th>Birthday</th>\n",
       "      <th>Tuition</th>\n",
       "      <th>Birthday_clean</th>\n",
       "    </tr>\n",
       "  </thead>\n",
       "  <tbody>\n",
       "    <tr>\n",
       "      <td>0</td>\n",
       "      <td>Kim Mend</td>\n",
       "      <td>FEMAL</td>\n",
       "      <td>3/31/1998</td>\n",
       "      <td>10125.0</td>\n",
       "      <td>1998-03-31</td>\n",
       "    </tr>\n",
       "    <tr>\n",
       "      <td>1</td>\n",
       "      <td>Rob Brun</td>\n",
       "      <td>MALE</td>\n",
       "      <td>Jan 15, 1999</td>\n",
       "      <td>9999.0</td>\n",
       "      <td>1999-01-15</td>\n",
       "    </tr>\n",
       "    <tr>\n",
       "      <td>2</td>\n",
       "      <td>Lin Lu</td>\n",
       "      <td>MALE</td>\n",
       "      <td>20/1/1998</td>\n",
       "      <td>0.0</td>\n",
       "      <td>1998-01-20</td>\n",
       "    </tr>\n",
       "    <tr>\n",
       "      <td>3</td>\n",
       "      <td>Ron Guy</td>\n",
       "      <td>MALE</td>\n",
       "      <td>5/6/1997</td>\n",
       "      <td>2000.0</td>\n",
       "      <td>1997-05-06</td>\n",
       "    </tr>\n",
       "  </tbody>\n",
       "</table>\n",
       "</div>"
      ],
      "text/plain": [
       "       Name Gender      Birthday  Tuition Birthday_clean\n",
       "0  Kim Mend  FEMAL     3/31/1998  10125.0     1998-03-31\n",
       "1  Rob Brun   MALE  Jan 15, 1999   9999.0     1999-01-15\n",
       "2    Lin Lu   MALE     20/1/1998      0.0     1998-01-20\n",
       "3   Ron Guy   MALE      5/6/1997   2000.0     1997-05-06"
      ]
     },
     "execution_count": 21,
     "metadata": {},
     "output_type": "execute_result"
    }
   ],
   "source": [
    "df4 = df3.copy()\n",
    "df4"
   ]
  },
  {
   "cell_type": "code",
   "execution_count": 22,
   "metadata": {
    "scrolled": false
   },
   "outputs": [
    {
     "data": {
      "text/html": [
       "<div>\n",
       "<style scoped>\n",
       "    .dataframe tbody tr th:only-of-type {\n",
       "        vertical-align: middle;\n",
       "    }\n",
       "\n",
       "    .dataframe tbody tr th {\n",
       "        vertical-align: top;\n",
       "    }\n",
       "\n",
       "    .dataframe thead th {\n",
       "        text-align: right;\n",
       "    }\n",
       "</style>\n",
       "<table border=\"1\" class=\"dataframe\">\n",
       "  <thead>\n",
       "    <tr style=\"text-align: right;\">\n",
       "      <th></th>\n",
       "      <th>Name</th>\n",
       "      <th>Gender</th>\n",
       "      <th>Birthday</th>\n",
       "      <th>Tuition</th>\n",
       "      <th>Birthday_clean</th>\n",
       "      <th>Year</th>\n",
       "      <th>Month</th>\n",
       "      <th>Day</th>\n",
       "      <th>DayOfWeek</th>\n",
       "      <th>Hour</th>\n",
       "    </tr>\n",
       "  </thead>\n",
       "  <tbody>\n",
       "    <tr>\n",
       "      <td>0</td>\n",
       "      <td>Kim Mend</td>\n",
       "      <td>FEMAL</td>\n",
       "      <td>3/31/1998</td>\n",
       "      <td>10125.0</td>\n",
       "      <td>1998-03-31</td>\n",
       "      <td>1998</td>\n",
       "      <td>3</td>\n",
       "      <td>31</td>\n",
       "      <td>1</td>\n",
       "      <td>0</td>\n",
       "    </tr>\n",
       "    <tr>\n",
       "      <td>1</td>\n",
       "      <td>Rob Brun</td>\n",
       "      <td>MALE</td>\n",
       "      <td>Jan 15, 1999</td>\n",
       "      <td>9999.0</td>\n",
       "      <td>1999-01-15</td>\n",
       "      <td>1999</td>\n",
       "      <td>1</td>\n",
       "      <td>15</td>\n",
       "      <td>4</td>\n",
       "      <td>0</td>\n",
       "    </tr>\n",
       "    <tr>\n",
       "      <td>2</td>\n",
       "      <td>Lin Lu</td>\n",
       "      <td>MALE</td>\n",
       "      <td>20/1/1998</td>\n",
       "      <td>0.0</td>\n",
       "      <td>1998-01-20</td>\n",
       "      <td>1998</td>\n",
       "      <td>1</td>\n",
       "      <td>20</td>\n",
       "      <td>1</td>\n",
       "      <td>0</td>\n",
       "    </tr>\n",
       "    <tr>\n",
       "      <td>3</td>\n",
       "      <td>Ron Guy</td>\n",
       "      <td>MALE</td>\n",
       "      <td>5/6/1997</td>\n",
       "      <td>2000.0</td>\n",
       "      <td>1997-05-06</td>\n",
       "      <td>1997</td>\n",
       "      <td>5</td>\n",
       "      <td>6</td>\n",
       "      <td>1</td>\n",
       "      <td>0</td>\n",
       "    </tr>\n",
       "  </tbody>\n",
       "</table>\n",
       "</div>"
      ],
      "text/plain": [
       "       Name Gender      Birthday  Tuition Birthday_clean  Year  Month  Day  \\\n",
       "0  Kim Mend  FEMAL     3/31/1998  10125.0     1998-03-31  1998      3   31   \n",
       "1  Rob Brun   MALE  Jan 15, 1999   9999.0     1999-01-15  1999      1   15   \n",
       "2    Lin Lu   MALE     20/1/1998      0.0     1998-01-20  1998      1   20   \n",
       "3   Ron Guy   MALE      5/6/1997   2000.0     1997-05-06  1997      5    6   \n",
       "\n",
       "   DayOfWeek  Hour  \n",
       "0          1     0  \n",
       "1          4     0  \n",
       "2          1     0  \n",
       "3          1     0  "
      ]
     },
     "execution_count": 22,
     "metadata": {},
     "output_type": "execute_result"
    }
   ],
   "source": [
    "df4['Year'] = df4.Birthday_clean.dt.year\n",
    "df4['Month'] = df4.Birthday_clean.dt.month\n",
    "df4['Day'] = df4.Birthday_clean.dt.day\n",
    "df4['DayOfWeek'] = df4.Birthday_clean.dt.dayofweek\n",
    "df4['Hour'] = df4.Birthday_clean.dt.hour\n",
    "df4"
   ]
  },
  {
   "cell_type": "markdown",
   "metadata": {},
   "source": [
    "-----\n",
    "[[Back to TOC]](#Table-of-Contents)\n",
    "\n",
    "## Lambda Function\n",
    "\n",
    "Python lambda functions, also known as anonymous functions, are inline functions that do not have a name. They are created with the lambda keyword. The syntax is `lambda arguments : expression`. The following cell defines a lambda function that adds up 2 numbers."
   ]
  },
  {
   "cell_type": "code",
   "execution_count": 23,
   "metadata": {},
   "outputs": [
    {
     "data": {
      "text/plain": [
       "7"
      ]
     },
     "execution_count": 23,
     "metadata": {},
     "output_type": "execute_result"
    }
   ],
   "source": [
    "x = lambda a, b: a + b\n",
    "x(3,4)"
   ]
  },
  {
   "cell_type": "markdown",
   "metadata": {},
   "source": [
    "The lambda function is very handy in DataFrame manipulations. We will use 2 examples to demonstrate this. The first one is split one column to two columns with lambda function. The second one is to create datetime column from multiple columns.\n",
    "\n",
    "#### Apply Lambda Function on One Column\n",
    "\n",
    "The syntax to apply lambda function on a column is `df.column.apply(lambda x:expression(x))`, which will apply the lambda function on each value in the column, then return a Pandas Series with return value of the lambda function. We will create FirstName and Lastname columns by applying lambda function on Name column in the following example."
   ]
  },
  {
   "cell_type": "code",
   "execution_count": 24,
   "metadata": {
    "scrolled": false
   },
   "outputs": [
    {
     "data": {
      "text/html": [
       "<div>\n",
       "<style scoped>\n",
       "    .dataframe tbody tr th:only-of-type {\n",
       "        vertical-align: middle;\n",
       "    }\n",
       "\n",
       "    .dataframe tbody tr th {\n",
       "        vertical-align: top;\n",
       "    }\n",
       "\n",
       "    .dataframe thead th {\n",
       "        text-align: right;\n",
       "    }\n",
       "</style>\n",
       "<table border=\"1\" class=\"dataframe\">\n",
       "  <thead>\n",
       "    <tr style=\"text-align: right;\">\n",
       "      <th></th>\n",
       "      <th>Name</th>\n",
       "      <th>Gender</th>\n",
       "      <th>Birthday</th>\n",
       "      <th>Tuition</th>\n",
       "      <th>Birthday_clean</th>\n",
       "      <th>Year</th>\n",
       "      <th>Month</th>\n",
       "      <th>Day</th>\n",
       "      <th>DayOfWeek</th>\n",
       "      <th>Hour</th>\n",
       "    </tr>\n",
       "  </thead>\n",
       "  <tbody>\n",
       "    <tr>\n",
       "      <td>0</td>\n",
       "      <td>Kim Mend</td>\n",
       "      <td>FEMAL</td>\n",
       "      <td>3/31/1998</td>\n",
       "      <td>10125.0</td>\n",
       "      <td>1998-03-31</td>\n",
       "      <td>1998</td>\n",
       "      <td>3</td>\n",
       "      <td>31</td>\n",
       "      <td>1</td>\n",
       "      <td>0</td>\n",
       "    </tr>\n",
       "    <tr>\n",
       "      <td>1</td>\n",
       "      <td>Rob Brun</td>\n",
       "      <td>MALE</td>\n",
       "      <td>Jan 15, 1999</td>\n",
       "      <td>9999.0</td>\n",
       "      <td>1999-01-15</td>\n",
       "      <td>1999</td>\n",
       "      <td>1</td>\n",
       "      <td>15</td>\n",
       "      <td>4</td>\n",
       "      <td>0</td>\n",
       "    </tr>\n",
       "    <tr>\n",
       "      <td>2</td>\n",
       "      <td>Lin Lu</td>\n",
       "      <td>MALE</td>\n",
       "      <td>20/1/1998</td>\n",
       "      <td>0.0</td>\n",
       "      <td>1998-01-20</td>\n",
       "      <td>1998</td>\n",
       "      <td>1</td>\n",
       "      <td>20</td>\n",
       "      <td>1</td>\n",
       "      <td>0</td>\n",
       "    </tr>\n",
       "    <tr>\n",
       "      <td>3</td>\n",
       "      <td>Ron Guy</td>\n",
       "      <td>MALE</td>\n",
       "      <td>5/6/1997</td>\n",
       "      <td>2000.0</td>\n",
       "      <td>1997-05-06</td>\n",
       "      <td>1997</td>\n",
       "      <td>5</td>\n",
       "      <td>6</td>\n",
       "      <td>1</td>\n",
       "      <td>0</td>\n",
       "    </tr>\n",
       "  </tbody>\n",
       "</table>\n",
       "</div>"
      ],
      "text/plain": [
       "       Name Gender      Birthday  Tuition Birthday_clean  Year  Month  Day  \\\n",
       "0  Kim Mend  FEMAL     3/31/1998  10125.0     1998-03-31  1998      3   31   \n",
       "1  Rob Brun   MALE  Jan 15, 1999   9999.0     1999-01-15  1999      1   15   \n",
       "2    Lin Lu   MALE     20/1/1998      0.0     1998-01-20  1998      1   20   \n",
       "3   Ron Guy   MALE      5/6/1997   2000.0     1997-05-06  1997      5    6   \n",
       "\n",
       "   DayOfWeek  Hour  \n",
       "0          1     0  \n",
       "1          4     0  \n",
       "2          1     0  \n",
       "3          1     0  "
      ]
     },
     "execution_count": 24,
     "metadata": {},
     "output_type": "execute_result"
    }
   ],
   "source": [
    "df5 = df4.copy()\n",
    "df5"
   ]
  },
  {
   "cell_type": "code",
   "execution_count": 25,
   "metadata": {
    "scrolled": true
   },
   "outputs": [
    {
     "data": {
      "text/html": [
       "<div>\n",
       "<style scoped>\n",
       "    .dataframe tbody tr th:only-of-type {\n",
       "        vertical-align: middle;\n",
       "    }\n",
       "\n",
       "    .dataframe tbody tr th {\n",
       "        vertical-align: top;\n",
       "    }\n",
       "\n",
       "    .dataframe thead th {\n",
       "        text-align: right;\n",
       "    }\n",
       "</style>\n",
       "<table border=\"1\" class=\"dataframe\">\n",
       "  <thead>\n",
       "    <tr style=\"text-align: right;\">\n",
       "      <th></th>\n",
       "      <th>Name</th>\n",
       "      <th>Gender</th>\n",
       "      <th>Birthday</th>\n",
       "      <th>Tuition</th>\n",
       "      <th>Birthday_clean</th>\n",
       "      <th>Year</th>\n",
       "      <th>Month</th>\n",
       "      <th>Day</th>\n",
       "      <th>DayOfWeek</th>\n",
       "      <th>Hour</th>\n",
       "      <th>Firstname</th>\n",
       "      <th>Lastname</th>\n",
       "    </tr>\n",
       "  </thead>\n",
       "  <tbody>\n",
       "    <tr>\n",
       "      <td>0</td>\n",
       "      <td>Kim Mend</td>\n",
       "      <td>FEMAL</td>\n",
       "      <td>3/31/1998</td>\n",
       "      <td>10125.0</td>\n",
       "      <td>1998-03-31</td>\n",
       "      <td>1998</td>\n",
       "      <td>3</td>\n",
       "      <td>31</td>\n",
       "      <td>1</td>\n",
       "      <td>0</td>\n",
       "      <td>Kim</td>\n",
       "      <td>Mend</td>\n",
       "    </tr>\n",
       "    <tr>\n",
       "      <td>1</td>\n",
       "      <td>Rob Brun</td>\n",
       "      <td>MALE</td>\n",
       "      <td>Jan 15, 1999</td>\n",
       "      <td>9999.0</td>\n",
       "      <td>1999-01-15</td>\n",
       "      <td>1999</td>\n",
       "      <td>1</td>\n",
       "      <td>15</td>\n",
       "      <td>4</td>\n",
       "      <td>0</td>\n",
       "      <td>Rob</td>\n",
       "      <td>Brun</td>\n",
       "    </tr>\n",
       "    <tr>\n",
       "      <td>2</td>\n",
       "      <td>Lin Lu</td>\n",
       "      <td>MALE</td>\n",
       "      <td>20/1/1998</td>\n",
       "      <td>0.0</td>\n",
       "      <td>1998-01-20</td>\n",
       "      <td>1998</td>\n",
       "      <td>1</td>\n",
       "      <td>20</td>\n",
       "      <td>1</td>\n",
       "      <td>0</td>\n",
       "      <td>Lin</td>\n",
       "      <td>Lu</td>\n",
       "    </tr>\n",
       "    <tr>\n",
       "      <td>3</td>\n",
       "      <td>Ron Guy</td>\n",
       "      <td>MALE</td>\n",
       "      <td>5/6/1997</td>\n",
       "      <td>2000.0</td>\n",
       "      <td>1997-05-06</td>\n",
       "      <td>1997</td>\n",
       "      <td>5</td>\n",
       "      <td>6</td>\n",
       "      <td>1</td>\n",
       "      <td>0</td>\n",
       "      <td>Ron</td>\n",
       "      <td>Guy</td>\n",
       "    </tr>\n",
       "  </tbody>\n",
       "</table>\n",
       "</div>"
      ],
      "text/plain": [
       "       Name Gender      Birthday  Tuition Birthday_clean  Year  Month  Day  \\\n",
       "0  Kim Mend  FEMAL     3/31/1998  10125.0     1998-03-31  1998      3   31   \n",
       "1  Rob Brun   MALE  Jan 15, 1999   9999.0     1999-01-15  1999      1   15   \n",
       "2    Lin Lu   MALE     20/1/1998      0.0     1998-01-20  1998      1   20   \n",
       "3   Ron Guy   MALE      5/6/1997   2000.0     1997-05-06  1997      5    6   \n",
       "\n",
       "   DayOfWeek  Hour Firstname Lastname  \n",
       "0          1     0       Kim     Mend  \n",
       "1          4     0       Rob     Brun  \n",
       "2          1     0       Lin       Lu  \n",
       "3          1     0       Ron      Guy  "
      ]
     },
     "execution_count": 25,
     "metadata": {},
     "output_type": "execute_result"
    }
   ],
   "source": [
    "#create last name and first name from Name\n",
    "df5['Firstname'] = df5.Name.apply(lambda x:x.split()[0])\n",
    "df5['Lastname'] = df5.Name.apply(lambda x:x.split()[1])\n",
    "df5"
   ]
  },
  {
   "cell_type": "markdown",
   "metadata": {},
   "source": [
    "In the above example, lambda function `lambda x:x.split()[0]` takes one string argument, x, `x.split()[0]` will first call split function on x which splits x with whitespace, then takes the first word, which is first name. Similarly, the second word is lastname."
   ]
  },
  {
   "cell_type": "markdown",
   "metadata": {},
   "source": [
    "#### Apply Lambda Function on DataFrame Rows/Columns\n",
    "\n",
    "You may also apply lambda function on the DataFrame rows or columns with syntax `df.apply(lambda x: expression(x), axis=1)`. Notice that there's a new argument `axis`. This is because when call apply() on a DataFrame, x will be either a column or a row of the DataFrame. `axis=0` means x will be a column of the DataFrame. In most cases, we'd apply lambda function on each row, which means `axis=1`. In the following example, we will create a new datetime column based on year, month and day columns."
   ]
  },
  {
   "cell_type": "code",
   "execution_count": 26,
   "metadata": {},
   "outputs": [
    {
     "data": {
      "text/html": [
       "<div>\n",
       "<style scoped>\n",
       "    .dataframe tbody tr th:only-of-type {\n",
       "        vertical-align: middle;\n",
       "    }\n",
       "\n",
       "    .dataframe tbody tr th {\n",
       "        vertical-align: top;\n",
       "    }\n",
       "\n",
       "    .dataframe thead th {\n",
       "        text-align: right;\n",
       "    }\n",
       "</style>\n",
       "<table border=\"1\" class=\"dataframe\">\n",
       "  <thead>\n",
       "    <tr style=\"text-align: right;\">\n",
       "      <th></th>\n",
       "      <th>Name</th>\n",
       "      <th>Gender</th>\n",
       "      <th>Birthday</th>\n",
       "      <th>Tuition</th>\n",
       "      <th>Birthday_clean</th>\n",
       "      <th>Year</th>\n",
       "      <th>Month</th>\n",
       "      <th>Day</th>\n",
       "      <th>DayOfWeek</th>\n",
       "      <th>Hour</th>\n",
       "      <th>Firstname</th>\n",
       "      <th>Lastname</th>\n",
       "      <th>Birthday_created</th>\n",
       "    </tr>\n",
       "  </thead>\n",
       "  <tbody>\n",
       "    <tr>\n",
       "      <td>0</td>\n",
       "      <td>Kim Mend</td>\n",
       "      <td>FEMAL</td>\n",
       "      <td>3/31/1998</td>\n",
       "      <td>10125.0</td>\n",
       "      <td>1998-03-31</td>\n",
       "      <td>1998</td>\n",
       "      <td>3</td>\n",
       "      <td>31</td>\n",
       "      <td>1</td>\n",
       "      <td>0</td>\n",
       "      <td>Kim</td>\n",
       "      <td>Mend</td>\n",
       "      <td>1998-03-31</td>\n",
       "    </tr>\n",
       "    <tr>\n",
       "      <td>1</td>\n",
       "      <td>Rob Brun</td>\n",
       "      <td>MALE</td>\n",
       "      <td>Jan 15, 1999</td>\n",
       "      <td>9999.0</td>\n",
       "      <td>1999-01-15</td>\n",
       "      <td>1999</td>\n",
       "      <td>1</td>\n",
       "      <td>15</td>\n",
       "      <td>4</td>\n",
       "      <td>0</td>\n",
       "      <td>Rob</td>\n",
       "      <td>Brun</td>\n",
       "      <td>1999-01-15</td>\n",
       "    </tr>\n",
       "    <tr>\n",
       "      <td>2</td>\n",
       "      <td>Lin Lu</td>\n",
       "      <td>MALE</td>\n",
       "      <td>20/1/1998</td>\n",
       "      <td>0.0</td>\n",
       "      <td>1998-01-20</td>\n",
       "      <td>1998</td>\n",
       "      <td>1</td>\n",
       "      <td>20</td>\n",
       "      <td>1</td>\n",
       "      <td>0</td>\n",
       "      <td>Lin</td>\n",
       "      <td>Lu</td>\n",
       "      <td>1998-01-20</td>\n",
       "    </tr>\n",
       "    <tr>\n",
       "      <td>3</td>\n",
       "      <td>Ron Guy</td>\n",
       "      <td>MALE</td>\n",
       "      <td>5/6/1997</td>\n",
       "      <td>2000.0</td>\n",
       "      <td>1997-05-06</td>\n",
       "      <td>1997</td>\n",
       "      <td>5</td>\n",
       "      <td>6</td>\n",
       "      <td>1</td>\n",
       "      <td>0</td>\n",
       "      <td>Ron</td>\n",
       "      <td>Guy</td>\n",
       "      <td>1997-05-06</td>\n",
       "    </tr>\n",
       "  </tbody>\n",
       "</table>\n",
       "</div>"
      ],
      "text/plain": [
       "       Name Gender      Birthday  Tuition Birthday_clean  Year  Month  Day  \\\n",
       "0  Kim Mend  FEMAL     3/31/1998  10125.0     1998-03-31  1998      3   31   \n",
       "1  Rob Brun   MALE  Jan 15, 1999   9999.0     1999-01-15  1999      1   15   \n",
       "2    Lin Lu   MALE     20/1/1998      0.0     1998-01-20  1998      1   20   \n",
       "3   Ron Guy   MALE      5/6/1997   2000.0     1997-05-06  1997      5    6   \n",
       "\n",
       "   DayOfWeek  Hour Firstname Lastname Birthday_created  \n",
       "0          1     0       Kim     Mend       1998-03-31  \n",
       "1          4     0       Rob     Brun       1999-01-15  \n",
       "2          1     0       Lin       Lu       1998-01-20  \n",
       "3          1     0       Ron      Guy       1997-05-06  "
      ]
     },
     "execution_count": 26,
     "metadata": {},
     "output_type": "execute_result"
    }
   ],
   "source": [
    "from datetime import datetime\n",
    "df5['Birthday_created'] = df5.apply(lambda x: datetime(x.Year, x.Month, x.Day), axis=1)\n",
    "df5"
   ]
  },
  {
   "cell_type": "markdown",
   "metadata": {},
   "source": [
    "-----\n",
    "\n",
    "## Ancillary Information\n",
    "\n",
    "The following links are to additional documentation that you might find helpful in learning this material. Reading these web-accessible documents is completely optional.\n",
    "\n",
    "1. [Pandas documentation][pdd]\n",
    "2. A complete Pandas [tutorial][pdt]\n",
    "3. The [Pandas chapter][pdc] from the book _Python Data Science Handbook_ by Jake VanderPlas\n",
    "\n",
    "-----\n",
    "\n",
    "[pdd]: http://pandas.pydata.org/pandas-docs/stable/index.html\n",
    "[pdt]: https://github.com/TomAugspurger/effective-pandas\n",
    "[pdc]: http://nbviewer.jupyter.org/github/jakevdp/PythonDataScienceHandbook/blob/master/notebooks/03.00-Introduction-to-Pandas.ipynb"
   ]
  },
  {
   "cell_type": "markdown",
   "metadata": {
    "deletable": false,
    "editable": false
   },
   "source": [
    "**&copy; 2019: Gies College of Business at the University of Illinois.**\n",
    "\n",
    "This notebook is released under the [Creative Commons license CC BY-NC-SA 4.0][ll]. Any reproduction, adaptation, distribution, dissemination or making available of this notebook for commercial use is not allowed unless authorized in writing by the copyright holder.\n",
    "\n",
    "[ll]: https://creativecommons.org/licenses/by-nc-sa/4.0/legalcode"
   ]
  }
 ],
 "metadata": {
  "kernelspec": {
   "display_name": "Python 3",
   "language": "python",
   "name": "python3"
  },
  "language_info": {
   "codemirror_mode": {
    "name": "ipython",
    "version": 3
   },
   "file_extension": ".py",
   "mimetype": "text/x-python",
   "name": "python",
   "nbconvert_exporter": "python",
   "pygments_lexer": "ipython3",
   "version": "3.7.3"
  }
 },
 "nbformat": 4,
 "nbformat_minor": 2
}
