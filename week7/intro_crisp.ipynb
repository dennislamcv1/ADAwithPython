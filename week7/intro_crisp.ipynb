{
 "cells": [
  {
   "cell_type": "markdown",
   "metadata": {},
   "source": [
    "# Introduction to CRISP-DM\n",
    "\n",
    "So far we've learned basic Python programming skills. To apply this skill on data analytics, we'll need a framework. In data analytics, a framework is a process that helps you navigate data analysis in an organized way. In this lesson, you will learn about one of the more popular data analytics frameworks, CRISP-DM, which stands for cross industry standard process for data mining."
   ]
  },
  {
   "cell_type": "markdown",
   "metadata": {},
   "source": [
    "## CRISP-DM\n",
    "Cross-industry standard process for data mining, known as CRISP-DM, is an open standard process model that describes common approaches used by data mining experts. It is one of the most widely-used analytics models. The CRISP-DM model consists of six steps:\n",
    "- **Business understanding**\n",
    "- **Data understanding**\n",
    "- **Data preparation**\n",
    "- **Modeling**\n",
    "- **Evaluation**\n",
    "- **Deployment**\n",
    "\n",
    "As shown in below figure, these steps are generally performed in sequence, but it will be often necessary to backtrack to previous steps and repeat certain tasks.\n",
    "\n",
    "\n",
    "<img src='images/CRISP-DM_Process_Diagram.png' width=500/>"
   ]
  },
  {
   "cell_type": "markdown",
   "metadata": {},
   "source": [
    "### Business understanding\n",
    "\n",
    "All projects start with business understanding. This initial phase focuses on:\n",
    "- Understanding the business\n",
    "- understanding the project objectives and requirements from a business perspective,\n",
    "- converting this knowledge into a data analytics problem definition, and\n",
    "- creating a preliminary plan designed to achieve the objectives.\n",
    "\n",
    "The importance of business understanding can never be emphasized too much. Building a fancy model without thorough business understanding is like building a powerful car without a steering wheel.\n",
    "\n",
    "The ways to gather business knowledge include:\n",
    "- Online resources\n",
    "- Documents provided by customers\n",
    "- Talking to business insiders(i.e., customer, employees)\n",
    "\n",
    "You will need to assess the current situation and set up objectives, then produce a project plan and assess tools and techniques used in the following processes.\n",
    "\n",
    "### Data understanding\n",
    "\n",
    "The second state of CRISP-DM is data understanding. The data understanding phase includes:\n",
    "- Considering data requirements\n",
    "- Conducting initial data collection\n",
    "- Getting familiar with the data(through exploratory data analysis or EDA)\n",
    "- Identifying data quality problems and discovering first insights into the data\n",
    "\n",
    "**Exploratory data analysis (EDA)** is an approach to analyzing data sets to summarize their main characteristics, often with visual methods.\n",
    " \n",
    "Business data comes in various formats and is often stored in different ways. It may be stored in a relational database, or files with different formats. The data can be well structured but often very messy, which leads to next step, data preparation.\n",
    "\n",
    "\n",
    "### Data preparation\n",
    "The data preparation phase covers all activities to construct the final dataset (data that will be fed into the modeling tool(s)) from the initial raw data. Data preparation tasks are likely to be performed multiple times, and not in any prescribed order. Tasks include table, record, and attribute selection as well as transformation and cleaning of data for modeling tools. Data preparation is the most time consuming task. It accounts for about three quarters of a data analyst's work. This step includes:\n",
    "\n",
    "- Collecting data (from database, files, etc.)\n",
    "- Cleaning up data (identifying and fixing errors in data, dealing with missing data, etc.)\n",
    "- Integrating data (merge different data sets)\n",
    "- Engineering new features (creating new features from existing features)\n",
    "\n",
    "We will introduce common data preparation techniques in the next lesson.\n",
    "\n",
    "### Modeling\n",
    "In this phase, various modeling techniques are selected and applied, and their parameters are calibrated to optimal values. Typically, there are several techniques for the same data mining problem type. Some techniques have specific requirements on the form of data. Therefore, stepping back to the data preparation phase is often needed.\n",
    "\n",
    "Common modeling techniques include:\n",
    "- Regression (supervised learning)\n",
    "- Classification (supervised learning)\n",
    "- Clustering (unsupervised learning)\n",
    "\n",
    "We will introduce one of the Python linear regression implementations in the next lesson.\n",
    "\n",
    "### Evaluation\n",
    "\n",
    "At this stage in the project you have built a model (or models) that appears to be high quality from a data analysis perspective. Before proceeding to final deployment of the model, it is important to more thoroughly evaluate the model, and review the steps executed to construct the model, to be certain it properly achieves the business objectives. A key objective is to determine if there is some important business issue that has not been sufficiently considered. At the end of this phase, a decision on the use of the data mining results should be reached.\n",
    "\n",
    "### Deployment\n",
    "\n",
    "Creation of the model is generally not the end of the project. Even if the purpose of the model is to increase knowledge of the data, the knowledge gained will need to be organized and presented in a way that is useful to the customer. Depending on the requirements, the deployment phase can be as simple as generating a report or as complex as implementing a repeatable data scoring (e.g. segment allocation) or data mining process. In many cases it will be the customer, not the data analyst, who will carry out the deployment steps. Even if the analyst deploys the model it is important for the customer to understand up front the actions that will need to be carried out in order to actually make use of the created models.\n"
   ]
  },
  {
   "cell_type": "markdown",
   "metadata": {},
   "source": [
    "---\n",
    "## Iterative\n",
    "Within a given project, we know that at the beginning of our first ever project we may not have a lot of domain knowledge, or there might be problems with the data or the model might not be valuable enough to put into production. These things happen, and the really nice thing about the CRISP-DM model is that it allows for us to go back as many times as necessary. It’s not a single linear path from project kick-off to deployment. It helps you remember not to beat yourself up over having to go back a step. It also equips you with something upfront to explain to managers that sometimes you will need to bounce between some phases, and that’s ok."
   ]
  },
  {
   "cell_type": "markdown",
   "metadata": {},
   "source": [
    "-----\n",
    "\n",
    "## Ancillary Information\n",
    "\n",
    "The following links are to additional documentation that you might find helpful in learning this material. Reading these web-accessible documents is completely optional.\n",
    "\n",
    "1. [CRISP-DM methodology][rcdm]\n",
    "\n",
    "-----\n",
    "\n",
    "[rcdm]: http://www.sv-europe.com/crisp-dm-methodology/\n",
    "\n"
   ]
  },
  {
   "cell_type": "markdown",
   "metadata": {
    "deletable": false,
    "editable": false
   },
   "source": [
    "**&copy; 2019: Gies College of Business at the University of Illinois.**\n",
    "\n",
    "This notebook is released under the [Creative Commons license CC BY-NC-SA 4.0][ll]. Any reproduction, adaptation, distribution, dissemination or making available of this notebook for commercial use is not allowed unless authorized in writing by the copyright holder.\n",
    "\n",
    "[ll]: https://creativecommons.org/licenses/by-nc-sa/4.0/legalcode"
   ]
  }
 ],
 "metadata": {
  "kernelspec": {
   "display_name": "Python 3",
   "language": "python",
   "name": "python3"
  },
  "language_info": {
   "codemirror_mode": {
    "name": "ipython",
    "version": 3
   },
   "file_extension": ".py",
   "mimetype": "text/x-python",
   "name": "python",
   "nbconvert_exporter": "python",
   "pygments_lexer": "ipython3",
   "version": "3.7.3"
  }
 },
 "nbformat": 4,
 "nbformat_minor": 2
}
