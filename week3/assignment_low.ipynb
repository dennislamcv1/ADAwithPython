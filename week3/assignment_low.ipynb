{
 "cells": [
  {
   "cell_type": "markdown",
   "metadata": {
    "deletable": false,
    "editable": false,
    "nbgrader": {
     "cell_type": "markdown",
     "checksum": "9697dc336619cd1ee2d603aca38ea1f9",
     "grade": false,
     "grade_id": "intro",
     "locked": true,
     "schema_version": 3,
     "solution": false
    }
   },
   "source": [
    "# Module 3 Assignment\n",
    "\n",
    "\n",
    "A few things you should keep in mind when working on assignments:\n",
    "\n",
    "1. Run the first code cell to import modules needed by this assignment before proceeding to problems.\n",
    "2. Make sure you fill in any place that says `# YOUR CODE HERE`. Do not write your answer anywhere else other than where it says `# YOUR CODE HERE`. Anything you write elsewhere will be removed or overwritten by the autograder.\n",
    "3. Each problem has an autograder cell below the answer cell. Run the autograder cell to check your answer. If there's anything wrong in your answer, the autograder cell will display error messages.\n",
    "4. Before you submit your assignment, make sure everything runs as expected. Go to the menubar, select Kernel, and Restart & Run all. If the notebook runs through the last code cell without an error message, you've answered all problems correctly.\n",
    "5. Make sure that you save your work (in the menubar, select File → Save and CheckPoint).\n",
    "\n",
    "-----"
   ]
  },
  {
   "cell_type": "markdown",
   "metadata": {
    "deletable": false,
    "editable": false,
    "nbgrader": {
     "cell_type": "markdown",
     "checksum": "9b726a4ea904b8cee02f892432209f36",
     "grade": false,
     "grade_id": "cell-8ebce8942c88d003",
     "locked": true,
     "schema_version": 3,
     "solution": false
    }
   },
   "source": [
    "# Run Me First!"
   ]
  },
  {
   "cell_type": "code",
   "execution_count": null,
   "metadata": {
    "deletable": false,
    "editable": false,
    "nbgrader": {
     "cell_type": "code",
     "checksum": "854f73aa1bd50febf98c84aad88ab9d6",
     "grade": false,
     "grade_id": "import",
     "locked": true,
     "schema_version": 3,
     "solution": false
    }
   },
   "outputs": [],
   "source": [
    "import numpy as np\n",
    "from nose.tools import assert_equal, assert_is_instance\n",
    "\n",
    "import warnings\n",
    "warnings.filterwarnings('ignore')"
   ]
  },
  {
   "cell_type": "markdown",
   "metadata": {
    "deletable": false,
    "editable": false,
    "nbgrader": {
     "cell_type": "markdown",
     "checksum": "e183f493ef2f20e68c05b4b80159fede",
     "grade": false,
     "grade_id": "p1_text",
     "locked": true,
     "schema_version": 3,
     "solution": false
    }
   },
   "source": [
    "# Problem 1: Making a list, tuple, and dictionary\n",
    "\n",
    "- Write a function called \"create_data\" which takes in 3 parameters and returns a list, tuple, and dictionary (in that order) containing those 3 arguments.\n",
    "\n",
    "\n",
    "- The arguments will be labeled **a, b**, and __c__. These arguments should be inputted **in that order** into each data structure (the list, tuple, and dictionary).\n",
    "\n",
    "\n",
    "- For the dictionary\n",
    " - set the key for __a__ to be string \"1\"(not number 1), \n",
    " - the key for **b** to be string \"2\", and \n",
    " - the key for __c__ to be string \"3\".\n",
    "\n",
    "- Assign the list to variable **my_list**, tuple to variable **my_tuple**, dictionary to variable **my_dict**.\n",
    "\n",
    "- Make sure that the function returns the list, tuple, and dictionary **in that order**."
   ]
  },
  {
   "cell_type": "code",
   "execution_count": null,
   "metadata": {
    "deletable": false,
    "nbgrader": {
     "cell_type": "code",
     "checksum": "caff8cd3e209da5ca6fe443ee7edba68",
     "grade": false,
     "grade_id": "p1_answer",
     "locked": false,
     "schema_version": 3,
     "solution": true
    }
   },
   "outputs": [],
   "source": [
    "def create_data(a,b,c):\n",
    "    '''\n",
    "    A function which creates a list, tuple, and dictionary of the inputted data.\n",
    "    \n",
    "    \n",
    "    Parameters\n",
    "    -------\n",
    "    a: the first datapoint to be inputted\n",
    "    \n",
    "    b: the second datapoint to be inputted\n",
    "    \n",
    "    c: the third datapoint to be inputted\n",
    "    \n",
    "    \n",
    "    Returns\n",
    "    --------\n",
    "    \n",
    "    my_list: a list containing the datapoints\n",
    "    \n",
    "    my_tuple: a tuple containing the datapoints\n",
    "    \n",
    "    my_dict: a dictionary containing the datapoints\n",
    "    \n",
    "    '''\n",
    "    \n",
    "    \n",
    "    # YOUR CODE HERE\n",
    "    \n",
    "    \n",
    "    return my_list, my_tuple, my_dict"
   ]
  },
  {
   "cell_type": "code",
   "execution_count": null,
   "metadata": {
    "deletable": false,
    "editable": false,
    "nbgrader": {
     "cell_type": "code",
     "checksum": "275238311fbf60cb50146d31145b3c4f",
     "grade": false,
     "grade_id": "cell-5c68e162f1c8ed07",
     "locked": true,
     "schema_version": 3,
     "solution": false
    }
   },
   "outputs": [],
   "source": [
    "a,b,c = 3,4,5\n",
    "my_list, my_tuple, my_dict = create_data(a,b,c)"
   ]
  },
  {
   "cell_type": "code",
   "execution_count": null,
   "metadata": {
    "deletable": false,
    "editable": false,
    "nbgrader": {
     "cell_type": "code",
     "checksum": "3a6eb47c0ac017a7d55f22afebb1398c",
     "grade": true,
     "grade_id": "p1-test",
     "locked": true,
     "points": 1,
     "schema_version": 3,
     "solution": false
    }
   },
   "outputs": [],
   "source": [
    "assert_is_instance(my_list,list,msg='my_list is not a list!')\n",
    "assert_is_instance(my_tuple,tuple,msg='my_tuple is not a tuple!')\n",
    "assert_is_instance(my_dict,dict,msg='my_dict is not a dict')\n",
    "\n",
    "assert_equal(a,my_list[0],msg='my_list has the wrong data, check the order.')\n",
    "assert_equal(b,my_tuple[1],msg = 'my_tuple has the wrong data, check the order.')\n",
    "assert_equal(c,my_dict['3'],msg='my_dict either has the wrong data or the keys are not set properly')"
   ]
  },
  {
   "cell_type": "markdown",
   "metadata": {
    "deletable": false,
    "editable": false,
    "nbgrader": {
     "cell_type": "markdown",
     "checksum": "e96d14b728367f5f34066c3334f1d5d1",
     "grade": false,
     "grade_id": "p2_text",
     "locked": true,
     "schema_version": 3,
     "solution": false
    }
   },
   "source": [
    "# Problem 2: Getting elements from a list\n",
    "\n",
    "\n",
    "- Write a function called \"first_thru_20\" that takes in a list and returns the first 20 elements of that list, using Python list slicing. Assign the sliced list to variable **first_20** and return it from the function.\n"
   ]
  },
  {
   "cell_type": "code",
   "execution_count": null,
   "metadata": {
    "deletable": false,
    "nbgrader": {
     "cell_type": "code",
     "checksum": "0b91d5b34503e3e895f75a63731f7a54",
     "grade": false,
     "grade_id": "p2_answer",
     "locked": false,
     "schema_version": 3,
     "solution": true
    }
   },
   "outputs": [],
   "source": [
    "def first_thru_20(input_list):\n",
    "    '''\n",
    "    A function which takes in a list and returns the first 20 elements\n",
    "    \n",
    "    \n",
    "    Parameters\n",
    "    -------\n",
    "    input_list: a Python list\n",
    "    \n",
    "    \n",
    "    Returns\n",
    "    --------\n",
    "    \n",
    "    first_20: a list containing the first 20 elements of the list\n",
    "    \n",
    "    '''\n",
    "    \n",
    "    \n",
    "    # YOUR CODE HERE\n",
    "    \n",
    "    \n",
    "    return first_20"
   ]
  },
  {
   "cell_type": "code",
   "execution_count": null,
   "metadata": {
    "deletable": false,
    "editable": false,
    "nbgrader": {
     "cell_type": "code",
     "checksum": "c5f3d87d62199ef64512652aff43e5d5",
     "grade": false,
     "grade_id": "cell-c1b227535541d70b",
     "locked": true,
     "schema_version": 3,
     "solution": false
    }
   },
   "outputs": [],
   "source": [
    "input_list =list(np.arange(34))\n",
    "first_20 = first_thru_20(input_list)"
   ]
  },
  {
   "cell_type": "code",
   "execution_count": null,
   "metadata": {
    "deletable": false,
    "editable": false,
    "nbgrader": {
     "cell_type": "code",
     "checksum": "16d975d3253650a056aba6247361d516",
     "grade": true,
     "grade_id": "p2_test",
     "locked": true,
     "points": 1,
     "schema_version": 3,
     "solution": false
    }
   },
   "outputs": [],
   "source": [
    "assert_equal(type(first_20), list, msg ='Your function did not return a list')\n",
    "assert_equal(first_20[0]**2, 0, msg ='The first element is incorrect')\n",
    "assert_equal(first_20[-1]**2, 361, msg = 'The last element is incorrect')"
   ]
  },
  {
   "cell_type": "markdown",
   "metadata": {
    "deletable": false,
    "editable": false,
    "nbgrader": {
     "cell_type": "markdown",
     "checksum": "ffc189f30d8bb6ae233ac56f193d17c6",
     "grade": false,
     "grade_id": "p3_text",
     "locked": true,
     "schema_version": 3,
     "solution": false
    }
   },
   "source": [
    "# Problem 3: Find the sum from 1 to n\n",
    "\n",
    "- Write a function called \"summer\" that takes in a number and uses a Python **for** loop to find the sum of all integers from 1 to that number\n",
    "\n",
    "\n",
    "- As an example, if the input is 5, then the function should return 1+2+3+4+5 = 15.\n",
    "\n",
    "- Assign the sum to variable **final_sum** and return it from the function."
   ]
  },
  {
   "cell_type": "code",
   "execution_count": null,
   "metadata": {
    "deletable": false,
    "nbgrader": {
     "cell_type": "code",
     "checksum": "009f45741fc28a3286242938c7a3a87f",
     "grade": false,
     "grade_id": "p3_answer",
     "locked": false,
     "schema_version": 3,
     "solution": true
    }
   },
   "outputs": [],
   "source": [
    "def summer(n):\n",
    "    '''\n",
    "    A function which takes in a number and sums all integers from 1 to that number\n",
    "    \n",
    "    \n",
    "    Parameters\n",
    "    -------\n",
    "    n: an integer\n",
    "        \n",
    "    \n",
    "    Returns\n",
    "    --------\n",
    "    \n",
    "    final_sum: the sum of the two lists\n",
    "    \n",
    "    '''\n",
    "    \n",
    "    \n",
    "    # YOUR CODE HERE\n",
    "    \n",
    "    \n",
    "    return final_sum"
   ]
  },
  {
   "cell_type": "code",
   "execution_count": null,
   "metadata": {
    "deletable": false,
    "editable": false,
    "nbgrader": {
     "cell_type": "code",
     "checksum": "1f4e5f99bd9c404fb3fe856aa671a24f",
     "grade": true,
     "grade_id": "p3-test",
     "locked": true,
     "points": 1,
     "schema_version": 3,
     "solution": false
    }
   },
   "outputs": [],
   "source": [
    "temp_sum = summer(2344)\n",
    "assert_equal(type(temp_sum), int, msg ='Your function did not return an integer')\n",
    "assert_equal(temp_sum, 2748340, msg ='The sum is incorrect')"
   ]
  },
  {
   "cell_type": "markdown",
   "metadata": {
    "deletable": false,
    "editable": false,
    "nbgrader": {
     "cell_type": "markdown",
     "checksum": "9d156abb3db8e74ba504aa3ee94b0f0a",
     "grade": false,
     "grade_id": "p4_text",
     "locked": true,
     "schema_version": 3,
     "solution": false
    }
   },
   "source": [
    "# Problem 4: Check if a value is in a list\n",
    "\n",
    "- Write a function called \"checker\" that takes in a Python list and an integer value, and checks whether or not that value is in the list.\n"
   ]
  },
  {
   "cell_type": "code",
   "execution_count": null,
   "metadata": {
    "deletable": false,
    "nbgrader": {
     "cell_type": "code",
     "checksum": "0eef6eeb7a592c21ebb1974abb739241",
     "grade": false,
     "grade_id": "p4_answer",
     "locked": false,
     "schema_version": 3,
     "solution": true
    }
   },
   "outputs": [],
   "source": [
    "def checker(input_list, value):\n",
    "    '''\n",
    "    A function which takes in a list and and a value and checks if the value is in the list\n",
    "    \n",
    "    \n",
    "    Parameters\n",
    "    -------\n",
    "    input_list: a Python list\n",
    "    \n",
    "    value: a value\n",
    "    \n",
    "    Returns\n",
    "    --------\n",
    "    \n",
    "    boolean, True if value is in the input list and False otherwise\n",
    "    \n",
    "    '''\n",
    "    \n",
    "    \n",
    "    # YOUR CODE HERE\n",
    "    \n",
    "    "
   ]
  },
  {
   "cell_type": "code",
   "execution_count": null,
   "metadata": {
    "deletable": false,
    "editable": false,
    "nbgrader": {
     "cell_type": "code",
     "checksum": "3d889bfb11c48470c5a22d0045e10177",
     "grade": true,
     "grade_id": "p4_test",
     "locked": true,
     "points": 1,
     "schema_version": 3,
     "solution": false
    }
   },
   "outputs": [],
   "source": [
    "assert_equal(checker([1,10],9), False,msg='Your function returned an incorrect value')\n",
    "assert_equal(checker([1,10],10), True,msg='Your function returned an incorrect value')\n",
    "assert_is_instance(checker([1,10],9), bool,msg='Your function did not return a boolean')"
   ]
  }
 ],
 "metadata": {
  "coursera": {
   "course_slug": "accounting-data-analytics-python",
   "graded_item_id": "YJqmG",
   "launcher_item_id": "su15C"
  },
  "kernelspec": {
   "display_name": "Python 3",
   "language": "python",
   "name": "python3"
  },
  "language_info": {
   "codemirror_mode": {
    "name": "ipython",
    "version": 3
   },
   "file_extension": ".py",
   "mimetype": "text/x-python",
   "name": "python",
   "nbconvert_exporter": "python",
   "pygments_lexer": "ipython3",
   "version": "3.7.3"
  }
 },
 "nbformat": 4,
 "nbformat_minor": 2
}
