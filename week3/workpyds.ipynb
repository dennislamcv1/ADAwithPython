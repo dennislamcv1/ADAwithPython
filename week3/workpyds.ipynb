{
 "cells": [
  {
   "cell_type": "markdown",
   "metadata": {},
   "source": [
    "# Working with Python Data Structures\n",
    "\n",
    "-----"
   ]
  },
  {
   "cell_type": "markdown",
   "metadata": {},
   "source": [
    "In an earlier notebook, we introduced several of the most popular Python data structures including the list, tuple, string, and dictionary. In this notebook, we build on these concepts to demonstrate how to work effectively with these data structures, which includes using built-in functionality and iterative techniques. Finally, we briefly review several other Python data structures.\n",
    "\n",
    "## Table of Contents\n",
    "[String](#String)  \n",
    "\n",
    "[List](#List)  \n",
    "\n",
    "[Dictionary](#Dictionary)  \n",
    "\n",
    "[Tuple](#Tuple)  \n",
    "\n",
    "[Other Data Structures](#Other-Data-Structures) \n",
    "\n"
   ]
  },
  {
   "cell_type": "markdown",
   "metadata": {},
   "source": [
    "-----\n",
    "[[Back to TOC]](#Table-of-Contents)\n",
    "\n",
    "## String\n",
    "\n",
    "In Python, it is important to remember that a string is an instance of the `str` class. While that this might seem confusing, or an unneeded distraction, in practice this simply means that you get additional functionality for (almost) free. In this section, we explore this additional functionality by demonstrating some of the more important string functions. Primarily these extra functions can be used to process string data and testing if the string only contains alphabetical values, numerical values, or alphanumeric values. However, there are functions that can convert a string to all lowercase or uppercase characters, find substrings, replace data, and format text data\n",
    "\n",
    "A full description of the string methods is available from the online [Python Documentation](https://docs.python.org/3/library/stdtypes.html#str) or by using `help(str)` at a Python prompt or in a Jupyter notebook cell. We now demonstrate some of the more common and useful string functions.\n"
   ]
  },
  {
   "cell_type": "markdown",
   "metadata": {},
   "source": [
    "-----\n",
    "\n",
    "### String Formatting\n",
    "\n",
    "__`format`__:\n",
    "\n",
    "The format method is used to create a new formatted string from a template string and substitution text. The classic example is a form letter, where specific fields are replaced by new data with every string. The `format` method replaces the previous `%` string formatting operator. In its basic form, the template string includes identified `{}` to indicate replacement string locations, and the format method takes arguments that are used to indicate the replacement text. For example,\n",
    "\n",
    "```python\n",
    "'Hello {}, you are visitor #{}!'.format('Alexander', 23)\n",
    "```\n",
    "\n",
    "will return\n",
    "\n",
    "```python\n",
    "'Hello Alexander, you are visitor #23!'\n",
    "```\n",
    "\n",
    "Alternatively, the curly braces can enclose a number that is used to find the matching variable for substitution in the `format` method. For example, the previous example could also be written as `'Hello {0}, you are visitor #{1}!'.format('Alexander', 23)`, or equivalently as `'Hello {1}, you are visitor #{0}!'.format(23, 'Alexander')`.\n",
    "\n",
    "In this course, however, we will primarily use the [_f-strings_](https://www.python.org/dev/peps/pep-0498/) to create formatted text strings. As a reminder, we get the same functionality when using an f-string:\n",
    "\n",
    "```python\n",
    "name = 'Alexander'\n",
    "number = 23\n",
    "\n",
    "f'Hello {name}, you are visitor #{number}!'\n",
    "```\n",
    "\n",
    "f-String was added in Python 3.6. If you look at older code, or work with programmers who have used Python for a while, you will likely  run across the `format` method. The two approaches use many of the same formatting concepts, so it is generally straightforward to translate between them, as demonstrated in the following Code cell.\n",
    "\n",
    "-----"
   ]
  },
  {
   "cell_type": "code",
   "execution_count": 1,
   "metadata": {},
   "outputs": [
    {
     "name": "stdout",
     "output_type": "stream",
     "text": [
      "Hello Alexander, you are visitor #0023!\n",
      "Hello Alexander, you are visitor #0023!\n"
     ]
    }
   ],
   "source": [
    "name = 'Alexander'\n",
    "number = 23\n",
    "\n",
    "print('Hello {0}, you are visitor #{1:04d}!'.format('Alexander', 23))\n",
    "print(f'Hello {name}, you are visitor #{number:04d}!')"
   ]
  },
  {
   "cell_type": "markdown",
   "metadata": {},
   "source": [
    "-----\n",
    "\n",
    "### String Case Conversion\n",
    "\n",
    "__`upper`__:\n",
    "\n",
    "The `upper` method creates a new string that is a copy of the original string with the characters all converted to uppercase. For example, the following function call, \n",
    "\n",
    "```python\n",
    "\"The brown dog jumped over the quick fox!\".upper()\n",
    "```\n",
    "\n",
    "returns \n",
    "```python\n",
    "THE BROWN DOG JUMPED OVER THE QUICK FOX!\n",
    "```\n",
    "\n",
    "__`lower`__:\n",
    "\n",
    "The `lower` method creates a new string that is a copy of the original string with the characters all converted to lowercase. For example, the following function call, \n",
    "\n",
    "```python\n",
    "\"The brown dog jumped over the quick fox!\".lower()\n",
    "```\n",
    "\n",
    "returns \n",
    "```python\n",
    "the brown dog jumped over the quick fox!\n",
    "```\n",
    "\n",
    "__`title`__:\n",
    "\n",
    "The `title` method creates a new string that is a copy of the original string with the first character of every word converted to uppercase. For example, the following function call, \n",
    "\n",
    "```python\n",
    "\"The brown dog jumped over the quick fox!\".title()\n",
    "```\n",
    "\n",
    "returns \n",
    "```python\n",
    "The Brown Dog Jumped Over The Quick Fox!\n",
    "```\n",
    "\n",
    "These three functions are demonstrated in the following Code cell.\n",
    "\n",
    "-----"
   ]
  },
  {
   "cell_type": "code",
   "execution_count": 2,
   "metadata": {},
   "outputs": [
    {
     "name": "stdout",
     "output_type": "stream",
     "text": [
      "THE BROWN DOG JUMPED OVER THE QUICK FOX!\n",
      "the brown dog jumped over the quick fox!\n",
      "The Brown Dog Jumped Over The Quick Fox!\n"
     ]
    }
   ],
   "source": [
    "data = \"The brown dog jumped over the quick fox!\"\n",
    "\n",
    "print(data.upper())\n",
    "print(data.lower())\n",
    "print(data.title())"
   ]
  },
  {
   "cell_type": "markdown",
   "metadata": {},
   "source": [
    "-----\n",
    "\n",
    "### Substring Identification\n",
    "\n",
    "__`find`__:\n",
    "\n",
    "The `find` method locates the first occurrence of a sub-string in the full string and returns the index position of this first occurrence. This function takes a substring to find as an argument, along with optional starting and ending indices (which default to the start and end of the parent string). Thus, the following function invocation:\n",
    "\n",
    "```python\n",
    "'The brown dog jumped over the quick fox!'.find('he')\n",
    "```\n",
    "\n",
    "will return 1 since the substring is contained in the original string and is located at index position one.\n",
    "\n",
    "__`rfind`__:\n",
    "\n",
    "This function is identical to the `find` function, but it starts from the end, or _right-hand side_ of the string. Thus, the following function invocation:\n",
    "\n",
    "```python\n",
    "'The brown dog jumped over the quick fox!'.rfind('he')\n",
    "```\n",
    "\n",
    "will return 27 since the substring is contained in the original string and is located at index position twenty-seven (i.e., in the last *the*).\n",
    "\n",
    "__`count`__:\n",
    "\n",
    "This function returns the number of occurrences of a substring within the original string. As a result, the following function invocation:\n",
    "\n",
    "```python\n",
    "'The brown dog jumped over the quick fox!'.count('he')\n",
    "```\n",
    "\n",
    "will return 2 since there are two instances of `he` occurring in the original string.\n",
    "\n",
    "These three functions are demonstrated in the following Code cell.\n",
    "\n",
    "-----"
   ]
  },
  {
   "cell_type": "code",
   "execution_count": 3,
   "metadata": {},
   "outputs": [
    {
     "name": "stdout",
     "output_type": "stream",
     "text": [
      " find:  1\n",
      "rfind:  27\n",
      "count:  2\n"
     ]
    }
   ],
   "source": [
    "print(' find: ','The brown dog jumped over the quick fox!'.find('he'))\n",
    "\n",
    "print('rfind: ','The brown dog jumped over the quick fox!'.rfind('he'))\n",
    "\n",
    "print('count: ','The brown dog jumped over the quick fox!'.count('he'))"
   ]
  },
  {
   "cell_type": "markdown",
   "metadata": {},
   "source": [
    "-----\n",
    "\n",
    "### Substring Manipulation\n",
    "\n",
    "Python provides several powerful functions to manipulate substrings, including splitting a string into substrings, replacing substrings with alternative text, and quickly joining substrings together into a new string. \n",
    "\n",
    "__`split`__:\n",
    "\n",
    "The `split` method is very powerful and will tokenize a string into substrings based on the input arguments, which are whitespace characters by default. For example, the following function invocation\n",
    "\n",
    "```python\n",
    "\"The brown dog jumped over the quick fox!\".split()\n",
    "```\n",
    "returns a list of the token substrings:\n",
    "\n",
    "```python\n",
    "['The', 'brown', 'dog', 'jumped', 'over', 'the', 'quick', 'fox!']\n",
    "```\n",
    "\n",
    "This function accepts an argument `sep` which is a substring that can be used to split the original string into substrings. By default, this includes any whitespace character (e.g., space, tab, and a newline). You may define other `sep` like `','`, `'|'` etc.\n",
    "\n",
    "```python\n",
    "\"one, two, three, four\".split(sep=',')\n",
    "```\n",
    "returns a list:\n",
    "\n",
    "```python\n",
    "['one', 'two', 'three', 'four']\n",
    "```\n",
    "\n",
    "__`replace`__:\n",
    "\n",
    "This function replaces occurrences of a substring, specified by the parameter `old` with replacement text, specified by the parameter `new`. An optional `count` parameter controls how many substrings are replaced; by default, they are all replaced. \n",
    "\n",
    "__`join`__:\n",
    "\n",
    "While strings can be combined by using the `+` operator, this approach is slow for many additions since each addition requires the construction of a new string to hold the combined result. A more efficient string combination approach is to use the `join` method, which can quickly combine multiple strings that are contained in an iterable object such as a `list` or `tuple` together. The string you use to call the `join` method provides the _glue text_ between each item in the iterable. For example, the following method will create a new string from a list of strings that are each separated by a comma and a single space character:\n",
    "\n",
    "```python\n",
    "\n",
    "data = ['1', '2', '3', '4', '5', '6', '7', '8', '9']\n",
    "\n",
    "\", \".join(data)\n",
    "```\n",
    "which will return\n",
    "\n",
    "```python\n",
    "1, 2, 3, 4, 5, 6, 7, 8, 9\n",
    "```\n",
    "\n",
    "The following Code cells demonstrates these string manipulation functions; you should test, change, and execute them to get a better feel for how to use these functions effectively.\n",
    "\n",
    "----"
   ]
  },
  {
   "cell_type": "code",
   "execution_count": 4,
   "metadata": {},
   "outputs": [
    {
     "name": "stdout",
     "output_type": "stream",
     "text": [
      "['The', 'brown', 'dog', 'jumped', 'over', 'the', 'quick', 'fox!']\n",
      "<class 'list'>\n"
     ]
    }
   ],
   "source": [
    "data = \"The brown dog jumped over the quick fox!\"\n",
    "subs = data.split()\n",
    "print(subs)\n",
    "print(type(subs))"
   ]
  },
  {
   "cell_type": "code",
   "execution_count": 5,
   "metadata": {},
   "outputs": [
    {
     "data": {
      "text/plain": [
       "['one', ' two', ' three', ' four']"
      ]
     },
     "execution_count": 5,
     "metadata": {},
     "output_type": "execute_result"
    }
   ],
   "source": [
    "# Split on the character ','\n",
    "\"one, two, three, four\".split(sep=',')"
   ]
  },
  {
   "cell_type": "code",
   "execution_count": 6,
   "metadata": {},
   "outputs": [
    {
     "name": "stdout",
     "output_type": "stream",
     "text": [
      "The br#wn d#g jumped #ver the quick f#x!\n"
     ]
    }
   ],
   "source": [
    "# Replace characters\n",
    "print(data.replace('o', '#'))"
   ]
  },
  {
   "cell_type": "code",
   "execution_count": 7,
   "metadata": {},
   "outputs": [
    {
     "name": "stdout",
     "output_type": "stream",
     "text": [
      "The brown dog jumped over the quick fox!\n",
      "The,brown,dog,jumped,over,the,quick,fox!\n"
     ]
    }
   ],
   "source": [
    "# Join substrings\n",
    "print(' '.join(subs))\n",
    "print(','.join(subs))"
   ]
  },
  {
   "cell_type": "markdown",
   "metadata": {},
   "source": [
    "-----\n",
    "\n",
    "### String Manipulation\n",
    "\n",
    "__`strip`__:\n",
    "\n",
    "The `strip` method is used to remove characters specified as input arguments to the method from the beginning and end of a string. By default, whitespace characters are removed. Two variants of this function: `lstrip` and `rstrip` remove leading or trailing characters, respectively.\n",
    "\n",
    "```python\n",
    "\"    Some text surrounded by white space characters    \".strip()\n",
    "```\n",
    "returns the string\n",
    "\n",
    "```python\n",
    "Some text surrounded by white space characters\n",
    "```\n",
    "\n",
    "-----"
   ]
  },
  {
   "cell_type": "code",
   "execution_count": 8,
   "metadata": {},
   "outputs": [
    {
     "name": "stdout",
     "output_type": "stream",
     "text": [
      " Strip: Some text surrounded by white space characters\n",
      "RStrip:     Some text surrounded by white space characters\n",
      "LStrip: Some text surrounded by white space characters    \n",
      "\n",
      " brown dog jumped over the quick fox!\n"
     ]
    }
   ],
   "source": [
    "# Strip characters\n",
    "new_data = \"    Some text surrounded by white space characters    \"\n",
    "print(' Strip:', new_data.strip())\n",
    "print('RStrip:', new_data.rstrip())\n",
    "print('LStrip:', new_data.lstrip())\n",
    "\n",
    "# Now specify characters to strip\n",
    "print()\n",
    "print(data.strip('The'))"
   ]
  },
  {
   "cell_type": "markdown",
   "metadata": {},
   "source": [
    "-----\n",
    "\n",
    "<font color='red' size = '5'> Student Exercise </font>\n",
    "\n",
    "In the empty **Code** cell below, first create a new string called 'mystring' that contains at least 50 characters (e.g., `mystring = 'This is a demo string, which has a lot of text so that we can manipulate it using Python.'`). Next, split this string into a list of whitespace delineated tokens (i.e., `['This', 'is', ..., 'Python.']`). Next, join these substrings together by using the `*` character. Finally, replace the `*` character with a single space character.\n",
    "\n",
    "-----"
   ]
  },
  {
   "cell_type": "code",
   "execution_count": null,
   "metadata": {},
   "outputs": [],
   "source": []
  },
  {
   "cell_type": "markdown",
   "metadata": {},
   "source": [
    "-----\n",
    "[[Back to TOC]](#Table-of-Contents)\n",
    "\n",
    "\n",
    "## List\n",
    "\n",
    "As we discussed when they were introduced in an earlier notebook, a `list` is mutable. Thus, a list can be changed by adding elements, removing elements, or simply changing existing elements in place. To accomplish these tasks, Python provides a number of functions to manipulate lists(assume `data` is a list):\n",
    "\n",
    "| Function | Description                              | Example             |\n",
    "| -------- | ---------------------------------------- | ------------------- |\n",
    "| `append`   | add an element to the end of the list    | `data.append(11)`     |\n",
    "| `insert`   | insert an element at the specified index | `data.insert(4, '4')` |\n",
    "| `del `     | delete the element at the specified index  | `del data[4]`         |\n",
    "| `remove`   | remove the  element containing the value | `data.remove(11)`     |\n",
    "| `pop`      | remove the element at the specified index | `data.pop(4)`     |\n",
    "| `clear`    | remove all elements in the list          | `data.clear()`        |\n",
    "| `sort`     | sorts list in place                      | `data.sort()`         |\n",
    "| `reverse`  | reverses list in place                   | `data.reverse()`     |\n",
    "| `max`      | return the maximum value in the list         | `max(data)`     |\n",
    "| `min`      | return the minimum value in the list         | `min(data)`     |\n",
    "| `len`      | return the number of items in the list         | `len(data)`     |\n",
    "\n",
    "The following two Code cells demonstrate these functions by splitting the string used earlier in this notebook into a list of tokens and manipulating this new list. Note, the `del` statement is not a function, thus be careful when using it to avoid confusion (you might want to stick with the `remove` or `pop` functions whenever possible.)\n",
    "\n",
    "-----"
   ]
  },
  {
   "cell_type": "code",
   "execution_count": 9,
   "metadata": {},
   "outputs": [
    {
     "name": "stdout",
     "output_type": "stream",
     "text": [
      "['The', 'brown', 'dog', 'jumped', 'over', 'the', 'quick', 'fox!']\n",
      "['fox!', 'quick', 'the', 'over', 'jumped', 'dog', 'brown', 'The']\n",
      "['The', 'brown', 'dog', 'fox!', 'jumped', 'over', 'quick', 'the']\n"
     ]
    }
   ],
   "source": [
    "data = \"The brown dog jumped over the quick fox!\"\n",
    "\n",
    "# Tokenize string on whitespace\n",
    "new_data = data.split()\n",
    "print(new_data)\n",
    "\n",
    "# Reverse list\n",
    "new_data.reverse()\n",
    "print(new_data)\n",
    "\n",
    "# Sort list\n",
    "new_data.sort()\n",
    "#Capital letters are smaller than lower case letters, that's why 'The' is the smallest string in the sorted list\n",
    "print(new_data)"
   ]
  },
  {
   "cell_type": "code",
   "execution_count": 10,
   "metadata": {
    "scrolled": true
   },
   "outputs": [
    {
     "name": "stdout",
     "output_type": "stream",
     "text": [
      "['The', 'brown', 'dog', 'jumped', 'over', 'the', 'quick', 'fox!']\n",
      "['The', 'brown', 'jumped', 'over', 'the', 'quick', 'fox!']\n",
      "['The', 'brown', 'cat', 'jumped', 'over', 'the', 'quick', 'fox!']\n",
      "['The', 'brown', 'cat', 'jumped', 'over', 'the', 'quick']\n",
      "None\n"
     ]
    }
   ],
   "source": [
    "# Delete fourth item\n",
    "new_data = data.split()\n",
    "print(new_data)\n",
    "new_data.pop(2)\n",
    "print(new_data)\n",
    "\n",
    "# Add a fourth item\n",
    "new_data.insert(2, 'cat')\n",
    "print(new_data)\n",
    "\n",
    "# Remove specific item based on the value\n",
    "new_data.remove('fox!')\n",
    "print(new_data)\n",
    "\n",
    "# Clear list, None is displayed\n",
    "print(new_data.clear())"
   ]
  },
  {
   "cell_type": "code",
   "execution_count": 11,
   "metadata": {},
   "outputs": [
    {
     "name": "stdout",
     "output_type": "stream",
     "text": [
      "Maximum value in the list: 9\n",
      "Minimum value in the list: 1\n",
      "The list has 5 items.\n"
     ]
    }
   ],
   "source": [
    "#maximum and minimum value in the list\n",
    "number_list = [5, 3, 7, 1, 9]\n",
    "print ('Maximum value in the list:', max(number_list))\n",
    "print ('Minimum value in the list:', min(number_list))\n",
    "#length of the list\n",
    "print (f'The list has {len(number_list)} items.')"
   ]
  },
  {
   "cell_type": "markdown",
   "metadata": {},
   "source": [
    "-----\n",
    "\n",
    "<font color='red' size = '5'> Student Exercise </font>\n",
    "\n",
    "In the empty **Code** cell below, tokenize the `mystring` you created earlier on whitespace characters; call the result `mylist`. Sort this list and display the result. Now remove the third item. Finally, reverse the new list.\n",
    "\n",
    "-----"
   ]
  },
  {
   "cell_type": "code",
   "execution_count": null,
   "metadata": {},
   "outputs": [],
   "source": []
  },
  {
   "cell_type": "markdown",
   "metadata": {},
   "source": [
    "-----\n",
    "\n",
    "### Multi-dimensional Lists\n",
    "\n",
    "A Python list can contain lists as elements, which enables them to act as multidimensional arrays or matrices. For example, we can create a two-dimensional list by using the following notation:\n",
    "\n",
    "```python\n",
    "matrix = [[1, 2, 3],\n",
    "          [4, 5, 6],\n",
    "          [7, 8, 9]]\n",
    "```\n",
    "\n",
    "Elements from this two-dimensional array can be accessed by using the normal `list` index or slice notations, with the caveat that we can use multiple indices or slices, one for each dimension in our list. The following Code cell demonstrates how to select elements from a two-dimensional list.\n",
    "\n",
    "-----"
   ]
  },
  {
   "cell_type": "code",
   "execution_count": 12,
   "metadata": {},
   "outputs": [
    {
     "name": "stdout",
     "output_type": "stream",
     "text": [
      "[1, 2, 3]\n",
      "2\n",
      "9\n"
     ]
    }
   ],
   "source": [
    "matrix = [[1, 2, 3],\n",
    "          [4, 5, 6],\n",
    "          [7, 8, 9]]\n",
    "\n",
    "# Select first row\n",
    "print(matrix[0])\n",
    "\n",
    "# Select single element\n",
    "print(matrix[0][1])\n",
    "print(matrix[2][2])"
   ]
  },
  {
   "cell_type": "markdown",
   "metadata": {},
   "source": [
    "-----\n",
    "\n",
    "While useful, in a future lesson we will introduce the NumPy library, which introduces fast, numerical, multi-dimensional arrays. For non-numerical data, however, they can prove useful if for some reason you need multi-dimensional array.\n",
    "\n",
    "-----"
   ]
  },
  {
   "cell_type": "code",
   "execution_count": 13,
   "metadata": {},
   "outputs": [
    {
     "name": "stdout",
     "output_type": "stream",
     "text": [
      "banana\n"
     ]
    }
   ],
   "source": [
    "my_list = [['banana', 'orange'],\n",
    "           ['apple', 'pear']]\n",
    "\n",
    "print(my_list[0][0])"
   ]
  },
  {
   "cell_type": "markdown",
   "metadata": {},
   "source": [
    "-----\n",
    "[[Back to TOC]](#Table-of-Contents)\n",
    "\n",
    "\n",
    "## Tuple\n",
    "\n",
    "As we discussed in a previous lesson, a `tuple` is very similar to a `list`, except a `tuple` is an immutable sequence. Thus, any function that operates on a `tuple` is different than the corresponding function that works on a `list`. First, any sequence modification function like `replace`, `insert`, or `pop` are not available since they manipulate the original sequence. Second, other functions like `sort` or `reverse` are not part of the `tuple` object itself; instead, we must use built-in Python functions: `sorted` and `reversed`. Note, the two functions return lists; to make a new tuple from them, we must create a tuple from the returned iterator as shown in the following Code cell.\n",
    "\n",
    "-----"
   ]
  },
  {
   "cell_type": "code",
   "execution_count": 14,
   "metadata": {},
   "outputs": [
    {
     "name": "stdout",
     "output_type": "stream",
     "text": [
      "Original tuple: (70, 11, 20, 73, 42, 15, 64, 17, 48, 39)\n",
      "\n",
      "Normal Sort:   [11, 15, 17, 20, 39, 42, 48, 64, 70, 73]\n",
      "Reverse Sort:  [73, 70, 64, 48, 42, 39, 20, 17, 15, 11]\n",
      "\n",
      "Original tuple: (70, 11, 20, 73, 42, 15, 64, 17, 48, 39)\n",
      "Reversed tuple: (39, 48, 17, 64, 15, 42, 73, 20, 11, 70)\n"
     ]
    }
   ],
   "source": [
    "my_tuple = (70, 11, 20, 73, 42, 15, 64, 17, 48, 39)\n",
    "\n",
    "print('Original tuple:', my_tuple)\n",
    "\n",
    "# Apply sorted function\n",
    "print()\n",
    "print('Normal Sort:  ', sorted(my_tuple))\n",
    "print('Reverse Sort: ', sorted(my_tuple, reverse=True))\n",
    "\n",
    "# Apply reversed function\n",
    "print()\n",
    "print('Original tuple:', my_tuple)\n",
    "print('Reversed tuple:', tuple(reversed(my_tuple)))"
   ]
  },
  {
   "cell_type": "markdown",
   "metadata": {},
   "source": [
    "-----\n",
    "[[Back to TOC]](#Table-of-Contents)\n",
    "\n",
    "\n",
    "## Dictionary\n",
    "\n",
    "Python provides several useful functions as part of the `dict` class, some of which we discussed in previous lessons. Some of the more useful functions to work with dictionaries are listed in the following table:\n",
    "\n",
    "| Operation    | Description                              |\n",
    "| ------------ | ---------------------------------------- |\n",
    "| `del d[k]`   | Deletes the key value pair identified by the key `k` |\n",
    "| `d.keys()`   | Returns a view containing the keys from the dictionary `d` |\n",
    "| `d.values()` | Returns a view containing the values from the dictionary `d` |\n",
    "| `d.items()`  | Returns a view containing the key-value pairs from the dictionary `d` |\n",
    "| `d.clear()`  | Removes all entries from the dictionary `d` |\n",
    "| `d.copy()`   | Returns a shallow copy of the dictionary `d` |\n",
    "| `d.pop(key)` | Removes and returns the `key` from the dictionary `d`|\n",
    "| `d.popitem()` | Removes and returns and arbitrary key and value from the dictionary `d`|\n",
    "\n",
    "The following code block presents a simple dictionary, along with several operations that demonstrate these functions. Note, including the character sequence `\\n` forces the print statement to include a newline character (resulting in a blank line being displayed, which improves readability of the overall output).\n",
    "\n",
    "-----"
   ]
  },
  {
   "cell_type": "code",
   "execution_count": 15,
   "metadata": {},
   "outputs": [
    {
     "name": "stdout",
     "output_type": "stream",
     "text": [
      "Original Dictionary\n",
      "{'1': 1, '2': 'two', '3': (1, 2, 3)}\n",
      "\n",
      "Keys\n",
      "Key = 1\n",
      "Key = 2\n",
      "Key = 3\n",
      "\n",
      "Values\n",
      "Value = 1\n",
      "Value = two\n",
      "Value = (1, 2, 3)\n",
      "\n",
      "Items\n",
      "d[1] = 1\n",
      "d[2] = two\n",
      "d[3] = (1, 2, 3)\n"
     ]
    }
   ],
   "source": [
    "# Create and manipulate a dictionary\n",
    "d = {'1': 1, '2': \"two\", '3': (1, 2, 3)}\n",
    "\n",
    "print('Original Dictionary')\n",
    "print(d)\n",
    "\n",
    "print('\\nKeys')\n",
    "for k in d.keys():\n",
    "    print(f'Key = {k}')\n",
    "\n",
    "print('\\nValues')\n",
    "for v in d.values():\n",
    "    print(f'Value = {v}')\n",
    "\n",
    "print('\\nItems')\n",
    "for k, v in d.items():\n",
    "    print(f'd[{k}] = {v}')"
   ]
  },
  {
   "cell_type": "markdown",
   "metadata": {},
   "source": [
    "-----\n",
    "\n",
    "<font color='red' size = '5'> Student Exercise </font>\n",
    "\n",
    "In the empty **Code** cell below, first create a new dictionary called 'mydict' that contains five key-value pairs `mydict = {'one' : 1, 'two' : 2, 'three' : 3, 'four' : 4, 'five' : 5}`. Next, print out the keys and the values in the dictionary.\n",
    "\n",
    "-----"
   ]
  },
  {
   "cell_type": "code",
   "execution_count": null,
   "metadata": {},
   "outputs": [],
   "source": []
  },
  {
   "cell_type": "markdown",
   "metadata": {},
   "source": [
    "\n",
    "-----\n",
    "[[Back to TOC]](#Table-of-Contents)\n",
    "\n",
    "\n",
    "## Other Data Structures\n",
    "\n",
    "Python now supports a number of other data structures, including the [`set`](https://docs.python.org/3/library/stdtypes.html#frozenset), and the [`collections`](https://docs.python.org/3/library/collections.html#) module container data types. \n",
    "\n",
    "A `set` is an unordered collection of distinct data. Thus, a `set` does not allow indexing or slicing, but does support other sequence operations like using the `in` operator, the `len` function, or iteration. A `set` can only contain one instance of a given value, but the `set` itself can be changed. In the following example, we create and display a `set`: \n",
    "\n",
    "```python\n",
    "my_set = {'banana', 'apple', 'orange', 'banana', 'peach', 'apple'}\n",
    "print(my_set)\n",
    "print('apple' in my_set)\n",
    "```\n",
    "which generates the following output:\n",
    "\n",
    "```python\n",
    "{'banana', 'orange', 'peach', 'apple'}\n",
    "True\n",
    "```\n",
    "\n",
    "Notice how the duplicated entries are removed automatically. We can use this feature to get unique values from a list as shown below:\n",
    "```\n",
    "mylist = [0,0,1,1,2,3,3,3]\n",
    "#convert to set then back to list\n",
    "print (list(set(mylist)))\n",
    "```\n",
    "\n",
    "The `collections` module, which is automatically included in every Python installation, provides a number of additional data structures that can prove useful. \n",
    "\n",
    "-----"
   ]
  },
  {
   "cell_type": "code",
   "execution_count": 16,
   "metadata": {},
   "outputs": [
    {
     "name": "stdout",
     "output_type": "stream",
     "text": [
      "[0, 1, 2, 3]\n"
     ]
    }
   ],
   "source": [
    "mylist = [0,0,1,1,2,3,3,3]\n",
    "#convert to set then back to list\n",
    "print (list(set(mylist)))"
   ]
  },
  {
   "cell_type": "markdown",
   "metadata": {},
   "source": [
    "## Ancillary Information\n",
    "\n",
    "The following links are to additional documentation that you might find helpful in learning this material. Reading these web-accessible documents is completely optional.\n",
    "\n",
    "1. The official Python documentation for [strings][1a], [lists][1b], [dictionaries][1c], and [tuples][1d]\n",
    "3. A discussion on the [_native_ data types][2] mentioned in this notebook from the book, _Dive into Python_\n",
    "4. The book [_Think Python_][3] includes a discussion on these data structures.\n",
    "5. The official Python documentation for the [`collections`][pc] module\n",
    "\n",
    "-----\n",
    "\n",
    "[1a]: https://docs.python.org/3/tutorial/introduction.html#strings\n",
    "[1b]: https://docs.python.org/3/tutorial/introduction.html#lists\n",
    "[1c]: https://docs.python.org/3/tutorial/datastructures.html#dictionaries\n",
    "[1d]: https://docs.python.org/3/tutorial/datastructures.html#tuples-and-sequences\n",
    "[2]: http://www.diveintopython.net/native_data_types/index.html\n",
    "[3]: http://greenteapress.com/thinkpython2/html/index.html\n",
    "[pc]: https://docs.python.org/3/library/collections.html"
   ]
  },
  {
   "cell_type": "markdown",
   "metadata": {
    "deletable": false,
    "editable": false
   },
   "source": [
    "**&copy; 2019: Gies College of Business at the University of Illinois.**\n",
    "\n",
    "This notebook is released under the [Creative Commons license CC BY-NC-SA 4.0][ll]. Any reproduction, adaptation, distribution, dissemination or making available of this notebook for commercial use is not allowed unless authorized in writing by the copyright holder.\n",
    "\n",
    "[ll]: https://creativecommons.org/licenses/by-nc-sa/4.0/legalcode"
   ]
  }
 ],
 "metadata": {
  "kernelspec": {
   "display_name": "Python 3",
   "language": "python",
   "name": "python3"
  },
  "language_info": {
   "codemirror_mode": {
    "name": "ipython",
    "version": 3
   },
   "file_extension": ".py",
   "mimetype": "text/x-python",
   "name": "python",
   "nbconvert_exporter": "python",
   "pygments_lexer": "ipython3",
   "version": "3.7.3"
  }
 },
 "nbformat": 4,
 "nbformat_minor": 1
}
