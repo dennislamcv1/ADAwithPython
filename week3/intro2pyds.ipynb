{
 "cells": [
  {
   "cell_type": "markdown",
   "metadata": {},
   "source": [
    "# Python Data Structures\n",
    "\n",
    "-----"
   ]
  },
  {
   "cell_type": "markdown",
   "metadata": {},
   "source": [
    "In previous lessons, we introduced the basic Python programming concepts that allow you to write simple programs. In this notebook, we will introduce four powerful, built-in data structures that provide an alternate approach to organizing data. These four data structures are the string, tuple, list, and dictionary. Learning how to work effectively with these data structures will allow you to develop concise, fast applications.\n",
    "\n",
    "## Table of Contents\n",
    "\n",
    "[Python Data Structures](#Python-Data-Structures)  \n",
    "\n",
    "[String](#String)  \n",
    "\n",
    "[List](#List)  \n",
    "\n",
    "[Dictionary](#Dictionary)  \n",
    "\n",
    "[Tuple](#Tuple)  \n",
    "\n",
    "[Slicing](#Slicing)  \n",
    "\n",
    "[Common Sequence Operations](#Common-Sequence-Operations)\n"
   ]
  },
  {
   "cell_type": "markdown",
   "metadata": {},
   "source": [
    "-----\n",
    "[[Back to TOC]](#Table-of-Contents)\n",
    "\n",
    "## Python Data Structures\n",
    "\n",
    "Python provides built-in support for a number of useful data structures, including the four introduced in this notebook: string, tuple, list, and dictionary. In this section, we briefly introduce these four data structures and provide an example of each.\n",
    "\n",
    "__String__: \n",
    "A sequence of zero or more characters that are enclosed within either a pair of single quote characters, `'`, or a pair of double quote characters, `\"`. A Python string is an instance of class `str`.\n",
    "\n",
    "`'A string containing many characters'`\n",
    "\n",
    "__Tuple__:\n",
    "An ordered sequence of zero or more values that are enclosed in parentheses, `(` and `)`. The different values in a tuple are generally separated by commas. A Python tuple is an instance of class `tuple`.\n",
    "\n",
    "`(1, 2, 3, 4, 5, 6, 7, 8, 9, 10)`\n",
    "\n",
    "__List__:\n",
    "An ordered sequence of zero or more values that are enclosed in square brackets, `[` and `]`. The different values in the list are separated by commas. A Python list is an instance of class `list`.\n",
    "\n",
    "`[1, 2, 3, 4, 5, 6, 7, 8, 9, 10]`\n",
    "\n",
    "__Dictionary__:\n",
    "An **unordered** collection of key-value pairs that are enclosed in curly braces, `{` and `}`. A key is separated from its corresponding value by a colon `:` and the different key-value entries in the collection are separated by commas. A Python dictionary is an instance of class `dict`.\n",
    "\n",
    "`d = {'name': \"Alexander\", 'age': 30, 'location': (102.1, 32.1)}`\n",
    "\n",
    "----\n",
    "\n",
    "Of these four data structures, the _list_ and the _dictionary_ are **mutable**, which means the values stored in these structures can be changed. On the other hand,  the _string_ and the _tuple_ are **immutable**, which means the values cannot be changed once created. Instead, a new data structure must be created, either explicitly by the programmer, or implicitly by the Python interpreter. \n",
    "\n",
    "All of these data structures can be displayed by using the Python built-in `print` function, which converts its arguments to a string, which is then sent to STDOUT (which in this course is generally the space in the notebook immediately following the `print` function):\n",
    "\n",
    "```python\n",
    "data = [1, 2, 3, 4, 5, 6, 7, 8, 9, 10]\n",
    "print(data)\n",
    "```\n",
    "\n",
    "The _dictionary_ is a special data structure that maps keys to values, and thus the keys, which can be stored in any order, are used to access the values. The other three structures are ordered sequences, and thus individual elements can be accessed by specifying an index position within square brackets, `[]`, with the caveat that Python is a zero-indexed language. Thus, given an ordered sequence `data`, the following accesses are legal:\n",
    "\n",
    "`data = [1, 2, 3, 4, 5, 6, 7, 8, 9, 10]`\n",
    "- `data[0]`: access the first value which is `1`\n",
    "- `data[1]`: access the second value which is `2`\n",
    "- `data[-1]`: access the last value which is `10`\n",
    "- `data[-2]`: access the second to last value which is `9`\n",
    "\n",
    "-----"
   ]
  },
  {
   "cell_type": "markdown",
   "metadata": {},
   "source": [
    "-----\n",
    "[[Back to TOC]](#Table-of-Contents)\n",
    "\n",
    "\n",
    "## String\n",
    "\n",
    "In Python, a string is a sequence of zero or more characters that are enclosed within either a pair of single quote characters, `'`, or a pair of double quote characters, `\"`. While it might seem confusing to have two such similar representations, it can be quite handy, as this allows strings to be written that include either single quotes or double quote characters by simply using the opposite type to enclose the string itself:\n",
    "\n",
    "```\n",
    "\"A string with a contraction such as don't or a possessive like Python's string.\"\n",
    "'A string with a quote, \"Four score and seven years ago ...\"'\n",
    "```\n",
    "\n",
    "A string can span multiple lines by using either three single or double quote characters to enclose the sequence of characters, just like multi-line comments.\n",
    "\n",
    "A Python string object has many associated methods that make this data structure even more useful, like changing the case of the letters or searching for sub-strings. These methods will be introduced in a subsequent lesson. In the following Code cell, we demonstrate basic string operations.\n",
    "\n",
    "----"
   ]
  },
  {
   "cell_type": "code",
   "execution_count": 1,
   "metadata": {},
   "outputs": [
    {
     "name": "stdout",
     "output_type": "stream",
     "text": [
      "The brown dog jumped over the quick fox!\n",
      "The brown \n",
      "fox!\n",
      "Text length =  40\n",
      "Upper case: THE BROWN DOG JUMPED OVER THE QUICK FOX!\n",
      "Lower case: the brown dog jumped over the quick fox!\n"
     ]
    }
   ],
   "source": [
    "text = 'The brown dog jumped over the quick fox!'\n",
    "\n",
    "# Add string manipulations\n",
    "\n",
    "print(text)\n",
    "\n",
    "print(text[0:10])\n",
    "\n",
    "print(text[-4:])\n",
    "\n",
    "print('Text length = ', len(text))\n",
    "print('Upper case:', text.upper())\n",
    "print('Lower case:', text.lower())"
   ]
  },
  {
   "cell_type": "markdown",
   "metadata": {},
   "source": [
    "-----\n",
    "\n",
    "<font color='red' size = '5'> Student Exercise </font>\n",
    "\n",
    "In the empty **Code** cell below, first create a new string called 'mystring' that contains at least 12 characters (e.g., `mystring = 'This is a demo string.'`). Next, write two separate `print` functions that display the third through sixth characters and the last character from the `mystring` string.\n",
    "\n",
    "-----"
   ]
  },
  {
   "cell_type": "code",
   "execution_count": null,
   "metadata": {},
   "outputs": [],
   "source": []
  },
  {
   "cell_type": "markdown",
   "metadata": {},
   "source": [
    "-----\n",
    "\n",
    "### String Modification\n",
    "\n",
    "At the start of this notebook, we introduced the string as an immutable sequence of characters. Fundamentally, this means we can't directly change (or mutate) an existing string. Instead, to modify an existing string, we first must create a new string, and second, copy the old string and new string into the appropriate place. This is demonstrated in a straightforward manner in the following Code cell. This approach is not optimal; we will see faster approaches to construct large strings in a future lesson. In addition, we demonstrate that the `text` variable points to a new string by checking the variable's id, which changes after this string modification process.\n",
    "\n",
    "-----"
   ]
  },
  {
   "cell_type": "code",
   "execution_count": 2,
   "metadata": {},
   "outputs": [
    {
     "name": "stdout",
     "output_type": "stream",
     "text": [
      "Hello\n",
      "4597095256\n",
      "\n",
      "Hello World!\n",
      "4599008688\n"
     ]
    }
   ],
   "source": [
    "# Create test string and show text and variable id\n",
    "text = \"Hello\"\n",
    "print(text)\n",
    "print(id(text))\n",
    "\n",
    "# Print blank line\n",
    "print()\n",
    "\n",
    "# Try to modify string, but notice new variable id\n",
    "text += ' World!'\n",
    "print(text)\n",
    "print(id(text))"
   ]
  },
  {
   "cell_type": "markdown",
   "metadata": {},
   "source": [
    "---\n",
    "\n",
    "### Special String Types\n",
    "\n",
    "Python provides two special types of string literals: the _raw string literal_ and the _format string literal_ (there are also byte literals and unicode literals, but we will not discuss them in this course). A raw string is not processed by the Python interpreter; the content of the string is left alone. For example, backslashes are not handled in a special way when processing the string. To create a raw string, simply prefix the string with either a lowercase `'r'` or an uppercase `'R'`:\n",
    "\n",
    "```python\n",
    "data = r'Text with a \\ that is left unprocessed.'\n",
    "```\n",
    "\n",
    "The difference between a normal and raw string is demonstrated in the following Code cell, where the normal string converts the `'\\n'` character sequence into a newline, while the raw string leaves the character sequence alone. This is useful when constructing regular expressions or other strings that might include formatting information, like plot axes that use LaTeX formatting.\n",
    "\n",
    "-----"
   ]
  },
  {
   "cell_type": "code",
   "execution_count": 3,
   "metadata": {},
   "outputs": [
    {
     "name": "stdout",
     "output_type": "stream",
     "text": [
      "Hello World!\\nHere I am!\n",
      "Hello World!\n",
      "Here I am!\n"
     ]
    }
   ],
   "source": [
    "# Make and print same text as raw and normal strings\n",
    "r_text = r'Hello World!\\nHere I am!'\n",
    "text = 'Hello World!\\nHere I am!'\n",
    "\n",
    "print(r_text)\n",
    "print(text)"
   ]
  },
  {
   "cell_type": "markdown",
   "metadata": {},
   "source": [
    "-----\n",
    "\n",
    "The second special type of string is the [_formatted string literal_ (or f-string)][pfs]. The format string is used to dynamically create a new string by using the values of other variables. This technique is often used to generate dynamic, formatted output. To create an f-string, simply prefix the regular string with either a lowercase `'f'` or an uppercase `'F'`:\n",
    "\n",
    "```python\n",
    "x = 10\n",
    "data = f'The value of x = {x}.'\n",
    "```\n",
    "\n",
    "The Python interpreter will replace the character sequence `{x}` with the character sequence `10`, which is the value of the variable `x`. This is demonstrated in the following Code cell, where the dynamically created string is displayed.\n",
    "\n",
    "-----\n",
    "[pfs]: https://docs.python.org/3/reference/lexical_analysis.html#f-strings"
   ]
  },
  {
   "cell_type": "code",
   "execution_count": 4,
   "metadata": {},
   "outputs": [
    {
     "name": "stdout",
     "output_type": "stream",
     "text": [
      "a = 2, b = 4, and c = 8\n"
     ]
    }
   ],
   "source": [
    "# Demonstrate f-string creation and use.\n",
    "\n",
    "a = 2; b = 4; c = 8\n",
    "\n",
    "print(f'a = {a}, b = {b}, and c = {c}')"
   ]
  },
  {
   "cell_type": "markdown",
   "metadata": {},
   "source": [
    "-----\n",
    "\n",
    "In earlier versions of Python, dynamic string formatting was done using the `format` function on a string. Both techniques work nearly the same way, with the variable to be replaced enclosed in curly braces inside the string. However, the f-string approach is cleaner and easier to write (since everything is contained within the string itself), so we will focus solely on the newer approach.\n",
    "\n",
    "The benefit of using an f-string is that the exact format for the conversion of the value of a variable to a string can be defined. This includes the data type, the width (or number of characters to use), the precision for a decimal number, and whether padding (e.g., by using zeros) should be used. While the rules can appear complex, actually using f-strings can be simple, as demonstrated in the following Code cell.\n",
    "\n",
    "-----"
   ]
  },
  {
   "cell_type": "code",
   "execution_count": 5,
   "metadata": {},
   "outputs": [
    {
     "name": "stdout",
     "output_type": "stream",
     "text": [
      "a = 0002, b =    4, and c = 8.00\n"
     ]
    }
   ],
   "source": [
    "a = 2; b = 4; c = 8\n",
    "\n",
    "print(f'a = {a:04}, b = {b:4}, and c = {c:4.2f}')"
   ]
  },
  {
   "cell_type": "code",
   "execution_count": 6,
   "metadata": {},
   "outputs": [
    {
     "name": "stdout",
     "output_type": "stream",
     "text": [
      "a = Alexander , b =   6.430, and c = 001.7391\n"
     ]
    }
   ],
   "source": [
    "a = 'Alexander' ; b = 6.43 ; c = 4 / 2.3\n",
    "\n",
    "print(f'a = {a:10s}, b = {b:7.3f}, and c = {c:08.4f}')"
   ]
  },
  {
   "cell_type": "markdown",
   "metadata": {},
   "source": [
    "-----\n",
    "\n",
    "In the first example, the same data that were displayed in the original f-string example are used to create a new string by using a revised f-string syntax. First, the value of the `a` variable is displayed in a width of four characters with zeros padding any extra space. This means we insert `0002` into the new string. Second, the value of the variable `b` is added to the string with a width of four characters but using the default space padding, which means we insert `   4` into the new string. This can be used to align columns when displaying data. Finally, the value of the `c` variable is displayed as a floating-point value (indicated by the `f` character at the end of the sequence). In addition, we specify a width of four characters with two of the characters to appear after the decimal point, which means we insert ` 8.00` into the new string.\n",
    "\n",
    "In the second Code cell, several other format specifiers are demonstrated. First, the value of the variable `a` is converted to a string of width ten characters and inserted into the new string. Next, the value of the variable `b` is converted to a floating-point literal that is seven characters wide with four characters after the decimal point, which means `  6.430` is inserted into the new string (note this is two spaces at the front, because the decimal point is included in the total of seven characters). Finally, the value of the variable `c` is converted to a floating-point number, padded with leading zeros, that is eight characters wide with four numbers after the decimal point."
   ]
  },
  {
   "cell_type": "markdown",
   "metadata": {},
   "source": [
    "-----\n",
    "\n",
    "<font color='red' size = '5'> Student Exercise </font>\n",
    "\n",
    "In the empty **Code** cell below, first create three variables (you can pick their name) to hold the values 0, 3.14, and 'Hello World!'. Now create a new f-string to hold these values. First, pad with spaces the value of the first variable to be width 10. Second, convert the second variable to be of width 10 with 3 characters after the decimal point and pad with leading zeros. Finally, convert the final variable to be of width 20 with padding spaces. Display the new string using the print statement.\n",
    "\n",
    "-----"
   ]
  },
  {
   "cell_type": "code",
   "execution_count": null,
   "metadata": {},
   "outputs": [],
   "source": []
  },
  {
   "cell_type": "markdown",
   "metadata": {},
   "source": [
    "-----\n",
    "[[Back to TOC]](#Table-of-Contents)\n",
    "\n",
    "\n",
    "## List\n",
    "\n",
    "A list is a mutable sequence that can hold homogeneous data, `[1, 2, 3, 4, 5]` or heterogeneous data, `[1, '2', 'Three', (4, 5)]`. Lists are very powerful data structures and are used extensively in many Python programs. A list can be created in several different ways:\n",
    "\n",
    "1. `[]`: An empty list\n",
    "2. `[1]`: A single valued list\n",
    "3. `[1, 2, 3]`: Comma-separated items\n",
    "4. `list()`: Using the `list` class constructor\n",
    "\n",
    "Since a `list` is mutable, a list can be changed by adding elements, removing elements, or simply changing existing elements in place.\n",
    "\n",
    "By default, assigning a list to a new variable results in a shallow copy, which means that both variables point to the same underlying list and any changes to one results in changes to the other. For example, after this set of operations:\n",
    "\n",
    "```python\n",
    "data = [1, 2, 3, 4, 5, 6, 7, 8, 9, 10]\n",
    "d = data\n",
    "d[0] = -1\n",
    "```\n",
    "\n",
    "In the shallow copy we simply made a variable that pointed at the original version of the data list, so `data[0]` now contains the value `-1`. To obtain a deep copy, use the slice notation without any values. For example, after this set of operations:\n",
    "\n",
    "```python\n",
    "data = [1, 2, 3, 4, 5, 6, 7, 8, 9, 10]\n",
    "d = data[:]\n",
    "d[0] = -1\n",
    "```\n",
    "\n",
    "In this case, `data[0]` retains the original value of `1` because the modification changed the new value, not the original value.\n",
    "\n",
    "In the following Code cells, we first demonstrate how to slice elements of a list. Next, we apply several built-in functions to a list. Finally, we demonstrate a deep and shallow copy, where modifying a deep copy does not change the original list, while modifying a shallow copy does modify the original list.\n",
    "\n",
    "-----"
   ]
  },
  {
   "cell_type": "code",
   "execution_count": 7,
   "metadata": {},
   "outputs": [
    {
     "name": "stdout",
     "output_type": "stream",
     "text": [
      "Original [1, 2, 3, 4, 5, 6, 7, 8, 9, 10]\n",
      "Sliced [7, 8, 9, 10]\n"
     ]
    }
   ],
   "source": [
    "# Create a list and display the result.\n",
    "data = [1, 2, 3, 4, 5, 6, 7, 8, 9, 10]\n",
    "\n",
    "print('Original', data)\n",
    "\n",
    "print('Sliced', data[-4:])"
   ]
  },
  {
   "cell_type": "code",
   "execution_count": 8,
   "metadata": {},
   "outputs": [
    {
     "name": "stdout",
     "output_type": "stream",
     "text": [
      "Data length =  10\n",
      "Min value =  1\n",
      "Max value =  10\n"
     ]
    }
   ],
   "source": [
    "# Apply built-in functions to the list\n",
    "print('Data length = ', len(data))\n",
    "print('Min value = ', min(data))\n",
    "print('Max value = ', max(data))"
   ]
  },
  {
   "cell_type": "code",
   "execution_count": 9,
   "metadata": {},
   "outputs": [
    {
     "name": "stdout",
     "output_type": "stream",
     "text": [
      "Original [1, 2, 3, 4, 5, 6, 7, 8, 9, 10]\n",
      "Deep Copy [1, 2, 3, 4, 5, 6, 7, 8, 9, 10]\n",
      "Shallow Copy [1, -1, 3, 4, 5, 6, 7, 8, 9, 10]\n"
     ]
    }
   ],
   "source": [
    "# Now we compare shallow and deep copies\n",
    "print('Original', data)\n",
    "\n",
    "# First a deep copy and try to modify\n",
    "d = data[:]\n",
    "d[1] = -1\n",
    "\n",
    "print('Deep Copy', data)\n",
    "\n",
    "# Now a shallow copy and try to modiy\n",
    "d = data\n",
    "d[1] = -1\n",
    "\n",
    "print('Shallow Copy', data)"
   ]
  },
  {
   "cell_type": "markdown",
   "metadata": {},
   "source": [
    "-----\n",
    "\n",
    "<font color='red' size = '5'> Student Exercise </font>\n",
    "\n",
    "In the empty **Code** cell below, first create a new list called 'mylist' that holds at least 10 values. Next, write three separate `print` functions that display the third element, sixth element, and the last element from the `mylist` list.\n",
    "\n",
    "-----"
   ]
  },
  {
   "cell_type": "code",
   "execution_count": null,
   "metadata": {},
   "outputs": [],
   "source": []
  },
  {
   "cell_type": "markdown",
   "metadata": {},
   "source": [
    "-----\n",
    "\n",
    "### List Modification\n",
    "\n",
    "Earlier, we defined a list as a mutable collection of objects (or other data items). This means a list can be directly modified once created. This flexibility means that a `list` will likely be slower than comparable data structures, such as a NumPy array, which we will learn about in a future lesson, or even a `tuple`. However, this flexibility makes lists very powerful and extremely useful. \n",
    "\n",
    "The following Code cells first demonstrate how to modify a list in place before demonstrating how to add elements to a list via the list `append` method. Notice the difference between adding a new list element one at a time and adding all elements as a list (the latter adds a new list element that consists of a new list). Additional list methods will be introduced in a subsequent lesson. \n",
    "\n",
    "When modifying a list, we also show the list variable id to demonstrate that the same list is being modified.\n",
    "\n",
    "-----"
   ]
  },
  {
   "cell_type": "code",
   "execution_count": 10,
   "metadata": {},
   "outputs": [
    {
     "name": "stdout",
     "output_type": "stream",
     "text": [
      "Original [1, -1, 3, 4, 5, 6, 7, 8, 9, 10]\n",
      "4597051080\n",
      "Modified [1, 1, 3, -4, 5, -6, 7, -8, 9, -10]\n",
      "4597051080\n"
     ]
    }
   ],
   "source": [
    "# Modify odd elements\n",
    "\n",
    "print('Original', data)\n",
    "print(id(data))\n",
    "\n",
    "data[1] = -1 * data[1] \n",
    "data[3] = -1 * data[3] \n",
    "data[5] = -1 * data[5] \n",
    "data[7] = -1 * data[7] \n",
    "data[9] = -1 * data[9] \n",
    "\n",
    "print('Modified', data)\n",
    "print(id(data))"
   ]
  },
  {
   "cell_type": "code",
   "execution_count": 11,
   "metadata": {},
   "outputs": [
    {
     "name": "stdout",
     "output_type": "stream",
     "text": [
      "Original [1, 1, 3, -4, 5, -6, 7, -8, 9, -10]\n",
      "4597051080\n",
      "Appended [1, 1, 3, -4, 5, -6, 7, -8, 9, -10, 11, 12, 13, 14, 15, 16, 17, 18, 19, 20]\n",
      "4597051080\n",
      "Bulk Appended [1, 1, 3, -4, 5, -6, 7, -8, 9, -10, [11, 12, 13, 14, 15, 16, 17, 18, 19, 20]]\n"
     ]
    }
   ],
   "source": [
    "# First copy original data list\n",
    "dc_data = data[:]\n",
    "print('Original', data)\n",
    "print(id(data))\n",
    "\n",
    "# Add list elements one at a time\n",
    "data.append(11)\n",
    "data.append(12)\n",
    "data.append(13)\n",
    "data.append(14)\n",
    "data.append(15)\n",
    "data.append(16)\n",
    "data.append(17)\n",
    "data.append(18)\n",
    "data.append(19)\n",
    "data.append(20)\n",
    "\n",
    "print('Appended', data)\n",
    "print(id(data))\n",
    "\n",
    "# Try adding list en masse\n",
    "dc_data.append([11, 12, 13, 14, 15, 16, 17, 18, 19, 20])\n",
    "print('Bulk Appended', dc_data)"
   ]
  },
  {
   "cell_type": "markdown",
   "metadata": {},
   "source": [
    "-----\n",
    "[[Back to TOC]](#Table-of-Contents)\n",
    "\n",
    "\n",
    "## Dictionary\n",
    "\n",
    "A dictionary is an **unordered** sequence that can hold values that are referenced by corresponding keys. These key-value pairs are separated by commas, while the value is separated from its key by a colon ':' character. A dictionary can be created in several different ways:\n",
    "\n",
    "1. `{}`: An empty dictionary\n",
    "2. `{'1': 1}`: A single key-value dictionary\n",
    "3. `{'1': 1, '2': \"two\", '3': (1, 2, 3)}`: Comma-separated key-value pairs\n",
    "4. `dict()`: Using the `dict` class constructor\n",
    "\n",
    "Since a `dictionary` is mutable, a dictionary can be changed by adding key-value pairs, by removing key-value pairs, or by simply changing existing values in place. We demonstrate the last approach in the following Code cells; the other capabilities are provided by methods that will be introduced in a subsequent lesson.\n",
    "\n",
    "In the following Code cells, we create a simple dictionary and apply different operations that demonstrate how to use simple dictionaries.\n",
    "\n",
    "-----"
   ]
  },
  {
   "cell_type": "code",
   "execution_count": 12,
   "metadata": {},
   "outputs": [
    {
     "name": "stdout",
     "output_type": "stream",
     "text": [
      "Original Dictionary {'1': 1, '2': 'Two', '3': [1, 2, 3]}\n",
      "Dictionary id 4599211568\n",
      "Test membership of key \"1\": True\n",
      "Test absence of key \"4\": True\n",
      "Modified Dictionary {'1': 1, '2': 'Three', '3': [1, 2, 3]}\n",
      "Dictionary id 4599211568\n"
     ]
    }
   ],
   "source": [
    "# Create dictionary\n",
    "d = {'1': 1, '2': 'Two', '3': [1, 2, 3]}\n",
    "\n",
    "# Display Dictionary and basic info.\n",
    "print('Original Dictionary', d)\n",
    "print('Dictionary id', id(d))\n",
    "\n",
    "# Do basic membership tests\n",
    "print('Test membership of key \"1\":', '1' in d)\n",
    "print('Test absence of key \"4\":', '4' not in d)\n",
    "\n",
    "# Modify an value given the key\n",
    "d['2'] = 'Three'\n",
    "print('Modified Dictionary', d)\n",
    "print('Dictionary id', id(d))"
   ]
  },
  {
   "cell_type": "code",
   "execution_count": 13,
   "metadata": {},
   "outputs": [
    {
     "name": "stdout",
     "output_type": "stream",
     "text": [
      "Dictionary length =  3\n",
      "Keys: dict_keys(['1', '2', '3'])\n",
      "Values: dict_values([1, 'Three', [1, 2, 3]])\n",
      "Value of key \"3\": [1, 2, 3]\n"
     ]
    }
   ],
   "source": [
    "# Basic dictionary operations\n",
    "print('Dictionary length = ', len(d))\n",
    "print('Keys:', d.keys())\n",
    "print('Values:', d.values())\n",
    "\n",
    "print('Value of key \"3\":', d['3'])"
   ]
  },
  {
   "cell_type": "markdown",
   "metadata": {},
   "source": [
    "-----\n",
    "\n",
    "<font color='red' size = '5'> Student Exercise </font>\n",
    "\n",
    "In the empty **Code** cell below, first create a new dictionary called 'mydict' that contains at least five key-value pairs (e.g., `mydict = {'one' : 1, 'two' : 2, 'three' : 3, 'four' : 4, 'five' : 5}`). Next, write two separate `print` functions that display the value of the key `two` and the key `five` from the `mydict` dictionary.\n",
    "\n",
    "-----"
   ]
  },
  {
   "cell_type": "code",
   "execution_count": null,
   "metadata": {},
   "outputs": [],
   "source": []
  },
  {
   "cell_type": "markdown",
   "metadata": {},
   "source": [
    "-----\n",
    "[[Back to TOC]](#Table-of-Contents)\n",
    "\n",
    "\n",
    "## Tuple\n",
    "\n",
    "A tuple is an **immutable** sequence that can hold homogeneous data, `(1, 2, 3, 4, 5)` or heterogeneous data, `(1, '2', 'Three', (4, 5))`. A tuple can be created in several different ways:\n",
    "\n",
    "1. `()`: An empty tuple\n",
    "2. `1,` or `(1, )`: A single valued tuple\n",
    "3. `1, 2, 3` or `(1, 2, 3)`: Comma-separated items\n",
    "4. `tuple()`: Using the `tuple` class constructor\n",
    "\n",
    "Note the requirement for the trailing comma to create a single-valued tuple; otherwise the Python interpreter interprets the expression as a value enclosed in parentheses; for example `(1)` is an integer. Any change to a `tuple` requires the creation of a new `tuple`.\n",
    "\n",
    "Tuples are commonly used to pass information to and from functions and allow for the assignment of multiple data values simultaneously via _unpacking_. A function with more than one return values returns values in a tuple as shown in the following code cells.\n",
    "\n",
    "-----"
   ]
  },
  {
   "cell_type": "code",
   "execution_count": 14,
   "metadata": {},
   "outputs": [],
   "source": [
    "def divide(dividend, divisor):\n",
    "    \"\"\"\n",
    "    Calculate dividend divided by divisor\n",
    "    Return: quotient and remainder\n",
    "    \"\"\"\n",
    "\n",
    "    quotient = dividend // divisor\n",
    "    remainder = dividend % divisor\n",
    "    return quotient, remainder"
   ]
  },
  {
   "cell_type": "code",
   "execution_count": 15,
   "metadata": {},
   "outputs": [
    {
     "data": {
      "text/plain": [
       "(6, 2)"
      ]
     },
     "execution_count": 15,
     "metadata": {},
     "output_type": "execute_result"
    }
   ],
   "source": [
    "divide(20, 3)"
   ]
  },
  {
   "cell_type": "code",
   "execution_count": 16,
   "metadata": {},
   "outputs": [
    {
     "data": {
      "text/plain": [
       "tuple"
      ]
     },
     "execution_count": 16,
     "metadata": {},
     "output_type": "execute_result"
    }
   ],
   "source": [
    "type(divide(20, 3))"
   ]
  },
  {
   "cell_type": "code",
   "execution_count": 17,
   "metadata": {},
   "outputs": [
    {
     "name": "stdout",
     "output_type": "stream",
     "text": [
      "quotient is 6, remainder is 2.\n"
     ]
    }
   ],
   "source": [
    "#unpack tuple to variables\n",
    "q, r = divide(20, 3)\n",
    "print (f'quotient is {q}, remainder is {r}.')"
   ]
  },
  {
   "cell_type": "markdown",
   "metadata": {},
   "source": [
    "-----\n",
    "\n",
    "<font color='red' size = '5'> Student Exercise </font>\n",
    "\n",
    "In the empty **Code** cell below, first create a new tuple called 'mytup' that contains at least 10 values.  Next, write two separate `print` functions that display the value of the fourth element and the second to last element from the `mytup` tuple.\n",
    "\n",
    "-----"
   ]
  },
  {
   "cell_type": "code",
   "execution_count": null,
   "metadata": {},
   "outputs": [],
   "source": []
  },
  {
   "cell_type": "markdown",
   "metadata": {},
   "source": [
    "-----\n",
    "[[Back to TOC]](#Table-of-Contents)\n",
    "\n",
    "## Slicing\n",
    "\n",
    "Python supports a rich array of techniques for extracting values from an ordered list beyond the single value access method, known as slicing. Given an ordered sequence `data`, the basic format is `data[start:end:stride]` where start and end are the starting and ending index values, respectively, and stride is the number of values to skip when iterating. If start or end are omitted, the default is the first and last value, while the default stride is one. A negative value can be used for either the start or the end index values, which indicates relative to the end value. In `data[start:end:stride]`, `start` has default value 0, `end` has default value which is the length of the object, `stride` has default value `1`. If a value is not provided, default value will be used. So `data[::]` or `data[:]` means *slice data from beginning to end with stride 1*, which has same data as `data`. When `start` or `end` is negative, it means count from behind. `stride` can also be negative which means traverse backwardly. Starting index value is included and ending index value is **not** included in the slicing result. These concepts are demonstrated in the following code block:"
   ]
  },
  {
   "cell_type": "code",
   "execution_count": 18,
   "metadata": {},
   "outputs": [
    {
     "name": "stdout",
     "output_type": "stream",
     "text": [
      "1\n",
      "[3, 4, 5, 6, 7, 8]\n",
      "[1, 3, 5, 7]\n",
      "Odd numbers: [1, 3, 5, 7, 9]\n",
      "Reversed list: [10, 9, 8, 7, 6, 5, 4, 3, 2, 1]\n"
     ]
    }
   ],
   "source": [
    "# Edit the start/end/stride values to learn slicing\n",
    "\n",
    "data = [1, 2, 3, 4, 5, 6, 7, 8, 9, 10]\n",
    "\n",
    "print(data[0])\n",
    "print(data[2:-2])\n",
    "print(data[:-3:2])\n",
    "\n",
    "#get odd numbers in the list\n",
    "print('Odd numbers:', data[::2])\n",
    "\n",
    "#reverse list\n",
    "print('Reversed list:', data[-1::-1])"
   ]
  },
  {
   "cell_type": "code",
   "execution_count": 19,
   "metadata": {},
   "outputs": [
    {
     "name": "stdout",
     "output_type": "stream",
     "text": [
      "1\n",
      "(3, 4, 5, 6, 7, 8)\n",
      "(1, 3, 5, 7)\n",
      "Even numbers: (2, 4, 6, 8, 10)\n"
     ]
    }
   ],
   "source": [
    "# Now slice a tuple\n",
    "t_data = (1, 2, 3, 4, 5, 6, 7, 8, 9, 10)\n",
    "\n",
    "print(t_data[0])\n",
    "print(t_data[2:-2])\n",
    "print(t_data[:-3:2])\n",
    "\n",
    "#get even numbers in the tuple\n",
    "print('Even numbers:', t_data[1::2])"
   ]
  },
  {
   "cell_type": "code",
   "execution_count": 20,
   "metadata": {},
   "outputs": [
    {
     "name": "stdout",
     "output_type": "stream",
     "text": [
      "1\n",
      "2,3,4,5,6,7,8,9,\n",
      "123456789\n"
     ]
    }
   ],
   "source": [
    "# Now slice a string\n",
    "s_data = '1,2,3,4,5,6,7,8,9,10'\n",
    "\n",
    "print(s_data[0])\n",
    "print(s_data[2:-2])\n",
    "print(s_data[:-3:2])"
   ]
  },
  {
   "cell_type": "markdown",
   "metadata": {},
   "source": [
    "-----\n",
    "\n",
    "<font color='red' size = '5'> Student Exercise </font>\n",
    "\n",
    "In the empty **Code** cell below, first create a list that has the elements zero through fifteen, inclusive. Next, use slicing to print out the first element, last element, odd elements, and every fourth element\n",
    "\n",
    "-----"
   ]
  },
  {
   "cell_type": "code",
   "execution_count": null,
   "metadata": {},
   "outputs": [],
   "source": []
  },
  {
   "cell_type": "markdown",
   "metadata": {},
   "source": [
    "-----\n",
    "[[Back to TOC]](#Table-of-Contents)\n",
    "\n",
    "\n",
    "## Common Sequence Operations\n",
    "\n",
    "In addition to slicing, the string, tuple, and list support several common sequence operations. Given a value `v`, integer `n`, and similar typed sequences `s` and `t`:\n",
    "\n",
    "| Operation         | Description                              |\n",
    "| ----------------- | ---------------------------------------- |\n",
    "| `v in s`          | `True` if `v` is in the sequence `s`, otherwise `False` |\n",
    "| `v not in s`      | `False` if `v` is in the sequence `s`, otherwise `True` |\n",
    "| `s + t`           | concatenation of `s` and `t`             |\n",
    "| `s * n` or `n* s` | `n` shallow copies of `s` concatenated   |\n",
    "| `len(s)`          | the number of elements in the sequence `s` |\n",
    "| `min(s)`          | the smallest elements in the sequence `s` |\n",
    "| `max(s)`          | the largest of elements in the sequence `s` |\n",
    "| `s.count(v)`      | number of times `v` appears in `s`       |\n",
    "\n",
    "These methods are demonstrated below on the `data` list:"
   ]
  },
  {
   "cell_type": "code",
   "execution_count": 21,
   "metadata": {},
   "outputs": [
    {
     "data": {
      "text/plain": [
       "True"
      ]
     },
     "execution_count": 21,
     "metadata": {},
     "output_type": "execute_result"
    }
   ],
   "source": [
    "data = [1, 2, 3, 4, 5, 6, 7, 8, 9, 10]\n",
    "1 in data"
   ]
  },
  {
   "cell_type": "code",
   "execution_count": 22,
   "metadata": {},
   "outputs": [
    {
     "data": {
      "text/plain": [
       "True"
      ]
     },
     "execution_count": 22,
     "metadata": {},
     "output_type": "execute_result"
    }
   ],
   "source": [
    "0 not in data"
   ]
  },
  {
   "cell_type": "code",
   "execution_count": 23,
   "metadata": {},
   "outputs": [
    {
     "data": {
      "text/plain": [
       "[1, 2, 3, 4, 5, 6, 7, 8, 9, 10, 1, 2, 3, 4, 5, 6, 7, 8, 9, 10]"
      ]
     },
     "execution_count": 23,
     "metadata": {},
     "output_type": "execute_result"
    }
   ],
   "source": [
    "data * 2"
   ]
  },
  {
   "cell_type": "code",
   "execution_count": 24,
   "metadata": {},
   "outputs": [
    {
     "data": {
      "text/plain": [
       "[1, 2, 3, 4, 5, 6, 7, 8, 9, 10, 11, 12, 13, 14]"
      ]
     },
     "execution_count": 24,
     "metadata": {},
     "output_type": "execute_result"
    }
   ],
   "source": [
    "data + [11, 12, 13, 14]"
   ]
  },
  {
   "cell_type": "code",
   "execution_count": 25,
   "metadata": {},
   "outputs": [
    {
     "name": "stdout",
     "output_type": "stream",
     "text": [
      "10 1 10\n"
     ]
    }
   ],
   "source": [
    "print(len(data), min(data), max(data))"
   ]
  },
  {
   "cell_type": "markdown",
   "metadata": {},
   "source": [
    "## Ancillary Information\n",
    "\n",
    "The following links are to additional documentation that you might find helpful in learning this material. Reading these web-accessible documents is completely optional.\n",
    "\n",
    "1. The official Python documentation for [strings][1a], [lists][1b], [dictionaries][1c], and [tuples][1d]\n",
    "2. The book [_A Byte of Python_](https://python.swaroopch.com/data_structures.html) introduces these data structures.\n",
    "3. A discussion on the [_native_ data types][2] mentioned in this notebook from the book, _Dive into Python_\n",
    "4. The book [_Think Python_][3] includes a discussion on these data structures.\n",
    "\n",
    "-----\n",
    "\n",
    "[1a]: https://docs.python.org/3/tutorial/introduction.html#strings\n",
    "[1b]: https://docs.python.org/3/tutorial/introduction.html#lists\n",
    "[1c]: https://docs.python.org/3/tutorial/datastructures.html#dictionaries\n",
    "[1d]: https://docs.python.org/3/tutorial/datastructures.html#tuples-and-sequences\n",
    "[2]: http://www.diveintopython.net/native_data_types/index.html\n",
    "[3]: http://greenteapress.com/thinkpython2/html/index.html"
   ]
  },
  {
   "cell_type": "markdown",
   "metadata": {
    "deletable": false,
    "editable": false
   },
   "source": [
    "**&copy; 2019: Gies College of Business at the University of Illinois.**\n",
    "\n",
    "This notebook is released under the [Creative Commons license CC BY-NC-SA 4.0][ll]. Any reproduction, adaptation, distribution, dissemination or making available of this notebook for commercial use is not allowed unless authorized in writing by the copyright holder.\n",
    "\n",
    "[ll]: https://creativecommons.org/licenses/by-nc-sa/4.0/legalcode"
   ]
  }
 ],
 "metadata": {
  "kernelspec": {
   "display_name": "Python 3",
   "language": "python",
   "name": "python3"
  },
  "language_info": {
   "codemirror_mode": {
    "name": "ipython",
    "version": 3
   },
   "file_extension": ".py",
   "mimetype": "text/x-python",
   "name": "python",
   "nbconvert_exporter": "python",
   "pygments_lexer": "ipython3",
   "version": "3.7.3"
  }
 },
 "nbformat": 4,
 "nbformat_minor": 1
}
