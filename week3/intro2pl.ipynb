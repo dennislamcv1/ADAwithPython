{
 "cells": [
  {
   "cell_type": "markdown",
   "metadata": {},
   "source": [
    "# Introduction to Python Loops\n",
    "\n",
    "-----"
   ]
  },
  {
   "cell_type": "markdown",
   "metadata": {},
   "source": [
    "In a previous notebook, we introduced the basic Python data structures. When working with these data structures, a common requirement is to perform an operation separately on each element in the data structure. In this notebook, we introduce the basic Python statements that support iteration. These include the `for` statement, the `while` statement, and comprehensions.\n",
    "\n",
    "## Table of Contents\n",
    "[Background](#Background)  \n",
    "\n",
    "[The for Loop](#The-for-Loop)  \n",
    "\n",
    "[The while Loop](#The-while-Loop)  \n",
    "\n",
    "[Modifying Iterations](#Modifying-Iterations)  \n",
    "\n",
    "[Comprehensions](#Comprehensions)\n",
    "\n"
   ]
  },
  {
   "cell_type": "markdown",
   "metadata": {},
   "source": [
    "-----\n",
    "[[Back to TOC]](#Table-of-Contents)\n",
    "\n",
    "## Background\n",
    "\n",
    "To demonstrate the need for iteration, the following example constructs a list of ten elements, one through ten inclusive. Next, we add the integers from eleven to twenty inclusive. Doing so, as seen in the Code cell, naively requires ten program statements. While this does work, it requires too many lines of code, which results in slower performance and increases the likelihood of software errors.\n",
    "\n",
    "-----"
   ]
  },
  {
   "cell_type": "code",
   "execution_count": 1,
   "metadata": {
    "scrolled": true
   },
   "outputs": [
    {
     "name": "stdout",
     "output_type": "stream",
     "text": [
      "Original [1, 2, 3, 4, 5, 6, 7, 8, 9, 10]\n",
      "Appended [1, 2, 3, 4, 5, 6, 7, 8, 9, 10, 11, 12, 13, 14, 15, 16, 17, 18, 19, 20]\n"
     ]
    }
   ],
   "source": [
    "# Create a list and display the result.\n",
    "data = [1, 2, 3, 4, 5, 6, 7, 8, 9, 10]\n",
    "print('Original', data)\n",
    "\n",
    "# Add list elements one-at-a-time and display result\n",
    "data.append(11)\n",
    "data.append(12)\n",
    "data.append(13)\n",
    "data.append(14)\n",
    "data.append(15)\n",
    "data.append(16)\n",
    "data.append(17)\n",
    "data.append(18)\n",
    "data.append(19)\n",
    "data.append(20)\n",
    "\n",
    "print('Appended', data)"
   ]
  },
  {
   "cell_type": "markdown",
   "metadata": {},
   "source": [
    "-----\n",
    "[[Back to TOC]](#Table-of-Contents)\n",
    "\n",
    "\n",
    "## The for Loop\n",
    "\n",
    "The primary Python approach to iteratively performing an operation is to use the `for` statement, which iteratively performs the statements in the body of the `for` statement a set number of times. We can represent this process in the following pseudocode:\n",
    "\n",
    "```\n",
    "for idx in iterator:\n",
    "    one or more statements\n",
    "```\n",
    "\n",
    "While this might seem abstract, in reality it is very simple since many objects in Python provide an iterator interface, including the data structures that we covered in a previous lesson. For example, given the `data` list defined in the earlier Code cell, we can find the average of the values by using the following iteration.\n",
    "\n",
    "-----"
   ]
  },
  {
   "cell_type": "code",
   "execution_count": 2,
   "metadata": {},
   "outputs": [
    {
     "name": "stdout",
     "output_type": "stream",
     "text": [
      "Data average value = 10.5\n"
     ]
    }
   ],
   "source": [
    "# Define summation variable\n",
    "sum = 0.0\n",
    "\n",
    "# Iterate over list, summing the values\n",
    "for val in data:\n",
    "    sum += val\n",
    "\n",
    "print(f'Data average value = {sum/len(data)}')"
   ]
  },
  {
   "cell_type": "markdown",
   "metadata": {},
   "source": [
    "-----\n",
    "\n",
    "Python provides a special object, called `range`, which can be used to iterate over a set of integers. When creating a `range` iterator, you specify the starting integer, which defaults to zero, the ending integer, and the step size, which defaults to one. Thus, `range(0, 10, 1)` is equivalent to `range(10)`. The `range` iterator can also count down by making the starting value larger than the ending value and making the step size negative. Thus `range(10, 0, -1)` will count down from ten to one in steps of one.\n",
    "\n",
    "When constructing a `range` object, the starting integer is **included** and the ending integer is __not included__. Thus `range(10)` includes a sequence of integers from 0 to 9.\n",
    "\n",
    "The `range` iterator is demonstrated in the following Code cell, where we iterate over the integers zero through nine, displaying the result.\n",
    "\n",
    "-----"
   ]
  },
  {
   "cell_type": "code",
   "execution_count": 3,
   "metadata": {
    "scrolled": true
   },
   "outputs": [
    {
     "name": "stdout",
     "output_type": "stream",
     "text": [
      "idx value inside loop = 0\n",
      "idx value inside loop = 1\n",
      "idx value inside loop = 2\n",
      "idx value inside loop = 3\n",
      "idx value inside loop = 4\n",
      "idx value inside loop = 5\n",
      "idx value inside loop = 6\n",
      "idx value inside loop = 7\n",
      "idx value inside loop = 8\n",
      "idx value inside loop = 9\n"
     ]
    }
   ],
   "source": [
    "# Use the range iterator\n",
    "for idx in range(10):\n",
    "    print(f'idx value inside loop = {idx}')"
   ]
  },
  {
   "cell_type": "markdown",
   "metadata": {},
   "source": [
    "-----\n",
    "\n",
    "By using this special object, we can quickly create a list and append values to an existing list, as shown in the following two Code cells. Please note that end index in `range()` is not included. So to create a range from 11 to 20, we need to use `range(11, 21)`.\n",
    "\n",
    "-----"
   ]
  },
  {
   "cell_type": "code",
   "execution_count": 4,
   "metadata": {},
   "outputs": [
    {
     "name": "stdout",
     "output_type": "stream",
     "text": [
      "New data [0, 1, 2, 3, 4, 5, 6, 7, 8, 9]\n"
     ]
    }
   ],
   "source": [
    "# Use range to create a list\n",
    "new_data = []\n",
    "for idx in range(10):\n",
    "    new_data.append(idx)\n",
    "\n",
    "print('New data', new_data)"
   ]
  },
  {
   "cell_type": "code",
   "execution_count": 5,
   "metadata": {},
   "outputs": [
    {
     "name": "stdout",
     "output_type": "stream",
     "text": [
      "New data [0, 1, 2, 3, 4, 5, 6, 7, 8, 9, 11, 12, 13, 14, 15, 16, 17, 18, 19, 20]\n"
     ]
    }
   ],
   "source": [
    "# Use range to append to an existing list\n",
    "for idx in range(11, 21):\n",
    "      new_data.append(idx)\n",
    "\n",
    "print('New data', new_data)  "
   ]
  },
  {
   "cell_type": "markdown",
   "metadata": {},
   "source": [
    "-----\n",
    "\n",
    "### Python Iterations and Loop Statements\n",
    "\n",
    "Python supports several loop statements, but the most commonly used by far is the `for` loop, which is used to iterate through a sequence like a list, tuple, or dictionary. The indented code block that follows the colon character at the end of the `for` statement is executed for each loop. The following loops demonstrate the use of the `for` loop to iterate through the items in different Python data structures. First, we iterate over the items in the list; in this example, we process each item and display the result.\n",
    "\n",
    "__`list`__:\n",
    "```python\n",
    "data = [1, 2, 3, 4, 5, 6, 7, 8, 9, 10]\n",
    "\n",
    "for item in data:\n",
    "    x = 10**int(item)\n",
    "    print(f'10**{item} = {x}')\n",
    "```\n",
    "\n",
    "Iteration over a tuple appears identical to iteration over a list, with the caveat that we cannot change the original tuple.\n",
    "\n",
    "__`tuple`__:\n",
    "```python\n",
    "data = (1, 2, 3, 4, 5, 6, 7, 8, 9, 10)\n",
    "\n",
    "for item in data:\n",
    "    x = 10 * int(item)\n",
    "    print(f'10 * {item} = {x}')\n",
    "\n",
    "```\n",
    "\n",
    "For a string, we iterate over every character individually.\n",
    "\n",
    "__`string`__:\n",
    "```python\n",
    "text = \"The brown dog jumped over the quick fox!\"\n",
    "\n",
    "for c in text:\n",
    "    print(f'{c}')\n",
    "```\n",
    "\n",
    "The dictionary iteration is slightly different since we have both keys and values. In this case, we extract both from the dictionary and iterate over both of these as shown below.\n",
    "\n",
    "__`dict`__:\n",
    "```python\n",
    "d = {'1': 1, '2': \"two\", '3': (1, 2, 3)}\n",
    "\n",
    "for k, v in d.items():\n",
    "    print(f'd[{k}] = {v}')\n",
    "```\n",
    "\n",
    "In the following Code cell, we demonstrate using a `for` loop to iterate through a dictionary and the values for each key in the dictionary. This slightly more complex example should demonstrate how easy and useful it can be to combine data structures and iteration. \n",
    "\n",
    "This example introduces several things that might appear unfamiliar (in addition to the nested iterations). First, we include `end` keyword with the `print` function. This can be used to control what is printed (or displayed) after the print statement completes. Normally this is a newline character (`\\n`), which results in the next `print` statement displaying text on a new line. In this example, we want multiple values within the inner iteration to be displayed on the same line, so we define `end=''`, which means nothing is printed after the end of each line. The second use instead displays a space after the text is displayed because we use `end=' '`. Finally, after the inner iteration, we use a blank print statement to print a single newline, followed by a second print statement that creates and prints a string of twelve dashes.\n",
    "\n",
    "-----"
   ]
  },
  {
   "cell_type": "code",
   "execution_count": 6,
   "metadata": {},
   "outputs": [
    {
     "name": "stdout",
     "output_type": "stream",
     "text": [
      "d[1] = 2 3 2 \n",
      "------------\n",
      "d[2] = 4 3 2 \n",
      "------------\n",
      "d[3] = 1 2 3 \n",
      "------------\n"
     ]
    }
   ],
   "source": [
    "# Process a dictionary of tuples\n",
    "d = {'1': (2, 3, 2), '2': (4, 3, 2), '3': (1, 2, 3)}\n",
    "\n",
    "for k, point in d.items():\n",
    "    print(f'd[{k}] = ', end='')\n",
    "    for val in point:\n",
    "        print(val, end=' ')\n",
    "    print()\n",
    "    print(12*'-')"
   ]
  },
  {
   "cell_type": "markdown",
   "metadata": {},
   "source": [
    "-----\n",
    "\n",
    "Normally, you iterate through a sequence by simply extracting the item itself from the sequence, as shown previously. However, occasionally, you may want to iterate through an ordered sequence using both the ordinal number of the item and the item itself. This functionality is provided by the `enumerate` Python command, which returns both the item and its ordinal number in the sequence as demonstrated by the following code example:\n",
    "\n",
    "```python\n",
    "data = [1, 2, 3, 4, 5, 6, 7, 8, 9, 10]\n",
    "\n",
    "for idx, item in enumerate(data):\n",
    "    x = idx**int(item)\n",
    "    print(f'{idx}**{item} = {x}')\n",
    "```\n",
    "\n",
    "This is demonstrated in the following Code cell; you can use this example to experiment with iterations in Python by using the `for` loop and the `enumerate` command.\n",
    "\n",
    "-----"
   ]
  },
  {
   "cell_type": "code",
   "execution_count": 7,
   "metadata": {},
   "outputs": [
    {
     "name": "stdout",
     "output_type": "stream",
     "text": [
      "No. 0 item in data: 1\n",
      "No. 1 item in data: 2\n",
      "No. 2 item in data: 3\n",
      "No. 3 item in data: 4\n",
      "No. 4 item in data: 5\n",
      "No. 5 item in data: 6\n",
      "No. 6 item in data: 7\n",
      "No. 7 item in data: 8\n",
      "No. 8 item in data: 9\n",
      "No. 9 item in data: 10\n"
     ]
    }
   ],
   "source": [
    "# enumerate example\n",
    "data = [1, 2, 3, 4, 5, 6, 7, 8, 9, 10]\n",
    "\n",
    "for idx, item in enumerate(data):\n",
    "    print(f'No. {idx} item in data: {item}')"
   ]
  },
  {
   "cell_type": "markdown",
   "metadata": {},
   "source": [
    "-----\n",
    "[[Back to TOC]](#Table-of-Contents)\n",
    "\n",
    "\n",
    "## The while Loop\n",
    "\n",
    "The second type of iteration in Python uses the `while` loop. The `while` loop executes a code block until a condition becomes False. The code block is indented following the colon character at the end of the `while` statements. Syntactically, the `while` statement takes the following form:\n",
    "\n",
    "```\n",
    "while (condition):\n",
    "    one or more statements\n",
    "```\n",
    "\n",
    "A `while` loop can often be rewritten more succinctly as a `for` loop that iterates through some sequence. Thus, `while` loops are used less frequently than `for` loops. One exception to this is when code blocks should be executed, for example, to perform some operation until a condition that depends on the result of the code block itself. This might be the case when a program is waiting for a condition to be reached, such as a certain time being reached, or the value in an account dropping below a certain threshold:\n",
    "\n",
    "```python\n",
    "value = 1E6\n",
    "while value > 1E3:\n",
    "    value /= 10\n",
    "    print(f'Current account value = ${value}')\n",
    "print('Warning, minimum balance reached!')\n",
    "```\n",
    "\n",
    "In the following Code cell, we provide a simple demonstration of a `while` loop. You should experiment with this example, such as changing the condition, which can involve compound tests, to learn how to effectively work with a `while` loop.\n",
    "\n",
    "-----"
   ]
  },
  {
   "cell_type": "code",
   "execution_count": 8,
   "metadata": {},
   "outputs": [
    {
     "name": "stdout",
     "output_type": "stream",
     "text": [
      "Current account value = $10\n",
      "Current account value = $100\n",
      "Current account value = $1000\n",
      "Current account value = $10000\n",
      "Current account value = $100000\n",
      "Current account value = $1000000\n"
     ]
    }
   ],
   "source": [
    "value = 1\n",
    "while value < 1E6:\n",
    "    value *= 10\n",
    "    print(f'Current account value = ${value}')"
   ]
  },
  {
   "cell_type": "markdown",
   "metadata": {},
   "source": [
    "-----\n",
    "[[Back to TOC]](#Table-of-Contents)\n",
    "\n",
    "\n",
    "## Modifying Iterations\n",
    "\n",
    "As previous examples have demonstrated, the `for` and `while` loops can be nested, and include conditional statements. To provide additional functionality, especially in these more complex cases, there are four other commands that can be used with `for` and `while` loops: `else`, `break`, `continue`, and `pass`.\n",
    "\n",
    "__`else`__:\n",
    "\n",
    "The `for` and `while` loops both support an optional `else` clause that is executed immediately after the loop exits. In the case of a `for` loop, this occurs when the items in the sequence  have been exhausted, while for the `while` loop, this occurs when the condition has become `False`.\n",
    "\n",
    "__`break`__:\n",
    "\n",
    "The `break` statement is generally used in nested loops, terminating the nearest enclosing loop and skipping any optional `else` clauses associated with the broken loop. For example, the `break` command exits out of the inner `for` loop in the following code segment:\n",
    "\n",
    "```python\n",
    "for i in range(4):\n",
    "    for j in range(5):\n",
    "       if (j > 2):\n",
    "           break\n",
    "       else:\n",
    "           print(f'{j} inner loop iteration.')\n",
    "    \n",
    "    print(f'{i} outer loop iteration.')\n",
    "```\n",
    "\n",
    "__`continue`__:\n",
    "\n",
    "The `continue` statement is generally used in nested loops and skips the rest of the current code block and continues with the next iteration of the nearest enclosing loop. For example, the `continue` command continues with the next iteration of the inner `for` loop in the following code segment:\n",
    "\n",
    "```python\n",
    "for i in range(6):\n",
    "    for j in range(5):\n",
    "       if (j > 2) and (j < 4):\n",
    "           continue\n",
    "       else:\n",
    "           print(f'{j} inner loop iteration.')\n",
    "    \n",
    "    print(f'{i} outer loop iteration.')\n",
    "```\n",
    "\n",
    "__`pass`__:\n",
    "\n",
    "The `pass` statement does nothing and is a simple placeholder that is used in place of a code block when no action is required. Presumably this is because the work is done in the iteration process itself. This can occur in a `while` loop when the test condition is a function call, and a `pass` statement is used for the code block since no actual computations are required inside the loop itself. This statement can be used within a conditional statement or loop construct.\n",
    "\n",
    "-----"
   ]
  },
  {
   "cell_type": "code",
   "execution_count": 9,
   "metadata": {
    "scrolled": false
   },
   "outputs": [
    {
     "name": "stdout",
     "output_type": "stream",
     "text": [
      "0 inner loop iteration.\n",
      "1 inner loop iteration.\n",
      "3 inner loop iteration.\n",
      "0 outer loop iteration.\n",
      "0 inner loop iteration.\n",
      "1 inner loop iteration.\n",
      "3 inner loop iteration.\n",
      "1 outer loop iteration.\n",
      "0 inner loop iteration.\n",
      "1 inner loop iteration.\n",
      "3 inner loop iteration.\n",
      "2 outer loop iteration.\n"
     ]
    }
   ],
   "source": [
    "# Test code for continue statement\n",
    "for i in range(3):\n",
    "    for j in range(4):\n",
    "        if (j > 1) and (j < 3):\n",
    "            continue\n",
    "        print(f'{j} inner loop iteration.')\n",
    "    \n",
    "    print(f'{i} outer loop iteration.')"
   ]
  },
  {
   "cell_type": "markdown",
   "metadata": {},
   "source": [
    "-----\n",
    "\n",
    "<font color='red' size = '5'> Student Exercise </font>\n",
    "\n",
    "In the **Code** cell below, write a for loop to loop through the integers from 100 to 200, print out the first number that can be divided by 29 and terminate the for loop when the number is found.\n"
   ]
  },
  {
   "cell_type": "code",
   "execution_count": null,
   "metadata": {},
   "outputs": [],
   "source": []
  },
  {
   "cell_type": "markdown",
   "metadata": {},
   "source": [
    "-----\n",
    "[[Back to TOC]](#Table-of-Contents)\n",
    "\n",
    "\n",
    "## Comprehensions\n",
    "\n",
    "Since the list and dictionary are such fundamental components of many Python programs, there exists a shorthand notation for quickly building and using these data structures that are known as __comprehensions__. The formalism for either a [_list comprehension_](https://docs.python.org/3/tutorial/datastructures.html#list-comprehensions) or a _dictionary comprehension_ is to simply place Python code inside the respective characters that are used to create a new list or dictionary, respectively. This code generally involves an iterative process that uses a `for` loop and can also include an optional conditional statement. For example, the following code creates a list with elements that are the squared value of the integers from zero to nine.\n",
    "\n"
   ]
  },
  {
   "cell_type": "code",
   "execution_count": 11,
   "metadata": {},
   "outputs": [
    {
     "data": {
      "text/plain": [
       "[0, 1, 2, 3, 4, 5, 6, 7, 8, 9]"
      ]
     },
     "execution_count": 11,
     "metadata": {},
     "output_type": "execute_result"
    }
   ],
   "source": [
    "data = [x for x in range(10)]\n",
    "data"
   ]
  },
  {
   "cell_type": "markdown",
   "metadata": {},
   "source": [
    "Contrast this shorthand notation with the longer version:"
   ]
  },
  {
   "cell_type": "code",
   "execution_count": 12,
   "metadata": {},
   "outputs": [
    {
     "data": {
      "text/plain": [
       "[0, 1, 2, 3, 4, 5, 6, 7, 8, 9]"
      ]
     },
     "execution_count": 12,
     "metadata": {},
     "output_type": "execute_result"
    }
   ],
   "source": [
    "data = []\n",
    "for x in range(10):\n",
    "    data.append(x)\n",
    "data"
   ]
  },
  {
   "cell_type": "markdown",
   "metadata": {},
   "source": [
    "The list comprehension takes only one line and is (generally) easier to read than the standard list creation approach. While this is often a sufficient reason to create new lists via a comprehension, they also are usually faster.\n",
    "\n",
    "A comprehension can be used to populate list elements in more complex ways. Following code creates a list of squared numbers."
   ]
  },
  {
   "cell_type": "code",
   "execution_count": 13,
   "metadata": {},
   "outputs": [
    {
     "data": {
      "text/plain": [
       "[0, 1, 4, 9, 16, 25, 36, 49, 64, 81]"
      ]
     },
     "execution_count": 13,
     "metadata": {},
     "output_type": "execute_result"
    }
   ],
   "source": [
    "data = [x**2 for x in range(10)]\n",
    "data"
   ]
  },
  {
   "cell_type": "markdown",
   "metadata": {},
   "source": [
    " We also can apply a conditional statement to this list comprehension to only retain the squares that are even numbers."
   ]
  },
  {
   "cell_type": "code",
   "execution_count": 14,
   "metadata": {},
   "outputs": [
    {
     "data": {
      "text/plain": [
       "[0, 4, 16, 36, 64]"
      ]
     },
     "execution_count": 14,
     "metadata": {},
     "output_type": "execute_result"
    }
   ],
   "source": [
    "data = [x**2 for x in range(10) if not (x % 2)]\n",
    "data"
   ]
  },
  {
   "cell_type": "markdown",
   "metadata": {},
   "source": [
    "The created list elements can also be more complex data structures. Following code creates a list of tuples."
   ]
  },
  {
   "cell_type": "code",
   "execution_count": 15,
   "metadata": {},
   "outputs": [
    {
     "data": {
      "text/plain": [
       "[(0, 0), (1, 1), (2, 4), (3, 9)]"
      ]
     },
     "execution_count": 15,
     "metadata": {},
     "output_type": "execute_result"
    }
   ],
   "source": [
    "data = [(x, x**2) for x in range(4)]\n",
    "data"
   ]
  },
  {
   "cell_type": "markdown",
   "metadata": {},
   "source": [
    "-----\n",
    "\n",
    "We can also easily create dictionary comprehensions by using the curly braces to properly create a new dictionary:\n"
   ]
  },
  {
   "cell_type": "code",
   "execution_count": 16,
   "metadata": {},
   "outputs": [
    {
     "data": {
      "text/plain": [
       "{3: 9, 4: 16, 5: 25, 6: 36}"
      ]
     },
     "execution_count": 16,
     "metadata": {},
     "output_type": "execute_result"
    }
   ],
   "source": [
    "data = {x: x**2 for x in range(3, 7)}\n",
    "data"
   ]
  },
  {
   "cell_type": "markdown",
   "metadata": {},
   "source": [
    "More complex dictionaries can also be created with dictionary comprehensions, in a similar manner as list comprehensions."
   ]
  },
  {
   "cell_type": "code",
   "execution_count": 17,
   "metadata": {},
   "outputs": [
    {
     "data": {
      "text/plain": [
       "{3: (3, 9, 27), 4: (4, 16, 64), 5: (5, 25, 125), 6: (6, 36, 216)}"
      ]
     },
     "execution_count": 17,
     "metadata": {},
     "output_type": "execute_result"
    }
   ],
   "source": [
    "data = {x: (x, x**2, x**3) for x in range(3, 7)}\n",
    "data"
   ]
  },
  {
   "cell_type": "markdown",
   "metadata": {},
   "source": [
    "Comprehensions are generally faster than traditional list or dictionary operations and support the application of functions to create the list or dictionary items. Comprehensions can also be nested as required. Python3 also supports `set` comprehensions.\n",
    "\n",
    "-----"
   ]
  },
  {
   "cell_type": "markdown",
   "metadata": {},
   "source": [
    "-----\n",
    "\n",
    "<font color='red' size = '5'> Student Exercise </font>\n",
    "\n",
    "In the empty **Code** cell below, create a list comprehension that contains only those integers  between 1 and 100 that are evenly divisible by both three and four.\n",
    "\n",
    "-----"
   ]
  },
  {
   "cell_type": "code",
   "execution_count": null,
   "metadata": {},
   "outputs": [],
   "source": []
  },
  {
   "cell_type": "markdown",
   "metadata": {},
   "source": [
    "## Ancillary Information\n",
    "\n",
    "The following links are to additional documentation that you might find helpful in learning this material. Reading these web-accessible documents is completely optional.\n",
    "\n",
    "1. The official Python documentation for [control flow statements][1]\n",
    "2. The book _A Byte of Python_ includes an introduction to [control statements](https://python.swaroopch.com/control_flow.html).\n",
    "3. The book [_Think Python_][3] includes a discussion on conditional statements and loops.\n",
    "4. The book _Dive into Python_ includes a nice discussion on [_comprehensions_][2].\n",
    "\n",
    "\n",
    "-----\n",
    "\n",
    "[1]: https://docs.python.org/3/tutorial/controlflow.html\n",
    "[2]: http://www.diveintopython3.net/comprehensions.html\n",
    "[3]: http://greenteapress.com/thinkpython2/html/index.html"
   ]
  },
  {
   "cell_type": "markdown",
   "metadata": {
    "deletable": false,
    "editable": false
   },
   "source": [
    "**&copy; 2019: Gies College of Business at the University of Illinois.**\n",
    "\n",
    "This notebook is released under the [Creative Commons license CC BY-NC-SA 4.0][ll]. Any reproduction, adaptation, distribution, dissemination or making available of this notebook for commercial use is not allowed unless authorized in writing by the copyright holder.\n",
    "\n",
    "[ll]: https://creativecommons.org/licenses/by-nc-sa/4.0/legalcode"
   ]
  }
 ],
 "metadata": {
  "kernelspec": {
   "display_name": "Python 3",
   "language": "python",
   "name": "python3"
  },
  "language_info": {
   "codemirror_mode": {
    "name": "ipython",
    "version": 3
   },
   "file_extension": ".py",
   "mimetype": "text/x-python",
   "name": "python",
   "nbconvert_exporter": "python",
   "pygments_lexer": "ipython3",
   "version": "3.7.3"
  }
 },
 "nbformat": 4,
 "nbformat_minor": 1
}
